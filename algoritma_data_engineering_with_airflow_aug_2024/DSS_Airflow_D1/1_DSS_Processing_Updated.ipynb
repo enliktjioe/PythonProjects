{
 "cells": [
  {
   "cell_type": "markdown",
   "metadata": {},
   "source": [
    "**DSS: Data Engineering in Python using Airflow**\n",
    "\n",
    "- Part of Data Engineering Airflow\n",
    "- Course Length: 9 Hours\n",
    "- Last Updated: August 2024\n",
    "\n",
    "---\n",
    "\n",
    "\n",
    "- Developed by [Algoritma](https://algorit.ma/)'s product division and instructors team"
   ]
  },
  {
   "cell_type": "markdown",
   "metadata": {},
   "source": [
    "# Data Engineering in Python using Airflow"
   ]
  },
  {
   "cell_type": "markdown",
   "metadata": {},
   "source": [
    "## Background\n",
    "\n",
    "Data Engineering sangat penting untuk mengatasi tantangan kebijakan modern yang berbasis oleh data. Ketika institusi menghasilkan data dalam jumlah besar dari berbagai sumber, kebutuhan akan manajemen dan pemrosesan data yang efisien menjadi sangat penting. Rekayasa data mengubah data mentah menjadi *insight* yang berharga dengan merancang dan mengimplementasikan jalur data yang kuat yang menangani proses ekstraksi, transformasi, dan pemuatan data (ETL), memastikan data bersih, dan terintegrasi dari sumber yang berbeda. \n",
    "\n",
    "\n",
    "Otomatisasi data workflow adalah salah satu hal yang dapat diselesaikan oleh data engeering. Pemrosesan data secara manual memakan waktu dan rentan terhadap kesalahan, tetapi tools seperti Apache Airflow dapat mengotomatiskan data workflow yang kompleks, mengurangi campur tangan manusia dan meminimalkan kesalahan. Dengan menyiapkan Directed Acyclic Graphs (DAGs) di Airflow, perekayasa data dapat mengotomatiskan penjadwalan dan pelaksanaan tugas, memastikan pemrosesan dan pengiriman data yang tepat waktu. Otomatisasi ini meningkatkan efisiensi operasional, memungkinkan organisasi untuk merespons dengan cepat terhadap perubahan kebutuhan data dan kebutuhan bisnis terutama untuk kebutuhan analisis data.\n",
    "\n",
    "\n",
    "Materi ini bertujuan memberikan pemahaman kepada pembaca terkait penggunaan \n",
    "apache airflow dalam otomatisasi pengumpulan data, pembersihan data hingga penyimpanan ke database. Adapun setelah mempelajari materi ini pembaca diharapkan dapat memahami dasar-dasar dari cara kerja airflow untuk diimplementasikan ke proyek masing-masing."
   ]
  },
  {
   "cell_type": "markdown",
   "metadata": {},
   "source": [
    "## Output\n",
    "\n",
    "Notebook ini akan mengenalkan prinsip-prinsip dasar dari pengolahan data di apache airflow. Output akhirnya adalah python script (.py) untuk menjalankan apache-airflow untuk otomatisasi data workflow yang akan dijalankan di local."
   ]
  },
  {
   "cell_type": "markdown",
   "metadata": {},
   "source": [
    "## Tujuan Pembelajaran\n",
    "\n",
    "- **Pemrograman Dasar Python**  \n",
    "  - Environment python\n",
    "  - Pengenalan dasar-dasar python\n",
    "  - Manipulasi dan pemrosesan data dengan pandas\n",
    "- **Pengenalan Airflow**\n",
    "  - Pengenalan airflow\n",
    "  - Directed Acrylic Graph\n",
    "  - *Task* dan *dependencies*\n",
    "- **Membuat dan Menjalankan Airflow Script**\n",
    "  - Airflow project\n",
    "  - Pembuatan DAG script untuk otomatisasi ETL pipeline\n",
    "  - Menjalankan dan menjadwalkan DAG\n",
    "  - Monitoring task di Airflow webserver\n",
    "- **Implementasi di Data Analisis**"
   ]
  },
  {
   "cell_type": "markdown",
   "metadata": {},
   "source": [
    "![](assets/Data%20Engineering%20Airflow.png)"
   ]
  },
  {
   "cell_type": "markdown",
   "metadata": {},
   "source": [
    "# Pemrograman Dasar Python"
   ]
  },
  {
   "cell_type": "markdown",
   "metadata": {},
   "source": [
    "## Mempersiapkan Environment Anaconda\n",
    "\n",
    "**Membuat virtual environment baru:**\n",
    "\n",
    "1. Buka Anaconda Prompt\n",
    "\n",
    "2. Buat virtual environment baru dengan:\n",
    "    ```\n",
    "    conda create -n <ENV_NAME> python=<PYTHON_VERSION>\n",
    "    ```\n",
    "    Contoh: `conda create -n dss_airflow python=3.10`\n",
    "\n",
    "3. Aktifkan virtual environment baru dengan:\n",
    "    ```\n",
    "    conda activate <ENV_NAME>\n",
    "    ```\n",
    "    For example: `conda activate dss_airflow`\n",
    "\n",
    "4. Install library dan package yang dibutuhkan dengan command.\n",
    "    ```\n",
    "    pip install pandas==2.2.2 apache-airflow==2.9.0 openpyxl\n",
    "    ```"
   ]
  },
  {
   "cell_type": "code",
   "execution_count": 1,
   "metadata": {},
   "outputs": [
    {
     "data": {
      "text/plain": [
       "2"
      ]
     },
     "execution_count": 1,
     "metadata": {},
     "output_type": "execute_result"
    }
   ],
   "source": [
    "1 + 1"
   ]
  },
  {
   "cell_type": "markdown",
   "metadata": {},
   "source": [
    "## Bekerja dengan Jupyter Notebook"
   ]
  },
  {
   "cell_type": "markdown",
   "metadata": {},
   "source": [
    "### Markdown Cell dan Code Cell\n",
    "\n",
    "Terdapat dua tipe cell dalam notebook:\n",
    "\n",
    "#### Markdown Cell\n",
    "\n",
    "**Markdown**: untuk menuliskan narasi\n",
    "\n",
    "Berikut ini adalah cell markdown. Terdapat beberapa hal yang dapat dilakukan, seperti membuat beberapa hal berikut ini: \n",
    "\n",
    "1. **Heading**\n",
    "\n",
    "   Pada bagian ini dapat ditambahkan heading dengan menambahkan hashtag `#`.\n",
    "\n",
    "   - `#` -> Heading 1\n",
    "   - `##` -> Heading 2\n",
    "   - `###` -> Heading 3\n",
    "\n",
    "2. **Emphasis**\n",
    "\n",
    "   Ketika ingin mengatur jenis tulisan dengan memberikan karakter yang lebih tegas kita bisa memanfaatkan `*`.\n",
    "\n",
    "   - *kata* -> untuk mengatur tulisan menjadi Italic\n",
    "   - **kata** -> untuk mengatur tulisan menjadi Bold\n",
    "   - ***kata*** -> untuk mengatur tulisan menjadi Italic & Bold\n",
    "    \n",
    "3. **Bullets**\n",
    "\n",
    "   Untuk membuat beberapa point, terdapat beberapa metode yang bisa digunakan.\n",
    "    \n",
    "   - Untuk membuat point dalam bentuk angka, bisa menggunakan angka 1.\n",
    "   - Untuk membuat point dalam bentuk bullets, bisa menggunakan - atau *.\n",
    "\n",
    "4. **Math Equation**\n",
    "\n",
    "\\begin{equation}\n",
    "x = \\frac{-b \\pm \\sqrt{b^{2}-4ac}}{2a}\n",
    "\\end{equation}\n",
    "\n",
    "   💡 Penulisan markdown untuk formula matematis menggunakan LaTeX based"
   ]
  },
  {
   "cell_type": "markdown",
   "metadata": {},
   "source": [
    "#### Code Cell\n",
    "\n",
    "**Code**: untuk menuliskan script code\n",
    "\n",
    "💡 symbol `#` pada cell code berarti adalah sebuah `comment`. `Comment` pada cell code **tidak dijalankan**"
   ]
  },
  {
   "cell_type": "markdown",
   "metadata": {},
   "source": [
    "**Contoh Code Cell**"
   ]
  },
  {
   "cell_type": "code",
   "execution_count": 2,
   "metadata": {},
   "outputs": [
    {
     "name": "stdout",
     "output_type": "stream",
     "text": [
      "Hello 2024!!\n"
     ]
    }
   ],
   "source": [
    "# ini adalah cell code\n",
    "print(\"Hello 2024!!\")"
   ]
  },
  {
   "cell_type": "code",
   "execution_count": 4,
   "metadata": {},
   "outputs": [
    {
     "data": {
      "text/plain": [
       "2"
      ]
     },
     "execution_count": 4,
     "metadata": {},
     "output_type": "execute_result"
    }
   ],
   "source": [
    "1 + 1"
   ]
  },
  {
   "cell_type": "markdown",
   "metadata": {},
   "source": [
    "Untuk menjalankan kode:\n",
    "\n",
    "- klik tombol play di sebelah kiri\n",
    "- shortcut: ctrl + enter"
   ]
  },
  {
   "cell_type": "markdown",
   "metadata": {},
   "source": [
    "### Command Mode dan Edit Mode\n",
    "\n",
    "**1️⃣ Command Mode**\n",
    "\n",
    "- B: Menambahkan cell baru di Bawah (Below)\n",
    "- A: Menambahkan cell baru di Atas (Above)\n",
    "- DD: Delete cell\n",
    "- C: Copy cell\n",
    "- V: Paste cell\n",
    "- Y: Mengubah ke `code` cell\n",
    "- M: Mengubah ke `markdown` cell\n",
    "- Enter/Double Click: Mengubah command mode menjadi edit mode\n",
    "\n",
    "**2️⃣ Edit Mode**\n",
    "- Ctrl + Enter: eksekusi satu cell\n",
    "- Shift + Enter: eksekusi satu cell kemudian pindah pada cell selanjutnya\n",
    "- Esc: Mengubah edit mode menjadi command mode"
   ]
  },
  {
   "cell_type": "markdown",
   "metadata": {},
   "source": [
    "asdfasfd "
   ]
  },
  {
   "cell_type": "code",
   "execution_count": null,
   "metadata": {},
   "outputs": [],
   "source": []
  },
  {
   "cell_type": "code",
   "execution_count": null,
   "metadata": {},
   "outputs": [],
   "source": []
  },
  {
   "cell_type": "markdown",
   "metadata": {},
   "source": [
    "## Variabel & *Keywords*\n",
    "\n",
    "Mari kita telaah konsep paling fundamental dalam bahasa pemrograman: variabel.\n",
    "\n",
    "Variabel adalah wadah untuk menyimpan sebuah nilai. Simpelnya, variabel adalah nama yang mengacu pada sebuah nilai. Dimana ketika nilai ini ingin kita gunakan, kita dapat memanggilnya dengan nama variabel yang telah kita buat."
   ]
  },
  {
   "cell_type": "code",
   "execution_count": 5,
   "metadata": {},
   "outputs": [
    {
     "name": "stdout",
     "output_type": "stream",
     "text": [
      "Data Science Series: Data Engineering with Airflow\n"
     ]
    }
   ],
   "source": [
    "# variabel = nilai\n",
    "dss_name = \"Data Science Series: Data Engineering with Airflow\"\n",
    "print(dss_name)"
   ]
  },
  {
   "cell_type": "markdown",
   "metadata": {},
   "source": [
    "Sebagai catatan, seperti bahasa pemrograman yang lainnya, Python bersifat **case-sensitive**, sehingga `dss_name` dan `DSS_Name` dimaknai berbeda sehingga akan dianggap variabel yang berbeda pula."
   ]
  },
  {
   "cell_type": "code",
   "execution_count": 7,
   "metadata": {},
   "outputs": [
    {
     "data": {
      "text/plain": [
       "True"
      ]
     },
     "execution_count": 7,
     "metadata": {},
     "output_type": "execute_result"
    }
   ],
   "source": [
    "## code here\n",
    "'dss_name' == 'dss_name'"
   ]
  },
  {
   "cell_type": "markdown",
   "metadata": {},
   "source": [
    "Kode di atas mengembalikan `True` sebagai output. Cobalah untuk membuat variabel baru dan gunakan `True` sebagai namanya. kemudian lihat apa yang akan terjadi.\n",
    "\n",
    "> SyntaxError: can't assign to keyword"
   ]
  },
  {
   "cell_type": "markdown",
   "metadata": {},
   "source": [
    "Sebagai catatan, `True`, dan juga lawannya, False termasuk ke dalam daftar kata yang dinamakan **Python Keywords**. Kita tidak dapat menggunakan keyword sebagai nama variabel ataupun sebagai fungsi.\n",
    "\n",
    "Semua python keyword selain **True**, **False**, dan **None** adalah huruf kecil."
   ]
  },
  {
   "cell_type": "markdown",
   "metadata": {},
   "source": [
    "___\n",
    "\n",
    "**Keywords** adalah kata kunci yang sudah ditetapkan oleh Python sebagai nama yang tidak bisa dipakai baik untuk penamaan fungsi, variabel, dan lainnya. Keyword ditulis dalam lower-case (huruf kecil semua) kecuali keyword `True`, `False`, dan `None`. Sejauh ini (Python 3.10) keyword yang ada pada Python adalah sebagai berikut:"
   ]
  },
  {
   "cell_type": "code",
   "execution_count": 9,
   "metadata": {},
   "outputs": [
    {
     "data": {
      "text/plain": [
       "['False',\n",
       " 'None',\n",
       " 'True',\n",
       " 'and',\n",
       " 'as',\n",
       " 'assert',\n",
       " 'async',\n",
       " 'await',\n",
       " 'break',\n",
       " 'class',\n",
       " 'continue',\n",
       " 'def',\n",
       " 'del',\n",
       " 'elif',\n",
       " 'else',\n",
       " 'except',\n",
       " 'finally',\n",
       " 'for',\n",
       " 'from',\n",
       " 'global',\n",
       " 'if',\n",
       " 'import',\n",
       " 'in',\n",
       " 'is',\n",
       " 'lambda',\n",
       " 'nonlocal',\n",
       " 'not',\n",
       " 'or',\n",
       " 'pass',\n",
       " 'raise',\n",
       " 'return',\n",
       " 'try',\n",
       " 'while',\n",
       " 'with',\n",
       " 'yield']"
      ]
     },
     "execution_count": 9,
     "metadata": {},
     "output_type": "execute_result"
    }
   ],
   "source": [
    "# Cek daftar keyword\n",
    "import keyword\n",
    "keyword.kwlist"
   ]
  },
  {
   "cell_type": "code",
   "execution_count": 10,
   "metadata": {},
   "outputs": [],
   "source": [
    "# terdapat perbedaan warna untuk keyword\n",
    "ininama = 'variable 1'\n",
    "\n",
    "# True = 'variable 2'\n",
    "# for = 'ini ketiga'"
   ]
  },
  {
   "cell_type": "code",
   "execution_count": 12,
   "metadata": {},
   "outputs": [],
   "source": [
    "# 1nama = 'ini tidak boleh'\n",
    "na2ma_1 = 'ini boleh'"
   ]
  },
  {
   "cell_type": "code",
   "execution_count": 13,
   "metadata": {},
   "outputs": [
    {
     "data": {
      "text/plain": [
       "'DSS: Data Engineering'"
      ]
     },
     "execution_count": 13,
     "metadata": {},
     "output_type": "execute_result"
    }
   ],
   "source": [
    "nama = 'DSS: Data Engineering'\n",
    "# print(nama)\n",
    "nama"
   ]
  },
  {
   "cell_type": "markdown",
   "metadata": {},
   "source": [
    "**💡 NOTES**\n",
    "\n",
    "Syarat dan ketentuan dalam memberikan nama variable pada Python:\n",
    "- Menggunakan kombinasi dari huruf kapital (A-Z), huruf nomina (a-z), angka (0-9).\n",
    "- Special character `!, $ , &, dll` tidak dapat digunakan dalam penamaan variabel.\n",
    "- **Tidak boleh** menggunakan angka di awal.\n",
    "- Bersifat **case-sensitive** sehingga penamaan variable `algoritma`, `ALGORITMA`, dan `Algoritma` adalah 3 variable yang berbeda\n",
    "- **Tidak boleh** menggunakan **keyword** pada Python"
   ]
  },
  {
   "cell_type": "markdown",
   "metadata": {},
   "source": [
    "## Tipe Data"
   ]
  },
  {
   "cell_type": "markdown",
   "metadata": {},
   "source": [
    "- Tipe data adalah pengelompokkan data berdasarkan jenis data. \n",
    "- Pengecekan tipe data bisa menggunakan fungsi `type()`\n",
    "\n",
    "Berikut beberapa jenis tipe data pada python:"
   ]
  },
  {
   "cell_type": "markdown",
   "metadata": {},
   "source": [
    "### 1. String\n",
    "\n",
    "Untuk menyimpan kumpulan karakter disebut tipe data `str`. \n",
    "\n",
    "Ada beberapa cara untuk membuat nilai string:\n",
    "- menggunakan `''` \n",
    "- menggunakan `\"\"` \n",
    "- menggunakan `'''` atau `\"\"\"` "
   ]
  },
  {
   "cell_type": "code",
   "execution_count": 14,
   "metadata": {},
   "outputs": [
    {
     "data": {
      "text/plain": [
       "'Hari ini kami belajar Python.'"
      ]
     },
     "execution_count": 14,
     "metadata": {},
     "output_type": "execute_result"
    }
   ],
   "source": [
    "# contoh menggunakan petik 1\n",
    "kalimat1 = 'Hari ini kami belajar Python.'\n",
    "kalimat1"
   ]
  },
  {
   "cell_type": "code",
   "execution_count": 15,
   "metadata": {},
   "outputs": [
    {
     "data": {
      "text/plain": [
       "str"
      ]
     },
     "execution_count": 15,
     "metadata": {},
     "output_type": "execute_result"
    }
   ],
   "source": [
    "## cek tipe data\n",
    "type(kalimat1)"
   ]
  },
  {
   "cell_type": "markdown",
   "metadata": {},
   "source": [
    "### 2. Number\n",
    "\n",
    "Untuk menyimpan number, python memiliki dua tipe data number yaitu `int` dan `float`.\n",
    "- `int` (integer) digunakan untuk menyimpan bilangan bulat (yaitu: 1,2,-3)\n",
    "- `float` digunakan untuk menyimpan bilangan real (yaitu: 0.7, -1.8, -1000.0)."
   ]
  },
  {
   "cell_type": "code",
   "execution_count": 16,
   "metadata": {},
   "outputs": [],
   "source": [
    "a = 1234\n",
    "b = 0.672"
   ]
  },
  {
   "cell_type": "code",
   "execution_count": 17,
   "metadata": {},
   "outputs": [
    {
     "data": {
      "text/plain": [
       "int"
      ]
     },
     "execution_count": 17,
     "metadata": {},
     "output_type": "execute_result"
    }
   ],
   "source": [
    "# Cek tipe data a\n",
    "type(a)"
   ]
  },
  {
   "cell_type": "code",
   "execution_count": 18,
   "metadata": {},
   "outputs": [
    {
     "data": {
      "text/plain": [
       "float"
      ]
     },
     "execution_count": 18,
     "metadata": {},
     "output_type": "execute_result"
    }
   ],
   "source": [
    "# Cek tipe data b\n",
    "type(b)"
   ]
  },
  {
   "cell_type": "markdown",
   "metadata": {},
   "source": [
    "**Operasi Angka** \\\n",
    "Operator Aritmatika:\n",
    "- `+` - Penambahan\n",
    "- `-` - Pengurangan\n",
    "- `*` - Perkalian\n",
    "- `/` - Pembagian\n",
    "- `//` - Floor Division (pembagian dengan pembulatan ke bawah) \n",
    "- `%` - Modulus (sisa bagi)\n",
    "- `**` - Eksponen (pangkat)\n",
    "\n",
    "Operator Perbandingan:\n",
    "- `<` - Lebih kecil dari (yaitu : a < b)\n",
    "- `<=` - Lebih kecil atau sama dengan (yaitu : a <= b)\n",
    "- `>` - Lebih besar dari (yaitu: a > b)\n",
    "- `>=` - Lebih besar atau sama dengan (yaitu: a >= b)\n",
    "- `==` - Sama dengan (yaitu: a == b)\n",
    "- `!=` - Tidak Sama dengan (yaitu: a != b)"
   ]
  },
  {
   "cell_type": "code",
   "execution_count": 19,
   "metadata": {},
   "outputs": [
    {
     "data": {
      "text/plain": [
       "1233.328"
      ]
     },
     "execution_count": 19,
     "metadata": {},
     "output_type": "execute_result"
    }
   ],
   "source": [
    "# Code here\n",
    "a - b"
   ]
  },
  {
   "cell_type": "code",
   "execution_count": 22,
   "metadata": {},
   "outputs": [
    {
     "data": {
      "text/plain": [
       "2"
      ]
     },
     "execution_count": 22,
     "metadata": {},
     "output_type": "execute_result"
    }
   ],
   "source": [
    "angka_str = '4'\n",
    "angka_int = 2\n",
    "\n",
    "# tidak bisa karena berbeda tipe\n",
    "# angka_str - angka_int"
   ]
  },
  {
   "cell_type": "markdown",
   "metadata": {},
   "source": [
    "### 3. Boolean\n",
    "\n",
    "- Boolean menyimpan nilai yang hanya memuat 2 nilai yaitu `True` atau `False`\n",
    "- Boolean berguna ketika berkaitan dengan kondisi."
   ]
  },
  {
   "cell_type": "code",
   "execution_count": 23,
   "metadata": {},
   "outputs": [],
   "source": [
    "x = True \n",
    "y = False"
   ]
  },
  {
   "cell_type": "code",
   "execution_count": 24,
   "metadata": {},
   "outputs": [
    {
     "data": {
      "text/plain": [
       "bool"
      ]
     },
     "execution_count": 24,
     "metadata": {},
     "output_type": "execute_result"
    }
   ],
   "source": [
    "# cek tipe data  \n",
    "type(x)"
   ]
  },
  {
   "cell_type": "markdown",
   "metadata": {},
   "source": [
    "### 4. List\n",
    "\n",
    "`list` digunakan untuk menyimpan beberapa nilai dalam python.\\\n",
    "Cara deklarasi variabel `list`: `nama_variable = [nilai1, nilai2, nilai3]`\n",
    "\n",
    "list dapat menyimpan berbagai tipe data"
   ]
  },
  {
   "cell_type": "code",
   "execution_count": 25,
   "metadata": {},
   "outputs": [
    {
     "data": {
      "text/plain": [
       "[1, 2, 3, 2, 4, 'lima', False]"
      ]
     },
     "execution_count": 25,
     "metadata": {},
     "output_type": "execute_result"
    }
   ],
   "source": [
    "# nama_variable = [nilai1, nilai2, nilai3]\n",
    "data = [1, 2, 3, 2, 4, \"lima\", False]\n",
    "data"
   ]
  },
  {
   "cell_type": "markdown",
   "metadata": {},
   "source": [
    "**Operasi List**\n",
    "- `x.append(a)` : tambahkan a ke list dengan nama variabel x\n",
    "- `x.remove(a)` : hapus a dari list dengan nama variabel x\n",
    "\n",
    "Operasi lain yang harus diketahui dalam daftar adalah pengindeksan:\n",
    "- `x[i]` : mengakses elemen ke-i dari x"
   ]
  },
  {
   "cell_type": "code",
   "execution_count": 26,
   "metadata": {},
   "outputs": [
    {
     "data": {
      "text/plain": [
       "[1, 2, 3, 2, 4, 'lima', False, 'nilai baru']"
      ]
     },
     "execution_count": 26,
     "metadata": {},
     "output_type": "execute_result"
    }
   ],
   "source": [
    "# menambah nilai dalam list\n",
    "data.append('nilai baru')\n",
    "data"
   ]
  },
  {
   "cell_type": "code",
   "execution_count": 27,
   "metadata": {},
   "outputs": [
    {
     "data": {
      "text/plain": [
       "1"
      ]
     },
     "execution_count": 27,
     "metadata": {},
     "output_type": "execute_result"
    }
   ],
   "source": [
    "# code here\n",
    "data[0] # akses nilai pertama"
   ]
  },
  {
   "cell_type": "code",
   "execution_count": 32,
   "metadata": {},
   "outputs": [
    {
     "data": {
      "text/plain": [
       "[1, 'ini terselip', 2, 3, 2, 4, 'lima', False, 'nilai baru']"
      ]
     },
     "execution_count": 32,
     "metadata": {},
     "output_type": "execute_result"
    }
   ],
   "source": [
    "data.insert(1, 'ini terselip')\n",
    "data"
   ]
  },
  {
   "cell_type": "markdown",
   "metadata": {},
   "source": [
    "Addition: data.insert(posisi, data_baru)"
   ]
  },
  {
   "cell_type": "markdown",
   "metadata": {},
   "source": [
    "> Note: zero based indexing -> perhitungan python dimulai dari 0"
   ]
  },
  {
   "cell_type": "markdown",
   "metadata": {},
   "source": [
    "## Struktur Kontrol\n",
    "\n",
    "Struktur kontrol digunakan untuk mengarahkan aliran eksekusi program.\n",
    "\n",
    "```python\n",
    "if kondisi_1:\n",
    "    task jika kondisi_1 terpenuhi\n",
    "elif kondisi_2:\n",
    "    task jika kondisi_2 terpenuhi\n",
    "elif kondisi_n:\n",
    "    task jika kondisi_n terpenuhi\n",
    "else:\n",
    "    task jika kondisi_1 hingga kondisi_n tidak terpenuhi\n",
    "```\n",
    "\n",
    "Kondisi digunakan untuk memeriksa suatu kondisi dan menjalankan blok kode tertentu berdasarkan hasil evaluasi kondisi tersebut.\n",
    "\n",
    "**Contoh Penggunaan Kondisi:**"
   ]
  },
  {
   "cell_type": "code",
   "execution_count": 37,
   "metadata": {},
   "outputs": [],
   "source": [
    "x = 4"
   ]
  },
  {
   "cell_type": "code",
   "execution_count": 38,
   "metadata": {},
   "outputs": [
    {
     "name": "stdout",
     "output_type": "stream",
     "text": [
      "x lebih kecil dari 5\n"
     ]
    }
   ],
   "source": [
    "if x > 5:\n",
    "    print(\"x lebih besar dari 5\")\n",
    "elif x == 5:\n",
    "    print(\"x sama dengan 5\")\n",
    "else:\n",
    "    print(\"x lebih kecil dari 5\")"
   ]
  },
  {
   "cell_type": "markdown",
   "metadata": {},
   "source": [
    "## Fungsi"
   ]
  },
  {
   "cell_type": "markdown",
   "metadata": {},
   "source": [
    "Function merupakan sekelompok perintah yang digunakan untuk melakukan tugas tertentu. Ketika kita melakukan sesuatu yang berulang dan rumit, alangkah baiknya kita menggunakan fungsi agar tidak ada langkah yang berubah maupun penulisan kode yang salah. Penulisan umum sebuah fungsi yaitu:\n",
    "```python\n",
    "def nama_fungsi(parameter):\n",
    "    perintah\n",
    "```\n",
    "Pada syntax umum di atas, `def` merupakan inisiator untuk sebuah fungsi. Sementara hal-hal yang harus kita tentukan yaitu nama dari fungsi, parameter yang akan digunakan di dalamnya, serta perintah atau kode. \n",
    "\n",
    "Sebagai contoh, kita akan membuat sebuah fungsi luas segitiga:"
   ]
  },
  {
   "cell_type": "code",
   "execution_count": 39,
   "metadata": {},
   "outputs": [],
   "source": [
    "# fungsi luas_segitiga\n",
    "def luas_segitiga(alas, tinggi):\n",
    "    hasil = (alas * tinggi) / 2\n",
    "    return(hasil)"
   ]
  },
  {
   "cell_type": "code",
   "execution_count": 40,
   "metadata": {},
   "outputs": [
    {
     "data": {
      "text/plain": [
       "10.0"
      ]
     },
     "execution_count": 40,
     "metadata": {},
     "output_type": "execute_result"
    }
   ],
   "source": [
    "# memanggil fungsi\n",
    "luas_segitiga(alas = 4, tinggi = 5)"
   ]
  },
  {
   "cell_type": "code",
   "execution_count": 42,
   "metadata": {},
   "outputs": [
    {
     "data": {
      "text/plain": [
       "14.0"
      ]
     },
     "execution_count": 42,
     "metadata": {},
     "output_type": "execute_result"
    }
   ],
   "source": [
    "luas_segitiga(7, 4)"
   ]
  },
  {
   "cell_type": "markdown",
   "metadata": {},
   "source": [
    "## Perulangan (Looping)"
   ]
  },
  {
   "cell_type": "markdown",
   "metadata": {},
   "source": [
    "`for loop` digunakan untuk mengulangi/mengiterasi suatu urutan (dapat berupa list atau string)."
   ]
  },
  {
   "cell_type": "markdown",
   "metadata": {},
   "source": [
    "Contoh `for loop` untuk mengiterasi elemen pada list:"
   ]
  },
  {
   "cell_type": "code",
   "execution_count": 47,
   "metadata": {},
   "outputs": [
    {
     "name": "stdout",
     "output_type": "stream",
     "text": [
      "kucing\n",
      "kelinci\n",
      "hamster\n",
      "sapi\n"
     ]
    }
   ],
   "source": [
    "hewan = [\"kucing\", \"kelinci\", \"hamster\", \"sapi\"]\n",
    "\n",
    "# for loop\n",
    "for x in hewan:\n",
    "  print(x)"
   ]
  },
  {
   "cell_type": "markdown",
   "metadata": {},
   "source": [
    "# Pandas"
   ]
  },
  {
   "cell_type": "markdown",
   "metadata": {},
   "source": [
    "## Bekerja dengan Dataframe\n",
    "\n",
    "- `pandas` adalah library yang powerful sebagai tools analisis data dan struktur pada Python. \n",
    "\n",
    "- `pandas` mampu mengolah data menjadi mudah karena mempunyai objek bernama **DataFrame**. \n",
    "\n",
    "- `pandas` memiliki function yang mampu mengolah dataframe dengan menerapkan berbagai operasi dan teknik seperti join, agregasi, grouping, dan lain sebagainya\n",
    "\n",
    "> Lebih lengkapnya silahkan kunjungi [official documentation](https://pandas.pydata.org/)\n",
    "\n",
    "Untuk menggunakan `pandas`, kita perlu import terlebih dahulu library dengan cara berikut ini:"
   ]
  },
  {
   "cell_type": "code",
   "execution_count": 48,
   "metadata": {},
   "outputs": [
    {
     "name": "stderr",
     "output_type": "stream",
     "text": [
      "\n",
      "A module that was compiled using NumPy 1.x cannot be run in\n",
      "NumPy 2.1.0 as it may crash. To support both 1.x and 2.x\n",
      "versions of NumPy, modules must be compiled with NumPy 2.0.\n",
      "Some module may need to rebuild instead e.g. with 'pybind11>=2.12'.\n",
      "\n",
      "If you are a user of the module, the easiest solution will be to\n",
      "downgrade to 'numpy<2' or try to upgrade the affected module.\n",
      "We expect that some modules will need time to support NumPy 2.\n",
      "\n",
      "Traceback (most recent call last):  File \"c:\\Users\\Lenovo\\miniconda3\\envs\\dss_airflow\\lib\\runpy.py\", line 196, in _run_module_as_main\n",
      "    return _run_code(code, main_globals, None,\n",
      "  File \"c:\\Users\\Lenovo\\miniconda3\\envs\\dss_airflow\\lib\\runpy.py\", line 86, in _run_code\n",
      "    exec(code, run_globals)\n",
      "  File \"c:\\Users\\Lenovo\\miniconda3\\envs\\dss_airflow\\lib\\site-packages\\ipykernel_launcher.py\", line 18, in <module>\n",
      "    app.launch_new_instance()\n",
      "  File \"c:\\Users\\Lenovo\\miniconda3\\envs\\dss_airflow\\lib\\site-packages\\traitlets\\config\\application.py\", line 1075, in launch_instance\n",
      "    app.start()\n",
      "  File \"c:\\Users\\Lenovo\\miniconda3\\envs\\dss_airflow\\lib\\site-packages\\ipykernel\\kernelapp.py\", line 739, in start\n",
      "    self.io_loop.start()\n",
      "  File \"c:\\Users\\Lenovo\\miniconda3\\envs\\dss_airflow\\lib\\site-packages\\tornado\\platform\\asyncio.py\", line 205, in start\n",
      "    self.asyncio_loop.run_forever()\n",
      "  File \"c:\\Users\\Lenovo\\miniconda3\\envs\\dss_airflow\\lib\\asyncio\\base_events.py\", line 603, in run_forever\n",
      "    self._run_once()\n",
      "  File \"c:\\Users\\Lenovo\\miniconda3\\envs\\dss_airflow\\lib\\asyncio\\base_events.py\", line 1909, in _run_once\n",
      "    handle._run()\n",
      "  File \"c:\\Users\\Lenovo\\miniconda3\\envs\\dss_airflow\\lib\\asyncio\\events.py\", line 80, in _run\n",
      "    self._context.run(self._callback, *self._args)\n",
      "  File \"c:\\Users\\Lenovo\\miniconda3\\envs\\dss_airflow\\lib\\site-packages\\ipykernel\\kernelbase.py\", line 545, in dispatch_queue\n",
      "    await self.process_one()\n",
      "  File \"c:\\Users\\Lenovo\\miniconda3\\envs\\dss_airflow\\lib\\site-packages\\ipykernel\\kernelbase.py\", line 534, in process_one\n",
      "    await dispatch(*args)\n",
      "  File \"c:\\Users\\Lenovo\\miniconda3\\envs\\dss_airflow\\lib\\site-packages\\ipykernel\\kernelbase.py\", line 437, in dispatch_shell\n",
      "    await result\n",
      "  File \"c:\\Users\\Lenovo\\miniconda3\\envs\\dss_airflow\\lib\\site-packages\\ipykernel\\ipkernel.py\", line 362, in execute_request\n",
      "    await super().execute_request(stream, ident, parent)\n",
      "  File \"c:\\Users\\Lenovo\\miniconda3\\envs\\dss_airflow\\lib\\site-packages\\ipykernel\\kernelbase.py\", line 778, in execute_request\n",
      "    reply_content = await reply_content\n",
      "  File \"c:\\Users\\Lenovo\\miniconda3\\envs\\dss_airflow\\lib\\site-packages\\ipykernel\\ipkernel.py\", line 449, in do_execute\n",
      "    res = shell.run_cell(\n",
      "  File \"c:\\Users\\Lenovo\\miniconda3\\envs\\dss_airflow\\lib\\site-packages\\ipykernel\\zmqshell.py\", line 549, in run_cell\n",
      "    return super().run_cell(*args, **kwargs)\n",
      "  File \"c:\\Users\\Lenovo\\miniconda3\\envs\\dss_airflow\\lib\\site-packages\\IPython\\core\\interactiveshell.py\", line 3075, in run_cell\n",
      "    result = self._run_cell(\n",
      "  File \"c:\\Users\\Lenovo\\miniconda3\\envs\\dss_airflow\\lib\\site-packages\\IPython\\core\\interactiveshell.py\", line 3130, in _run_cell\n",
      "    result = runner(coro)\n",
      "  File \"c:\\Users\\Lenovo\\miniconda3\\envs\\dss_airflow\\lib\\site-packages\\IPython\\core\\async_helpers.py\", line 128, in _pseudo_sync_runner\n",
      "    coro.send(None)\n",
      "  File \"c:\\Users\\Lenovo\\miniconda3\\envs\\dss_airflow\\lib\\site-packages\\IPython\\core\\interactiveshell.py\", line 3334, in run_cell_async\n",
      "    has_raised = await self.run_ast_nodes(code_ast.body, cell_name,\n",
      "  File \"c:\\Users\\Lenovo\\miniconda3\\envs\\dss_airflow\\lib\\site-packages\\IPython\\core\\interactiveshell.py\", line 3517, in run_ast_nodes\n",
      "    if await self.run_code(code, result, async_=asy):\n",
      "  File \"c:\\Users\\Lenovo\\miniconda3\\envs\\dss_airflow\\lib\\site-packages\\IPython\\core\\interactiveshell.py\", line 3577, in run_code\n",
      "    exec(code_obj, self.user_global_ns, self.user_ns)\n",
      "  File \"C:\\Users\\Lenovo\\AppData\\Local\\Temp\\ipykernel_17700\\1804728916.py\", line 1, in <module>\n",
      "    import pandas as pd\n",
      "  File \"c:\\Users\\Lenovo\\miniconda3\\envs\\dss_airflow\\lib\\site-packages\\pandas\\__init__.py\", line 62, in <module>\n",
      "    from pandas.core.api import (\n",
      "  File \"c:\\Users\\Lenovo\\miniconda3\\envs\\dss_airflow\\lib\\site-packages\\pandas\\core\\api.py\", line 28, in <module>\n",
      "    from pandas.core.arrays import Categorical\n",
      "  File \"c:\\Users\\Lenovo\\miniconda3\\envs\\dss_airflow\\lib\\site-packages\\pandas\\core\\arrays\\__init__.py\", line 1, in <module>\n",
      "    from pandas.core.arrays.arrow import ArrowExtensionArray\n",
      "  File \"c:\\Users\\Lenovo\\miniconda3\\envs\\dss_airflow\\lib\\site-packages\\pandas\\core\\arrays\\arrow\\__init__.py\", line 5, in <module>\n",
      "    from pandas.core.arrays.arrow.array import ArrowExtensionArray\n",
      "  File \"c:\\Users\\Lenovo\\miniconda3\\envs\\dss_airflow\\lib\\site-packages\\pandas\\core\\arrays\\arrow\\array.py\", line 50, in <module>\n",
      "    from pandas.core import (\n",
      "  File \"c:\\Users\\Lenovo\\miniconda3\\envs\\dss_airflow\\lib\\site-packages\\pandas\\core\\ops\\__init__.py\", line 8, in <module>\n",
      "    from pandas.core.ops.array_ops import (\n",
      "  File \"c:\\Users\\Lenovo\\miniconda3\\envs\\dss_airflow\\lib\\site-packages\\pandas\\core\\ops\\array_ops.py\", line 56, in <module>\n",
      "    from pandas.core.computation import expressions\n",
      "  File \"c:\\Users\\Lenovo\\miniconda3\\envs\\dss_airflow\\lib\\site-packages\\pandas\\core\\computation\\expressions.py\", line 21, in <module>\n",
      "    from pandas.core.computation.check import NUMEXPR_INSTALLED\n",
      "  File \"c:\\Users\\Lenovo\\miniconda3\\envs\\dss_airflow\\lib\\site-packages\\pandas\\core\\computation\\check.py\", line 5, in <module>\n",
      "    ne = import_optional_dependency(\"numexpr\", errors=\"warn\")\n",
      "  File \"c:\\Users\\Lenovo\\miniconda3\\envs\\dss_airflow\\lib\\site-packages\\pandas\\compat\\_optional.py\", line 135, in import_optional_dependency\n",
      "    module = importlib.import_module(name)\n",
      "  File \"c:\\Users\\Lenovo\\miniconda3\\envs\\dss_airflow\\lib\\importlib\\__init__.py\", line 126, in import_module\n",
      "    return _bootstrap._gcd_import(name[level:], package, level)\n",
      "  File \"C:\\Users\\Lenovo\\AppData\\Roaming\\Python\\Python310\\site-packages\\numexpr\\__init__.py\", line 24, in <module>\n",
      "    from numexpr.interpreter import MAX_THREADS, use_vml, __BLOCK_SIZE1__\n"
     ]
    },
    {
     "ename": "AttributeError",
     "evalue": "_ARRAY_API not found",
     "output_type": "error",
     "traceback": [
      "\u001b[1;31m---------------------------------------------------------------------------\u001b[0m",
      "\u001b[1;31mAttributeError\u001b[0m                            Traceback (most recent call last)",
      "\u001b[1;31mAttributeError\u001b[0m: _ARRAY_API not found"
     ]
    },
    {
     "name": "stdout",
     "output_type": "stream",
     "text": [
      "2.2.2\n"
     ]
    }
   ],
   "source": [
    "import pandas as pd\n",
    "print(pd.__version__)"
   ]
  },
  {
   "cell_type": "markdown",
   "metadata": {},
   "source": [
    "### Read Data\n",
    "\n",
    "Untuk membaca data atau file dengan format `.csv` dapat menggunakan method `.read_csv()`.\n",
    "Bacalah data `2017-01-transactions.csv` yang berada dalam folder `data`\n",
    "\n",
    "Sintaks:\n",
    "```python\n",
    "pandas.read_csv(\"path/data\")\n",
    "```"
   ]
  },
  {
   "cell_type": "code",
   "execution_count": 49,
   "metadata": {},
   "outputs": [
    {
     "data": {
      "text/html": [
       "<div>\n",
       "<style scoped>\n",
       "    .dataframe tbody tr th:only-of-type {\n",
       "        vertical-align: middle;\n",
       "    }\n",
       "\n",
       "    .dataframe tbody tr th {\n",
       "        vertical-align: top;\n",
       "    }\n",
       "\n",
       "    .dataframe thead th {\n",
       "        text-align: right;\n",
       "    }\n",
       "</style>\n",
       "<table border=\"1\" class=\"dataframe\">\n",
       "  <thead>\n",
       "    <tr style=\"text-align: right;\">\n",
       "      <th></th>\n",
       "      <th>trans_id</th>\n",
       "      <th>account_id</th>\n",
       "      <th>type</th>\n",
       "      <th>amount</th>\n",
       "      <th>transaction_date</th>\n",
       "      <th>channel</th>\n",
       "      <th>city</th>\n",
       "      <th>state_name</th>\n",
       "    </tr>\n",
       "  </thead>\n",
       "  <tbody>\n",
       "    <tr>\n",
       "      <th>352485</th>\n",
       "      <td>T00630999</td>\n",
       "      <td>A00002154</td>\n",
       "      <td>d</td>\n",
       "      <td>$11.66</td>\n",
       "      <td>01.01.17 00:29:41</td>\n",
       "      <td>c1</td>\n",
       "      <td>Norwalk</td>\n",
       "      <td>Connecticut</td>\n",
       "    </tr>\n",
       "    <tr>\n",
       "      <th>352486</th>\n",
       "      <td>T02879544</td>\n",
       "      <td>A00009528</td>\n",
       "      <td>d</td>\n",
       "      <td>$116.56</td>\n",
       "      <td>01.01.17 00:32:09</td>\n",
       "      <td>c2</td>\n",
       "      <td>Atlanta</td>\n",
       "      <td>Georgia</td>\n",
       "    </tr>\n",
       "    <tr>\n",
       "      <th>352487</th>\n",
       "      <td>T02356985</td>\n",
       "      <td>A00007774</td>\n",
       "      <td>d</td>\n",
       "      <td>$1023.13</td>\n",
       "      <td>01.01.17 00:32:47</td>\n",
       "      <td>c2</td>\n",
       "      <td>Chicago</td>\n",
       "      <td>Illinois</td>\n",
       "    </tr>\n",
       "    <tr>\n",
       "      <th>352488</th>\n",
       "      <td>T02009024</td>\n",
       "      <td>A00006806</td>\n",
       "      <td>d</td>\n",
       "      <td>$375.58</td>\n",
       "      <td>01.01.17 01:12:50</td>\n",
       "      <td>c1</td>\n",
       "      <td>New York City</td>\n",
       "      <td>New York</td>\n",
       "    </tr>\n",
       "    <tr>\n",
       "      <th>352489</th>\n",
       "      <td>T00472765</td>\n",
       "      <td>A00001609</td>\n",
       "      <td>d</td>\n",
       "      <td>$20.72</td>\n",
       "      <td>01.01.17 04:39:47</td>\n",
       "      <td>c2</td>\n",
       "      <td>Manchester</td>\n",
       "      <td>New Hampshire</td>\n",
       "    </tr>\n",
       "    <tr>\n",
       "      <th>...</th>\n",
       "      <td>...</td>\n",
       "      <td>...</td>\n",
       "      <td>...</td>\n",
       "      <td>...</td>\n",
       "      <td>...</td>\n",
       "      <td>...</td>\n",
       "      <td>...</td>\n",
       "      <td>...</td>\n",
       "    </tr>\n",
       "    <tr>\n",
       "      <th>380500</th>\n",
       "      <td>T01012202</td>\n",
       "      <td>A00003459</td>\n",
       "      <td>d</td>\n",
       "      <td>$0.63</td>\n",
       "      <td>31.01.17 23:44:34</td>\n",
       "      <td>c5</td>\n",
       "      <td>Yonkers</td>\n",
       "      <td>New York</td>\n",
       "    </tr>\n",
       "    <tr>\n",
       "      <th>380501</th>\n",
       "      <td>T00725372</td>\n",
       "      <td>A00002482</td>\n",
       "      <td>d</td>\n",
       "      <td>$0.63</td>\n",
       "      <td>31.01.17 23:52:26</td>\n",
       "      <td>c5</td>\n",
       "      <td>New York City</td>\n",
       "      <td>New York</td>\n",
       "    </tr>\n",
       "    <tr>\n",
       "      <th>380502</th>\n",
       "      <td>T01709574</td>\n",
       "      <td>A00005794</td>\n",
       "      <td>d</td>\n",
       "      <td>$0.63</td>\n",
       "      <td>31.01.17 23:55:21</td>\n",
       "      <td>c2</td>\n",
       "      <td>Los Angeles</td>\n",
       "      <td>California</td>\n",
       "    </tr>\n",
       "    <tr>\n",
       "      <th>380503</th>\n",
       "      <td>T01263220</td>\n",
       "      <td>A00004320</td>\n",
       "      <td>d</td>\n",
       "      <td>$250.39</td>\n",
       "      <td>31.01.17 23:56:47</td>\n",
       "      <td>c3</td>\n",
       "      <td>Fall River</td>\n",
       "      <td>Massachusetts</td>\n",
       "    </tr>\n",
       "    <tr>\n",
       "      <th>380504</th>\n",
       "      <td>T00260946</td>\n",
       "      <td>A00000893</td>\n",
       "      <td>d</td>\n",
       "      <td>$0.63</td>\n",
       "      <td>31.01.17 23:57:57</td>\n",
       "      <td>c5</td>\n",
       "      <td>Hartford</td>\n",
       "      <td>Connecticut</td>\n",
       "    </tr>\n",
       "  </tbody>\n",
       "</table>\n",
       "<p>28020 rows × 8 columns</p>\n",
       "</div>"
      ],
      "text/plain": [
       "         trans_id account_id type    amount   transaction_date channel  \\\n",
       "352485  T00630999  A00002154    d    $11.66  01.01.17 00:29:41      c1   \n",
       "352486  T02879544  A00009528    d   $116.56  01.01.17 00:32:09      c2   \n",
       "352487  T02356985  A00007774    d  $1023.13  01.01.17 00:32:47      c2   \n",
       "352488  T02009024  A00006806    d   $375.58  01.01.17 01:12:50      c1   \n",
       "352489  T00472765  A00001609    d    $20.72  01.01.17 04:39:47      c2   \n",
       "...           ...        ...  ...       ...                ...     ...   \n",
       "380500  T01012202  A00003459    d     $0.63  31.01.17 23:44:34      c5   \n",
       "380501  T00725372  A00002482    d     $0.63  31.01.17 23:52:26      c5   \n",
       "380502  T01709574  A00005794    d     $0.63  31.01.17 23:55:21      c2   \n",
       "380503  T01263220  A00004320    d   $250.39  31.01.17 23:56:47      c3   \n",
       "380504  T00260946  A00000893    d     $0.63  31.01.17 23:57:57      c5   \n",
       "\n",
       "                 city     state_name  \n",
       "352485        Norwalk    Connecticut  \n",
       "352486        Atlanta        Georgia  \n",
       "352487        Chicago       Illinois  \n",
       "352488  New York City       New York  \n",
       "352489     Manchester  New Hampshire  \n",
       "...               ...            ...  \n",
       "380500        Yonkers       New York  \n",
       "380501  New York City       New York  \n",
       "380502    Los Angeles     California  \n",
       "380503     Fall River  Massachusetts  \n",
       "380504       Hartford    Connecticut  \n",
       "\n",
       "[28020 rows x 8 columns]"
      ]
     },
     "execution_count": 49,
     "metadata": {},
     "output_type": "execute_result"
    }
   ],
   "source": [
    "# read data\n",
    "transaction = pd.read_csv(\"data_input_example/2017-01-transactions.csv\")\n",
    "\n",
    "transaction"
   ]
  },
  {
   "cell_type": "markdown",
   "metadata": {},
   "source": [
    "Dataset `transaction` merupakan data yang berasal dari sebuah bank di Amerika Serikat, berisi informasi tentang transaksi yang dilakukan oleh nasabahnya. Setiap baris dalam dataset merepresentasikan transaksi individual oleh nasabah.\n",
    "\n",
    "**Deskripsi Data**:\n",
    "\n",
    "- `trans_id`: Identifikasi untuk setiap transaksi.\n",
    "- `account_id`: Identifikasi untuk setiap akun nasabah.\n",
    "- `type`: Jenis transaksi sebagai debit (d) atau kredit (c).\n",
    "- `amount`: Nilai transaksi dalam USD (\\$).\n",
    "- `transaction_date`: Tanggal dan waktu terjadinya transaksi.\n",
    "- `channel`: Channel tempat transaksi dilakukan.\n",
    "  - `c1`: Internet Banking\n",
    "  - `c2`: Mobile Banking\n",
    "  - `c3`: EDC\n",
    "  - `c4`: ATM\n",
    "  - `c5`: QR\n",
    "- `city`: Kota tempat tinggal nasabah.\n",
    "- `state_name`: Negara bagian tempat tinggal nasabah."
   ]
  },
  {
   "cell_type": "markdown",
   "metadata": {},
   "source": [
    "> Dataframe : tabel yang terdiri dari kolom-kolom (series)"
   ]
  },
  {
   "cell_type": "markdown",
   "metadata": {},
   "source": [
    "Lakukan pengamatan 5 data teratas dari `transaction` menggunakan `.head()`"
   ]
  },
  {
   "cell_type": "code",
   "execution_count": 51,
   "metadata": {},
   "outputs": [
    {
     "data": {
      "text/html": [
       "<div>\n",
       "<style scoped>\n",
       "    .dataframe tbody tr th:only-of-type {\n",
       "        vertical-align: middle;\n",
       "    }\n",
       "\n",
       "    .dataframe tbody tr th {\n",
       "        vertical-align: top;\n",
       "    }\n",
       "\n",
       "    .dataframe thead th {\n",
       "        text-align: right;\n",
       "    }\n",
       "</style>\n",
       "<table border=\"1\" class=\"dataframe\">\n",
       "  <thead>\n",
       "    <tr style=\"text-align: right;\">\n",
       "      <th></th>\n",
       "      <th>trans_id</th>\n",
       "      <th>account_id</th>\n",
       "      <th>type</th>\n",
       "      <th>amount</th>\n",
       "      <th>transaction_date</th>\n",
       "      <th>channel</th>\n",
       "      <th>city</th>\n",
       "      <th>state_name</th>\n",
       "    </tr>\n",
       "  </thead>\n",
       "  <tbody>\n",
       "    <tr>\n",
       "      <th>352485</th>\n",
       "      <td>T00630999</td>\n",
       "      <td>A00002154</td>\n",
       "      <td>d</td>\n",
       "      <td>$11.66</td>\n",
       "      <td>01.01.17 00:29:41</td>\n",
       "      <td>c1</td>\n",
       "      <td>Norwalk</td>\n",
       "      <td>Connecticut</td>\n",
       "    </tr>\n",
       "    <tr>\n",
       "      <th>352486</th>\n",
       "      <td>T02879544</td>\n",
       "      <td>A00009528</td>\n",
       "      <td>d</td>\n",
       "      <td>$116.56</td>\n",
       "      <td>01.01.17 00:32:09</td>\n",
       "      <td>c2</td>\n",
       "      <td>Atlanta</td>\n",
       "      <td>Georgia</td>\n",
       "    </tr>\n",
       "    <tr>\n",
       "      <th>352487</th>\n",
       "      <td>T02356985</td>\n",
       "      <td>A00007774</td>\n",
       "      <td>d</td>\n",
       "      <td>$1023.13</td>\n",
       "      <td>01.01.17 00:32:47</td>\n",
       "      <td>c2</td>\n",
       "      <td>Chicago</td>\n",
       "      <td>Illinois</td>\n",
       "    </tr>\n",
       "  </tbody>\n",
       "</table>\n",
       "</div>"
      ],
      "text/plain": [
       "         trans_id account_id type    amount   transaction_date channel  \\\n",
       "352485  T00630999  A00002154    d    $11.66  01.01.17 00:29:41      c1   \n",
       "352486  T02879544  A00009528    d   $116.56  01.01.17 00:32:09      c2   \n",
       "352487  T02356985  A00007774    d  $1023.13  01.01.17 00:32:47      c2   \n",
       "\n",
       "           city   state_name  \n",
       "352485  Norwalk  Connecticut  \n",
       "352486  Atlanta      Georgia  \n",
       "352487  Chicago     Illinois  "
      ]
     },
     "execution_count": 51,
     "metadata": {},
     "output_type": "execute_result"
    }
   ],
   "source": [
    "# code here\n",
    "# df.head(n), n : jumlah baris yg ingin ditampilkan\n",
    "transaction.head(3)"
   ]
  },
  {
   "cell_type": "markdown",
   "metadata": {},
   "source": [
    "## Tipe Data `pandas`\n",
    "\n",
    "- Dataframe merupakan tabel/data tabular dua dimensi yaitu baris dan kolom.\n",
    "- Dataframe terdiri dari beberapa **Series** (kolom).\n",
    "- Dalam satu series harus memiliki tipe data yang sama.\n",
    "- `pandas` akan menentukan tipe data dari masing-masing Series, tapi hasil dari pandas tidak selalu benar."
   ]
  },
  {
   "cell_type": "markdown",
   "metadata": {},
   "source": [
    "Berikut rangkuman tipe data `pandas`:\n",
    "\n",
    "**Note: Fokus pada kolom `Pandas dtype` dan `Usage`**\n",
    "\n",
    "| Pandas dtype  | Python type  | Usage                                        |\n",
    "|---------------|--------------|----------------------------------------------|\n",
    "| object        | str          | Text or mixed numeric and non-numeric values |\n",
    "| int64         | int          | Integer numbers                              |\n",
    "| float64       | float        | Floating point numbers                       |\n",
    "| bool          | bool         | True/False values                            |\n",
    "| datetime64[ns]| -            | Date and time values                         |\n",
    "| timedelta[ns] | -            |  Differences between two datetimes           |\n",
    "| category      | -            | Finite list of text values                   |\n",
    "\n",
    "Referensi: [Overview of Pandas Data Types](https://pbpython.com/pandas_dtypes.html)"
   ]
  },
  {
   "cell_type": "markdown",
   "metadata": {},
   "source": [
    "**Tipe data Pandas:**\n",
    "\n",
    "- `int64`: Integer (bilangan bulat, tanpa koma)\n",
    "- `float64`: Bilangan desimal (berkoma)\n",
    "- `object`: Text (string)\n",
    "- `category`: Kategorikal \n",
    "- `datetime64[ns]`: Data waktu\n",
    "\n",
    "Karakteristik tipe data `category` :\n",
    "- Dapat dikelompokkan menjadi beberapa kelompok (category)\n",
    "- Nilainya berulang"
   ]
  },
  {
   "cell_type": "markdown",
   "metadata": {},
   "source": [
    "----"
   ]
  },
  {
   "cell_type": "markdown",
   "metadata": {},
   "source": [
    "Saat kita membaca data dengan `pd.read_csv()`, `pandas` akan mencoba menentukan tipe data dari setiap kolom. Lakukan investigasi awal untuk melihat struktur data terhadap object DataFrame dengan menggunakan method `.info()`."
   ]
  },
  {
   "cell_type": "code",
   "execution_count": 52,
   "metadata": {},
   "outputs": [
    {
     "name": "stdout",
     "output_type": "stream",
     "text": [
      "<class 'pandas.core.frame.DataFrame'>\n",
      "Index: 28020 entries, 352485 to 380504\n",
      "Data columns (total 8 columns):\n",
      " #   Column            Non-Null Count  Dtype \n",
      "---  ------            --------------  ----- \n",
      " 0   trans_id          28020 non-null  object\n",
      " 1   account_id        28020 non-null  object\n",
      " 2   type              28020 non-null  object\n",
      " 3   amount            28020 non-null  object\n",
      " 4   transaction_date  28020 non-null  object\n",
      " 5   channel           28020 non-null  object\n",
      " 6   city              28020 non-null  object\n",
      " 7   state_name        28020 non-null  object\n",
      "dtypes: object(8)\n",
      "memory usage: 1.9+ MB\n"
     ]
    }
   ],
   "source": [
    "# Cek tipe data\n",
    "transaction.info()"
   ]
  },
  {
   "cell_type": "markdown",
   "metadata": {},
   "source": [
    "**💡 NOTES**\n",
    "\n",
    "Dengan menggunakan method `.info()`, kita dapat memeriksa **informasi** lengkap dari DataFrame kita:\n",
    "\n",
    "- Dimensi data: jumlah baris dan kolom (`.shape`)\n",
    "- Nama kolom (`.columns`)\n",
    "- Tipe data setiap kolom (`.dtypes`)\n",
    "- Penggunaan memori"
   ]
  },
  {
   "cell_type": "code",
   "execution_count": 53,
   "metadata": {},
   "outputs": [
    {
     "data": {
      "text/html": [
       "<div>\n",
       "<style scoped>\n",
       "    .dataframe tbody tr th:only-of-type {\n",
       "        vertical-align: middle;\n",
       "    }\n",
       "\n",
       "    .dataframe tbody tr th {\n",
       "        vertical-align: top;\n",
       "    }\n",
       "\n",
       "    .dataframe thead th {\n",
       "        text-align: right;\n",
       "    }\n",
       "</style>\n",
       "<table border=\"1\" class=\"dataframe\">\n",
       "  <thead>\n",
       "    <tr style=\"text-align: right;\">\n",
       "      <th></th>\n",
       "      <th>trans_id</th>\n",
       "      <th>account_id</th>\n",
       "      <th>type</th>\n",
       "      <th>amount</th>\n",
       "      <th>transaction_date</th>\n",
       "      <th>channel</th>\n",
       "      <th>city</th>\n",
       "      <th>state_name</th>\n",
       "    </tr>\n",
       "  </thead>\n",
       "  <tbody>\n",
       "    <tr>\n",
       "      <th>352485</th>\n",
       "      <td>T00630999</td>\n",
       "      <td>A00002154</td>\n",
       "      <td>d</td>\n",
       "      <td>$11.66</td>\n",
       "      <td>01.01.17 00:29:41</td>\n",
       "      <td>c1</td>\n",
       "      <td>Norwalk</td>\n",
       "      <td>Connecticut</td>\n",
       "    </tr>\n",
       "    <tr>\n",
       "      <th>352486</th>\n",
       "      <td>T02879544</td>\n",
       "      <td>A00009528</td>\n",
       "      <td>d</td>\n",
       "      <td>$116.56</td>\n",
       "      <td>01.01.17 00:32:09</td>\n",
       "      <td>c2</td>\n",
       "      <td>Atlanta</td>\n",
       "      <td>Georgia</td>\n",
       "    </tr>\n",
       "  </tbody>\n",
       "</table>\n",
       "</div>"
      ],
      "text/plain": [
       "         trans_id account_id type   amount   transaction_date channel  \\\n",
       "352485  T00630999  A00002154    d   $11.66  01.01.17 00:29:41      c1   \n",
       "352486  T02879544  A00009528    d  $116.56  01.01.17 00:32:09      c2   \n",
       "\n",
       "           city   state_name  \n",
       "352485  Norwalk  Connecticut  \n",
       "352486  Atlanta      Georgia  "
      ]
     },
     "execution_count": 53,
     "metadata": {},
     "output_type": "execute_result"
    }
   ],
   "source": [
    "transaction.head(2)"
   ]
  },
  {
   "cell_type": "markdown",
   "metadata": {},
   "source": [
    "*Kolom manakah yang memiliki format tipe data yang belum sesuai?*\n",
    "\n",
    "> Jawaban:\n",
    "- `amount` -> float\n",
    "- `transaction_date` -> datetime\n",
    "- `type`, `channel`, `city`, `state_name` -> category."
   ]
  },
  {
   "cell_type": "markdown",
   "metadata": {},
   "source": [
    "## Convert Data Types"
   ]
  },
  {
   "cell_type": "markdown",
   "metadata": {},
   "source": [
    "### Convert Category"
   ]
  },
  {
   "cell_type": "markdown",
   "metadata": {},
   "source": [
    "Untuk mengubah tipe data pada `pandas`, dapat menggunakan method `astype()`.\n",
    "\n",
    "**Sintaks**\n",
    "```python\n",
    "df['column_name'] = df['column_name'].astype('new_data_types')\n",
    "```"
   ]
  },
  {
   "cell_type": "code",
   "execution_count": null,
   "metadata": {},
   "outputs": [],
   "source": [
    "# code here\n"
   ]
  },
  {
   "cell_type": "markdown",
   "metadata": {},
   "source": [
    "### Convert Datetime"
   ]
  },
  {
   "cell_type": "markdown",
   "metadata": {},
   "source": [
    "Ada dua cara untuk mengubah menjadi tipe data `datetime64[ns]`:\n",
    "\n",
    "- Method **`.astype()`**\n",
    "- Method **`pd.to_datetime()`**"
   ]
  },
  {
   "cell_type": "markdown",
   "metadata": {},
   "source": [
    "Misalkan kita memiliki kolom yang menyimpan informasi waktu harian di sekitar bulan Juni menggunakan format **mm-dd-yyyy** yang merupakan format penulisan tanggal di AS. Mari kita lihat apa yang akan terjadi ketika kita mengonversi tipe data `transaction_date` menjadi `datetime64[ns]` :"
   ]
  },
  {
   "cell_type": "code",
   "execution_count": null,
   "metadata": {},
   "outputs": [],
   "source": [
    "transaction_date = pd.Series(['30.05.19', '31.05.19', '01.06.19', '02.06.19', '03.06.19']) # Tanggal 30 Mei-3 Juni 2019\n",
    "transaction_date"
   ]
  },
  {
   "cell_type": "markdown",
   "metadata": {},
   "source": [
    "#### 1️⃣ Method **`.astype()`**"
   ]
  },
  {
   "cell_type": "code",
   "execution_count": null,
   "metadata": {},
   "outputs": [],
   "source": [
    "# code here\n"
   ]
  },
  {
   "cell_type": "markdown",
   "metadata": {},
   "source": [
    "#### 2️⃣ Fungsi **`pd.to_datetime()`**\n",
    "\n",
    "`pd.to_datetime()` lebih fleksibel dibanding `astype('datetime[64ns]')` karena memiliki parameter-parameter seperti `dayfirst` dan `format`.\n",
    "\n",
    "Syntax:\n",
    "\n",
    "`pd.to_datetime(df['kolom_date'], dayfirst = False, format)`\n",
    "\n",
    "- `dayfirst`: Jika urutan pertama dari date adalah tanggal\n",
    "- `format`: Format datetime awal data, untuk mengenali letak hari, bulan, tahun dsb. Menggunakan format `strftime`\n",
    "\n",
    "**🌐 Referensi** : https://strftime.org/"
   ]
  },
  {
   "cell_type": "code",
   "execution_count": null,
   "metadata": {},
   "outputs": [],
   "source": [
    "# code here\n"
   ]
  },
  {
   "cell_type": "markdown",
   "metadata": {},
   "source": [
    "**✏️ Notes:**\n",
    "\n",
    "Kapan waktu yang tepat untuk menggunakan 2 cara tersebut?\n",
    "\n",
    "- `.astype('datetime64[ns]')`: Jika data memiliki format **bulan-tanggal-tahun (mdy)**\n",
    "- `pd.to_datetime()`: Jika formatnya tidak dalam **bulan-tanggal-tahun (mdy)**\n",
    "___\n",
    "\n",
    "Mari merubah kolom `transaction_date` ke bentuk datetime"
   ]
  },
  {
   "cell_type": "code",
   "execution_count": null,
   "metadata": {},
   "outputs": [],
   "source": [
    "transaction.head()"
   ]
  },
  {
   "cell_type": "markdown",
   "metadata": {},
   "source": [
    "Fungsi yang digunakan untuk merubah `transaction_date`?\n",
    "\n",
    "> - fungsi:\n",
    "\n",
    "> - format:"
   ]
  },
  {
   "cell_type": "code",
   "execution_count": null,
   "metadata": {},
   "outputs": [],
   "source": [
    "# change data type\n"
   ]
  },
  {
   "cell_type": "markdown",
   "metadata": {},
   "source": [
    "## Conditional Subsetting\n",
    "\n",
    "Kita dapat melakukan subsetting berdasarkan kondisi tertentu. Misalkan pada dataframe `transaction`, kita ingin mengambil beberapa data dengan kondisi sebagai berikut:\n",
    "\n",
    "- Transaksi yang terjadi di supermarket: `transaction['format'] == 'supermarket'`\n",
    "- Transaksi dengan produk yang harganya lebih dari sama dengan 200000: `transaction['unit_price'] >= 200000`\n",
    "\n",
    "Syntax penulisan untuk conditional subsetting adalah:\n",
    "\n",
    "```python\n",
    "df[df['column_name'] <comparison_operator> <value>]\n",
    "```\n",
    "\n",
    "Contoh `comparison_operator` adalah seperti `==`, `!=`, `>`, `>=`, `<`, `<=`.\n",
    "\n",
    "Operator Perbandingan:\n",
    "- `<` - Lebih kecil dari (yaitu : a < b)\n",
    "- `<=` - Lebih kecil atau sama dengan (yaitu : a <= b)\n",
    "- `>` - Lebih besar dari (yaitu: a > b)\n",
    "- `>=` - Lebih besar atau sama dengan (yaitu: a >= b)\n",
    "- `==` - Sama dengan (yaitu: a == b)\n",
    "- `!=` - Tidak Sama dengan (yaitu: a != b)"
   ]
  },
  {
   "cell_type": "markdown",
   "metadata": {},
   "source": [
    "🔻 (1) Tampilkan transaksi dengan `type` Debit!"
   ]
  },
  {
   "cell_type": "code",
   "execution_count": null,
   "metadata": {},
   "outputs": [],
   "source": [
    "# code here\n"
   ]
  },
  {
   "cell_type": "markdown",
   "metadata": {},
   "source": [
    "🔻 (2) Tampilkan transaksi yang memiliki `amount` lebih besar sama dengan $3000"
   ]
  },
  {
   "cell_type": "code",
   "execution_count": null,
   "metadata": {},
   "outputs": [],
   "source": [
    "# code here\n"
   ]
  },
  {
   "cell_type": "markdown",
   "metadata": {},
   "source": [
    "*Notes: `amount` masih berbentuk object, sehingga harus dibersihkan agar dapat berbentuk numerik*"
   ]
  },
  {
   "cell_type": "markdown",
   "metadata": {},
   "source": [
    "### Multiple Condition\n",
    "\n",
    "Kita juga dapat menggunakan operator `&` (AND) dan `|` (OR) untuk melakukan subsetting lebih dari 1 kondisi. Misalnya kita ingin melihat data penjualan dari seorang pegawai bernama Andi yang jumlahnya lebih dari 5000, maka kita dapat menggunakan syntax:\n",
    "\n",
    "```python\n",
    "sales[ (sales['salesperson'] == 'Andi') & (sales['amount'] > 5000) ]\n",
    "```\n",
    "\n",
    "Untuk subsetting dengan kondisi lebih dari 1, setiap kondisi diletakkan **di dalam tanda kurung `()`** atau bisa **ditulis dengan variabel** seperti syntax berikut:\n",
    "\n",
    "```python\n",
    "kondisi_1 = sales['salesperson'] == 'Andi'\n",
    "kondisi_2 = sales['amount'] > 5000\n",
    "\n",
    "df[ kondisi_1 & kondisi_2 ]\n",
    "```\n",
    "\n",
    "**Poin:**\n",
    "- Operator `&` (AND): harus semua kondisi terpenuhi dalam satu baris agar muncul\n",
    "- Operator `|` (OR): salah satu kondisi saja sudah terpenuhi maka baris tsb muncul"
   ]
  },
  {
   "cell_type": "markdown",
   "metadata": {},
   "source": [
    "🔻 (1) Tampilkan transaksi yang dilakukan melalui `QR` untuk waktu transaksi setelah `2017.01.28 19:00:00`"
   ]
  },
  {
   "cell_type": "code",
   "execution_count": null,
   "metadata": {},
   "outputs": [],
   "source": [
    "# code here\n"
   ]
  },
  {
   "cell_type": "markdown",
   "metadata": {},
   "source": [
    "# Data Cleansing\n",
    "\n",
    "Jika diperhatikan, kolom `type` dan `channel` masih berbentuk kode, begitupun dengan `amount` masih belum berbentuk numerik karena masih terdapat symbol `$`. Tujuan selanjutnya, yaitu: \n",
    "\n",
    "- Merubah kode `type` dan `channel` menjadi nilai yang sebenarnya.\n",
    "- Menghapus symbol `$` di `amount` dan merubah menjadi `float64`\n",
    "\n",
    "Tahapan ini termasuk ke dalam pembersihan data atau biasa disebut Data Cleansing."
   ]
  },
  {
   "cell_type": "markdown",
   "metadata": {},
   "source": [
    "## Merubah Kode Type dan Channel\n",
    "\n",
    "Mari kita lihat deskripsi dari `type`:\n",
    "\n",
    "`channel`: Channel tempat transaksi dilakukan.\n",
    "  - `c1`: Internet Banking\n",
    "  - `c2`: Mobile Banking\n",
    "  - `c3`: EDC\n",
    "  - `c4`: ATM\n",
    "  - `c5`: QR\n",
    "\n",
    "Tujuan: Merubah kode menjadi detail channel. Untuk melakukan hal ini, dapat menggunakan `.replace()`\n",
    "\n",
    "Syntax:\n",
    "```python\n",
    "data['kolom'].replace({'nilai_lama1': 'nilai baru 1',\n",
    "                        'nilai_lama2': 'nilai baru 2',\n",
    "                        'nilai_laman': 'nilai baru n'})\n",
    "```"
   ]
  },
  {
   "cell_type": "code",
   "execution_count": null,
   "metadata": {},
   "outputs": [],
   "source": [
    "# membuat dictionary\n",
    "channel_revert = {'c1': 'Internet Banking', \n",
    "                  'c2': 'Mobile Banking',\n",
    "                  'c3': 'EDC',\n",
    "                  'c4': 'ATM',\n",
    "                  'c5': 'QR'}"
   ]
  },
  {
   "cell_type": "code",
   "execution_count": null,
   "metadata": {},
   "outputs": [],
   "source": [
    "# merubah ke nilai baru\n"
   ]
  },
  {
   "cell_type": "markdown",
   "metadata": {},
   "source": [
    "Silahkan lakukan perubahan untuk kolom `type` menggunakan `.replace()` dengan ketentuan berikut:\n",
    "\n",
    "- `d` -> `Debit`\n",
    "- `c` -> `Credit`"
   ]
  },
  {
   "cell_type": "code",
   "execution_count": null,
   "metadata": {},
   "outputs": [],
   "source": [
    "# code here\n"
   ]
  },
  {
   "cell_type": "markdown",
   "metadata": {},
   "source": [
    "## Menghapus $ dan Merubah Amount ke Float64\n",
    "\n",
    "Mirip seperti `.replace()` untuk series, terdapat juga `.str.replace()` untuk mengganti beberapa karakter tertentu pada nilai.\n",
    "\n",
    "Syntax: `df['nama_kolom'].str.replace('nilai_lama', 'nilai_baru')`\n",
    "\n"
   ]
  },
  {
   "cell_type": "code",
   "execution_count": null,
   "metadata": {},
   "outputs": [],
   "source": [
    "transaction_amount = pd.Series(['$21', '$94.12', '$12.65'])\n",
    "transaction_amount"
   ]
  },
  {
   "cell_type": "code",
   "execution_count": null,
   "metadata": {},
   "outputs": [],
   "source": [
    "# mengganti $ -> dollar\n"
   ]
  },
  {
   "cell_type": "code",
   "execution_count": null,
   "metadata": {},
   "outputs": [],
   "source": [
    "# menghilangkan $\n"
   ]
  },
  {
   "cell_type": "code",
   "execution_count": null,
   "metadata": {},
   "outputs": [],
   "source": [
    "# code here\n"
   ]
  },
  {
   "cell_type": "markdown",
   "metadata": {},
   "source": [
    "## Membuat Fungsi Data Cleansing\n",
    "\n",
    "Agar proses pembersihan data dapat digunakan kembali dengan mudah, mari kita masukkan ke dalam sebuah fungsi `clean_df` yang berisi semua tahapan permbersihan data dengan inputan data kotor (sebelum dibersihkan) dan menghasilkan dataframe yang telah bersih."
   ]
  },
  {
   "cell_type": "code",
   "execution_count": null,
   "metadata": {},
   "outputs": [],
   "source": [
    "def clean_df(df):\n",
    "    df['transaction_date'] = pd.to_datetime(df['transaction_date'], format = \"%d.%m.%y %H:%M:%S\")\n",
    "    \n",
    "    # channel\n",
    "    channel_revert = {'c1': 'Internet Banking',\n",
    "           'c2': 'Mobile Banking',\n",
    "           'c3': 'EDC',\n",
    "           'c4': 'ATM',\n",
    "           'c5': 'QR'}\n",
    "    df['channel'] = df['channel'].replace(channel_revert)\n",
    "\n",
    "    # type\n",
    "    type_revert = {'d': 'Debit',\n",
    "               'c': 'Credit'}\n",
    "    df['type'] = df['type'].replace(type_revert)\n",
    "\n",
    "    # amount\n",
    "    df['amount'] = df['amount'].str.replace('$', '').astype('float64')\n",
    "\n",
    "    return df"
   ]
  },
  {
   "cell_type": "markdown",
   "metadata": {},
   "source": [
    "Mari kita coba terapkan fungsi `clean_df` kita ke dataframe Februari 2017 (`2017-02-transactions.csv`)"
   ]
  },
  {
   "cell_type": "code",
   "execution_count": null,
   "metadata": {},
   "outputs": [],
   "source": [
    "# code here\n",
    "trx17_2 = ___\n",
    "\n",
    "trx17_2.head()"
   ]
  },
  {
   "cell_type": "markdown",
   "metadata": {},
   "source": [
    "Bersihkan `trx17_2` menggunakan fungsi `clean_df(df)` kemudian simpan ke dalam `trx_17_2_clean`."
   ]
  },
  {
   "cell_type": "code",
   "execution_count": null,
   "metadata": {},
   "outputs": [],
   "source": [
    "# code here\n"
   ]
  },
  {
   "cell_type": "markdown",
   "metadata": {},
   "source": [
    "# Memasukkan Data ke Database"
   ]
  },
  {
   "cell_type": "markdown",
   "metadata": {},
   "source": [
    "## Pengenalan SQLite\n",
    "\n",
    "SQLite adalah salah satu basis data yang paling populer dan mudah digunakan. Bersifat open-source tanpa konfigurasi tambahan dan tidak memerlukan instlasi.\n",
    "\n",
    "*Why SQLite:*\n",
    "- SQLite bersifat open-source, tidak memerlukan lisensi apapun setelah instalasi.\n",
    "- SQLite *serverless*, tidak memerlukan proses / sistem yang berbeda untuk beroperasi.\n",
    "- SQLIte dapat digunakan lintas platform/OS seperti Windows, Linux, MacOS dsb.\n",
    "\n",
    "Alasan-alasan ini, kita menggunakan SQLite dalam materi DSS Airflow karena mudah dikonfigurasi dan tidak memerlukan instalasi apapun. \n",
    "\n",
    "*Note: Kita akan mempelajari tujuan dan flow utama menghubungkan database dengan airflow, jika nantinya menggunakan DBMS lain seperti mysql, postgre atau DBMS lainnya, yang perlu dilakukan tinggal melakukan konfigurasi tambahan ke python sesuai masing-masing DBMS yang diperlukan.*"
   ]
  },
  {
   "cell_type": "markdown",
   "metadata": {},
   "source": [
    "## Menghubungkan SQLite di Python dan Airflow\n",
    "\n",
    "Untuk membuat database SQLite dapat dilakukan di python dengan menggunakan library bawaan `sqlite3` (tidak perlu instalasi).\n",
    "\n",
    "Langkah-langkah untuk membuat database di python:\n",
    "\n",
    "- Impor library `sqlite3`\n",
    "- Buat koneksi python ke database SQLite dengan\n",
    "  ```python\n",
    "  conn = sqlite3.connect(“path database”)\n",
    "  ```\n",
    "\n",
    "Jika database sudah ada, maka python akan terhubung dengan database yang sudah ada.\n",
    "\n",
    "Contoh untuk membuat database SQLite baru di Python"
   ]
  },
  {
   "cell_type": "code",
   "execution_count": null,
   "metadata": {},
   "outputs": [],
   "source": [
    "import sqlite3"
   ]
  },
  {
   "cell_type": "code",
   "execution_count": null,
   "metadata": {},
   "outputs": [],
   "source": [
    "db_filepath = 'db/trial.db'\n",
    "conn = sqlite3.connect(db_filepath)"
   ]
  },
  {
   "cell_type": "markdown",
   "metadata": {},
   "source": [
    "Kode di atas akan membuat database bernama `trial.db` (jika sebelumnya belum ada) di dalam folder `db`."
   ]
  },
  {
   "cell_type": "markdown",
   "metadata": {},
   "source": [
    "## Menambahkan Dataframe ke Database\n",
    "\n",
    "`pandas` telah menyediakan metode untuk menambahkan dataframe secara langsung ke dalam database. Untuk memasukkan dataframe ke dalam database bisa menggunakan `df.to_sql()`. Input yang dibutuhkan adalah nama tabel target dan dataframe itu sendiri, input lainnya dapat disesuaikan dengan kebutuhan.\n",
    "\n",
    "```python\n",
    "df.to_sql(name, con, if_exist, index=True)\n",
    "```\n",
    "\n",
    "**Parameter:**\n",
    "\n",
    "- `nama`: Nama tabel SQL\n",
    "- `con`: Koneksi ke database\n",
    "- `if_exist`: Yang dilakukan jika tabel sudah ada.\n",
    "  - `fail`: Menampilkan ValueError\n",
    "  - `replace`: Menghapus tabel sebelum memasukkan nilai baru\n",
    "  - `append`: Menambahkan nilai baru ke tabel yang sudah ada.\n",
    "- `index`: (True/False) Menulis indeks Dataframe sebagai kolom.\n",
    "\n",
    "Sebagai contoh, kita mempunyai dataframe di bawah dan ingin ditambahkan ke table `users` di dalam database `trail.db`."
   ]
  },
  {
   "cell_type": "code",
   "execution_count": null,
   "metadata": {},
   "outputs": [],
   "source": [
    "df = pd.DataFrame({'name' : ['User 1', 'User 2', 'User 3']})\n",
    "df"
   ]
  },
  {
   "cell_type": "code",
   "execution_count": null,
   "metadata": {},
   "outputs": [],
   "source": [
    "# insert into users table\n",
    "df.to_sql(name='users', con=conn, if_exists='append')"
   ]
  },
  {
   "cell_type": "markdown",
   "metadata": {},
   "source": [
    "Proses ini akan menampilkan jumlah baris yang berhasil ditambahkan."
   ]
  },
  {
   "cell_type": "markdown",
   "metadata": {},
   "source": [
    "## Melihat Isi Table\n",
    "\n",
    "Terdapat 2 cara untuk menampilkan data kita dalam tabel database.\n",
    "\n",
    "1. Menggunakan `pandas`: Menggunakan pandas untuk meminta semua data dari tabel tertentu\n",
    "2. Menggunakan SQLite Viewer: Menggunakan ekstensi `SQLite` dari VSCode untuk melihat data kita dalam database."
   ]
  },
  {
   "cell_type": "markdown",
   "metadata": {},
   "source": [
    "### 1. Menggunakan `Pandas`\n",
    "\n",
    "Untuk mengambil (biasa disebut `fetch`) data dari database, kita dapat menggunakan objek `conn` yang telah kita buat untuk menghubungkan python dengan database.\n",
    "\n",
    "Method untuk mengambil data menggunakan pandas dari database menggunakan  `pd.read_sql_query(sql, con)` dengan memasukkan query dan objek koneksi sebagai input.\n",
    "\n",
    "Syntax: `pd.read_sql_query(sql, con)`\n",
    "\n",
    "**Parameter:** Parameter\n",
    "- `sql`: Kueri SQL\n",
    "- `con`: Objek koneksi\n",
    "\n",
    "Mari kita ambil semua data dalam tabel `users` di basis data `trial.db`."
   ]
  },
  {
   "cell_type": "code",
   "execution_count": null,
   "metadata": {},
   "outputs": [],
   "source": [
    "pd.read_sql_query(sql = \"SELECT * FROM USERS\",\n",
    "                con = conn)"
   ]
  },
  {
   "cell_type": "markdown",
   "metadata": {},
   "source": [
    "#### 2. SQLite Viewer\n",
    "\n",
    "SQLite Viewer adalah ekstensi di VSCode yang memungkinkan untuk membuka dan melihat isi dari database SQLite. Cara penggunaannya sebagai berikut:\n",
    "\n",
    "1. Install Ekstensi SQLite Viewer\n",
    "   Pertama, carai \"SQLite Viewer\" di tab Extensions kemudian clik \"install\"\n",
    "   ![](assets/sqlite_viewer.png)\n",
    "\n",
    "2. Cari dan double klik db yang ingin dibuka, dalam hal ini kita ingin buka `db/trial.db`\n",
    "   \n",
    "3. Akan terbuka window baru yang menunjukkan isi dari database.\n",
    "   ![](assets/trialdb.png)"
   ]
  },
  {
   "cell_type": "markdown",
   "metadata": {},
   "source": [
    "## Menambahkan Kolom Transaksi ke Database\n",
    "\n",
    "Setelah kita mengetahui cara menambahkan data ke database. Selanjutnya kita akan menambahkan data `transaction` kita ke dalam SQLite.\n",
    "\n",
    "Pertama, mari kita melihat data `transaction` kita."
   ]
  },
  {
   "cell_type": "code",
   "execution_count": null,
   "metadata": {},
   "outputs": [],
   "source": [
    "transaction.head()"
   ]
  },
  {
   "cell_type": "markdown",
   "metadata": {},
   "source": [
    "Selanjutnya, kita perlu membuat database bernama `transactions.db` di dalam folder `db` (`db/transactions.db`)."
   ]
  },
  {
   "cell_type": "code",
   "execution_count": null,
   "metadata": {},
   "outputs": [],
   "source": [
    "database = 'db/transactions.db'\n",
    "conn = sqlite3.connect(database)"
   ]
  },
  {
   "cell_type": "markdown",
   "metadata": {},
   "source": [
    "Pada kasus ini, kita ingin menambahkan `transaction` ke dalam tabel `transactions` (pakai s) di `db/airflow.db`.\n",
    "\n",
    "Untuk melakukan ini, kita akan menggunakan lagi `.to_sql()`. Dengan ketentuan:\n",
    "\n",
    "- nama table = 'transactions'\n",
    "- if_exists = 'append'\n",
    "- index = False"
   ]
  },
  {
   "cell_type": "code",
   "execution_count": null,
   "metadata": {},
   "outputs": [],
   "source": [
    "# code here\n"
   ]
  },
  {
   "cell_type": "markdown",
   "metadata": {},
   "source": [
    "Mari melihat data yang telah kita masukkan ke dalam tabel `transactions`."
   ]
  },
  {
   "cell_type": "code",
   "execution_count": null,
   "metadata": {},
   "outputs": [],
   "source": [
    "# code here\n"
   ]
  },
  {
   "cell_type": "markdown",
   "metadata": {},
   "source": [
    "Selanjutnya, mari kita buatkan fungsi untuk memudahkan dataframe-dataframe lainnya dimasukkan ke dalam SQLite."
   ]
  },
  {
   "cell_type": "code",
   "execution_count": null,
   "metadata": {},
   "outputs": [],
   "source": [
    "def df_to_db(df):\n",
    "    database = 'db/transactions.db'\n",
    "    conn = sqlite3.connect(database)\n",
    "\n",
    "    df.to_sql(name = 'transactions',\n",
    "              con = conn,\n",
    "              if_exists = 'append',\n",
    "              index = False)"
   ]
  },
  {
   "cell_type": "markdown",
   "metadata": {},
   "source": [
    "Silahkan tambahkan `trx17_2_clean` ke dalam `db/transactions.db` menggunakan fungsi `df_to_db`."
   ]
  },
  {
   "cell_type": "code",
   "execution_count": null,
   "metadata": {},
   "outputs": [],
   "source": [
    "# lakukan jg untuk trx17_2_clean\n"
   ]
  },
  {
   "cell_type": "code",
   "execution_count": null,
   "metadata": {},
   "outputs": [],
   "source": [
    "pd.read_sql_query(\"SELECT * FROM transactions\", conn)"
   ]
  },
  {
   "cell_type": "markdown",
   "metadata": {},
   "source": [
    "# Iterasi Keseluruhan File\n",
    "\n",
    "Jika kita melihat isi dari `data_input_example/`. Maka masih terdapat banyak file csv yang belum terbaca, dibersihkan dan dimasukkan ke dalam database. Akan sangat memakan waktu jika kita membaca satu-satu file ini. Maka dari itu kita akan melakukan automasi untuk membaca file ini di dalam folder `data_input_example/` secara sekaligus."
   ]
  },
  {
   "cell_type": "markdown",
   "metadata": {},
   "source": [
    "## Glob - Mendapatkan keseluruhan nama file\n",
    "\n",
    "Untuk membaca keseluruhan file di dalam suatu folder, kita butuh untuk mendapatkan keseluruhan nama file di dalam folder tersebut. Kita dapat menggunakan `glob.glob('path')` untuk melakukan hal tersebut:\n",
    "\n",
    "Syntax:\n",
    "```python\n",
    "glob.glob('path folder/*.csv')\n",
    "```\n",
    "\n",
    "*Notes:*\n",
    "\n",
    "- `*.csv`: Membaca keseluruhan nama file yang berekstensi `.csv`\n",
    "- **Output:** Seluruh list nama file di dalam folder"
   ]
  },
  {
   "cell_type": "code",
   "execution_count": null,
   "metadata": {},
   "outputs": [],
   "source": [
    "import glob\n",
    "\n",
    "files = ___"
   ]
  },
  {
   "cell_type": "markdown",
   "metadata": {},
   "source": [
    "Jika kita perhatikan, maka `glob.glob()` akan mengumpulkan keseluruhan nama file berekstensi `csv` di dalam sebuah list. Mari kita coba untuk membaca dataframe dengan `pd.read_csv` untuk file pertama `files[0]`"
   ]
  },
  {
   "cell_type": "code",
   "execution_count": null,
   "metadata": {},
   "outputs": [],
   "source": [
    "# membaca files[0] sebagai dataframe\n"
   ]
  },
  {
   "cell_type": "markdown",
   "metadata": {},
   "source": [
    "Jika kita lihat, kita telah berhasil untuk membaca file pertama. Mari kita iterasi keseluruhan nama file menggunakan `for loop`."
   ]
  },
  {
   "cell_type": "code",
   "execution_count": null,
   "metadata": {},
   "outputs": [],
   "source": [
    "for file in files:\n",
    "    print(f\"file: {file}\")"
   ]
  },
  {
   "cell_type": "markdown",
   "metadata": {},
   "source": [
    "## Membaca Keseluruhan Dataframe"
   ]
  },
  {
   "cell_type": "markdown",
   "metadata": {},
   "source": [
    "Untuk menyimpan dataframe yang terbaca, kita dapat menyimpannnya ke dalam list `df_list`. `df_list` pertama adalah dataframe pertama, begitupun kedua dan seterusnya."
   ]
  },
  {
   "cell_type": "code",
   "execution_count": null,
   "metadata": {},
   "outputs": [],
   "source": [
    "# membuat list kosong\n",
    "df_list = []\n",
    "\n",
    "for file in files:\n",
    "    # membaca dataframe\n",
    "    trx = pd.read_csv(file)\n",
    "    # membersihkan dataframe\n",
    "    trx_clean = clean_df(trx)\n",
    "    \n",
    "    # memasukkan dataframe bersih ke dalam df_list\n",
    "    df_list.append(trx_clean)"
   ]
  },
  {
   "cell_type": "code",
   "execution_count": null,
   "metadata": {},
   "outputs": [],
   "source": [
    "# melihat shape dan juga periode bulan dari setiap dataframe di dalam `df_list`\n",
    "for df in df_list:\n",
    "    print(df.shape)\n",
    "    print(df['transaction_date'].dt.to_period('M').unique()[0])"
   ]
  },
  {
   "cell_type": "markdown",
   "metadata": {},
   "source": [
    "## Melakukan Filtering\n",
    "\n",
    "Jika diperhatikan, dataframe di dalam `df_list` tetap memasukkan periode `2017-01` dan `2017-02` walaupun dataframe tersebut telah dimasukkan ke dalam `SQLite`. \n",
    "\n",
    "Tujuan kita adalah hanya memasukkan dataframe yang belum ada di database agar tidak terdapat duplikasi di dalam database. Untuk melakukan hal tersebut secara otomatis, kita akan melakukan tahapan berikut:\n",
    "\n",
    "- Mengambil waktu (`transaction_date`) paling terupdate dari database `transactions.db`, masukkan ke dalam objek `last_timestamp`.\n",
    "- Filter dataframe dengan mengambil dataframe yang waktunya lebih terbaru dari `last_timestamp`."
   ]
  },
  {
   "cell_type": "code",
   "execution_count": null,
   "metadata": {},
   "outputs": [],
   "source": [
    "# 1. Mengambil waktu paling terupdate dari database\n",
    "last_update = pd.read_sql_query(\"\"\"\n",
    "                  SELECT transaction_date \n",
    "                  FROM transactions\n",
    "                  ORDER BY transaction_date DESC\n",
    "                  LIMIT 1\n",
    "                  \"\"\", con = conn)\n",
    "\n",
    "last_timestamp = last_update['transaction_date'].to_string(index=False)"
   ]
  },
  {
   "cell_type": "code",
   "execution_count": null,
   "metadata": {},
   "outputs": [],
   "source": [
    "last_timestamp"
   ]
  },
  {
   "cell_type": "code",
   "execution_count": null,
   "metadata": {},
   "outputs": [],
   "source": [
    "# melakukan filtering untuk setiap database\n",
    "df_try = df_list[1]\n",
    "\n",
    "# melakukan conditional subsetting\n",
    "df_try[df_try['transaction_date'] > last_timestamp]"
   ]
  },
  {
   "cell_type": "markdown",
   "metadata": {},
   "source": [
    "Mari kita tambahkan tahapan filtering ke dalam iterasi pembacaan file kita, dan menggunakan fungsi `clean_df()` untuk membersihkan dataframe yang sebelumnya telah kita buat."
   ]
  },
  {
   "cell_type": "code",
   "execution_count": null,
   "metadata": {},
   "outputs": [],
   "source": [
    "df_list = []\n",
    "\n",
    "for file in files:\n",
    "    # mengambil transaksi terkini dari database\n",
    "    last_update = pd.read_sql_query(\"\"\"\n",
    "                  SELECT transaction_date \n",
    "                  FROM transactions\n",
    "                  ORDER BY transaction_date DESC\n",
    "                  LIMIT 1\n",
    "                  \"\"\", con = conn)\n",
    "    last_timestamp = last_update['transaction_date'].to_string(index=False)\n",
    "\n",
    "    # membaca dataframe\n",
    "    trx = pd.read_csv(file)\n",
    "    # membersihkan dataframe\n",
    "    trx_clean = clean_df(trx)\n",
    "\n",
    "    # filtering dataframe\n",
    "    trx_clean_update = trx_clean[trx_clean['transaction_date'] > last_timestamp]\n",
    "    \n",
    "    # jika dataframe terisi, maka masukkan ke dalam df_list\n",
    "    if trx_clean_update.shape[0] != 0:\n",
    "        df_list.append(trx_clean_update)"
   ]
  },
  {
   "cell_type": "code",
   "execution_count": null,
   "metadata": {},
   "outputs": [],
   "source": [
    "for df in df_list:\n",
    "    print(df.shape)\n",
    "    print(df['transaction_date'].dt.to_period('M').unique()[0])"
   ]
  },
  {
   "cell_type": "markdown",
   "metadata": {},
   "source": [
    "Terlihat bahwa setelah dilakukan filtering. `df_list` hanya menyimpan dataframe-dataframe yang belum dimasukkan ke dalam database. Dataframe-dataframe inilah yang nantinya akan dimasukkan ke dalam dataframe.\n",
    "\n",
    "Sebelum memasukkan ke dalam dataframe, mari kita membuat fungsi `fetch_clean` yang bertugas untuk membacara keseluruhan file `.csv` yang belum dimasukkan ke dalam database."
   ]
  },
  {
   "cell_type": "code",
   "execution_count": null,
   "metadata": {},
   "outputs": [],
   "source": [
    "def fetch_clean():\n",
    "    files = glob.glob(\"data_input_example/*.csv\")\n",
    "\n",
    "    for file in files:\n",
    "        # mengambil transaksi terkini dari database\n",
    "        last_update = pd.read_sql_query(\"\"\"\n",
    "                    SELECT transaction_date \n",
    "                    FROM transactions\n",
    "                    ORDER BY transaction_date DESC\n",
    "                    LIMIT 1\n",
    "                    \"\"\", con = conn)\n",
    "        last_timestamp = last_update['transaction_date'].to_string(index=False)\n",
    "\n",
    "        # membaca dataframe\n",
    "        trx = pd.read_csv(file)\n",
    "        # membersihkan dataframe\n",
    "        trx_clean = clean_df(trx)\n",
    "\n",
    "        # filtering dataframe\n",
    "        trx_clean_update = trx_clean[trx_clean['transaction_date'] > last_timestamp]\n",
    "        \n",
    "        # jika dataframe terisi, maka masukkan ke dalam df_list\n",
    "        if trx_clean_update.shape[0] != 0:\n",
    "            df_list.append(trx_clean_update)\n",
    "    \n",
    "    return df_list"
   ]
  },
  {
   "cell_type": "markdown",
   "metadata": {},
   "source": [
    "Selanjutnya, kita akan mengupdate fungsi `df_to_db` agar dapat menerima list yang berisi dataframe (bukan hanya 1 dataframe)."
   ]
  },
  {
   "cell_type": "code",
   "execution_count": null,
   "metadata": {},
   "outputs": [],
   "source": [
    "def df_to_db(df_list):\n",
    "    database = 'db/transactions.db'\n",
    "    conn = sqlite3.connect(database)\n",
    "\n",
    "    # iterasi dataframe\n",
    "    for df in df_list:\n",
    "        df.to_sql(name = 'transactions',\n",
    "                con = conn,\n",
    "                if_exists = 'append',\n",
    "                index = False)\n",
    "        \n",
    "        periode = df['transaction_date'].dt.to_period('M').unique()[0]\n",
    "        print(f'Berhasil Menambahkan: {periode}')"
   ]
  },
  {
   "cell_type": "markdown",
   "metadata": {},
   "source": [
    "## Memasukkan Keseluruhan Data ke Database"
   ]
  },
  {
   "cell_type": "markdown",
   "metadata": {},
   "source": [
    "Untuk memasukkan keseluruhan data ke database, kita akan melakukan tahapan berikut:\n",
    "- Memanggil fungsi `fetch_clean()` untuk membaca keseluruhan dataframe di dalam folder `data_input_example`. \n",
    "- Memanggil fungsi `df_to_db()` untuk memasukkan keseluruhan dataframe tersebut ke dalam SQLite."
   ]
  },
  {
   "cell_type": "code",
   "execution_count": null,
   "metadata": {},
   "outputs": [],
   "source": [
    "# code here\n",
    "dfs_read = __\n",
    "\n"
   ]
  },
  {
   "cell_type": "code",
   "execution_count": null,
   "metadata": {},
   "outputs": [],
   "source": [
    "# memasukkan ke database (df_to_db)"
   ]
  },
  {
   "cell_type": "markdown",
   "metadata": {},
   "source": [
    "# Pengolahan Data (Report Sederhana)"
   ]
  },
  {
   "cell_type": "markdown",
   "metadata": {},
   "source": [
    "## Cross Tabulation\n",
    "\n",
    "Kita dapat menggunakan fungsi `crosstab()` yang telah disediakan oleh `pandas` untuk menghitung frekuensi dan melakukan agregasi pada data. Syntax yang digunakan untuk menggunakan fungsi `crosstab()` adalah:\n",
    "\n",
    "```python\n",
    "pd.crosstab(index=x,\n",
    "            columns=y,\n",
    "            values=numerical_columns,\n",
    "            aggfunc=aggregate_function)\n",
    "```\n",
    "\n",
    "dimana:\n",
    "- index: Kolom yang akan dijadikan index baris (axis 0)\n",
    "- columns: Kolom yang akan dijadikan index kolom (axis 1)\n",
    "- values: Kolom yang ingin dihitung\n",
    "- aggfunc: Fungsi agregasi (default: count)\n",
    "\n",
    "Fungsi agregasi (`aggfunc`) yang sering digunakan:\n",
    "- `'sum'`\n",
    "- `'min'`\n",
    "- `'max'`\n",
    "- `'mean'`\n",
    "- `'median'`\n",
    "- `'count'`\n",
    "- `'std'`"
   ]
  },
  {
   "cell_type": "markdown",
   "metadata": {},
   "source": [
    "🔻 Mari kita tinjau banyaknya frekuensi transaksi pada setiap channel untuk 2017-01"
   ]
  },
  {
   "cell_type": "code",
   "execution_count": null,
   "metadata": {},
   "outputs": [],
   "source": [
    "# code here\n"
   ]
  },
  {
   "cell_type": "markdown",
   "metadata": {},
   "source": [
    "✏️ **Note**\n",
    "\n",
    "Mengurutkan nilai pada sebuah kolom dapat menggunakan method `sort_values()`\n",
    "\n",
    "Syntax: `df.sort_values(by, ascending)`:\n",
    "\n",
    "- `by`: nama kolom\n",
    "- `ascending=True`: mengurutkan nilai dari terkecil ke terbesar\n",
    "\n",
    "Mari kita urutkan dan simpan ke dalam objek `freq_trx`"
   ]
  },
  {
   "cell_type": "code",
   "execution_count": null,
   "metadata": {},
   "outputs": [],
   "source": [
    "# code here\n"
   ]
  },
  {
   "cell_type": "markdown",
   "metadata": {},
   "source": [
    "🔻 Mari kita tinjau jumlah nilai (amount) transaksi pada setiap channel untuk 2017-01 dan diurutkan dari terbesar ke terkecil dan simpan ke dalam objek `total_trx`"
   ]
  },
  {
   "cell_type": "code",
   "execution_count": null,
   "metadata": {},
   "outputs": [],
   "source": [
    "# code here\n"
   ]
  },
  {
   "cell_type": "markdown",
   "metadata": {},
   "source": [
    "## Save to Excel\n",
    "\n",
    "Untuk menyimpan ke dalam excel, kita dapat menggunakan method `.to_excel()`\n",
    "\n",
    "Syntax:\n",
    "`df.to_excel(excel_writer, sheet_name)`\n",
    "\n",
    "- `excel_writer`: Objek writer excel atau path\n",
    "- `sheet_nname`: Nama sheet\n",
    "\n",
    "Agar dapat menyimpan beberapa sheet di dalam 1 file excel yang sama, kita membutuhkan bantuan `pd.ExcelWeriter()`\n",
    "\n",
    "Syntax:\n",
    "```python\n",
    "with pd.ExcelWriter('nama_file.xlsx') as writer:\n",
    "    # save to excel\n",
    "    df1.to_excel(writer, sheet_name)\n",
    "    df2.to_excel(writer, sheet_name)\n",
    "    ...\n",
    "    dfn.to_excel(writer, sheet_name)\n",
    "```\n",
    "\n",
    "*Note: `.to_excel()` membutuhkan library `openpyxl`, silahkan install menggunakan `pip install openpyxl` (aktifkan environemnt terlebih dahulu)*"
   ]
  },
  {
   "cell_type": "markdown",
   "metadata": {},
   "source": [
    "Mari kita simpan ke dalam `report/2017-01.xlsx` dengan ketentuan berikut:\n",
    "- dataframe `freq_trx`, nama sheet = `Frequency`\n",
    "- dataframe `total_trx`, nama sheet = `Total Amount`"
   ]
  },
  {
   "cell_type": "code",
   "execution_count": null,
   "metadata": {},
   "outputs": [],
   "source": [
    "# code here\n"
   ]
  },
  {
   "cell_type": "markdown",
   "metadata": {},
   "source": [
    "## Fungsi Generate Report\n",
    "\n",
    "Untuk memudahkan generate report, mari kita masukkan ke dalam fungsi `report_generator(df_list)` yang menerima inputan list dataframe."
   ]
  },
  {
   "cell_type": "code",
   "execution_count": null,
   "metadata": {},
   "outputs": [],
   "source": [
    "def report_generator(df_list):\n",
    "    for df in df_list:\n",
    "        # Mengambil periode bulan, untuk nama file\n",
    "        periode = df['transaction_date'].dt.to_period('M').unique()[0]\n",
    "\n",
    "        # menghitung frequency\n",
    "        ___\n",
    "        \n",
    "        # menghitung total amount\n",
    "        ___\n",
    "        \n",
    "        # menyimpan ke dalam file excel\n",
    "        with pd.ExcelWriter(f'report/{periode}.xlsx') as writer:\n",
    "            ___.to_excel(writer, sheet_name = 'Frequency')\n",
    "            ___.to_excel(writer, sheet_name = 'Total Amount')\n",
    "            print(f\"Berhasil membuat report: report/{periode}.xlsx\")"
   ]
  },
  {
   "cell_type": "code",
   "execution_count": null,
   "metadata": {},
   "outputs": [],
   "source": [
    "# menggunakan report_generator untuk dfs_read\n"
   ]
  },
  {
   "cell_type": "markdown",
   "metadata": {},
   "source": [
    "# Next Step: Scheduling with Airflow\n",
    "\n",
    "Pada notebook ini, kita telah membuat fungsi-fungsi untuk membaca data raw, mengolahnya, memasukkan ke dalam database dan membuat report. Selanjutnya adalah untuk melakukan `scheduling` task ini secara otomatis menggunakan Airflow. \n",
    "\n",
    "Kita akan membuat python script (.py) yang akan membantu kita untuk melakukan `scheduling` menggunakan airflow. Materi membuat scheduling ini akan kita pelajari di notebook kedua, yaitu: `2_DSS_Airflow.ipynb`"
   ]
  },
  {
   "cell_type": "markdown",
   "metadata": {},
   "source": [
    "![](assets/MainFlow.png)"
   ]
  }
 ],
 "metadata": {
  "kernelspec": {
   "display_name": "yoda_da",
   "language": "python",
   "name": "python3"
  },
  "language_info": {
   "codemirror_mode": {
    "name": "ipython",
    "version": 3
   },
   "file_extension": ".py",
   "mimetype": "text/x-python",
   "name": "python",
   "nbconvert_exporter": "python",
   "pygments_lexer": "ipython3",
   "version": "3.10.14"
  }
 },
 "nbformat": 4,
 "nbformat_minor": 2
}
