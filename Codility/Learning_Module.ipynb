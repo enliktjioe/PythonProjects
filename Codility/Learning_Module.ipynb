{
 "cells": [
  {
   "cell_type": "markdown",
   "metadata": {},
   "source": [
    "# Binary Gap\n",
    "\n",
    "https://app.codility.com/c/run/trainingF4Q4WN-PDW/\n",
    "\n",
    "Solution: https://stackoverflow.com/a/49611289/2670476"
   ]
  },
  {
   "cell_type": "code",
   "execution_count": 1,
   "metadata": {},
   "outputs": [],
   "source": [
    "N = [9,529,20,15,32,1041,32]"
   ]
  },
  {
   "cell_type": "code",
   "execution_count": 16,
   "metadata": {},
   "outputs": [
    {
     "data": {
      "text/plain": [
       "'ada'"
      ]
     },
     "execution_count": 16,
     "metadata": {},
     "output_type": "execute_result"
    }
   ],
   "source": [
    "max(['','a','aasadafafadas','ada'])"
   ]
  },
  {
   "cell_type": "code",
   "execution_count": 9,
   "metadata": {},
   "outputs": [
    {
     "data": {
      "text/plain": [
       "['', '00000', '000', '']"
      ]
     },
     "execution_count": 9,
     "metadata": {},
     "output_type": "execute_result"
    }
   ],
   "source": [
    "format(1041, 'b').strip('0').split('1')"
   ]
  },
  {
   "cell_type": "code",
   "execution_count": 2,
   "metadata": {},
   "outputs": [],
   "source": [
    "# binary_format = format(529, 'b')\n",
    "# # binary_format.strip('0').split('1')\n",
    "# len(max(binary_format.strip('0').split('1')))\n",
    "# # max(binary_format.strip('0').split('1'))"
   ]
  },
  {
   "cell_type": "code",
   "execution_count": 3,
   "metadata": {},
   "outputs": [],
   "source": [
    "# you can write to stdout for debugging purposes, e.g.\n",
    "# print(\"this is a debug message\")\n",
    "\n",
    "def solution(N):\n",
    "    # write your code in Python 3.6\n",
    "    # pass\n",
    "    binary_format = format(N, 'b')\n",
    "#     max_binary = max(binary_format.strip('0').split('1'))\n",
    "    result = len(max(binary_format.strip('0').split('1')))\n",
    "    return result, binary_format"
   ]
  },
  {
   "cell_type": "code",
   "execution_count": 4,
   "metadata": {},
   "outputs": [
    {
     "name": "stdout",
     "output_type": "stream",
     "text": [
      "9 1001 = 2\n",
      "529 1000010001 = 4\n",
      "20 10100 = 1\n",
      "15 1111 = 0\n",
      "32 100000 = 0\n",
      "1041 10000010001 = 5\n",
      "32 100000 = 0\n"
     ]
    }
   ],
   "source": [
    "for i in N:\n",
    "    result, binary_format = solution(i)\n",
    "    print(str(i) + \" \" + str(binary_format) + \" = \" + str(result))"
   ]
  },
  {
   "cell_type": "code",
   "execution_count": null,
   "metadata": {},
   "outputs": [],
   "source": []
  }
 ],
 "metadata": {
  "kernelspec": {
   "display_name": "Python 3",
   "language": "python",
   "name": "python3"
  },
  "language_info": {
   "codemirror_mode": {
    "name": "ipython",
    "version": 3
   },
   "file_extension": ".py",
   "mimetype": "text/x-python",
   "name": "python",
   "nbconvert_exporter": "python",
   "pygments_lexer": "ipython3",
   "version": "3.6.7"
  },
  "toc": {
   "base_numbering": 1,
   "nav_menu": {},
   "number_sections": true,
   "sideBar": true,
   "skip_h1_title": false,
   "title_cell": "Table of Contents",
   "title_sidebar": "Contents",
   "toc_cell": false,
   "toc_position": {},
   "toc_section_display": true,
   "toc_window_display": false
  }
 },
 "nbformat": 4,
 "nbformat_minor": 2
}
