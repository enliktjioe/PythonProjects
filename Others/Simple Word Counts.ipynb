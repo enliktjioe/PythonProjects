{
 "cells": [
  {
   "cell_type": "markdown",
   "metadata": {},
   "source": [
    "Reference: [link](http://www.analytics.business/word-counter-jupyter-notebooks/)"
   ]
  },
  {
   "cell_type": "code",
   "execution_count": 2,
   "metadata": {},
   "outputs": [
    {
     "name": "stdout",
     "output_type": "stream",
     "text": [
      "The Top 10 Words in ascending order are:\n",
      "      Volume\n",
      "and   1181.0\n",
      "to     955.0\n",
      "-      786.0\n",
      "for    717.0\n",
      "on     572.0\n",
      "of     557.0\n",
      "with   543.0\n",
      "in     525.0\n",
      "a      454.0\n",
      "data   336.0\n",
      "*********************\n"
     ]
    }
   ],
   "source": [
    "%%time\n",
    "## Find the top 10 most common words\n",
    "import pandas as pd\n",
    "import collections\n",
    "import csv\n",
    "import string\n",
    "from collections import Counter\n",
    "#open the file\n",
    "with open('test_14122020.txt', 'r') as filein:\n",
    "    data=filein.read().replace('the','')\n",
    "#use the translate to remove non letters\n",
    "    cleanedtext = data.translate(string.punctuation)\n",
    "# set to lower case letters\n",
    "worddf = cleanedtext.lower()\n",
    "#split the words\n",
    "words = worddf.split()\n",
    "#print (words)\n",
    "wordsdf = pd.DataFrame(words, columns = ['word'])\n",
    "#count the cleaned words\n",
    "allwordstocount = Counter(words)\n",
    "#check the words\n",
    "#print (allwordstocount)\n",
    "allwordstocountdf = wordsdf.word.apply(lambda x: pd.value_counts(x.split(\" \"))).sum(axis = 0)\n",
    "#put words and volume into a new dataframe\n",
    "wordsvolumedf = pd.DataFrame(allwordstocountdf, columns = ['Volume'])\n",
    "#print wordsvolumedf.dtypes\n",
    "#print the results\n",
    "top10words=allwordstocount.most_common(10) # find ten most common words and their counts\n",
    "print ('The Top 10 Words in ascending order are:')\n",
    "print (wordsvolumedf .nlargest(10, 'Volume'))\n",
    "print ('*********************')\n",
    "\n"
   ]
  },
  {
   "cell_type": "code",
   "execution_count": 13,
   "metadata": {},
   "outputs": [],
   "source": [
    "wordsvolumedf.nlargest(1000, 'Volume').to_csv('wordsvolumedf.csv')"
   ]
  }
 ],
 "metadata": {
  "kernelspec": {
   "display_name": "Python 3",
   "language": "python",
   "name": "python3"
  },
  "language_info": {
   "codemirror_mode": {
    "name": "ipython",
    "version": 3
   },
   "file_extension": ".py",
   "mimetype": "text/x-python",
   "name": "python",
   "nbconvert_exporter": "python",
   "pygments_lexer": "ipython3",
   "version": "3.6.7"
  }
 },
 "nbformat": 4,
 "nbformat_minor": 2
}
