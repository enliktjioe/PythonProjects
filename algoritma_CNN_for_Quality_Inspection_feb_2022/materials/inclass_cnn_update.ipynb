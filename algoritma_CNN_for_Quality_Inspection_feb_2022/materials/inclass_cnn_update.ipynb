{
 "cells": [
  {
   "cell_type": "markdown",
   "metadata": {},
   "source": [
    "**Inclass: Convolutional Neural Network**\n",
    "- Course Length: 3 hours\n",
    "\n",
    "<img src=\"assets/logo.png\" width=\"150\">\n",
    "<br>\n",
    "\n",
    "___"
   ]
  },
  {
   "cell_type": "markdown",
   "metadata": {},
   "source": [
    "## Training Objective\n",
    "\n",
    "The objective of this course is to provide participants with a comprehensive introduction to understanding deep learning model building for image data using Python. We will learn techniques on how to process image data to obtain a deep learning model. Syllabus includes:\n",
    "\n",
    "- **Convolutional Neural Networks:**\n",
    "    + Convolution concept: kernel convolutinals, strides, padding, and filter\n",
    "    + Convolutional Neural Network Architecture\n"
   ]
  },
  {
   "cell_type": "markdown",
   "metadata": {},
   "source": [
    "___"
   ]
  },
  {
   "cell_type": "markdown",
   "metadata": {},
   "source": [
    "# Libraries"
   ]
  },
  {
   "cell_type": "code",
   "execution_count": 1,
   "metadata": {},
   "outputs": [],
   "source": [
    "# saving model log\n",
    "import datetime\n",
    "import json\n",
    "\n",
    "# data visualization\n",
    "import matplotlib.pyplot as plt\n",
    "import seaborn as sns\n",
    "\n",
    "# modeling\n",
    "import numpy as np\n",
    "import pandas as pd \n",
    "import tensorflow as tf\n",
    "import tensorflow.keras as keras\n",
    "from keras.utils.np_utils import to_categorical\n",
    "\n",
    "# set data type of tensors to float\n",
    "tf.keras.backend.set_floatx('float64')\n",
    "\n",
    "# set seed\n",
    "import random\n",
    "random.seed(123)\n",
    "np.random.seed(123)\n",
    "tf.random.set_seed(123)"
   ]
  },
  {
   "cell_type": "markdown",
   "metadata": {},
   "source": [
    "# Convolutional Neural Network\n",
    "\n",
    "Convolutional Neural Network saat ini merupakan arsitektur standar untuk menangani **data gambar**."
   ]
  },
  {
   "cell_type": "markdown",
   "metadata": {},
   "source": [
    "## Convolution Concepts\n",
    "\n",
    "Pada modul sebelumnya, kita telah belajar untuk mengklasifikasikan citra tangan-digit ke dalam kelas-kelasnya. Tapi ada masalah:\n",
    "\n",
    "* Menggunakan dense layer, jumlah parameter yang akan dilatih sangat banyak.\n",
    "* Terlalu banyak piksel yang tidak relevan digunakan sebagai input\n",
    "\n",
    "Bagaimana jika kita dapat mengekstrak nilai yang relevan saja dan menghapus semua piksel yang tidak relevan? Dengan begitu jaringan kita akan memiliki fitur yang jauh lebih ringan namun dengan informasi yang relatif sama (atau bahkan lebih baik). Ini adalah saat konvolusi mengambil bagian. Silakan lihat arsitektur jaringan saraf convolutional di bawah ini:\n",
    "\n",
    "![](https://drive.google.com/uc?export=view&id=1B753UW04KdjePCDbTdGr3JeVu01Cmbs4)\n",
    "\n",
    "Berdasarkan ilustrasi, ada empat lapisan yang berbeda:\n",
    "\n",
    "1. **Convolutional layer** untuk mengekstrak fitur penting dari data sebelum dimasukkan ke dalam dense layer. Data yang berbelit-belit mungkin berukuran **lebih kecil** tetapi **lebih kaya** informasi, sehingga menghasilkan pekerjaan yang lebih efektif untuk dense layer.\n",
    "\n",
    "2. **Pooling layer** mengurangi ukuran gambar, hanya mempertahankan piksel yang relevan\n",
    "\n",
    "3. **Flattening layer** mengonversi data gambar dua dimensi menjadi satu dimensi\n",
    "\n",
    "4. **Fully-connected (dense) layer**, jaringan saraf dasar untuk klasifikasi"
   ]
  },
  {
   "cell_type": "markdown",
   "metadata": {},
   "source": [
    "___"
   ]
  },
  {
   "cell_type": "markdown",
   "metadata": {},
   "source": [
    "### 1. Convolutional Layer\n",
    "\n",
    "- Sebuah konvolusi akan **mengekstraksi informasi yang penting** dari data menggunakan **filter**. Filter ini berfungsi seperti filter apa pun di dunia nyata, ia memiliki penggunaan khusus dan memiliki kepekaan terhadap cara yang sangat spesifik. \n",
    "\n",
    "- Misalnya, pikirkan filter UV untuk lensa kamera. Ini akan memblokir sinar UV untuk mengurangi warna biru yang berlebihan dari langit. Semakin banyak sinar UV di lapangan, semakin aktif filter ini untuk memberi tahu Anda bahwa ada lampu UV.\n",
    "![](assets/convolution.gif)\n",
    "\n",
    "- Secara matematis, proses feedforward dari jaringan saraf convolutional disebut **\"cross correlation\"**. Istilah konvolusi berasal dari fungsi turunannya ketika jaringan melakukan backpropagation. Di bawah ini adalah ilustrasi dan rumus matematika tentang bagaimana jaringan melakukan feedforward\n",
    "$$ F \\circ I (x,y) = \\sum_{j=-N}^{N} \\sum_{i=-N}^{N} F(i,j) \\times I(x+i, y+j)$$\n",
    "\n",
    "![convolutional](assets/conv-hackernoon.gif)\n",
    "\n",
    "> Penjelasan tentang Image Filtering bisa dilihat di [Google Slides](https://docs.google.com/presentation/d/1iLfLsOKIcINLQKDTOHzyebo0gb2LP1Synr5p2f60lSQ/edit#slide=id.g115c109ac13_0_47)"
   ]
  },
  {
   "cell_type": "markdown",
   "metadata": {},
   "source": [
    "Contoh penggunaan layer convolution menggunakan `keras`:"
   ]
  },
  {
   "cell_type": "code",
   "execution_count": 9,
   "metadata": {},
   "outputs": [],
   "source": [
    "# Create a single layer of convolution\n",
    "\n",
    "my_conv_layer = keras.layers.Conv2D(\n",
    "    input_shape=(28,28,1), # (height, width, channel) of MNIST digit dataset  , grayscale = 1\n",
    "    filters=5, # jumlah filter/kernel yang digunakan\n",
    "    kernel_size=3, # ukuran dari filter\n",
    "    strides=1, # steps of convolution\n",
    "    padding='same', # DENGAN padding, jadi ukuran output SAMA dengan ukuran input\n",
    "    activation='relu', # activation function\n",
    ")"
   ]
  },
  {
   "cell_type": "markdown",
   "metadata": {},
   "source": [
    "Parameters ([Documentation of `Conv2D`](https://keras.io/api/layers/convolution_layers/convolution2d/)):\n",
    "\n",
    "- `input_shape`: \n",
    "    + ukuran gambar input dalam format `(height, width, channel)`\n",
    "- `filters`: \n",
    "    + berapa jumlah filter yang akan digunakan untuk menggulung (*convolve*) gambar\n",
    "    + Semakin banyak filter, semakin besar kemungkinan untuk mempelajari fitur yang lebih spesifik\n",
    "    + Jumlah ini setara dengan jumlah neuron dalam lapisan padat (`unit`)\n",
    "- `kernel_size`: \n",
    "    + ukuran untuk setiap filter\n",
    "    + Ukuran yang lebih besar akan menangkap lebih banyak informasi dan kemungkinan besar menggeneralisasi lebih baik daripada yang lebih kecil. \n",
    "    + Tetapi penelitian menunjukkan bahwa **ukuran kernel 3 dan 5** sangat kuat dalam hal kompleksitas algoritme. Tidak ada standar yang ketat dalam menentukan ukuran kernel.\n",
    "    + Praktik terbaik adalah **menggunakan nilai ganjil kecil**. \n",
    "- `strides`: \n",
    "    + Besar langkah dalam memindahkan filter selama proses konvolusi\n",
    "    + Langkah yang besar akan membuat langkah lebih besar dan membuat filter berpotensi melewatkan beberapa piksel yang berarti.\n",
    "- `padding`:\n",
    "    + ditambahkan jika kita ingin ukuran output sama dengan input dengan melakukan beberapa padding sesuai dengan ukuran filter.\n",
    "        - `'valid'`: tanpa padding atau ukuran output tidak sama dengan input\n",
    "        - `'same'`: menggunakan zero-padding pada batas gambar\n",
    "- `activation`: fungsi aktivasi yang akan digunakan setelah input digabungkan\n",
    "    \n",
    "Di bawah ini adalah ilustrasi untuk `padding='same'` pada input 6x6:\n",
    "\n",
    "![](assets/zero-padding.png)"
   ]
  },
  {
   "cell_type": "markdown",
   "metadata": {},
   "source": [
    "Untuk melihat cara kerja convolutional layer, mari load dataset digit MNIST (dari file numpy zip `.npz`)"
   ]
  },
  {
   "cell_type": "code",
   "execution_count": 3,
   "metadata": {},
   "outputs": [
    {
     "name": "stdout",
     "output_type": "stream",
     "text": [
      "Data Type \t:  <class 'numpy.ndarray'> <class 'numpy.ndarray'>\n",
      "Train size \t:  (60000, 28, 28) (60000,)\n",
      "Test size \t:  (10000, 28, 28) (10000,)\n"
     ]
    }
   ],
   "source": [
    "# Load the data\n",
    "with np.load('data_input/mnist.npz') as data:\n",
    "    x_train = data['x_train']\n",
    "    y_train = data['y_train']\n",
    "    x_test = data['x_test']\n",
    "    y_test = data['y_test']\n",
    "    \n",
    "# Check type and shape\n",
    "print('Data Type \\t: ', type(x_train), type(y_train))\n",
    "print('Train size \\t: ', x_train.shape, y_train.shape)\n",
    "print('Test size \\t: ', x_test.shape, y_test.shape)"
   ]
  },
  {
   "cell_type": "markdown",
   "metadata": {},
   "source": [
    "Visualisasikan gambar pertama dari data `x_train`:"
   ]
  },
  {
   "cell_type": "code",
   "execution_count": 4,
   "metadata": {},
   "outputs": [
    {
     "name": "stdout",
     "output_type": "stream",
     "text": [
      "Label: 5\n"
     ]
    },
    {
     "data": {
      "image/png": "[encoded data removed]",
      "text/plain": [
       "<Figure size 432x288 with 2 Axes>"
      ]
     },
     "metadata": {
      "needs_background": "light"
     },
     "output_type": "display_data"
    }
   ],
   "source": [
    "# visualize first image\n",
    "sns.heatmap(x_train[0], cmap='gray')\n",
    "print('Label:', y_train[0])"
   ]
  },
  {
   "cell_type": "markdown",
   "metadata": {},
   "source": [
    "\n",
    "Mari kita ambil gambar pertama, bentuk ulang, dan ubah menjadi float.\n",
    "\n",
    "💡 Pastikan bentuk input dalam konvensi berikut:\n",
    "\n",
    "`(NUM_IMAGES, HEIGHT, WIDTH, CHANNEL_NUM)`"
   ]
  },
  {
   "cell_type": "code",
   "execution_count": 12,
   "metadata": {},
   "outputs": [
    {
     "data": {
      "text/plain": [
       "(28, 28)"
      ]
     },
     "execution_count": 12,
     "metadata": {},
     "output_type": "execute_result"
    }
   ],
   "source": [
    "x_train[0].shape"
   ]
  },
  {
   "cell_type": "code",
   "execution_count": 14,
   "metadata": {},
   "outputs": [
    {
     "data": {
      "text/plain": [
       "(1, 28, 28, 1)"
      ]
     },
     "execution_count": 14,
     "metadata": {},
     "output_type": "execute_result"
    }
   ],
   "source": [
    "# reshape\n",
    "input_image = x_train[0].reshape(1, 28, 28, 1).astype('float')\n",
    "input_image.shape"
   ]
  },
  {
   "cell_type": "code",
   "execution_count": 10,
   "metadata": {},
   "outputs": [
    {
     "data": {
      "text/plain": [
       "TensorShape([1, 28, 28, 5])"
      ]
     },
     "execution_count": 10,
     "metadata": {},
     "output_type": "execute_result"
    }
   ],
   "source": [
    "# feedforward sample_image through my_conv_layer\n",
    "output_conv = my_conv_layer(input_image)\n",
    "output_conv.shape"
   ]
  },
  {
   "cell_type": "markdown",
   "metadata": {},
   "source": [
    "#### 🔎 Knowledge Check: Convolution Output\n",
    "\n",
    "❓ Coba tebak dimensi `output_conv` setelah diconvolving menggunakan `my_conv_layer`?\n",
    "\n",
    "> Answer: `TensorShape([1, 28, 28, 5])`"
   ]
  },
  {
   "cell_type": "markdown",
   "metadata": {},
   "source": [
    "Berikut adalah ilustrasi tentang bagaimana **filter pertama (dari lima)** akan terlihat setelah gambar di-feedforward:"
   ]
  },
  {
   "cell_type": "code",
   "execution_count": 11,
   "metadata": {},
   "outputs": [
    {
     "data": {
      "text/plain": [
       "<AxesSubplot:>"
      ]
     },
     "execution_count": 11,
     "metadata": {},
     "output_type": "execute_result"
    },
    {
     "data": {
      "image/png": "[encoded data removed]",
      "text/plain": [
       "<Figure size 432x288 with 2 Axes>"
      ]
     },
     "metadata": {
      "needs_background": "light"
     },
     "output_type": "display_data"
    }
   ],
   "source": [
    "# take the first filter and visualize\n",
    "first_filter = my_conv_layer.weights[0][:, :, 0, 0] # weights[0] refers to filter, weights[1] refers to bias\n",
    "sns.heatmap(first_filter, annot=True, cmap='gray')"
   ]
  },
  {
   "cell_type": "code",
   "execution_count": 13,
   "metadata": {},
   "outputs": [
    {
     "data": {
      "text/plain": [
       "<AxesSubplot:>"
      ]
     },
     "execution_count": 13,
     "metadata": {},
     "output_type": "execute_result"
    },
    {
     "data": {
      "image/png": "[encoded data removed]",
      "text/plain": [
       "<Figure size 432x288 with 2 Axes>"
      ]
     },
     "metadata": {
      "needs_background": "light"
     },
     "output_type": "display_data"
    }
   ],
   "source": [
    "first_filter_output = output_conv[0, :, :, 0]\n",
    "sns.heatmap(first_filter_output, cmap='gray')"
   ]
  },
  {
   "cell_type": "markdown",
   "metadata": {},
   "source": [
    "Dari gambar yang dihasilkan, kita sebenarnya dapat melihat objek representasi tentang apa yang sebenarnya dipelajari oleh filter.\n",
    "\n",
    "> Visualisasi interaktif CNN pada pengklasifikasi digit MNIST: https://www.cs.ryerson.ca/~aharley/vis/conv/flat.html"
   ]
  },
  {
   "cell_type": "markdown",
   "metadata": {},
   "source": [
    "### 2. Pooling Layer\n",
    "\n",
    "Ide dari pooling adalah untuk **meringkas dan menyederhanakan** fitur yang convolved dengan melakukan agregasi pada fitur yang convolved. Ingat bahwa kami ingin dense layer diberi dengan fitur kecil namun bermakna. \n",
    "\n",
    "Di bawah ini adalah contoh dari Max Pooling di mana fitur berbelit-belit diringkas menjadi data 2x2.\n",
    "\n",
    "![](assets/maxpool_animation.gif)"
   ]
  },
  {
   "cell_type": "code",
   "execution_count": 20,
   "metadata": {},
   "outputs": [],
   "source": [
    "# Create a single layer of pooling\n",
    "\n",
    "my_pool_layer = keras.layers.MaxPooling2D(\n",
    "    pool_size=2, # size of pooling\n",
    "    strides=3, # steps of pooling\n",
    "    padding='valid' # WITHOUT padding\n",
    ")"
   ]
  },
  {
   "cell_type": "markdown",
   "metadata": {},
   "source": [
    "Parameters ([Documentation of `MaxPooling2D`](https://keras.io/api/layers/pooling_layers/max_pooling2d/):\n",
    "\n",
    "- `pool_size` ekuivalen dengan `kernel_size` pada `Conv2D` yang akan menentukan seberapa besar kolam Anda\n",
    "- `strides` dan `padding` sama seperti pada `Conv2D`\n",
    "\n",
    "> Selain MaxPooling, ada beberapa fungsi bawaan untuk membantu Anda mengurangi fitur tersebut. Mengunjungi [Documentation on Pooling Layers](https://keras.io/api/layers/pooling_layers/)"
   ]
  },
  {
   "cell_type": "markdown",
   "metadata": {},
   "source": [
    "#### 🔎 Knowledge Check: Pooling Output\n",
    "\n",
    "Untuk melihat cara kerja pooling layer, kita dapat memasukkan input acak ke dalamnya."
   ]
  },
  {
   "cell_type": "markdown",
   "metadata": {},
   "source": [
    "`1, 28, 28, 5`: ada 1 gambar, ukuran 28 x 28, sebanyak 5 channel (filter)"
   ]
  },
  {
   "cell_type": "code",
   "execution_count": 21,
   "metadata": {},
   "outputs": [
    {
     "name": "stdout",
     "output_type": "stream",
     "text": [
      "INPUT POOLING SHAPE: (1, 28, 28, 5)\n",
      "OUTPUT POOLING SHAPE: (1, 9, 9, 5)\n"
     ]
    }
   ],
   "source": [
    "# input for pooling layer (generate random values)\n",
    "input_pooling = tf.random.normal((1, 28, 28, 5)) # try to change the shape here\n",
    "print(\"INPUT POOLING SHAPE:\", input_pooling.shape)\n",
    "\n",
    "# output for pooling layer\n",
    "output_pooling = my_pool_layer(input_pooling)\n",
    "print(\"OUTPUT POOLING SHAPE:\", output_pooling.shape)"
   ]
  },
  {
   "cell_type": "markdown",
   "metadata": {},
   "source": [
    "❓Cobalah bereksperimen pada nilai-nilai berikut dengan membuat beberapa perubahan padanya.\n",
    "\n",
    "1. Jika kita mengubah bentuk variabel `input_pooling`, maka hanya mengubah dimensi ke-2 dan ke-3 saja (tinggi dan lebar gambar)\n",
    "\n",
    "2. Jika parameter `pool_size` diperbesar, maka dimensi gambar semakin kecil\n",
    "\n",
    "3. Jika parameter `strides` dinaikkan, maka dimensi gambar semakin kecil"
   ]
  },
  {
   "cell_type": "markdown",
   "metadata": {},
   "source": [
    "___"
   ]
  },
  {
   "cell_type": "markdown",
   "metadata": {},
   "source": [
    "## Implement CNN in Keras\n",
    "\n",
    "### Load Image Data\n",
    "\n",
    "Pada bagian ini kami akan mengimplementasikan CNN pada kasus klasifikasi digit MNIST. Tapi pertama-tama, siapkan data Anda dengan membaca kembali dataset MNIST."
   ]
  },
  {
   "cell_type": "code",
   "execution_count": 11,
   "metadata": {},
   "outputs": [
    {
     "name": "stdout",
     "output_type": "stream",
     "text": [
      "Data Type \t:  <class 'numpy.ndarray'> <class 'numpy.ndarray'>\n",
      "Train size \t:  (60000, 28, 28) (60000,)\n",
      "Test size \t:  (10000, 28, 28) (10000,)\n"
     ]
    }
   ],
   "source": [
    "# Load the data\n",
    "with np.load('data_input/mnist.npz') as data:\n",
    "    x_train = data['x_train']\n",
    "    y_train = data['y_train']\n",
    "    x_test = data['x_test']\n",
    "    y_test = data['y_test']\n",
    "    \n",
    "# Check type and shape\n",
    "print('Data Type \\t: ', type(x_train), type(y_train))\n",
    "print('Train size \\t: ', x_train.shape, y_train.shape)\n",
    "print('Test size \\t: ', x_test.shape, y_test.shape)"
   ]
  },
  {
   "cell_type": "markdown",
   "metadata": {},
   "source": [
    "### Data Preparation\n",
    "\n",
    "1. **Reshaping**: Secara default, model CNN menerima data input dalam `NUM_IMAGES, HEIGHT, WIDTH, CHANNEL`\n",
    "2. **Scaling / Rescaling**: Mengubah setiap nilai piksel dari rentang [0,255] ke [0,1]. Ini membuat konvergensi lebih cepat saat proses training.\n",
    "3. `to_categorical` (opsional, tidak wajib): Untuk melakukan one hot encoding pada label target"
   ]
  },
  {
   "cell_type": "code",
   "execution_count": 12,
   "metadata": {},
   "outputs": [],
   "source": [
    "# Reshaping\n",
    "x_train = x_train.reshape(-1, 28, 28, 1) # (60000, 28, 28, 1)\n",
    "x_test = x_test.reshape(-1, 28, 28, 1) # (10000, 28, 28, 1)\n",
    "\n",
    "# Rescaling\n",
    "x_train_new = x_train / 255.0\n",
    "x_test_new = x_test / 255.0\n",
    "\n",
    "# One-hot encode integer (for target)\n",
    "y_train_new = to_categorical(y_train)\n",
    "y_test_new = to_categorical(y_test)"
   ]
  },
  {
   "cell_type": "code",
   "execution_count": 13,
   "metadata": {},
   "outputs": [
    {
     "data": {
      "text/plain": [
       "array([[0., 1., 0., 0., 0., 0.],\n",
       "       [0., 0., 1., 0., 0., 0.],\n",
       "       [0., 0., 1., 0., 0., 0.],\n",
       "       [0., 0., 0., 1., 0., 0.],\n",
       "       [0., 0., 0., 0., 0., 1.]], dtype=float32)"
      ]
     },
     "execution_count": 13,
     "metadata": {},
     "output_type": "execute_result"
    }
   ],
   "source": [
    "# illustration of to_categorical\n",
    "to_categorical([1, 2, 2, 3, 5])"
   ]
  },
  {
   "cell_type": "markdown",
   "metadata": {},
   "source": [
    "### 🏄‍ Dive Deeper: Create CNN Model\n",
    "\n",
    "![](assets/dive-deeper-cnn.jpeg)\n",
    "\n",
    "Di bawah ini kami menyediakan potongan kode arsitektur dan mengkompilasi model CNN. Lengkapi kode untuk membuat network seperti yang terlihat dari visualisasi di atas.\n",
    "\n",
    "Jangan ragu untuk mendiskusikan dan menentukan n1, n2, n3. Panduan untuk kompilasi model:\n",
    "\n",
    "- `optimizer`: Gunakan pengoptimal apa pun yang ingin Anda gunakan. Ingat, Anda juga dapat bereksperimen dengan kecepatan belajar.\n",
    "- `loss`: Pilih fungsi kerugian yang sesuai. Ingat, ini adalah klasifikasi multikelas dengan target **one-hot encoded**.\n",
    "- `metrics`: Pilih metrik evaluasi yang sesuai."
   ]
  },
  {
   "cell_type": "code",
   "execution_count": 14,
   "metadata": {},
   "outputs": [],
   "source": [
    "# DEFINE ARCHITECTURE\n",
    "model_cnn = keras.models.Sequential([\n",
    "    # input layer\n",
    "    keras.layers.InputLayer(input_shape=(___, ___, ___)),\n",
    "\n",
    "    # first convolutional layer\n",
    "    keras.layers.Conv2D(filters=___, kernel_size=___, strides=___, padding='___', activation='___'),\n",
    "\n",
    "    # first pooling layer\n",
    "    keras.layers.MaxPooling2D(pool_size=___, strides=___, padding='___'),\n",
    "\n",
    "    # second convolutional layer\n",
    "    keras.layers.Conv2D(filters=___, kernel_size=___, strides=___, padding='___', activation='___'),\n",
    "\n",
    "    # second pooling layer\n",
    "    keras.layers.MaxPooling2D(pool_size=___, strides=___, padding='___'),\n",
    "\n",
    "    # flattening layer\n",
    "    ______,\n",
    "\n",
    "    # fully-connected layer\n",
    "    keras.layers.Dense(units=___, activation='___'),\n",
    "    keras.layers.Dropout(rate=0.2),\n",
    "    keras.layers.Dense(units=___, activation='___')\n",
    "    ])\n",
    "    \n",
    "# COMPILE MODEL\n",
    "model_cnn.compile(optimizer='___', loss='___', metrics=['___'])"
   ]
  },
  {
   "cell_type": "code",
   "execution_count": null,
   "metadata": {},
   "outputs": [],
   "source": [
    "# Fit your model (for now it's okay to use epochs=1 because the model fitting time will be quite long)\n",
    "model_cnn.fit(___)"
   ]
  },
  {
   "cell_type": "markdown",
   "metadata": {},
   "source": [
    "> Additional: If you are curious how the number of parameters (Param #) is calculated, [read this article](https://towardsdatascience.com/how-to-calculate-the-number-of-parameters-in-keras-models-710683dae0ca)"
   ]
  },
  {
   "cell_type": "code",
   "execution_count": 17,
   "metadata": {},
   "outputs": [
    {
     "name": "stdout",
     "output_type": "stream",
     "text": [
      "313/313 [==============================] - 4s 11ms/step - loss: 0.0632 - accuracy: 0.9800\n"
     ]
    },
    {
     "data": {
      "text/plain": [
       "[0.06322033366439864, 0.98]"
      ]
     },
     "execution_count": 17,
     "metadata": {},
     "output_type": "execute_result"
    }
   ],
   "source": [
    "# evaluate your model on test data\n",
    "model_cnn.evaluate(___, ___)"
   ]
  },
  {
   "cell_type": "markdown",
   "metadata": {},
   "source": [
    "## (Additional) Data Augmentation\n",
    "\n",
    "Convolutional neural network bekerja dengan baik pada data gambar. Namun, performanya tetap mengandalkan **kualitas data**. Dalam beberapa kasus, kami **tidak memiliki cukup data** untuk memulai. Memaksa model untuk berlatih pada dataset kecil akan sangat meningkatkan kemungkinan overfit.\n",
    "\n",
    "Untuk mengurangi dampak overfitting, sebelumnya kita belajar mengontrol fungsi regularization dan dropout yang hanya terfokus pada model. Di bagian ini kita akan mengubah perspektif kita terhadap dataset itu sendiri dan melakukan beberapa augmentasi untuk menambah variasi data dan **mengurangi overfitting**. Data gambar bekerja dengan baik dengan augmentasi karena tidak akan banyak mengubah informasi.\n",
    "\n",
    "Ada berbagai cara untuk menambah gambar, tetapi di bawah ini adalah yang paling umum:\n",
    "\n",
    "![](assets/cat-augmentation.png)\n",
    "\n",
    "Semua metode augmentasi tersebut tersedia di bawah Kelas `keras.preprocessing.image.ImageDataGenerator`. Tidak hanya itu, ImageDataGenerator juga menyediakan beberapa fungsi untuk **preprocess** data kita seperti rescaling atau bahkan fungsi kustom preprocessing. Jalankan kode di bawah ini untuk membuat objek generator.\n",
    "\n",
    "> Documentation: https://www.tensorflow.org/api_docs/python/tf/keras/preprocessing/image/ImageDataGenerator"
   ]
  },
  {
   "cell_type": "code",
   "execution_count": 18,
   "metadata": {},
   "outputs": [],
   "source": [
    "train_generator = keras.preprocessing.image.ImageDataGenerator(\n",
    "    rescale=1./255,\n",
    "    rotation_range=5, # Degree range for random rotations (Integer)\n",
    "    width_shift_range=0.05, # Randomly shift images horizontally (fraction of total width)\n",
    "    height_shift_range=0.05, # Randomly shift images vertically (fraction of total height)\n",
    "    zoom_range=0.05, # Randomly zoom in or zoom out image\n",
    "    horizontal_flip=False, # If True, randomly flip images horizontally\n",
    "    vertical_flip=False, # If True, randomly flip images vertically\n",
    "    validation_split=0.2) # Fraction of data as validation data\n",
    "\n",
    "test_generator = keras.preprocessing.image.ImageDataGenerator(rescale=1./255)"
   ]
  },
  {
   "cell_type": "markdown",
   "metadata": {},
   "source": [
    "> 💡 Catatan penting mengenai augmentasi data:\n",
    "> - Harap diingat bahwa menambahkan lebih banyak proses augmentasi akan **membebani waktu pelatihan**.\n",
    "> - Beberapa data juga mungkin memiliki beberapa ketidaksesuaian dengan proses augmentasi. Misalnya, flip vertikal tidak diperlukan untuk klasifikasi mobil karena kita tidak pernah melihat mobil berjalan dari atas ke bawah. Jadi **buat augmentasi Anda dengan bijak**.\n",
    "> - Hanya menambah set data pelatihan Anda. **Set data pengujian Anda tidak boleh ditambah**, karena kami ingin mengevaluasi model kami pada data yang tidak terlihat."
   ]
  },
  {
   "cell_type": "markdown",
   "metadata": {},
   "source": [
    "`ImageDataGenerator` bekerja seperti pipeline pipeline, mengerjakan apa pun yang kami nyatakan di dalamnya. Jadi kita masih perlu melampirkan data ke dalamnya. Di bawah ini adalah ilustrasi pipeline dan cara melampirkan data ke generator dalam kode.\n",
    "\n",
    "![](assets/keras-augmentation.png)\n",
    "\n",
    "> 🔻Informasi tambahan: Jika data Anda sudah berada di dalam direktori, Anda dapat menggunakan metode `flow_from_directory` untuk menyelesaikan pipeline. Karena kita berurusan dengan data numpy, maka kita menggunakan `flow` sebagai gantinya."
   ]
  },
  {
   "cell_type": "code",
   "execution_count": 19,
   "metadata": {},
   "outputs": [],
   "source": [
    "# Complete the generator by specifying the incoming data into it\n",
    "# note: we are using x_train because the rescaling is included inside ImageDataGenerator\n",
    "train_data = train_generator.flow(x_train, y_train_new, subset=\"training\")\n",
    "val_data = train_generator.flow(x_train, y_train_new, subset=\"validation\")\n",
    "test_data = test_generator.flow(x_test, y_test_new)"
   ]
  },
  {
   "cell_type": "markdown",
   "metadata": {},
   "source": [
    "**Model Training** \n",
    "\n",
    "Setelah pipeline augmentasi dan preprocessing selesai, kita bisa memasukkannya ke dalam model kita untuk melakukan pelatihan."
   ]
  },
  {
   "cell_type": "code",
   "execution_count": 20,
   "metadata": {},
   "outputs": [
    {
     "name": "stdout",
     "output_type": "stream",
     "text": [
      "Model: \"sequential_1\"\n",
      "_________________________________________________________________\n",
      " Layer (type)                Output Shape              Param #   \n",
      "=================================================================\n",
      " conv2d_3 (Conv2D)           (None, 24, 24, 32)        832       \n",
      "                                                                 \n",
      " max_pooling2d_3 (MaxPooling  (None, 12, 12, 32)       0         \n",
      " 2D)                                                             \n",
      "                                                                 \n",
      " conv2d_4 (Conv2D)           (None, 8, 8, 16)          12816     \n",
      "                                                                 \n",
      " max_pooling2d_4 (MaxPooling  (None, 4, 4, 16)         0         \n",
      " 2D)                                                             \n",
      "                                                                 \n",
      " flatten_1 (Flatten)         (None, 256)               0         \n",
      "                                                                 \n",
      " dense_2 (Dense)             (None, 64)                16448     \n",
      "                                                                 \n",
      " dropout_1 (Dropout)         (None, 64)                0         \n",
      "                                                                 \n",
      " dense_3 (Dense)             (None, 10)                650       \n",
      "                                                                 \n",
      "=================================================================\n",
      "Total params: 30,746\n",
      "Trainable params: 30,746\n",
      "Non-trainable params: 0\n",
      "_________________________________________________________________\n"
     ]
    }
   ],
   "source": [
    "# Buat model baru dengan arsitektur yang sama dengan sebelumnya\n",
    "\n",
    "# DEFINE ARCHITECTURE\n",
    "model_cnn_augment = keras.models.Sequential([\n",
    "    # input layer\n",
    "    keras.layers.InputLayer(input_shape=(28, 28, 1)),\n",
    "\n",
    "    # first convolutional layer\n",
    "    keras.layers.Conv2D(filters=32, kernel_size=5, strides=1, padding='valid', activation='relu'),\n",
    "\n",
    "    # first pooling layer\n",
    "    keras.layers.MaxPooling2D(pool_size=2, strides=2, padding='valid'),\n",
    "\n",
    "    # second convolutional layer\n",
    "    keras.layers.Conv2D(filters=16, kernel_size=5, strides=1, padding='valid', activation='relu'),\n",
    "\n",
    "    # second pooling layer\n",
    "    keras.layers.MaxPooling2D(pool_size=2, strides=2, padding='valid'),\n",
    "\n",
    "    # flattening layer\n",
    "    keras.layers.Flatten(),\n",
    "\n",
    "    # fully-connected layer\n",
    "    keras.layers.Dense(units=64, activation='relu'),\n",
    "    keras.layers.Dropout(rate=0.2),\n",
    "    keras.layers.Dense(units=10, activation='softmax')\n",
    "    ])\n",
    "    \n",
    "# COMPILE MODEL\n",
    "model_cnn_augment.compile(optimizer='adam', loss='categorical_crossentropy', metrics=['accuracy'])\n",
    "\n",
    "model_cnn_augment.summary()"
   ]
  },
  {
   "cell_type": "markdown",
   "metadata": {},
   "source": [
    "> 💡 Important note: Saat menggunakan augmentasi data, kami mendefinisikan parameter `validation_split` pada `ImageDataGenerator` bukan selama pemasangan model `.fit()`. Sebagai gantinya, kami mendefinisikan parameter `validation_data`."
   ]
  },
  {
   "cell_type": "code",
   "execution_count": 22,
   "metadata": {},
   "outputs": [
    {
     "name": "stdout",
     "output_type": "stream",
     "text": [
      "Epoch 1/3\n",
      "1500/1500 [==============================] - 61s 40ms/step - loss: 0.2909 - accuracy: 0.9089 - val_loss: 0.0942 - val_accuracy: 0.9698\n",
      "Epoch 2/3\n",
      "1500/1500 [==============================] - 62s 42ms/step - loss: 0.1064 - accuracy: 0.9672 - val_loss: 0.0712 - val_accuracy: 0.9782\n",
      "Epoch 3/3\n",
      "1500/1500 [==============================] - 61s 40ms/step - loss: 0.0796 - accuracy: 0.9755 - val_loss: 0.0779 - val_accuracy: 0.9770\n"
     ]
    },
    {
     "data": {
      "text/plain": [
       "<keras.callbacks.History at 0x153a6e0d0>"
      ]
     },
     "execution_count": 22,
     "metadata": {},
     "output_type": "execute_result"
    }
   ],
   "source": [
    "# Train the model with train generator, alongside with test generator as validation data\n",
    "model_cnn_augment.fit(x=train_data, \n",
    "                      epochs=3, validation_data=val_data)"
   ]
  },
  {
   "cell_type": "code",
   "execution_count": 23,
   "metadata": {},
   "outputs": [
    {
     "name": "stdout",
     "output_type": "stream",
     "text": [
      "313/313 [==============================] - 3s 9ms/step - loss: 0.0363 - accuracy: 0.9878\n"
     ]
    },
    {
     "data": {
      "text/plain": [
       "[0.03631873135762289, 0.9878]"
      ]
     },
     "execution_count": 23,
     "metadata": {},
     "output_type": "execute_result"
    }
   ],
   "source": [
    "# Evaluate model on test data\n",
    "model_cnn_augment.evaluate(test_data)"
   ]
  },
  {
   "cell_type": "markdown",
   "metadata": {},
   "source": [
    "# 📝 Summary\n",
    "\n",
    "\n",
    "- Gambar direpresentasikan dalam bentuk **matrix pixel** dengan range nilai 0 sampai 255. Dimensi data gambar meliputi: (NUM_IMAGES, HEIGHT, WIDTH, CHANNEL_NUM)\n",
    "\n",
    "\n",
    "* Convolutional Neural Network:\n",
    "    - Baik untuk kasus data gambar (walaupun pada implementasinya bisa untuk data selain gambar)\n",
    "    - Untuk image classification, biasanya terdiri dari 4 layer:\n",
    "        1. Convolutional\n",
    "            - Hyperparameter: `filters`, `kernel_size`, `strides`\n",
    "        2. Pooling\n",
    "            - Hyperparameter: `pool_size`, `strides`\n",
    "        3. Flatenning\n",
    "        4. Dense\n",
    "\n",
    "* Workflow:\n",
    "    1. Load data image\n",
    "    2. Data preparation, misalnya: reshaping, rescaling, encoding\n",
    "    3. Data augmentation (opsional): solusi untuk memperbanyak variasi gambar untuk mencegah overfitting\n",
    "    4. Definisi arsitektur model\n",
    "    5. Compile model\n",
    "    6. Fitting model\n",
    "    7. Evaluation model\n",
    "    "
   ]
  },
  {
   "cell_type": "code",
   "execution_count": null,
   "metadata": {},
   "outputs": [],
   "source": []
  }
 ],
 "metadata": {
  "kernelspec": {
   "display_name": "dss-cnn",
   "language": "python",
   "name": "dss-cnn"
  },
  "language_info": {
   "codemirror_mode": {
    "name": "ipython",
    "version": 3
   },
   "file_extension": ".py",
   "mimetype": "text/x-python",
   "name": "python",
   "nbconvert_exporter": "python",
   "pygments_lexer": "ipython3",
   "version": "3.9.7"
  },
  "toc": {
   "base_numbering": 1,
   "nav_menu": {},
   "number_sections": true,
   "sideBar": true,
   "skip_h1_title": false,
   "title_cell": "Table of Contents",
   "title_sidebar": "Contents",
   "toc_cell": false,
   "toc_position": {},
   "toc_section_display": true,
   "toc_window_display": true
  }
 },
 "nbformat": 4,
 "nbformat_minor": 4
}
