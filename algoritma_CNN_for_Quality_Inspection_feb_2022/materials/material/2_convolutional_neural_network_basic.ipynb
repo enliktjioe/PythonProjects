{
 "cells": [
  {
   "cell_type": "markdown",
   "metadata": {},
   "source": [
    "<img src=\"assets/logo.png\" width=\"150\">\n",
    "<br>\n",
    "\n",
    "**Coursebook: Convolutional Neural Network Basic**\n",
    "\n",
    "- Course Length: 3 Hours\n",
    "- Last Update: February 2022\n",
    "\n",
    "___\n",
    "\n",
    "Develop by Dwi Gustin Nurdialit\n",
    "\n",
    "\n"
   ]
  },
  {
   "cell_type": "markdown",
   "metadata": {},
   "source": [
    "The coursebook is  prepared by [Algoritma](https://algorit.ma). The coursebook is intended for a restricted audience only, i.e. the individuals and organizations having received this coursebook directly from the training organization. It may not be reproduced, distributed, translated or adapted in any form outside these individuals and organizations without permission.\n",
    "\n",
    "Algoritma is a data science education center based in Jakarta. We organize workshops and training programs to help working professionals and students gain mastery in various data science sub-fields: data visualization, machine learning, data modeling, statistical inference etc."
   ]
  },
  {
   "cell_type": "markdown",
   "metadata": {},
   "source": [
    "# Preface\n",
    "\n",
    "## Background\n",
    "\n",
    "Casting is a manufacturing process in which liquid material is poured into a mold to solidify. Many types of defects or unwanted irregularities can occur during this process. The industry has its quality inspection department to remove defective products from the production line, but this is very time consuming since it is carried out manually. Furthermore, there is a chance of misclassifying due to human error, causing rejection of the whole product order. \n",
    "\n",
    "From these problems we will use image data to create a machine learning model. One of the most popular and good methods for working with image datasets is the Convolutional Neural Network (CNN).\n",
    "\n",
    "This material aims to provide an understanding to the workshop participants to automate the inspection process by training top-view images of a casted submersible pump impeller using Convolutional Neural Network (CNN). One Instructor and two Teaching Assistants will help participants troubleshoot or help with any difficulties encountered.\n"
   ]
  },
  {
   "cell_type": "markdown",
   "metadata": {},
   "source": [
    "## Training Objective\n",
    "\n",
    "The objective of this course is to provide participants with a comprehensive introduction to understanding deep learning model building for image data using Python. We will learn techniques on how to process image data to obtain a deep learning model. Syllabus includes:\n",
    "\n",
    "- **Convolutional Neural Networks:**\n",
    "    + Convolution concept: kernel convolutinals, strides, padding, and filter\n",
    "    + Convolutional Neural Network Architecture\n"
   ]
  },
  {
   "cell_type": "markdown",
   "metadata": {},
   "source": [
    "___\n",
    "\n",
    "# Convolutional Neural Network (CNN)\n",
    "\n",
    "# Convolutional Neural Network\n",
    "\n",
    "Convolutional Neural Network are nowadays standard architecture to deal with image data. Its history started in 1989 when Yan Lecunn created its first Optical Character Recognition (OCR) model to classify numbers and characters. But due to the flaw of deep neural network activation functions, most of the network will fails of either vanishing gradient or exploding gradient. The problem occurs until in 2011, Yoshua Bengio created Rectified Linear Unit that enables most of deep learning architecture to avoid the problems. \n",
    "\n",
    "A year after, Alex Krizhevsky re-created Yann Lecunn's CNN and implmented Relu in it. The model was submitted on 2012 Imagenet Competition and the performance was way better than any Deep Neural Network architecture at that time. The model then become the first heavily known CNN that works and its named upon its author, \"Alex Net\". It marked as the starting point of Deep Learning hype for computer vision. \n",
    "\n",
    "## Convolution Concepts\n",
    "\n",
    "In previous module, we learned to classify a hand-digit image into its classes. If you take a look closely, you might notice that there are so many empy space that actually doesn't affect the classification much. All those irrelevant pixels get in anyway into our neural network models, burdening the network with huge feature that are irrelevant to the class and makes it harder to train. \n",
    "\n",
    "What if we could extract those relevant values only and remove all the irrelevant pixels? That way our network will have so much lighter feature but with relatively same (or even better) information. This is when convolution takes part. Please take a look at convolutional neural network architecture below : \n",
    "\n",
    "<figure>\n",
    "    <center>\n",
    "    <img src=\"assets/cnn-general.jpeg\" width=\"90%\">\n",
    "<!--     <figcaption> Fig.1 - Illustration of Convolutional Neural Network Atchitecture </figcaption> -->\n",
    "    </center>\n",
    "</figure>\n",
    "\n",
    "\n",
    "If you take a close look, the end of the network was basically a neural network. Nowadays, these layers are called dense (since all the node are densely connected). Based on the illustration, the convolution part was used to extract important feature from the data before being fed into a dense layers. The convoluted data might be **smaller** in size but **richer** in information, resulting in more effective works for the dense layers. \n",
    "\n",
    "There are two main activity in the convolution, firstly the convolution itself, and the second is pooling. \n",
    "\n",
    "\n",
    "### 1. Convolution\n",
    "\n",
    "To briefly understand how the convolution works, please take alook at below picture of animal then make a guess what kind of animal it is.\n",
    "\n",
    "<figure>\n",
    "    <center>\n",
    "    <img src=\"assets/tasmanian.jpg\" width=\"35%\">\n",
    "    </center>\n",
    "</figure>\n",
    "\n",
    "Have you make your guess? You probably went for cat, rat, or even a bear. Whatever you have guessed, the interesting part is the process of guessing. There should be some physical characteristic from the image that snaps your brain to think like \"Oh, this particular part of the body looks like cat\", and that's just how our brain works. It remember particular parts of an object. In fact, it really goods at finding pattern and visual characteristics. If we are given something we don't know, our brain will certainly think of something similar in the past. This is something that we are going to try to mimic using convolution process. \n",
    "\n",
    "A convolution will extract meaningful information from the data using filters. These filters works just like any filter in real world, it has specific usage and has sensitivity over a very specific means. For eaxmple, think of a UV filter for camera lens. It will block UV lights to reduce the excesssive blue color from the sky. The more UV light on the field, the more this filter will active to tell you that there are UV lights. \n",
    "\n",
    "Mathematically, the feedforward process of convolutional neural network is called \"cross correlation\". The term convolution comes from its derivative function when the network do backpropagation. Below are the illustraion and mathematical formula on how the network do feedforwards\n",
    "\n",
    "\n",
    "$$ F \\circ I (x,y) = \\sum_{j=-N}^{N} \\sum_{i=-N}^{N} F(i,j) \\times I(x+i, y+j)$$\n",
    "\n",
    "<figure>\n",
    "    <center>\n",
    "    <img src=\"assets/conv-hackernoon.gif\" width=\"50%\">\n",
    "<!--     <figcaption> Fig.2 - Convolution Illustration by Hackernoon</figcaption> -->\n",
    "    </center>\n",
    "</figure>\n",
    "    "
   ]
  },
  {
   "cell_type": "code",
   "execution_count": 1,
   "metadata": {},
   "outputs": [],
   "source": [
    "# Import the libraries\n",
    "import matplotlib.pyplot as plt \n",
    "import json\n",
    "\n",
    "import numpy as np\n",
    "import tensorflow as tf\n",
    "import tensorflow.keras as keras"
   ]
  },
  {
   "cell_type": "markdown",
   "metadata": {},
   "source": [
    "In keras, the convolution implementation lays under the `keras.layes.Conv2D` class. Below are example of creating the layer then attach it in the model : "
   ]
  },
  {
   "cell_type": "code",
   "execution_count": 2,
   "metadata": {},
   "outputs": [],
   "source": [
    "# Create a single layer of convolution\n",
    "my_conv_layer = keras.layers.Conv2D(\n",
    "    input_shape = (28,28,1),\n",
    "    filters = 5,  # Number of filter\n",
    "    kernel_size = 3, # Filter size\n",
    "    strides = 1, # Steps regarding the convolution \n",
    "    padding = 'same',\n",
    "    activation = 'relu', # Default : no activation\n",
    ")"
   ]
  },
  {
   "cell_type": "markdown",
   "metadata": {},
   "source": [
    "From above code, the parameters will works as follows:\n",
    "- **filters** will determine how many number of filter will be used to convolve the image. The more the filter, the more likely it is to learn more specific features. This number is equivalent with number of neuron in a dense layer (`units`)\n",
    "- **kernel_size** will determine each filter size. Larger feature will catch more information and most likely generalize better than smaller ones. But study shows that kernel size of 3 and 5 is powerful in terms of algorithms complexity. Tho, there is no strict standard in determining the kernel size. The best practice is to use a small odd values. \n",
    "- **strides** acts as steps in moving the filter during the convolutoin process. Large strides will make the steps larger and make the filter potentially missed some meaningful feature (pixels)\n",
    "- **padding** is added if we wanted the output size to be same with the input by doing some padding according to the filter size. "
   ]
  },
  {
   "cell_type": "markdown",
   "metadata": {},
   "source": [
    "In order to see how the convolutional layer works, we will try to feed from mnist digit dataset. The shape will be `(batch_size, dim1, dim2)`. "
   ]
  },
  {
   "cell_type": "code",
   "execution_count": 3,
   "metadata": {},
   "outputs": [
    {
     "name": "stdout",
     "output_type": "stream",
     "text": [
      "data type \t:  <class 'numpy.ndarray'> <class 'numpy.ndarray'>\n",
      "training size \t:  (60000, 28, 28) (60000,)\n",
      "Test size \t:  (10000, 28, 28) (10000,)\n"
     ]
    }
   ],
   "source": [
    "# Load the data\n",
    "with np.load('data_input/mnist.npz') as data:\n",
    "  x_train = data['x_train']\n",
    "  y_train = data['y_train']\n",
    "  x_test = data['x_test']\n",
    "  y_test = data['y_test']\n",
    "\n",
    "# Check type and shape\n",
    "print('data type \\t: ', type(x_train), type(y_train))\n",
    "print('training size \\t: ', x_train.shape, y_train.shape)\n",
    "print('Test size \\t: ', x_test.shape, y_test.shape)"
   ]
  },
  {
   "cell_type": "markdown",
   "metadata": {},
   "source": [
    "Reshape the dimension then transform the data type as float."
   ]
  },
  {
   "cell_type": "code",
   "execution_count": 4,
   "metadata": {},
   "outputs": [],
   "source": [
    "sample_image = x_train[0].reshape(-1,28,28,1).astype('float')"
   ]
  },
  {
   "cell_type": "markdown",
   "metadata": {},
   "source": [
    "The tenshorshape of [1,28,28,1] determines the image size of 28x28x1. To see how the sample image looks like, we can visualize the first element of `x_train[0]`"
   ]
  },
  {
   "cell_type": "code",
   "execution_count": 5,
   "metadata": {},
   "outputs": [
    {
     "name": "stdout",
     "output_type": "stream",
     "text": [
      "Label: 5\n"
     ]
    },
    {
     "data": {
      "image/png": "[encoded data removed]",
      "text/plain": [
       "<Figure size 432x288 with 1 Axes>"
      ]
     },
     "metadata": {
      "needs_background": "light"
     },
     "output_type": "display_data"
    }
   ],
   "source": [
    "image = x_train[0]\n",
    "plt.imshow(image, cmap='gray');\n",
    "print('Label:', y_train[0])"
   ]
  },
  {
   "cell_type": "markdown",
   "metadata": {},
   "source": [
    "Once the dummy data is ready, we can feed the layer with it"
   ]
  },
  {
   "cell_type": "code",
   "execution_count": 6,
   "metadata": {},
   "outputs": [
    {
     "name": "stderr",
     "output_type": "stream",
     "text": [
      "2022-02-17 11:37:01.372624: I tensorflow/core/platform/cpu_feature_guard.cc:151] This TensorFlow binary is optimized with oneAPI Deep Neural Network Library (oneDNN) to use the following CPU instructions in performance-critical operations:  AVX2 FMA\n",
      "To enable them in other operations, rebuild TensorFlow with the appropriate compiler flags.\n"
     ]
    },
    {
     "data": {
      "text/plain": [
       "TensorShape([1, 28, 28, 5])"
      ]
     },
     "execution_count": 6,
     "metadata": {},
     "output_type": "execute_result"
    }
   ],
   "source": [
    "# Feedforward x through my_conv_layer\n",
    "output_conv = my_conv_layer(sample_image)\n",
    "output_conv.shape"
   ]
  },
  {
   "cell_type": "markdown",
   "metadata": {},
   "source": [
    "From the result above:\n",
    "\n",
    "- The first dimension of the output represents the number of data or images that being fed in (batch size)\n",
    "- The last dimension represents the number of filters exists in the particular layers. Any other dimension between the two is calculated as we previously presented in convolution inllustration. \n",
    "\n",
    "To make a grasp on how a filter process the data, below is an illustration on how the first filter will output once the first image is fed in"
   ]
  },
  {
   "cell_type": "code",
   "execution_count": 7,
   "metadata": {},
   "outputs": [
    {
     "data": {
      "image/png": "[encoded data removed]",
      "text/plain": [
       "<Figure size 432x288 with 1 Axes>"
      ]
     },
     "metadata": {
      "needs_background": "light"
     },
     "output_type": "display_data"
    }
   ],
   "source": [
    "plt.imshow(my_conv_layer.weights[0][:,:,:,0], cmap='gray');"
   ]
  },
  {
   "cell_type": "code",
   "execution_count": 8,
   "metadata": {},
   "outputs": [
    {
     "data": {
      "image/png": "[encoded data removed]",
      "text/plain": [
       "<Figure size 432x288 with 1 Axes>"
      ]
     },
     "metadata": {
      "needs_background": "light"
     },
     "output_type": "display_data"
    }
   ],
   "source": [
    "output_filter1 = output_conv[:,:,:,0]\n",
    "plt.imshow(output_filter1[0], cmap='gray');"
   ]
  },
  {
   "cell_type": "markdown",
   "metadata": {},
   "source": [
    "From the resulting images we can actually see a representation object on what actually the filters learns. You can see the example from the article of [visualizing CNN filters](https://cs231n.github.io/understanding-cnn/)"
   ]
  },
  {
   "cell_type": "markdown",
   "metadata": {},
   "source": [
    "### 2. Pooling\n",
    "\n",
    "If we have convoluted feature extracted from the convolutions process, it may somehow still consists redundant or slightly insignifficant features. Not to mention that the size might explode. The idea of pooling is to summarize and simplify the convolved feature by doing aggreagation over the convolved feature. Remember that we wanted the dense layer to be fed with small yet meaningful features. Below are example of Max Pooling where the convolved feature being summarized into a 2x2 data. \n",
    "\n",
    "<figure>\n",
    "    <center>\n",
    "    <img src=\"assets/maxpool_animation.gif\" width=\"50%\">\n",
    "<!--     <figcaption> Fig.3 - Max Pooling Illustration by Google ML Practicum</figcaption> -->\n",
    "    </center>\n",
    "</figure>\n",
    "\n",
    "Just like we have convolutional layer, we can try to make and see how the pooling layers works with the code below"
   ]
  },
  {
   "cell_type": "code",
   "execution_count": 9,
   "metadata": {},
   "outputs": [],
   "source": [
    "my_pool_layer = keras.layers.MaxPooling2D(\n",
    "    pool_size = 2, # Pool size 2x2\n",
    "    strides = 2, \n",
    "    padding = 'valid'\n",
    ")"
   ]
  },
  {
   "cell_type": "markdown",
   "metadata": {},
   "source": [
    "The `pool_size` parameter is equivalent with `kernel_size` that will determine how big your pool is. Besides MaxPooling, there are several built-ins function to help you reduce the feature: \n",
    "\n",
    "- MaxPooling1D layer\n",
    "- MaxPooling2D layer\n",
    "- MaxPooling3D layer\n",
    "- AveragePooling1D layer\n",
    "- AveragePooling2D layer\n",
    "- AveragePooling3D layer\n",
    "- GlobalMaxPooling1D layer\n",
    "- GlobalMaxPooling2D layer\n",
    "- GlobalMaxPooling3D layer\n",
    "- GlobalAveragePooling1D layer\n",
    "- GlobalAveragePooling2D layer\n",
    "- GlobalAveragePooling3D layer\n",
    "\n",
    "All above functions are available on `keras.layers` module. However, for advanced reasearch you can also create your own pooling function. \n"
   ]
  },
  {
   "cell_type": "markdown",
   "metadata": {},
   "source": [
    "## Implement CNN in Keras for Training Data\n",
    "\n",
    "In this section we will implement CNN on MNIST digit classification case. We have provided an example to build the model. Your task is to **create your own model** and make a good performance within 100 epochs. But first, prepare your data by re-read the MNIST dataset.\n"
   ]
  },
  {
   "cell_type": "markdown",
   "metadata": {},
   "source": [
    "**Preparing the Image data: Scaling & Reshaping**\n",
    "\n",
    "Before create CNN model, we will preprocess the data by training it into the shape the model expects and scaling it to that all valued are in the `[0,1]` interval. Previously our training images were stored in an array of shape `(60000, 28, 28)`. We will transform it into an array of shape `(60000, 28, 28, 1)` with values between 0 and 1."
   ]
  },
  {
   "cell_type": "code",
   "execution_count": 10,
   "metadata": {},
   "outputs": [
    {
     "name": "stdout",
     "output_type": "stream",
     "text": [
      "training size \t:  (60000, 28, 28, 1) (60000, 10)\n",
      "Test size \t:  (10000, 28, 28, 1) (10000, 10)\n"
     ]
    }
   ],
   "source": [
    "from keras.utils.np_utils import to_categorical\n",
    "\n",
    "x_train=x_train.reshape(60000,28,28,1)\n",
    "x_train = x_train / 255.0\n",
    "\n",
    "x_test=x_test.reshape(10000,28,28,1)\n",
    "x_test = x_test / 255.0\n",
    "\n",
    "y_train = to_categorical(y_train)\n",
    "y_test = to_categorical(y_test)\n",
    "\n",
    "print('training size \\t: ', x_train.shape, y_train.shape)\n",
    "print('Test size \\t: ', x_test.shape, y_test.shape)"
   ]
  },
  {
   "cell_type": "markdown",
   "metadata": {},
   "source": [
    "**Create CNN Model** \\\n",
    "Below we will create architecture, complete the code to make the network of your own before we train it. You are free to discuss on how should you build the model.\n",
    "\n",
    "<!--  Reference\n",
    "# Answer\n",
    "# Model Init\n",
    "model_cnn_1=keras.models.Sequential()\n",
    "\n",
    "# Input Layer\n",
    "model_cnn_1.add(keras.layers.InputLayer(input_shape=(28,28,1)))\n",
    "\n",
    "# Convolution Layer\n",
    "model_cnn_1.add(keras.layers.Conv2D(\n",
    "    filters = 64,\n",
    "    kernel_size = 3,\n",
    "    strides = 1,\n",
    "    activation = 'relu'\n",
    "))\n",
    "\n",
    "model_cnn_1.add(keras.layers.Conv2D(\n",
    "    filters = 128,\n",
    "    kernel_size = 5,\n",
    "    strides = 1,\n",
    "    activation = 'relu'\n",
    "))\n",
    "\n",
    "# Pooling Layer\n",
    "model_cnn_1.add(keras.layers.MaxPooling2D(\n",
    "    pool_size = 2,\n",
    "    strides = 1,\n",
    "    padding = 'valid'\n",
    "))\n",
    "\n",
    "\n",
    "# Dense Layer\n",
    "model_cnn_1.add(keras.layers.Flatten())\n",
    "model_cnn_1.add(keras.layers.Dense(units = 32, activation = 'relu'))\n",
    "model_cnn_1.add(keras.layers.Dense(units = 24, activation = 'relu'))\n",
    "model_cnn_1.add(keras.layers.Dense(units = 16, activation = 'relu'))\n",
    "\n",
    "# Ouput Layer\n",
    "model_cnn_1.add(keras.layers.Dense(units = 10, activation = 'softmax'))\n",
    "model_cnn_1.compile(optimizer='rmsprop', loss='categorical_crossentropy', metrics=['accuracy'])\n",
    "\n",
    "-->"
   ]
  },
  {
   "cell_type": "code",
   "execution_count": null,
   "metadata": {},
   "outputs": [],
   "source": [
    "# Model Init\n",
    "model_cnn=keras.models.Sequential()\n",
    "\n",
    "# Input Layer\n",
    "model_cnn.add(keras.layers.InputLayer(input_shape=(___)))\n",
    "\n",
    "# Convolution Layer\n",
    "model_cnn.add(keras.layers.Conv2D(\n",
    "    filters = 64,\n",
    "    kernel_size = 3,\n",
    "    strides = 1,\n",
    "    activation = '___'\n",
    "))\n",
    "\n",
    "model_cnn.add(keras.layers.Conv2D(\n",
    "    filters = 128,\n",
    "    kernel_size = 5,\n",
    "    strides = 1,\n",
    "    activation = '___'\n",
    "))\n",
    "\n",
    "# Pooling Layer\n",
    "model_cnn.add(keras.layers.MaxPooling2D(\n",
    "    pool_size = 2,\n",
    "    strides = 1,\n",
    "    padding = 'valid'\n",
    "))\n",
    "\n",
    "\n",
    "# Dense Layer\n",
    "model_cnn.add(keras.layers.Flatten())\n",
    "model_cnn.add(keras.layers.Dense(units = ___, activation = '___'))\n",
    "model_cnn.add(keras.layers.Dense(units = ___, activation = '___'))\n",
    "model_cnn.add(keras.layers.Dense(units = ___, activation = '___'))\n",
    "\n",
    "# Ouput Layer\n",
    "model_cnn.add(keras.layers.Dense(units = ___, activation = '___'))\n",
    "model_cnn.compile(optimizer='___', loss='___', metrics=['___'])\n"
   ]
  },
  {
   "cell_type": "code",
   "execution_count": null,
   "metadata": {},
   "outputs": [],
   "source": [
    "model_cnn.summary()"
   ]
  },
  {
   "cell_type": "code",
   "execution_count": null,
   "metadata": {},
   "outputs": [],
   "source": [
    "model_cnn.fit(x_train, y_train, epochs=2)"
   ]
  },
  {
   "cell_type": "markdown",
   "metadata": {},
   "source": [
    "___\n",
    "\n",
    "**External Links**:\n",
    "\n",
    "- [Adam](https://arxiv.org/pdf/1412.6980.pdf)\n",
    "- [HDF5 Data Type](https://support.hdfgroup.org/HDF5/doc1.6/UG/11_Datatypes.html)\n",
    "- [Keras Sequential Model](https://keras.io/guides/sequential_model)\n",
    "- [Keras Dense Layer](https://keras.io/api/layers/core_layers/dense/)\n",
    "- [L1 vs L2 Regularization](https://explained.ai/regularization/L1vsL2.html)\n",
    "- [Neuron Transmits Messages In The Brain - Genetic Science Learning Center](http://learn.genetics.utah.edu/content/neuroscience/neurons/)\n",
    "- [Relu](http://proceedings.mlr.press/v15/glorot11a/glorot11a.pdf)\n",
    "- [RMSProp](https://www.cs.toronto.edu/~hinton/coursera/lecture6/lec6.pdf)"
   ]
  }
 ],
 "metadata": {
  "kernelspec": {
   "display_name": "telkomathon3",
   "language": "python",
   "name": "telkomathon3"
  },
  "language_info": {
   "codemirror_mode": {
    "name": "ipython",
    "version": 3
   },
   "file_extension": ".py",
   "mimetype": "text/x-python",
   "name": "python",
   "nbconvert_exporter": "python",
   "pygments_lexer": "ipython3",
   "version": "3.9.7"
  }
 },
 "nbformat": 4,
 "nbformat_minor": 4
}
