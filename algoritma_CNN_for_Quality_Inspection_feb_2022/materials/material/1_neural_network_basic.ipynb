{
 "cells": [
  {
   "cell_type": "markdown",
   "metadata": {},
   "source": [
    "<img src=\"assets/logo.png\" width=\"150\">\n",
    "<br>\n",
    "\n",
    "**Coursebook: Neural Network Basics in Python**\n",
    "\n",
    "- Course Length: 3 Hours\n",
    "- Last Update: February 2022\n",
    "\n",
    "___\n",
    "\n",
    "Develop by Dwi Gustin Nurdialit\n",
    "\n",
    "\n"
   ]
  },
  {
   "cell_type": "markdown",
   "metadata": {},
   "source": [
    "The coursebook is  prepared by [Algoritma](https://algorit.ma). The coursebook is intended for a restricted audience only, i.e. the individuals and organizations having received this coursebook directly from the training organization. It may not be reproduced, distributed, translated or adapted in any form outside these individuals and organizations without permission.\n",
    "\n",
    "Algoritma is a data science education center based in Jakarta. We organize workshops and training programs to help working professionals and students gain mastery in various data science sub-fields: data visualization, machine learning, data modeling, statistical inference etc."
   ]
  },
  {
   "cell_type": "markdown",
   "metadata": {},
   "source": [
    "# Preface\n",
    "\n",
    "## Background\n",
    "\n",
    "Casting is a manufacturing process in which liquid material is poured into a mold to solidify. Many types of defects or unwanted irregularities can occur during this process. The industry has its quality inspection department to remove defective products from the production line, but this is very time consuming since it is carried out manually. Furthermore, there is a chance of misclassifying due to human error, causing rejection of the whole product order. \n",
    "\n",
    "From these problems we will use image data to create a machine learning model. One of the most popular and good methods for working with image datasets is the Convolutional Neural Network (CNN).\n",
    "\n",
    "This material aims to provide an understanding to the workshop participants to automate the inspection process by training top-view images of a casted submersible pump impeller using Convolutional Neural Network (CNN). One Instructor and two Teaching Assistants will help participants troubleshoot or help with any difficulties encountered.\n"
   ]
  },
  {
   "cell_type": "markdown",
   "metadata": {},
   "source": [
    "## Training Objective\n",
    "\n",
    "The objective of this course is to provide participants with a comprehensive introduction to understanding deep learning model building for image data using Python. We will learn techniques on how to process image data to obtain a deep learning model. Syllabus includes:\n",
    "\n",
    "- **Python Programming Basics:**\n",
    "    + Working with Conda Environment\n",
    "    + Introduction to Python for data science\n",
    "- **Neural Network Architecture:**\n",
    "    + Layer and neurons\n",
    "    + Activation and cost function\n",
    "    + Feedforward\n",
    "    + Backpropagation\n"
   ]
  },
  {
   "cell_type": "markdown",
   "metadata": {},
   "source": [
    "# Python Programming Basic\n",
    "\n",
    "## Setting up Anaconda Environment\n",
    "\n",
    "**How to create a new virtual environment:**\n",
    "\n",
    "1. Open Anaconda Prompt\n",
    "\n",
    "2. Create new virtual environment with:\n",
    "    ```\n",
    "    conda create -n <ENV_NAME> python=<PYTHON_VERSION>\n",
    "    ```\n",
    "    For example: `conda create -n dss_cnn python=3.9`\n",
    "\n",
    "\n",
    "3. Activate the new virtual environment witg:\n",
    "    ```\n",
    "    conda activate <ENV_NAME>\n",
    "    ```\n",
    "    For example: `conda activate dss_cnn`\n",
    "    \n",
    "    \n",
    "4. Change your terminal directory to the path where the requirements.txt is located. For example, if your txt file is in the Desktop directory, use: `cd Desktop`\n",
    "\n",
    "\n",
    "5. For standardization packages and libraries installation, please install using the `requirements.txt` shared to you.\n",
    "    ```\n",
    "    pip install -r requirements.txt\n",
    "    ```\n",
    "    \n",
    "6. Install kernel to connect the virtual environment to the Jupyter Notebook.\n",
    "    ```\n",
    "    python -m ipykernel install --user --name=<ENV_NAME>\n",
    "    ```\n",
    "    For example: `python -m ipykernel install --user --name=dss_cnn`\n"
   ]
  },
  {
   "cell_type": "markdown",
   "metadata": {},
   "source": [
    "## Working with Jupyter Notebook\n",
    "\n",
    "### Markdown Cell and Code Cell\n",
    "\n",
    "This is markdown cell. You can write a formatted text such as **bold** or *italic*. You can even write mathematical formula such \n",
    "\n",
    "\\begin{equation}\n",
    "f(x) = \\frac{e^{-x}}{(1+e^{-x})}\n",
    "\\end{equation}\n"
   ]
  },
  {
   "cell_type": "code",
   "execution_count": 1,
   "metadata": {},
   "outputs": [
    {
     "name": "stdout",
     "output_type": "stream",
     "text": [
      "and this is code cell where you put your python codes down\n",
      "cheers!\n"
     ]
    }
   ],
   "source": [
    "print('and this is code cell where you put your python codes down')\n",
    "print('cheers!')"
   ]
  },
  {
   "cell_type": "markdown",
   "metadata": {},
   "source": [
    "### Command Mode and Edit Mode\n",
    "\n",
    "Command mode and edit mode could bring different results upon given keyboard shortcuts.\n",
    "\n",
    "In command mode your active cell will have blue highlight color on the left side, while in edit mode, it will have green border. "
   ]
  },
  {
   "cell_type": "markdown",
   "metadata": {},
   "source": [
    "### Frequently used keyboard shortcuts\n",
    "Command Mode : \n",
    "- `a` : add cell above \n",
    "- `b` : add cell below \n",
    "- `d` + `d` : delete selected cell \n",
    "- `x` : cut selected cell \n",
    "- `c` : copy selected cell \n",
    "- `v` : paste selected cell \n",
    "- `z` : undo \n",
    "- `m` : change cell type to markdown \n",
    "- `y` : change cell type to code\n",
    "- `enter` : enter Edit Mode\n",
    "- `h` : show keyboard shortcuts\n",
    "\n",
    "Edit Mode:\n",
    "- `esc` : escape Edit Mode (enter Command Mode)\n",
    "\n",
    "Works in both Command or Edit mode: \n",
    "- `ctrl` + `enter` : run selected cell\n",
    "- `shift` + `enter` : run selected cell and move to the next cell below (add new if doesn't exist)"
   ]
  },
  {
   "cell_type": "markdown",
   "metadata": {},
   "source": [
    "Since you'll spend a great deal of your time working with data in Jupyter Notebook, I think it's important to get yourself familiar with notebok documents (or \"notebooks\").\n",
    "\n",
    "> Notebook documents are documents produced by *Jupyter Notebook*, which contain both computer code (e.g. python) and rich text elements (paragraph, equations, figures, links, etc…). Notebook documents are both human-readable documents containing the analysis description and the results (figures, tables, etc..) as well as executable documents which can be run to perform data analysis.\n",
    "\n",
    "Jupyter Notebook provides an easy-to-use, interactive data science environment that doesn't only work as an IDE, but also as a presentation tool (as it can be exported to other document formats, such as .HTML, .PDF, etc)..\n",
    "\n",
    "If you’re a seasoned programmer, the **Ctrl + Shift + P** combination will bring up a shortcut reference guide that helps you use Jupyter Notebook more effectively."
   ]
  },
  {
   "cell_type": "markdown",
   "metadata": {},
   "source": [
    "## Variables and Keywords\n",
    "\n",
    "Later on, we will often use assignment statements (`=`) to creates new variables. A variable is a name that refers to a value."
   ]
  },
  {
   "cell_type": "code",
   "execution_count": 2,
   "metadata": {},
   "outputs": [
    {
     "name": "stdout",
     "output_type": "stream",
     "text": [
      "programming\n"
     ]
    }
   ],
   "source": [
    "activity = 'programming'\n",
    "\n",
    "print(activity)"
   ]
  },
  {
   "cell_type": "markdown",
   "metadata": {},
   "source": [
    "Thing to note here, like other programming languages, Python is **case-sensitive**, so `activity` and `Activity` are  different symbols and will point to different variables."
   ]
  },
  {
   "cell_type": "code",
   "execution_count": 3,
   "metadata": {},
   "outputs": [
    {
     "data": {
      "text/plain": [
       "False"
      ]
     },
     "execution_count": 3,
     "metadata": {},
     "output_type": "execute_result"
    }
   ],
   "source": [
    "'activity' == 'Activity'"
   ]
  },
  {
   "cell_type": "code",
   "execution_count": 4,
   "metadata": {},
   "outputs": [
    {
     "data": {
      "text/plain": [
       "True"
      ]
     },
     "execution_count": 4,
     "metadata": {},
     "output_type": "execute_result"
    }
   ],
   "source": [
    "activity == activity"
   ]
  },
  {
   "cell_type": "markdown",
   "metadata": {},
   "source": [
    "Our previous code returned `True` as the output. Try to create a new variable and use `True` as the variable name, then see what happen.\n",
    "\n",
    "> SyntaxError: can't assign to keyword"
   ]
  },
  {
   "cell_type": "code",
   "execution_count": 5,
   "metadata": {},
   "outputs": [],
   "source": [
    "## Your code below:\n",
    "\n"
   ]
  },
  {
   "cell_type": "markdown",
   "metadata": {},
   "source": [
    "A couple of things to note here. `True`, along with its opposite, `False` are among a reserved list of vocabulary referred to as **Python Keywords**. We cannot use keyword as variable name, function name or assign values to them, essentially treating them as an identifier. \n",
    "\n",
    "Interestingly, all python keywords except **True**, **False** and **None** are in lowercase and they must be written as it is. As of Python 3.7 (latest version of Python as of this writing), there are 33 keywords:\n",
    "\n",
    "`True`, `False`, `None`, `and`, `as`, `assert`, `break`, `class`, `continue`, `def`, `del`, `elif`, `else`\n",
    "`except`, `finally`, `for`, `from`, `global`, `if`, `import`, `in`, `is`, `lambda`, `nonlocal`, `not`, `or`, `pass`\n",
    "`raise`, `return`, `try`, `while`, `with`, `yield`"
   ]
  },
  {
   "cell_type": "markdown",
   "metadata": {},
   "source": [
    "## Python Data Types\n",
    "\n",
    "### Strings\n",
    "\n",
    "Python represents any string as a `str` object. There are several ways to create a string value:\n",
    "\n",
    "- using `''` (ie: `'cyber punk 2077'``)\n",
    "- using `\"\"` (ie : `\"Friday\"`)\n",
    "- using `'''` or `\"\"\"` (ie: `'''Andi berkata \"Jum'at Bersih\"'''`)"
   ]
  },
  {
   "cell_type": "code",
   "execution_count": 6,
   "metadata": {},
   "outputs": [
    {
     "data": {
      "text/plain": [
       "'Algoritma Data Science School'"
      ]
     },
     "execution_count": 6,
     "metadata": {},
     "output_type": "execute_result"
    }
   ],
   "source": [
    "sekolah = 'Algoritma Data Science School'\n",
    "sekolah"
   ]
  },
  {
   "cell_type": "markdown",
   "metadata": {},
   "source": [
    "### Number\n",
    "\n",
    "To store numbers, python has two native data types called `int` and `float`.\n",
    "- `int` is used to store integers (ie: 1,2,-3)\n",
    "- `float` is used to store real numbers (ie: 0.7, -1.8, -1000.0)."
   ]
  },
  {
   "cell_type": "markdown",
   "metadata": {},
   "source": [
    "**Number Operation** \\\n",
    "Arithmetic Operators:\n",
    "- `+` - Addition\n",
    "- `-` - Subtraction\n",
    "- `*` - Multiplication\n",
    "- `/` - Division\n",
    "- `//` - Round division (divide and round down)\n",
    "- `%` - Module (remaining division)\n",
    "- `**` - Exponent\n",
    "\n",
    "Comparison Operators:\n",
    "- `<` - Less than (ie : a < b)\n",
    "- `<=` - Less than or equal to (ie : a <= b)\n",
    "- `>` - Greater than (ie: a > b)\n",
    "- `>=` - Greater than or equal to (ie: a >= b)\n",
    "- `==` - Equals (ie: a == b)\n",
    "- `!=` - Not Equal (ie: a != b)"
   ]
  },
  {
   "cell_type": "markdown",
   "metadata": {},
   "source": [
    "### Boolean\n",
    "\n",
    "Boolean stores a very simple value in computers and programming, `True` or `False`."
   ]
  },
  {
   "cell_type": "markdown",
   "metadata": {},
   "source": [
    "**Boolean operations** \\\n",
    "Python provides logical operators such as:\n",
    "- and (ie: a and b)\n",
    "- or (ie: a or c)\n",
    "- not (ie: not a)"
   ]
  },
  {
   "cell_type": "markdown",
   "metadata": {},
   "source": [
    "## Python Data Structures\n",
    "\n",
    "### List\n",
    "\n",
    "`list` is used to store multiple values in python. To create it, just put the value inside the brackets (ie: `x = [1,2,3]` )\n",
    "\n",
    "other names are wrappers of *number, string, variable*"
   ]
  },
  {
   "cell_type": "markdown",
   "metadata": {},
   "source": [
    "**Operation List**\n",
    "- `x.append(a)` : add a to x\n",
    "- `x.remove(a)` : remove a from x\n",
    "\n",
    "In addition to the previously known operators, one of the most useful lists is to implement an aggregation function such as:\n",
    "- `len(x)` : extract the length of the list\n",
    "- `a in b` : checks if the value `a` exists in the list object `b`\n",
    "- `max(x)` : get the highest value in x\n",
    "- `sum(x)` : get the number of values in x\n",
    "\n",
    "Another operation to be aware of in lists is indexing:\n",
    "- `x[i]` : access the i-th element of x"
   ]
  },
  {
   "cell_type": "markdown",
   "metadata": {},
   "source": [
    "### Dictionaries\n",
    "\n",
    "We've been learning about sequences in Python but now we're going to switch gears and learn about mappings in Python. If you're familiar with other languages you can think of these Dictionaries as hash tables.\n",
    "\n",
    "A Python dictionary consists of a **key** and then an associated **value**. That value can be almost any Python object.\n",
    "\n",
    "#### Constructing a Dictionary\n",
    "\n",
    "Let's see how we can construct dictionaries to get a better understanding of how they work!"
   ]
  },
  {
   "cell_type": "code",
   "execution_count": 7,
   "metadata": {},
   "outputs": [],
   "source": [
    "# Make a dictionary with {} and : to signify a key and a value\n",
    "my_dict = {'key1':'value1',\n",
    "           'key2':'value2'}"
   ]
  },
  {
   "cell_type": "code",
   "execution_count": 8,
   "metadata": {},
   "outputs": [
    {
     "data": {
      "text/plain": [
       "'value2'"
      ]
     },
     "execution_count": 8,
     "metadata": {},
     "output_type": "execute_result"
    }
   ],
   "source": [
    "# Call values by their key\n",
    "my_dict['key2']"
   ]
  },
  {
   "cell_type": "markdown",
   "metadata": {},
   "source": [
    "Its important to note that dictionaries are very flexible in the data types they can hold. For example:"
   ]
  },
  {
   "cell_type": "code",
   "execution_count": 9,
   "metadata": {},
   "outputs": [],
   "source": [
    "my_dict = {'key1':345,'key2':[34,45,56],'key3':['item3','item4','item5']}"
   ]
  },
  {
   "cell_type": "code",
   "execution_count": 10,
   "metadata": {},
   "outputs": [
    {
     "data": {
      "text/plain": [
       "['item3', 'item4', 'item5']"
      ]
     },
     "execution_count": 10,
     "metadata": {},
     "output_type": "execute_result"
    }
   ],
   "source": [
    "# Let's call items from the dictionary\n",
    "my_dict['key3']"
   ]
  },
  {
   "cell_type": "markdown",
   "metadata": {},
   "source": [
    "### Numpy Array\n",
    "\n",
    "Numpy is the core library for scientific computing in Python. It provides a high-performance multidimensional array object, and tools for working with these arrays."
   ]
  },
  {
   "cell_type": "code",
   "execution_count": 11,
   "metadata": {},
   "outputs": [],
   "source": [
    "import numpy as np"
   ]
  },
  {
   "cell_type": "markdown",
   "metadata": {},
   "source": [
    "A numpy array is a grid of values, all of the same type, and is indexed by a tuple of nonnegative integers. The number of dimensions is the rank of the array; the shape of an array is a tuple of integers giving the size of the array along each dimension."
   ]
  },
  {
   "cell_type": "code",
   "execution_count": 12,
   "metadata": {},
   "outputs": [
    {
     "name": "stdout",
     "output_type": "stream",
     "text": [
      "<class 'numpy.ndarray'>\n",
      "(3,)\n",
      "1 2 3\n",
      "[5 2 3]\n"
     ]
    }
   ],
   "source": [
    "a = np.array([1, 2, 3])   # Create a rank 1 array\n",
    "print(type(a))            # Prints \"<class 'numpy.ndarray'>\"\n",
    "print(a.shape)            # Prints \"(3,)\"\n",
    "print(a[0], a[1], a[2])   # Prints \"1 2 3\"\n",
    "a[0] = 5                  # Change an element of the array\n",
    "print(a)                  # Prints \"[5, 2, 3]\""
   ]
  },
  {
   "cell_type": "code",
   "execution_count": 13,
   "metadata": {},
   "outputs": [
    {
     "name": "stdout",
     "output_type": "stream",
     "text": [
      "(2, 3)\n",
      "1 2 4\n"
     ]
    }
   ],
   "source": [
    "b = np.array([[1,2,3],[4,5,6]])    # Create a rank 2 array\n",
    "print(b.shape)                     # Prints \"(2, 3)\"\n",
    "print(b[0, 0], b[0, 1], b[1, 0])   # Prints \"1 2 4\""
   ]
  },
  {
   "cell_type": "markdown",
   "metadata": {},
   "source": [
    "___\n",
    "\n",
    "# Neural Network \n",
    "\n",
    "Deep learning is an exciting invention that has risen in popularity in recent years, but it's beginnings traced back to the 1950s when the earliest prototypes of **artificial neural network** algorithms were created. The algorithm is named so because it is inspired from our understanding at that time of how our biological brain responds to stimuli from sensory inputs. That is not to say that neural networks are valid representations of how our biological brain works - quite far from that! In fact, the over-sensationalization of neural network is in my opinion doing more harm to actual science than good. "
   ]
  },
  {
   "cell_type": "markdown",
   "metadata": {},
   "source": [
    "## Neuron / Perceptron\n",
    "\n",
    "\n",
    "To date, there are some school of thoughts that hypothesized about how our brain works. There's [the grandmother cell theory](https://en.wikipedia.org/wiki/Grandmother_cell), which hypothesized that \"neurons represent a complex but specific concept or object\". It was proposed by neuroscientists Jerry Lettvin, who suggested the notion of hyper-specific neurons that is activated by very specific prompts, such as upon hearing the mention of your grandmother, or seeing pictures of them. Advocates of this theory points to studies where participants were shown three to seven different \"target\" pictures of 132 photo subjects while having being observed - the researchers measured the electrical activity (activation) of the neurons connected to the electrodes and observe how neurons \"almost ignored all other photos but fired steadily each time Aniston appeared on screen\". \n",
    "\n",
    "Other theories assert that neurons are far simpler and that the representation of complex objects are distributed across many neurons. So while the human brain is extremely complex, with around 100 billion neurons and 1,000 trillion synaptic interconnections, each neuron rely on layers of electrochemical signaling and other biological machinery to process information. \n",
    "\n",
    "Artificial neural networks are loosely derived from this second set of theories. A neural network architecture comprised of an arrangement of \"layers\" and \"nodes\" (representing neurons) such that \"information\" flows from one later and relayed to another. \n",
    "\n",
    "[Neuroscientists]((http://learn.genetics.utah.edu/content/neuroscience/neurons/)) learn that:  \n",
    "- Information from one neuron to another across a small gap called a synapse\n",
    "- One sending neuron can connect to several receiving neurons  \n",
    "- One receiving neuron can connect to several sending neurons  \n",
    "\n",
    "Human Neuron  |  Artificial Neural Network's Neuron\n",
    "-- | --\n",
    "![neuron](http://cs231n.github.io/assets/nn1/neuron.png) | ![neuron](http://cs231n.github.io/assets/nn1/neuron_model.jpeg)"
   ]
  },
  {
   "cell_type": "markdown",
   "metadata": {},
   "source": [
    "## Implementing Neuron with Keras \n",
    "\n",
    "To give more understanding on how a single neuron works, let's start by implementing a model consisted of single neuron using keras\n",
    "\n",
    "For this example we are going to use a dummy data consisted of `x` as predictor and `y` as target variable. The task is to create model that could predict `y` based on `x` value."
   ]
  },
  {
   "cell_type": "code",
   "execution_count": 14,
   "metadata": {},
   "outputs": [],
   "source": [
    "# Import the libraries\n",
    "import matplotlib.pyplot as plt \n",
    "import pandas as pd \n",
    "import json\n",
    "\n",
    "import numpy as np\n",
    "import tensorflow as tf\n",
    "import tensorflow.keras as keras"
   ]
  },
  {
   "cell_type": "code",
   "execution_count": 15,
   "metadata": {},
   "outputs": [],
   "source": [
    "# Create quick example of x and y data\n",
    "x_train = np.array([1,2,3,4,5,10]) # Predictor\n",
    "y_train = np.array([3,5,7,9,11,21]) # Target Variable\n",
    "\n",
    "x_test = np.array([16, 17, 18, 19, 20, 100, 200])\n",
    "y_test = np.array([33, 35, 37, 39, 41, 201, 401])"
   ]
  },
  {
   "cell_type": "markdown",
   "metadata": {},
   "source": [
    "**1. Model Initialization** \\\n",
    "The first step in creating a model is by initialize it. In keras, we can use `keras.Sequential()` method to create a sequential"
   ]
  },
  {
   "cell_type": "code",
   "execution_count": 16,
   "metadata": {},
   "outputs": [
    {
     "name": "stderr",
     "output_type": "stream",
     "text": [
      "2022-02-17 11:30:44.102364: I tensorflow/core/platform/cpu_feature_guard.cc:151] This TensorFlow binary is optimized with oneAPI Deep Neural Network Library (oneDNN) to use the following CPU instructions in performance-critical operations:  AVX2 FMA\n",
      "To enable them in other operations, rebuild TensorFlow with the appropriate compiler flags.\n"
     ]
    }
   ],
   "source": [
    "# Model Initialization\n",
    "model = keras.Sequential()"
   ]
  },
  {
   "cell_type": "code",
   "execution_count": 17,
   "metadata": {},
   "outputs": [],
   "source": [
    "# Develop model blueprints \n",
    "model.add(keras.layers.InputLayer(input_shape=[1]))\n",
    "model.add(keras.layers.Dense(units=1))"
   ]
  },
  {
   "cell_type": "markdown",
   "metadata": {},
   "source": [
    "**2. Model Compilation**\n",
    "Once the model design is created, it should be compiled with correct **loss function** (cost function) and **optimizer** to measure its performance during training. If you don't quite understand how optimizer works, don't worry since we will talk about it later in this course."
   ]
  },
  {
   "cell_type": "code",
   "execution_count": 18,
   "metadata": {},
   "outputs": [],
   "source": [
    "# Model Compilation\n",
    "model.compile(optimizer='SGD', loss='mean_squared_error')"
   ]
  },
  {
   "cell_type": "markdown",
   "metadata": {},
   "source": [
    "Here's an illustration of model we have created in previous cell \n",
    "\n",
    "![image.png](data:image/png;base64,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)"
   ]
  },
  {
   "cell_type": "markdown",
   "metadata": {},
   "source": [
    "Once you have created your model, you might curious about the value of each weights (w and b). By default, keras will random the values using [glorot normal distributions](https://keras.io/api/layers/initializers/). To see the weights you can call the code presented below and you should see each time you initialize a model, the weights changes. "
   ]
  },
  {
   "cell_type": "code",
   "execution_count": 19,
   "metadata": {},
   "outputs": [
    {
     "data": {
      "text/plain": [
       "[<tf.Variable 'dense/kernel:0' shape=(1, 1) dtype=float32, numpy=array([[-0.6626766]], dtype=float32)>,\n",
       " <tf.Variable 'dense/bias:0' shape=(1,) dtype=float32, numpy=array([0.], dtype=float32)>]"
      ]
     },
     "execution_count": 19,
     "metadata": {},
     "output_type": "execute_result"
    }
   ],
   "source": [
    "model.weights"
   ]
  },
  {
   "cell_type": "markdown",
   "metadata": {},
   "source": [
    "**3. Model Train**\n",
    "\n",
    "The training process in neural network architecture is a bit different from other models. It consists of two processes named: \n",
    "1. **Feedforward** : A process to deliver the data into model and creating the output (in this case, the predicted y or usually denoted as  $\\hat{y}$)\n",
    "2. **Backpropagation** : A process to evaluate error/loss between $\\hat{y}$ and $y$, then update the model in order to improve its performance later\n",
    "\n",
    "The whole process of feedforward and backpropagation is done when we are calling the `.fit()` function below:"
   ]
  },
  {
   "cell_type": "code",
   "execution_count": 20,
   "metadata": {},
   "outputs": [
    {
     "name": "stdout",
     "output_type": "stream",
     "text": [
      "Epoch 1/5\n",
      "1/1 [==============================] - 0s 378ms/step - loss: 206.3433\n",
      "Epoch 2/5\n",
      "1/1 [==============================] - 0s 5ms/step - loss: 45.6040\n",
      "Epoch 3/5\n",
      "1/1 [==============================] - 0s 11ms/step - loss: 10.1373\n",
      "Epoch 4/5\n",
      "1/1 [==============================] - 0s 5ms/step - loss: 2.3110\n",
      "Epoch 5/5\n",
      "1/1 [==============================] - 0s 4ms/step - loss: 0.5832\n"
     ]
    },
    {
     "data": {
      "text/plain": [
       "<keras.callbacks.History at 0x1506df2e0>"
      ]
     },
     "execution_count": 20,
     "metadata": {},
     "output_type": "execute_result"
    }
   ],
   "source": [
    "# train the model\n",
    "model.fit(x_train, y_train, epochs=5)"
   ]
  },
  {
   "cell_type": "markdown",
   "metadata": {},
   "source": [
    "Once your training is done, you should see the model weights should be close to $2x + 1$ formula."
   ]
  },
  {
   "cell_type": "code",
   "execution_count": 21,
   "metadata": {},
   "outputs": [
    {
     "data": {
      "text/plain": [
       "[<tf.Variable 'dense/kernel:0' shape=(1, 1) dtype=float32, numpy=array([[2.0241184]], dtype=float32)>,\n",
       " <tf.Variable 'dense/bias:0' shape=(1,) dtype=float32, numpy=array([0.45661116], dtype=float32)>]"
      ]
     },
     "execution_count": 21,
     "metadata": {},
     "output_type": "execute_result"
    }
   ],
   "source": [
    "model.weights"
   ]
  },
  {
   "cell_type": "markdown",
   "metadata": {},
   "source": [
    "**4. Model Evaluation**\n",
    "\n",
    "In previous example we can measure model's performance on how close it is to create the $2x+1$ formula. But in reality, we don't even know the formula for our data. Hence, we usually rely on the test performance of our model. Just like the previous course, we can utilize our test data then compare the training performance and test performance to make conclusion"
   ]
  },
  {
   "cell_type": "code",
   "execution_count": 22,
   "metadata": {},
   "outputs": [
    {
     "data": {
      "text/plain": [
       "array([[2024.5751]], dtype=float32)"
      ]
     },
     "execution_count": 22,
     "metadata": {},
     "output_type": "execute_result"
    }
   ],
   "source": [
    "# use the model to predict y out of x\n",
    "model.predict([1000])"
   ]
  },
  {
   "cell_type": "code",
   "execution_count": 23,
   "metadata": {},
   "outputs": [
    {
     "name": "stdout",
     "output_type": "stream",
     "text": [
      "1/1 [==============================] - 0s 122ms/step - loss: 3.1253\n"
     ]
    },
    {
     "data": {
      "text/plain": [
       "3.1253294944763184"
      ]
     },
     "execution_count": 23,
     "metadata": {},
     "output_type": "execute_result"
    }
   ],
   "source": [
    "model.evaluate(x_test, y_test)"
   ]
  },
  {
   "cell_type": "code",
   "execution_count": 24,
   "metadata": {},
   "outputs": [
    {
     "name": "stdout",
     "output_type": "stream",
     "text": [
      "1/1 [==============================] - 0s 23ms/step - loss: 0.2011\n"
     ]
    },
    {
     "data": {
      "text/plain": [
       "0.2010844349861145"
      ]
     },
     "execution_count": 24,
     "metadata": {},
     "output_type": "execute_result"
    }
   ],
   "source": [
    "model.evaluate(x_train, y_train)"
   ]
  },
  {
   "cell_type": "markdown",
   "metadata": {},
   "source": [
    "## Multi Layer Perceptron\n",
    "\n",
    "According to its names, neural network architecture are set of neurons connected each others and it consists of 3 types of layers : \n",
    "1. Input layer \n",
    "2. Hidden layer\n",
    "3. Output layer\n",
    "\n",
    "Since the architecture is  formed from multiple layer of perceptron, some called it multi-layer perceptron (MLP). Some other called it artificial neural network, or neural network for short. The original terms of deep learning comes when a neural network has lots of hidden layer forming a \"deep\" stack of layers. Below are the reference of the different architecture\n",
    "\n",
    "![image](https://drive.google.com/uc?export=view&id=1QPPMzjirFkxylcWT-HzBfTyC4sJiK_R5)"
   ]
  },
  {
   "cell_type": "markdown",
   "metadata": {},
   "source": [
    "**Implementing Neural Network for Image Classification**\n",
    "\n",
    "We have previously implement neural network architecture for linear problem. This part we will try to cover not only that, we will also implement neural network to deal with image (or larger) dataset. \n",
    "\n",
    "*For reading convenience, we separate the steps into*:\n",
    "1. Data Preparation\n",
    "2. Modeling \n",
    "3. Training"
   ]
  },
  {
   "cell_type": "markdown",
   "metadata": {},
   "source": [
    "**1. Data Preparation** \\\n",
    "For easy and simple example, we will use the mnist dataset publicly known as the \"hello world\" dataset for image classification. This code will download keras sample dataset if we have not already downloaded it. We can use `load_data` method:\n",
    "\n",
    "```\n",
    "(x_train, y_train), (x_test, y_test) = tf.keras.datasets.mnist.load_data()\n",
    "```\n",
    "\n",
    "To make the process easier, the `mnist.npz` data is already available in the input data folder. We just need to call it with `load()` method from numpy.\n",
    "\n",
    "If the file doesn't exist, you can download it here: 'https://storage.googleapis.com/tensorflow/tf-keras-datasets/mnist.npz'"
   ]
  },
  {
   "cell_type": "markdown",
   "metadata": {},
   "source": [
    "MNIST dataset data obtained from tensorflow google storage which is the latest version from http://yann.lecun.com/exdb/mnist/\n",
    "\n",
    "The data has a training set of 60,000 examples, and a test set of 10,000 examples. It is a subset of a larger set available from NIST. The digits have been size-normalized and centered in a fixed-size image.\n",
    "\n",
    "It is a good database for people who want to try learning techniques and pattern recognition methods on real-world data while spending minimal efforts on preprocessing and formatting."
   ]
  },
  {
   "cell_type": "code",
   "execution_count": 25,
   "metadata": {},
   "outputs": [
    {
     "name": "stdout",
     "output_type": "stream",
     "text": [
      "data type \t:  <class 'numpy.ndarray'> <class 'numpy.ndarray'>\n",
      "training size \t:  (60000, 28, 28) (60000,)\n",
      "Test size \t:  (10000, 28, 28) (10000,)\n"
     ]
    }
   ],
   "source": [
    "# Load the data\n",
    "with np.load('data_input/mnist.npz') as data:\n",
    "  x_train = data['x_train']\n",
    "  y_train = data['y_train']\n",
    "  x_test = data['x_test']\n",
    "  y_test = data['y_test']\n",
    "    \n",
    "# Check type and shape\n",
    "print('data type \\t: ', type(x_train), type(y_train))\n",
    "print('training size \\t: ', x_train.shape, y_train.shape)\n",
    "print('Test size \\t: ', x_test.shape, y_test.shape)"
   ]
  },
  {
   "cell_type": "markdown",
   "metadata": {},
   "source": [
    "Images typically have three dimensions: `height`, `width`, and color `depth`. Although grayscale images (like our MNIST digits) have only a single color channel and could thus be stored in rank-2 tensors, by convention image tensors are always rank-3, with a one-dimensional color channel for grayscale images. "
   ]
  },
  {
   "cell_type": "markdown",
   "metadata": {},
   "source": [
    "Let's look at a couple of images from the dataset."
   ]
  },
  {
   "cell_type": "code",
   "execution_count": 26,
   "metadata": {},
   "outputs": [
    {
     "name": "stdout",
     "output_type": "stream",
     "text": [
      "Label: 5\n"
     ]
    },
    {
     "data": {
      "image/png": "[encoded data removed]",
      "text/plain": [
       "<Figure size 432x288 with 1 Axes>"
      ]
     },
     "metadata": {
      "needs_background": "light"
     },
     "output_type": "display_data"
    }
   ],
   "source": [
    "image = x_train[0]\n",
    "plt.imshow(image, cmap='gray');\n",
    "print('Label:', y_train[0])"
   ]
  },
  {
   "cell_type": "markdown",
   "metadata": {},
   "source": [
    "One thing that we have to make sure before building a model for image classification is that we have to **know the data characteristic**. It will help us in designing the model later. \n",
    "\n",
    "So the first thing we could try is to see the image itself for each classes. Below code will create a quick sample visualization for each class"
   ]
  },
  {
   "cell_type": "code",
   "execution_count": 27,
   "metadata": {},
   "outputs": [
    {
     "data": {
      "image/png": "[encoded data removed]",
      "text/plain": [
       "<Figure size 1080x324 with 40 Axes>"
      ]
     },
     "metadata": {
      "needs_background": "light"
     },
     "output_type": "display_data"
    }
   ],
   "source": [
    "# Visualizing sample image dataset\n",
    "fig, ax = plt.subplots(4,10,figsize=(15,4.5))\n",
    "fig.subplots_adjust(hspace=0.1, wspace=0.1)\n",
    "for i in range(10):\n",
    "    for j in range(4):\n",
    "        idx = np.where(y_train == i)[0][:4]\n",
    "        ax[j,i].imshow(x_train[idx[j]], cmap='gray')\n",
    "        ax[j,i].set_title(y_train[idx[j]])\n",
    "        ax[j,i].axis('off')\n",
    "\n",
    "plt.show()"
   ]
  },
  {
   "cell_type": "markdown",
   "metadata": {},
   "source": [
    "**2. Model Implementation** \\\n",
    "Once we have learn how the data looks like, it's now time to implement the correct model architecture.\n",
    "As usual, we give an example on how to create neural network that handles image data. Have a look and pay attention to every changes from previous model that learns structured data."
   ]
  },
  {
   "cell_type": "code",
   "execution_count": 28,
   "metadata": {},
   "outputs": [],
   "source": [
    "# Model Init\n",
    "model_mnist = keras.Sequential(name='model_mnist')\n",
    "\n",
    "# Input Layer\n",
    "model_mnist.add(keras.layers.InputLayer(input_shape = (28,28)))\n",
    "\n",
    "# Hidden Layer\n",
    "model_mnist.add(keras.layers.Flatten(name='flatten_layer'))\n",
    "model_mnist.add(keras.layers.Dense(units=300, activation='relu', name='hidden_layer_1'))\n",
    "model_mnist.add(keras.layers.Dense(units=100, activation='relu', name='hidden_layer_2'))\n",
    "\n",
    "# Output layer\n",
    "model_mnist.add(keras.layers.Dense(units=10, activation='softmax', name='output_layer'))\n",
    "\n",
    "# Model compile\n",
    "model_mnist.compile(optimizer='adam',\n",
    "                    loss='sparse_categorical_crossentropy',\n",
    "                    metrics=['accuracy'])"
   ]
  },
  {
   "cell_type": "markdown",
   "metadata": {},
   "source": [
    "Once the model is created, we can always see it's summary to illustrate how our final model architecture is. This step is trivial but it has big impact on making sure the model architecture was built according to our means. "
   ]
  },
  {
   "cell_type": "code",
   "execution_count": 29,
   "metadata": {},
   "outputs": [
    {
     "name": "stdout",
     "output_type": "stream",
     "text": [
      "Model: \"model_mnist\"\n",
      "_________________________________________________________________\n",
      " Layer (type)                Output Shape              Param #   \n",
      "=================================================================\n",
      " flatten_layer (Flatten)     (None, 784)               0         \n",
      "                                                                 \n",
      " hidden_layer_1 (Dense)      (None, 300)               235500    \n",
      "                                                                 \n",
      " hidden_layer_2 (Dense)      (None, 100)               30100     \n",
      "                                                                 \n",
      " output_layer (Dense)        (None, 10)                1010      \n",
      "                                                                 \n",
      "=================================================================\n",
      "Total params: 266,610\n",
      "Trainable params: 266,610\n",
      "Non-trainable params: 0\n",
      "_________________________________________________________________\n"
     ]
    }
   ],
   "source": [
    "# Show model summary\n",
    "model_mnist.summary()"
   ]
  },
  {
   "cell_type": "markdown",
   "metadata": {},
   "source": [
    "Please take a look and notice the differences between this model and the previous one. On the code above, we added a few parameters that you might consider to pay attention into: \n",
    "- `units` : Number of specific neurons in one layer\n",
    "- `activation` : Activation function to map the value processed by each neuron and \"activate\" the neuron\n",
    "- `metrics`: The measures of success too evaluate model performance.\n",
    "\n",
    "Here's an illustration on how neural network doing **feedforward** to classify an image data. Pay attention to the number of neurons on each layers and how the neurons changed color into white. \n",
    "\n",
    "\n",
    "\n",
    "How activation works  |  Human Tongue Sensitivity\n",
    "-- | --\n",
    "![](https://thumbs.gfycat.com/DeafeningComplicatedBluetonguelizard-size_restricted.gif) | ![](https://cheesiemack.com/wp/wp-content/uploads/2013/01/tongue-map-217x300.jpg)"
   ]
  },
  {
   "cell_type": "markdown",
   "metadata": {},
   "source": [
    "From above illustration, `units` parameter will adjust the number of neurons in each layer. While the `activation` functions will make each neurons to **active state** based on the data its fed into. \n",
    "\n",
    "This indicate that each neuron in one layer works independently and has its own **sensitivity**. A very common illustration is how our tongue works. Some neurons are sensitive to bitterness, some are sensitive to sourness, saltiness, or sweetness. Whenever we are eating something sweet, the sweet neurons will be activated the most since it has the most sensitivity to sweetness. Hence, our brain processes that if the active neurons are sweet neurons then the taste is sweet. \n",
    "\n",
    "*You can always rever for available activation function from [tensorflow.keras.activation documentation page](https://www.tensorflow.org/api_docs/python/tf/keras/activations)"
   ]
  },
  {
   "cell_type": "markdown",
   "metadata": {},
   "source": [
    "**3. Model Training** "
   ]
  },
  {
   "cell_type": "code",
   "execution_count": 30,
   "metadata": {},
   "outputs": [
    {
     "name": "stdout",
     "output_type": "stream",
     "text": [
      "Epoch 1/10\n",
      "1875/1875 [==============================] - 8s 4ms/step - loss: 1.3258 - accuracy: 0.8756: 0s - loss: 1.3336 - accuracy: 0.87\n",
      "Epoch 2/10\n",
      "1875/1875 [==============================] - 6s 3ms/step - loss: 0.2326 - accuracy: 0.9368\n",
      "Epoch 3/10\n",
      "1875/1875 [==============================] - 10s 5ms/step - loss: 0.1787 - accuracy: 0.9505\n",
      "Epoch 4/10\n",
      "1875/1875 [==============================] - 7s 4ms/step - loss: 0.1379 - accuracy: 0.9609\n",
      "Epoch 5/10\n",
      "1875/1875 [==============================] - 6s 3ms/step - loss: 0.1331 - accuracy: 0.9636\n",
      "Epoch 6/10\n",
      "1875/1875 [==============================] - 8s 4ms/step - loss: 0.1154 - accuracy: 0.9693\n",
      "Epoch 7/10\n",
      "1875/1875 [==============================] - 6s 3ms/step - loss: 0.1042 - accuracy: 0.9712: 0s - loss: 0.1039 - accuracy: 0.\n",
      "Epoch 8/10\n",
      "1875/1875 [==============================] - 7s 4ms/step - loss: 0.0951 - accuracy: 0.9750\n",
      "Epoch 9/10\n",
      "1875/1875 [==============================] - 8s 4ms/step - loss: 0.0898 - accuracy: 0.9764\n",
      "Epoch 10/10\n",
      "1875/1875 [==============================] - 8s 4ms/step - loss: 0.0848 - accuracy: 0.9786\n"
     ]
    },
    {
     "data": {
      "text/plain": [
       "<keras.callbacks.History at 0x1547dcf40>"
      ]
     },
     "execution_count": 30,
     "metadata": {},
     "output_type": "execute_result"
    }
   ],
   "source": [
    "# Model Train\n",
    "model_mnist.fit(x_train, y_train, epochs=10)"
   ]
  },
  {
   "cell_type": "code",
   "execution_count": 31,
   "metadata": {},
   "outputs": [
    {
     "name": "stdout",
     "output_type": "stream",
     "text": [
      "313/313 [==============================] - 1s 2ms/step - loss: 0.1536 - accuracy: 0.9677\n"
     ]
    },
    {
     "data": {
      "text/plain": [
       "[0.15355940163135529, 0.9677000045776367]"
      ]
     },
     "execution_count": 31,
     "metadata": {},
     "output_type": "execute_result"
    }
   ],
   "source": [
    "model_mnist.evaluate(x_test, y_test)"
   ]
  },
  {
   "cell_type": "code",
   "execution_count": 32,
   "metadata": {},
   "outputs": [
    {
     "name": "stdout",
     "output_type": "stream",
     "text": [
      "1875/1875 [==============================] - 6s 3ms/step - loss: 0.0598 - accuracy: 0.9839\n"
     ]
    },
    {
     "data": {
      "text/plain": [
       "[0.05983660742640495, 0.9839166402816772]"
      ]
     },
     "execution_count": 32,
     "metadata": {},
     "output_type": "execute_result"
    }
   ],
   "source": [
    "model_mnist.evaluate(x_train, y_train)"
   ]
  },
  {
   "cell_type": "markdown",
   "metadata": {},
   "source": [
    "## Activation Functions\n",
    "\n",
    "Activation function describes the mechanism that govern how our neuron units pass (forward or backward) the signal throughout the network. It's functional purpose is synonymous to the biological neuron: determining an activation threshold that if met, passes the signal along to other neurons. We've learned the sigmoid (logistic) function - the **sigmoid** activation function is by far the most common activation function in neural networks but there exist other types of activation functions. The difference is in the output signal range and some other common activation functions you may come across includes:\n",
    "\n",
    "- **Logistic (sigmoid)**\\\n",
    "Basic activatoin function used to squash information into a value with range 0-1. Best used for traditional binary classification case. \n",
    "\n",
    "- **Tanh**\\\n",
    "Behave like sigmoid, with a wider range of values enabling it to deliver more informations\n",
    "\n",
    "- **Rectified Linear unit (ReLU)**\\\n",
    "Will flatten all negative values into zero. This activation functions helps neural network to overcome the vanishing gradient problem and now become the standard activation function especially in classification case. \n",
    "\n",
    "- **Softmax**\\\n",
    "Will compare each value as a probability proportion. Best used as activation function for output layer in classification case. \n",
    "\n",
    "\n",
    "<img src=\"https://drive.google.com/uc?export=view&id=1KAcL458IRdWsMYfTSZRA6K61zAhrAeY9\" width=\"80%\">"
   ]
  },
  {
   "cell_type": "markdown",
   "metadata": {},
   "source": [
    "## Gradient Descent and Optimizer\n",
    "\n",
    "If you are learning to optimize a model, the perfect start is by understanding how the model learns and optimize it later.\n",
    "\n",
    "### Gradient Descent\n",
    "\n",
    "Previously when we first create our first neural network, the training process might looks like magic. If we oversimplify it, the model tries to predict some value (feedforward) and then utilize the loss/error created by the difference from predicted value over its targetted value. This error then will be used as information on how the model should be learn. \n",
    "\n",
    "However there is no magic at all. It's all made by mathematical approach algorithm called **gradient descent**. **Gradient descent** is the most suitable learning mechanism for neural network architecture since it allows the model to learn over time. The original gradient descent optimization function usually referred as \"Vanilla Gradient Descent\". Even so, it shows several flaws over difference case of data and problems. To date, there are lots of alternative learning mechanism that performs better than gradient descent. To learn that, we could start on how gradient descent works : \n",
    "\n",
    "\n",
    "How gradient descent works  |  Gradient descent formula\n",
    "-- | --\n",
    "![](https://drive.google.com/uc?export=view&id=1JTpqKLot4IEHqnO-JROXDiv07Xd6K3JO) | <center><img src=\"https://drive.google.com/uc?export=view&id=1R1Y65el7W9LV5Q3dBTCfDCCvZz--65Cf\" width=\"70%\"></center>\n",
    "\n",
    "\n",
    "\n",
    "<!-- <img src=\"https://drive.google.com/uc?export=view&id=1JTpqKLot4IEHqnO-JROXDiv07Xd6K3JO\" width=\"50%\"> -->\n",
    "\n",
    "A few example of gradient descent optimizer are : \n",
    "- Vanilla Gradient Descent : Known as the original gradient descent using first order optimization \n",
    "- Stochastic Gradient Descent(SGD) : Just like Vanilla Gradient Descent, but works stichastically (one data per update). \n",
    "    \n",
    "    \n",
    "### Momentum and Adaptive Learning\n",
    "\n",
    "\n",
    "- **Adaptive Moment (Adam)** \\\n",
    "[original paper](https://arxiv.org/pdf/1412.6980.pdf)\n",
    "\n",
    "\n",
    "- **Binary Cross Entropy**\\\n",
    "Binary cross entropy compares each of the predicted probabilities to actual class output which can be either 0 or 1. It then calculates the score that penalizes the probabilities based on the distance from the expected value. That means how close or far from the actual value. "
   ]
  },
  {
   "cell_type": "markdown",
   "metadata": {},
   "source": [
    "### Hyperparameter Tuning\n",
    "\n",
    "**Learning Rate**\\\n",
    "Learning rate can influence how fast the model will learn. A big learning rate might resulting in faster time to converge but increasing the risk of trapped in local optima. \n",
    "\n",
    "**Epoch** \\\n",
    "Large epoch will give the model chance to learn the data more, hopefully resulting in better performance overtime. However, the model might be exposed to the overfit problem\n",
    "\n",
    "### Batch Learning\n",
    "\n",
    "Batch learning does not has something to do with final model performance. However, it affects the memory cost for each model we use. \n",
    "Full batch learning will use the whole training set for one update, while partial batch learning will evaluate and update for each batch it has on each epochs. \n",
    "\n",
    "The larger the batch size, the more memory it will takes to do one learning cycle (feed forward + backpropagation) but faster learning time. It is recomended to keep the batch low to prevent the model failure when predicting the data. \n",
    "\n",
    "You can set the batch size using `batch_size` parameters on `model.fit()`, for example :\n",
    "```python\n",
    "model_mnist.fit(x_train, y_train, epochs=10, batch_size = 30)\n",
    "```"
   ]
  },
  {
   "cell_type": "markdown",
   "metadata": {},
   "source": [
    "### Knowledge Check : Hyperparameter Tuning\n",
    "*Estimated time: 15 mins*\n",
    "\n",
    "Make new neural network models for MNIST dataset with **different learning rates and activation functions**. Then try to train them using **different batch**. \n",
    "Based on your observation, how does `learning_rate`, `activation_functions`, and `batch_size` affects the model ? "
   ]
  },
  {
   "cell_type": "code",
   "execution_count": 33,
   "metadata": {},
   "outputs": [],
   "source": [
    "# Your Code Here\n"
   ]
  },
  {
   "cell_type": "markdown",
   "metadata": {},
   "source": [
    "___\n",
    "\n",
    "**External Links**:\n",
    "\n",
    "- [Adam](https://arxiv.org/pdf/1412.6980.pdf)\n",
    "- [HDF5 Data Type](https://support.hdfgroup.org/HDF5/doc1.6/UG/11_Datatypes.html)\n",
    "- [Keras Sequential Model](https://keras.io/guides/sequential_model)\n",
    "- [Keras Dense Layer](https://keras.io/api/layers/core_layers/dense/)\n",
    "- [L1 vs L2 Regularization](https://explained.ai/regularization/L1vsL2.html)\n",
    "- [Neuron Transmits Messages In The Brain - Genetic Science Learning Center](http://learn.genetics.utah.edu/content/neuroscience/neurons/)\n",
    "- [Relu](http://proceedings.mlr.press/v15/glorot11a/glorot11a.pdf)\n",
    "- [RMSProp](https://www.cs.toronto.edu/~hinton/coursera/lecture6/lec6.pdf)"
   ]
  }
 ],
 "metadata": {
  "kernelspec": {
   "display_name": "telkomathon3",
   "language": "python",
   "name": "telkomathon3"
  },
  "language_info": {
   "codemirror_mode": {
    "name": "ipython",
    "version": 3
   },
   "file_extension": ".py",
   "mimetype": "text/x-python",
   "name": "python",
   "nbconvert_exporter": "python",
   "pygments_lexer": "ipython3",
   "version": "3.9.7"
  }
 },
 "nbformat": 4,
 "nbformat_minor": 4
}
