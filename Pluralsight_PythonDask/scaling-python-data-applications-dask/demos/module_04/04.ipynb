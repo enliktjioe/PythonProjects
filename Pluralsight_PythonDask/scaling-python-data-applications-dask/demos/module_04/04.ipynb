{
 "cells": [
  {
   "cell_type": "code",
   "execution_count": null,
   "metadata": {
    "slideshow": {
     "slide_type": "slide"
    }
   },
   "outputs": [],
   "source": [
    "from dask.distributed import Client\n",
    "client = Client()\n",
    "client"
   ]
  },
  {
   "cell_type": "code",
   "execution_count": null,
   "metadata": {
    "slideshow": {
     "slide_type": "slide"
    }
   },
   "outputs": [],
   "source": [
    "import os, math\n",
    "from collections import Counter\n",
    "\n",
    "size_mbs = lambda x: int(os.path.getsize(x)\n",
    "                         / math.pow(1024, 2))\n",
    "\n",
    "def file_sizes(directory): \n",
    "    d = \"../data/osm/ny/\" + directory\n",
    "    sizes = [size_mbs(os.path.join(d, f)) \\\n",
    "             for f in os.listdir(d)]\n",
    "    c = Counter(sizes)\n",
    "    for size, count in c.items():\n",
    "        print(\"{:3d} x {:3d} MB\".format(count, size))"
   ]
  },
  {
   "cell_type": "code",
   "execution_count": null,
   "metadata": {
    "slideshow": {
     "slide_type": "fragment"
    }
   },
   "outputs": [],
   "source": [
    "file_sizes(\"500mb\")"
   ]
  },
  {
   "cell_type": "code",
   "execution_count": null,
   "metadata": {
    "slideshow": {
     "slide_type": "slide"
    }
   },
   "outputs": [],
   "source": [
    "import dask.bag as db\n",
    "from operator import itemgetter\n",
    "\n",
    "extract_tag = itemgetter(1, 3)\n",
    "\n",
    "def top_tags(data):\n",
    "    return data.filter(\n",
    "        lambda x: \"tag\" in x\n",
    "    ).foldby(\n",
    "        lambda x: extract_tag(x.split('\"')),\n",
    "        lambda x, _: x + 1, 0\n",
    "    ).topk(10, itemgetter(1))"
   ]
  },
  {
   "cell_type": "code",
   "execution_count": null,
   "metadata": {
    "slideshow": {
     "slide_type": "slide"
    }
   },
   "outputs": [],
   "source": [
    "data = db.read_text(\"../data/osm/ny/500mb/*\")\n",
    "task = top_tags(data)\n",
    "task"
   ]
  },
  {
   "cell_type": "code",
   "execution_count": null,
   "metadata": {
    "slideshow": {
     "slide_type": "fragment"
    }
   },
   "outputs": [],
   "source": [
    "task.visualize(\"task1\", format=\"svg\");"
   ]
  },
  {
   "cell_type": "code",
   "execution_count": null,
   "metadata": {
    "slideshow": {
     "slide_type": "fragment"
    }
   },
   "outputs": [],
   "source": [
    "task.compute()"
   ]
  },
  {
   "cell_type": "code",
   "execution_count": null,
   "metadata": {
    "slideshow": {
     "slide_type": "slide"
    }
   },
   "outputs": [],
   "source": [
    "file_sizes(\"5mb\")\n",
    "data = db.read_text(\"../data/osm/ny/5mb/*\")\n",
    "task = top_tags(data)\n",
    "task"
   ]
  },
  {
   "cell_type": "code",
   "execution_count": null,
   "metadata": {
    "slideshow": {
     "slide_type": "fragment"
    }
   },
   "outputs": [],
   "source": [
    "task.compute()"
   ]
  },
  {
   "cell_type": "code",
   "execution_count": null,
   "metadata": {
    "slideshow": {
     "slide_type": "slide"
    }
   },
   "outputs": [],
   "source": [
    "file_sizes(\"100mb\")\n",
    "data = db.read_text(\"../data/osm/ny/100mb/*\")\n",
    "task = top_tags(data)\n",
    "task"
   ]
  },
  {
   "cell_type": "code",
   "execution_count": null,
   "metadata": {
    "slideshow": {
     "slide_type": "fragment"
    }
   },
   "outputs": [],
   "source": [
    "task.compute()"
   ]
  },
  {
   "cell_type": "code",
   "execution_count": null,
   "metadata": {
    "slideshow": {
     "slide_type": "slide"
    }
   },
   "outputs": [],
   "source": [
    "data = db.read_text(\"../data/osm/southamerica/southam*\")\n",
    "task = top_tags(data)\n",
    "task"
   ]
  },
  {
   "cell_type": "code",
   "execution_count": null,
   "metadata": {
    "slideshow": {
     "slide_type": "fragment"
    }
   },
   "outputs": [],
   "source": [
    "task.compute()"
   ]
  }
 ],
 "metadata": {
  "celltoolbar": "Slideshow",
  "kernelspec": {
   "display_name": "Python 3",
   "language": "python",
   "name": "python3"
  },
  "language_info": {
   "codemirror_mode": {
    "name": "ipython",
    "version": 3
   },
   "file_extension": ".py",
   "mimetype": "text/x-python",
   "name": "python",
   "nbconvert_exporter": "python",
   "pygments_lexer": "ipython3",
   "version": "3.6.8"
  },
  "livereveal": {
   "controls": false,
   "controlsTutorial": false,
   "progress": false,
   "slideNumber": false,
   "transition": "none"
  }
 },
 "nbformat": 4,
 "nbformat_minor": 2
}
