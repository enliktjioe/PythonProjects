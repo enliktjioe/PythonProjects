{
 "cells": [
  {
   "cell_type": "code",
   "execution_count": 7,
   "metadata": {
    "slideshow": {
     "slide_type": "slide"
    }
   },
   "outputs": [
    {
     "data": {
      "text/html": [
       "<table style=\"border: 2px solid white;\">\n",
       "<tr>\n",
       "<td style=\"vertical-align: top; border: 0px solid white\">\n",
       "<h3 style=\"text-align: left;\">Client</h3>\n",
       "<ul style=\"text-align: left; list-style: none; margin: 0; padding: 0;\">\n",
       "  <li><b>Scheduler: </b>tcp://127.0.0.1:59399</li>\n",
       "</ul>\n",
       "</td>\n",
       "<td style=\"vertical-align: top; border: 0px solid white\">\n",
       "<h3 style=\"text-align: left;\">Cluster</h3>\n",
       "<ul style=\"text-align: left; list-style:none; margin: 0; padding: 0;\">\n",
       "  <li><b>Workers: </b>4</li>\n",
       "  <li><b>Cores: </b>4</li>\n",
       "  <li><b>Memory: </b>8.59 GB</li>\n",
       "</ul>\n",
       "</td>\n",
       "</tr>\n",
       "</table>"
      ],
      "text/plain": [
       "<Client: 'tcp://127.0.0.1:59399' processes=4 threads=4, memory=8.59 GB>"
      ]
     },
     "execution_count": 7,
     "metadata": {},
     "output_type": "execute_result"
    }
   ],
   "source": [
    "from dask.distributed import Client\n",
    "client = Client()\n",
    "# client = Client('127.0.0.1:8786')\n",
    "client"
   ]
  },
  {
   "cell_type": "code",
   "execution_count": 8,
   "metadata": {
    "slideshow": {
     "slide_type": "slide"
    }
   },
   "outputs": [],
   "source": [
    "import os, math\n",
    "from collections import Counter\n",
    "\n",
    "size_mbs = lambda x: int(os.path.getsize(x)\n",
    "                         / math.pow(1024, 2))\n",
    "\n",
    "def file_sizes(directory): \n",
    "    d = \"../data/osm/ny/\" + directory\n",
    "    sizes = [size_mbs(os.path.join(d, f)) \\\n",
    "             for f in os.listdir(d)]\n",
    "    c = Counter(sizes)\n",
    "    for size, count in c.items():\n",
    "        print(\"{:3d} x {:3d} MB\".format(count, size))"
   ]
  },
  {
   "cell_type": "code",
   "execution_count": 9,
   "metadata": {
    "slideshow": {
     "slide_type": "fragment"
    }
   },
   "outputs": [
    {
     "name": "stdout",
     "output_type": "stream",
     "text": [
      "  2 x 476 MB\n",
      "  1 x 289 MB\n"
     ]
    }
   ],
   "source": [
    "file_sizes(\"500mb\")"
   ]
  },
  {
   "cell_type": "code",
   "execution_count": 15,
   "metadata": {
    "slideshow": {
     "slide_type": "slide"
    }
   },
   "outputs": [],
   "source": [
    "import dask.bag as db\n",
    "from operator import itemgetter\n",
    "\n",
    "extract_tag = itemgetter(1, 3)\n",
    "\n",
    "def top_tags(data):\n",
    "    return data.filter(\n",
    "        lambda x: \"tag\" in x\n",
    "    ).foldby(\n",
    "        lambda x: extract_tag(x.split('\"')),\n",
    "        lambda x, _: x + 1, 0\n",
    "    ).topk(10, itemgetter(1))"
   ]
  },
  {
   "cell_type": "code",
   "execution_count": 16,
   "metadata": {
    "slideshow": {
     "slide_type": "slide"
    }
   },
   "outputs": [
    {
     "data": {
      "text/plain": [
       "dask.bag<topk-aggregate, npartitions=1>"
      ]
     },
     "execution_count": 16,
     "metadata": {},
     "output_type": "execute_result"
    }
   ],
   "source": [
    "data = db.read_text(\"../data/osm/ny/500mb/*\")\n",
    "task = top_tags(data)\n",
    "task"
   ]
  },
  {
   "cell_type": "code",
   "execution_count": 17,
   "metadata": {
    "slideshow": {
     "slide_type": "fragment"
    }
   },
   "outputs": [],
   "source": [
    "task.visualize(\"task1\", format=\"svg\");"
   ]
  },
  {
   "cell_type": "code",
   "execution_count": 18,
   "metadata": {
    "slideshow": {
     "slide_type": "fragment"
    }
   },
   "outputs": [
    {
     "data": {
      "text/plain": [
       "[(('tiger:reviewed', 'no'), 61282),\n",
       " (('tiger:cfcc', 'A41'), 59104),\n",
       " (('highway', 'residential'), 50597),\n",
       " (('created_by', 'ArcGIS Exporter'), 22285),\n",
       " (('nycdoitt:bin', '3000000'), 18263),\n",
       " (('tiger:name_type', 'St'), 17259),\n",
       " (('tiger:name_type', 'Ave'), 16343),\n",
       " (('nycdoitt:bin', '4000000'), 16301),\n",
       " (('highway', 'traffic_signals'), 15358),\n",
       " (('height', '7.8'), 12935)]"
      ]
     },
     "execution_count": 18,
     "metadata": {},
     "output_type": "execute_result"
    }
   ],
   "source": [
    "task.compute()"
   ]
  },
  {
   "cell_type": "code",
   "execution_count": 19,
   "metadata": {
    "slideshow": {
     "slide_type": "slide"
    }
   },
   "outputs": [
    {
     "name": "stdout",
     "output_type": "stream",
     "text": [
      "260 x   4 MB\n",
      "  1 x   2 MB\n"
     ]
    },
    {
     "data": {
      "text/plain": [
       "dask.bag<topk-aggregate, npartitions=1>"
      ]
     },
     "execution_count": 19,
     "metadata": {},
     "output_type": "execute_result"
    }
   ],
   "source": [
    "file_sizes(\"5mb\")\n",
    "data = db.read_text(\"../data/osm/ny/5mb/*\")\n",
    "task = top_tags(data)\n",
    "task"
   ]
  },
  {
   "cell_type": "code",
   "execution_count": 20,
   "metadata": {
    "slideshow": {
     "slide_type": "fragment"
    }
   },
   "outputs": [
    {
     "data": {
      "text/plain": [
       "[(('highway', 'traffic_signals'), 9039),\n",
       " (('created_by', 'ArcGIS Exporter'), 8002),\n",
       " (('tiger:county', 'Nassau, NY'), 4890),\n",
       " (('amenity', 'bicycle_parking'), 4539),\n",
       " (('tiger:county', 'Essex, NJ'), 4018),\n",
       " (('cityracks.large', '0'), 3479),\n",
       " (('tiger:county', 'Richmond, NY'), 3417),\n",
       " (('tiger:county', 'Queens, NY'), 3232),\n",
       " (('cityracks.small', '1'), 3156),\n",
       " (('capacity', '2'), 3057)]"
      ]
     },
     "execution_count": 20,
     "metadata": {},
     "output_type": "execute_result"
    }
   ],
   "source": [
    "task.compute()"
   ]
  },
  {
   "cell_type": "code",
   "execution_count": 21,
   "metadata": {
    "slideshow": {
     "slide_type": "slide"
    }
   },
   "outputs": [
    {
     "name": "stdout",
     "output_type": "stream",
     "text": [
      " 13 x  95 MB\n",
      "  1 x   2 MB\n"
     ]
    },
    {
     "data": {
      "text/plain": [
       "dask.bag<topk-aggregate, npartitions=1>"
      ]
     },
     "execution_count": 21,
     "metadata": {},
     "output_type": "execute_result"
    }
   ],
   "source": [
    "file_sizes(\"100mb\")\n",
    "data = db.read_text(\"../data/osm/ny/100mb/*\")\n",
    "task = top_tags(data)\n",
    "task"
   ]
  },
  {
   "cell_type": "code",
   "execution_count": 22,
   "metadata": {
    "slideshow": {
     "slide_type": "fragment"
    }
   },
   "outputs": [
    {
     "data": {
      "text/plain": [
       "[(('tiger:reviewed', 'no'), 39799),\n",
       " (('tiger:cfcc', 'A41'), 39376),\n",
       " (('highway', 'residential'), 37131),\n",
       " (('created_by', 'ArcGIS Exporter'), 22285),\n",
       " (('highway', 'traffic_signals'), 15141),\n",
       " (('tiger:name_type', 'St'), 11688),\n",
       " (('tiger:name_type', 'Ave'), 9743),\n",
       " (('tiger:county', 'Bergen, NJ'), 7048),\n",
       " (('tiger:county', 'Essex, NJ'), 6206),\n",
       " (('tiger:county', 'Queens, NY'), 5827)]"
      ]
     },
     "execution_count": 22,
     "metadata": {},
     "output_type": "execute_result"
    }
   ],
   "source": [
    "task.compute()"
   ]
  },
  {
   "cell_type": "code",
   "execution_count": 23,
   "metadata": {
    "slideshow": {
     "slide_type": "slide"
    }
   },
   "outputs": [
    {
     "data": {
      "text/plain": [
       "dask.bag<topk-aggregate, npartitions=1>"
      ]
     },
     "execution_count": 23,
     "metadata": {},
     "output_type": "execute_result"
    }
   ],
   "source": [
    "data = db.read_text(\"../data/osm/southamerica/southam*\")\n",
    "task = top_tags(data)\n",
    "task"
   ]
  },
  {
   "cell_type": "code",
   "execution_count": 24,
   "metadata": {
    "slideshow": {
     "slide_type": "fragment"
    }
   },
   "outputs": [
    {
     "data": {
      "text/plain": [
       "[(('created_by', 'JOSM'), 364794),\n",
       " (('source', 'ICRC, DigitalGlobe 120311'), 12258),\n",
       " (('source_ref', 'http://earth-info.nga.mil/gns/html/cntyfile/ar.zip'), 5581),\n",
       " (('source', 'ISS-004-E-12987, 12988, 12989 Imagery'), 4871),\n",
       " (('gns_classification', 'PPL'), 4128),\n",
       " (('source', 'Lakewalker plugin'), 2275),\n",
       " (('highway', 'traffic_signals'), 2033),\n",
       " (('waterway', 'river'), 1754),\n",
       " (('gns_classification', 'STM'), 1727),\n",
       " (('place', 'isolated_dwelling'), 1662)]"
      ]
     },
     "execution_count": 24,
     "metadata": {},
     "output_type": "execute_result"
    }
   ],
   "source": [
    "task.compute()"
   ]
  }
 ],
 "metadata": {
  "celltoolbar": "Slideshow",
  "kernelspec": {
   "display_name": "Python 3",
   "language": "python",
   "name": "python3"
  },
  "language_info": {
   "codemirror_mode": {
    "name": "ipython",
    "version": 3
   },
   "file_extension": ".py",
   "mimetype": "text/x-python",
   "name": "python",
   "nbconvert_exporter": "python",
   "pygments_lexer": "ipython3",
   "version": "3.6.7"
  },
  "livereveal": {
   "controls": false,
   "controlsTutorial": false,
   "progress": false,
   "slideNumber": false,
   "transition": "none"
  }
 },
 "nbformat": 4,
 "nbformat_minor": 2
}
