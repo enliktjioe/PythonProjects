{
 "cells": [
  {
   "cell_type": "markdown",
   "metadata": {},
   "source": [
    "## Part a - Download the geometries from the source "
   ]
  },
  {
   "cell_type": "code",
   "execution_count": 8,
   "metadata": {},
   "outputs": [
    {
     "name": "stdout",
     "output_type": "stream",
     "text": [
      "Beginning file download with wget module\n"
     ]
    },
    {
     "data": {
      "text/plain": [
       "'countries (1).geojson'"
      ]
     },
     "execution_count": 8,
     "metadata": {},
     "output_type": "execute_result"
    }
   ],
   "source": [
    "import wget\n",
    "\n",
    "print('Beginning file download with wget module')\n",
    "\n",
    "url = 'http://raw.githubusercontent.com/datasets/geo-countries/master/data/countries.geojson'\n",
    "wget.download(url, 'countries.geojson')\n"
   ]
  },
  {
   "cell_type": "code",
   "execution_count": 4,
   "metadata": {},
   "outputs": [
    {
     "data": {
      "text/plain": [
       "{\"geometry\": {\"coordinates\": [[[[-69.996938, 12.577582], [-69.936391, 12.531724], [-69.924672, 12.519232], [-69.915761, 12.497016], [-69.880198, 12.453559], [-69.87682, 12.427395], [-69.888092, 12.41767], [-69.908803, 12.417792], [-69.930531, 12.425971], [-69.945139, 12.440375], [-69.924672, 12.440375], [-69.924672, 12.447211], [-69.958567, 12.463202], [-70.027659, 12.522935], [-70.048085, 12.531155], [-70.058095, 12.537177], [-70.062408, 12.54682], [-70.060374, 12.556952], [-70.051096, 12.574042], [-70.048736, 12.583726], [-70.052642, 12.600002], [-70.059641, 12.614244], [-70.061106, 12.625393], [-70.048736, 12.632148], [-70.007151, 12.585517], [-69.996938, 12.577582]]]], \"type\": \"MultiPolygon\"}, \"properties\": {\"ADMIN\": \"Aruba\", \"ISO_A2\": \"AW\", \"ISO_A3\": \"ABW\"}, \"type\": \"Feature\"}"
      ]
     },
     "execution_count": 4,
     "metadata": {},
     "output_type": "execute_result"
    }
   ],
   "source": [
    "# import geojson\n",
    "# with open('countries.geojson') as f:\n",
    "#     gj = geojson.load(f)\n",
    "# features = gj['features'][0]\n",
    "# features\n"
   ]
  },
  {
   "cell_type": "markdown",
   "metadata": {},
   "source": [
    "## Using ogr2ogr to import geojson file into POSTGIS\n",
    "Terminal Command:\n",
    "\n",
    "ogr2ogr -f PostgreSQL PG:\"dbname=positiumDB user=enlik\" countries.geojson -nln countries -nlt MULTIPOLYGON"
   ]
  },
  {
   "cell_type": "markdown",
   "metadata": {},
   "source": [
    "## Read CSV"
   ]
  },
  {
   "cell_type": "code",
   "execution_count": 11,
   "metadata": {},
   "outputs": [],
   "source": [
    "import pandas as pd\n",
    "\n",
    "countries = pd.read_csv(\"countries.csv\")"
   ]
  },
  {
   "cell_type": "code",
   "execution_count": 7,
   "metadata": {},
   "outputs": [
    {
     "data": {
      "text/html": [
       "<div>\n",
       "<style scoped>\n",
       "    .dataframe tbody tr th:only-of-type {\n",
       "        vertical-align: middle;\n",
       "    }\n",
       "\n",
       "    .dataframe tbody tr th {\n",
       "        vertical-align: top;\n",
       "    }\n",
       "\n",
       "    .dataframe thead th {\n",
       "        text-align: right;\n",
       "    }\n",
       "</style>\n",
       "<table border=\"1\" class=\"dataframe\">\n",
       "  <thead>\n",
       "    <tr style=\"text-align: right;\">\n",
       "      <th></th>\n",
       "      <th>ogc_fid</th>\n",
       "      <th>admin</th>\n",
       "      <th>iso_a3</th>\n",
       "      <th>iso_a2</th>\n",
       "      <th>wkb_geometry</th>\n",
       "    </tr>\n",
       "  </thead>\n",
       "  <tbody>\n",
       "    <tr>\n",
       "      <th>0</th>\n",
       "      <td>1</td>\n",
       "      <td>Aruba</td>\n",
       "      <td>ABW</td>\n",
       "      <td>AW</td>\n",
       "      <td>0106000020E6100000010000000103000000010000001A...</td>\n",
       "    </tr>\n",
       "    <tr>\n",
       "      <th>1</th>\n",
       "      <td>2</td>\n",
       "      <td>Afghanistan</td>\n",
       "      <td>AFG</td>\n",
       "      <td>AF</td>\n",
       "      <td>0106000020E610000001000000010300000001000000FD...</td>\n",
       "    </tr>\n",
       "    <tr>\n",
       "      <th>2</th>\n",
       "      <td>3</td>\n",
       "      <td>Angola</td>\n",
       "      <td>AGO</td>\n",
       "      <td>AO</td>\n",
       "      <td>0106000020E6100000030000000103000000010000000E...</td>\n",
       "    </tr>\n",
       "    <tr>\n",
       "      <th>3</th>\n",
       "      <td>4</td>\n",
       "      <td>Anguilla</td>\n",
       "      <td>AIA</td>\n",
       "      <td>AI</td>\n",
       "      <td>0106000020E61000000200000001030000000100000018...</td>\n",
       "    </tr>\n",
       "    <tr>\n",
       "      <th>4</th>\n",
       "      <td>5</td>\n",
       "      <td>Albania</td>\n",
       "      <td>ALB</td>\n",
       "      <td>AL</td>\n",
       "      <td>0106000020E6100000010000000103000000010000002D...</td>\n",
       "    </tr>\n",
       "    <tr>\n",
       "      <th>...</th>\n",
       "      <td>...</td>\n",
       "      <td>...</td>\n",
       "      <td>...</td>\n",
       "      <td>...</td>\n",
       "      <td>...</td>\n",
       "    </tr>\n",
       "    <tr>\n",
       "      <th>250</th>\n",
       "      <td>251</td>\n",
       "      <td>Samoa</td>\n",
       "      <td>WSM</td>\n",
       "      <td>WS</td>\n",
       "      <td>0106000020E61000000200000001030000000100000037...</td>\n",
       "    </tr>\n",
       "    <tr>\n",
       "      <th>251</th>\n",
       "      <td>252</td>\n",
       "      <td>Yemen</td>\n",
       "      <td>YEM</td>\n",
       "      <td>YE</td>\n",
       "      <td>0106000020E61000000900000001030000000100000009...</td>\n",
       "    </tr>\n",
       "    <tr>\n",
       "      <th>252</th>\n",
       "      <td>253</td>\n",
       "      <td>South Africa</td>\n",
       "      <td>ZAF</td>\n",
       "      <td>ZA</td>\n",
       "      <td>0106000020E6100000030000000103000000010000001A...</td>\n",
       "    </tr>\n",
       "    <tr>\n",
       "      <th>253</th>\n",
       "      <td>254</td>\n",
       "      <td>Zambia</td>\n",
       "      <td>ZMB</td>\n",
       "      <td>ZM</td>\n",
       "      <td>0106000020E610000001000000010300000001000000E4...</td>\n",
       "    </tr>\n",
       "    <tr>\n",
       "      <th>254</th>\n",
       "      <td>255</td>\n",
       "      <td>Zimbabwe</td>\n",
       "      <td>ZWE</td>\n",
       "      <td>ZW</td>\n",
       "      <td>0106000020E610000001000000010300000001000000FE...</td>\n",
       "    </tr>\n",
       "  </tbody>\n",
       "</table>\n",
       "<p>255 rows × 5 columns</p>\n",
       "</div>"
      ],
      "text/plain": [
       "     ogc_fid         admin iso_a3 iso_a2  \\\n",
       "0          1         Aruba    ABW     AW   \n",
       "1          2   Afghanistan    AFG     AF   \n",
       "2          3        Angola    AGO     AO   \n",
       "3          4      Anguilla    AIA     AI   \n",
       "4          5       Albania    ALB     AL   \n",
       "..       ...           ...    ...    ...   \n",
       "250      251         Samoa    WSM     WS   \n",
       "251      252         Yemen    YEM     YE   \n",
       "252      253  South Africa    ZAF     ZA   \n",
       "253      254        Zambia    ZMB     ZM   \n",
       "254      255      Zimbabwe    ZWE     ZW   \n",
       "\n",
       "                                          wkb_geometry  \n",
       "0    0106000020E6100000010000000103000000010000001A...  \n",
       "1    0106000020E610000001000000010300000001000000FD...  \n",
       "2    0106000020E6100000030000000103000000010000000E...  \n",
       "3    0106000020E61000000200000001030000000100000018...  \n",
       "4    0106000020E6100000010000000103000000010000002D...  \n",
       "..                                                 ...  \n",
       "250  0106000020E61000000200000001030000000100000037...  \n",
       "251  0106000020E61000000900000001030000000100000009...  \n",
       "252  0106000020E6100000030000000103000000010000001A...  \n",
       "253  0106000020E610000001000000010300000001000000E4...  \n",
       "254  0106000020E610000001000000010300000001000000FE...  \n",
       "\n",
       "[255 rows x 5 columns]"
      ]
     },
     "execution_count": 7,
     "metadata": {},
     "output_type": "execute_result"
    }
   ],
   "source": [
    "countries"
   ]
  },
  {
   "cell_type": "code",
   "execution_count": 37,
   "metadata": {},
   "outputs": [
    {
     "data": {
      "text/plain": [
       "(1,\n",
       " 'Aruba',\n",
       " 'ABW',\n",
       " 'AW',\n",
       " '0106000020E6100000010000000103000000010000001A000000362D7CD3CD7F51C098543BD7B8272940382D7CD3ED7B51C06810942C3E102940382D7CD32D7B51C0408D3ED7D8092940ACF97BD39B7A51C0707A3DD778FE2840705AD128557851C020A03FD738E82840A8B67CD31D7851C0181DEA81D3DA28406889277ED67851C0408D3ED7D8D5284004D97CD3297A51C030DE3BD7E8D52840342D7CD38D7B51C078673CD718DA28409E28D2287D7C51C0787A3DD778E12840382D7CD32D7B51C0787A3DD778E12840382D7CD32D7B51C0D0C541D7F8E428408AC1D128597D51C0704F42D728ED2840E6E3D128C58151C0005C982CBE0B2940623E7CD3138351C0B055ED81F30F294076A57CD3B78351C0C8163FD708132940AC44277EFE8351C0E8C541D7F8172940A028D228DD8351C0784F42D7281D2940E4E3D128458351C018DE3BD7E8252940B044277E1E8351C078FD922CDE2A2940B044277E5E8351C0E02FEB81333329404206D228D18351C0A8EA912C7E3A2940FE4AD228E98351C0E82FEB8133402940B044277E1E8351C0F0033ED7A8432940725AD128758051C0903C41D7C82B2940362D7CD3CD7F51C098543BD7B8272940')"
      ]
     },
     "execution_count": 37,
     "metadata": {},
     "output_type": "execute_result"
    }
   ],
   "source": [
    "import psycopg2\n",
    "conn = psycopg2.connect(\"host=localhost dbname=positiumDB user=enlik\")\n",
    "cur = conn.cursor()\n",
    "cur.execute('SELECT * FROM countries')\n",
    "one = cur.fetchone()\n",
    "# all = cur.fetchall()\n",
    "one"
   ]
  },
  {
   "cell_type": "code",
   "execution_count": 38,
   "metadata": {},
   "outputs": [],
   "source": [
    "cur.execute(\"\"\"\n",
    "CREATE TABLE users(\n",
    "id integer PRIMARY KEY,\n",
    "email text,\n",
    "name text,\n",
    "address text)\n",
    "\"\"\")\n",
    "conn.commit()"
   ]
  },
  {
   "cell_type": "code",
   "execution_count": 39,
   "metadata": {},
   "outputs": [],
   "source": [
    "update_query = \"\"\"UPDATE test_gis.iso_a2_list SET geom_id = %s WHERE iso_a2 = %s\"\"\"\n",
    "cur.execute(update_query, (5, 'ae'))\n",
    "conn.commit()"
   ]
  }
 ],
 "metadata": {
  "kernelspec": {
   "display_name": "Python 3",
   "language": "python",
   "name": "python3"
  },
  "language_info": {
   "codemirror_mode": {
    "name": "ipython",
    "version": 3
   },
   "file_extension": ".py",
   "mimetype": "text/x-python",
   "name": "python",
   "nbconvert_exporter": "python",
   "pygments_lexer": "ipython3",
   "version": "3.7.4"
  }
 },
 "nbformat": 4,
 "nbformat_minor": 2
}
