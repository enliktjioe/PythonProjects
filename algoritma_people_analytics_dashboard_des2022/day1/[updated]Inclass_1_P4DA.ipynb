{
 "cells": [
  {
   "cell_type": "markdown",
   "metadata": {},
   "source": [
    "**Coursebook: Python for Data Analysts**\n",
    "\n",
    "- Part 1 of Data Science Series\n",
    "- Course Length: 3 hours\n",
    "- Last Updated: December 2022\n",
    "\n",
    "___\n",
    "\n",
    "- Developed by: [Dwi Gustin Nurdialit](https://github.com/dwiknrd)"
   ]
  },
  {
   "cell_type": "markdown",
   "metadata": {},
   "source": [
    "# Background"
   ]
  },
  {
   "cell_type": "markdown",
   "metadata": {},
   "source": [
    "## Top-Down Approach \n",
    "\n",
    "The coursebook is part of the **Data Science in Python Specialization** offered by [Algoritma](https://algorit.ma). It takes a more accessible approach compared to Algoritma's core educational products, by getting participants to overcome the \"how\" barrier first, rather than a detailed breakdown of the \"why\". \n",
    "\n",
    "This translates to an overall easier learning curve, one where the reader is prompted to write short snippets of code in frequent intervals, before being offered an explanation on the underlying theoretical frameworks. Instead of mastering the syntactic design of the Python programming language, then moving into data structures, and then the `pandas` library, and then the mathematical details in an imputation algorithm, and its code implementation; we would do the opposite: Implement the imputation, then a succinct explanation of why it works and applicational considerations (what to look out for, what are assumptions it made, when _not_ to use it etc).\n",
    "\n",
    "For the most part, experience in Python programming is good to have but not required. Familiarity with data manipulation and data structures in a different programming language a welcome addition but again, not required."
   ]
  },
  {
   "cell_type": "markdown",
   "metadata": {},
   "source": [
    "## Training Objectives\n",
    "\n",
    "This coursebook is intended for participants new to the world of data analysis and / or programming. No prior programming knowledge is assumed. \n",
    "\n",
    "The coursebook focuses on:\n",
    "\n",
    "- Introduction to the `pandas` library. \n",
    "- Introduction to `DataFrame`  \n",
    "- Data Types\n",
    "- Exploratory Data Analysis\n",
    "- Indexing and Subsetting\n",
    "\n",
    "The final part of this course is a Graded Asssignment, where you are expected to apply all that you've learned on a new dataset, and attempt the given questions."
   ]
  },
  {
   "cell_type": "markdown",
   "metadata": {},
   "source": [
    "# Environment\n",
    "\n",
    "**Cara membuat virtual environment baru:**\n",
    "\n",
    "1. Membuka Anaconda Prompt\n",
    "\n",
    "2. Buat environment dengan nama `ENV_NAME`:\n",
    "    ```\n",
    "    conda create -n <ENV_NAME> python=<PYTHON_VERSION>\n",
    "    ```\n",
    "    Contoh: `conda create -n dss_dash python=3.9`\n",
    "\n",
    "\n",
    "3. Mengaktifkan (pindah) environment:\n",
    "    ```\n",
    "    conda activate <ENV_NAME>\n",
    "    ```\n",
    "    Contoh: `conda activate dss_dash`\n",
    "    \n",
    "\n",
    "4. Cara instalasi package:\n",
    "    ```\n",
    "    pip install <PACKAGE_NAME>\n",
    "    ```\n",
    "    Contoh: `pip install -r requirements.txt`\n",
    "\n",
    "5. Memasang kernel di dalam environment:\n",
    "    ```\n",
    "    python -m ipykernel install --user --name=<KERNEL_NAME>\n",
    "    ```"
   ]
  },
  {
   "cell_type": "markdown",
   "metadata": {},
   "source": [
    "# Python for Data Analysts\n",
    "\n",
    "# Introduction to Jupyter Notebook\n",
    "\n",
    "## Markdown Cell and Code Cell\n",
    "\n",
    "Kumpulan shortcut: **CTRL + SHIFT + P**\n",
    "\n",
    "Tipe cell dalam notebook:\n",
    "1. Markdown\n",
    "2. Code"
   ]
  },
  {
   "cell_type": "markdown",
   "metadata": {},
   "source": [
    "This is markdown cell. You can write a formatted text such as **bold** or *italic*. You can even write mathematical formula such \n",
    "\n",
    "\\begin{equation}\n",
    "f(x) = \\frac{e^{-x}}{(1+e^{-x})}\n",
    "\\end{equation}"
   ]
  },
  {
   "cell_type": "code",
   "execution_count": 1,
   "metadata": {},
   "outputs": [
    {
     "name": "stdout",
     "output_type": "stream",
     "text": [
      "and this is code cell where you put your python codes\n",
      "another word\n"
     ]
    }
   ],
   "source": [
    "# Ini adalah comment\n",
    "print('and this is code cell where you put your python codes')\n",
    "print('another word') "
   ]
  },
  {
   "cell_type": "markdown",
   "metadata": {},
   "source": [
    "## Command Mode and Edit Mode\n",
    "\n",
    "Mode cell dalam notebook:\n",
    "1. Command mode (cell berwarna BIRU)\n",
    "    - `a` : add cell above \n",
    "    - `b` : add cell below \n",
    "    - `d` + `d` : delete selected cell \n",
    "    - `x` : cut selected cell \n",
    "    - `c` : copy selected cell \n",
    "    - `v` : paste selected cell \n",
    "    - `z` : undo \n",
    "    - `m` : change cell type to markdown \n",
    "    - `y` : change cell type to code\n",
    "    - `enter` : enter Edit Mode\n",
    "    - `h` : show keyboard shortcuts\n",
    "\n",
    "\n",
    "2. Edit mode (cell berwarna HIJAU)\n",
    "    - `Ctrl + Enter`: eksekusi satu cell\n",
    "    - `Esc`: Mengubah edit mode menjadi command mode"
   ]
  },
  {
   "cell_type": "markdown",
   "metadata": {},
   "source": [
    "# Introduction to Python\n",
    "## Variables and Keywords\n",
    "\n",
    "**Variable** adalah sebuah nama yang dipakai untuk menunjukkan sebuah nilai. Tanda `=` dipakai untuk membuat variable baru. Proses ini sering disebut sebagai **assignment**."
   ]
  },
  {
   "cell_type": "code",
   "execution_count": 2,
   "metadata": {},
   "outputs": [],
   "source": [
    "panjang = 6"
   ]
  },
  {
   "cell_type": "code",
   "execution_count": 3,
   "metadata": {},
   "outputs": [
    {
     "data": {
      "text/plain": [
       "6"
      ]
     },
     "execution_count": 3,
     "metadata": {},
     "output_type": "execute_result"
    }
   ],
   "source": [
    "panjang"
   ]
  },
  {
   "cell_type": "code",
   "execution_count": 4,
   "metadata": {},
   "outputs": [
    {
     "name": "stdout",
     "output_type": "stream",
     "text": [
      "programming\n"
     ]
    }
   ],
   "source": [
    "activity = 'programming'\n",
    "\n",
    "print(activity)"
   ]
  },
  {
   "cell_type": "markdown",
   "metadata": {},
   "source": [
    "Python adalah bahasa pemrograman yang **case-sensitive** sehingga penamaan variable menjadi hal yang perlu diperhatikan. Misal penulisan variable `activity` dengan awalan huruf `a` kecil berbeda dengan yang diawali dengan huruf `A` besar."
   ]
  },
  {
   "cell_type": "code",
   "execution_count": 5,
   "metadata": {},
   "outputs": [
    {
     "data": {
      "text/plain": [
       "False"
      ]
     },
     "execution_count": 5,
     "metadata": {},
     "output_type": "execute_result"
    }
   ],
   "source": [
    "'activity' == 'Activity'"
   ]
  },
  {
   "cell_type": "code",
   "execution_count": 6,
   "metadata": {
    "scrolled": true
   },
   "outputs": [
    {
     "data": {
      "text/plain": [
       "True"
      ]
     },
     "execution_count": 6,
     "metadata": {},
     "output_type": "execute_result"
    }
   ],
   "source": [
    "activity == activity"
   ]
  },
  {
   "cell_type": "markdown",
   "metadata": {},
   "source": [
    "Berikut beberapa anjuran dalam memberikan nama variable pada Python:\n",
    "- Menggunakan kombinasi dari huruf kapital (A-Z), huruf nomina (a-z), angka (0-9).\n",
    "- Special character `!, $ , &, dll` tidak dapat digunakan dalam penamaan variabel.\n",
    "- Tidak boleh menggunakan angka di awal.\n",
    "- Tidak boleh menggunakan keyword pada Python\n",
    "- Bersifat case-sensitive sehingga penamaan variable `algoritma`, `ALGORITMA`, dan `Algoritma` adalah 3 variable yang berbeda"
   ]
  },
  {
   "cell_type": "markdown",
   "metadata": {},
   "source": [
    "**Keywords** adalah kata kunci yang sudah ditetapkan oleh Python sebagai nama yang tidak bisa dipakai baik untuk penamaan fungsi, variabel, dan lainnya. Keyword ditulis dalam lower-case (huruf kecil semua) kecuali keyword `True`, `False`, dan `None`. Sejauh ini (Python 3.9) keyword yang ada pada Python adalah sebagai berikut:"
   ]
  },
  {
   "cell_type": "code",
   "execution_count": 7,
   "metadata": {},
   "outputs": [],
   "source": [
    "true = 'benar'"
   ]
  },
  {
   "cell_type": "code",
   "execution_count": 8,
   "metadata": {},
   "outputs": [
    {
     "data": {
      "text/plain": [
       "['False',\n",
       " 'None',\n",
       " 'True',\n",
       " '__peg_parser__',\n",
       " 'and',\n",
       " 'as',\n",
       " 'assert',\n",
       " 'async',\n",
       " 'await',\n",
       " 'break',\n",
       " 'class',\n",
       " 'continue',\n",
       " 'def',\n",
       " 'del',\n",
       " 'elif',\n",
       " 'else',\n",
       " 'except',\n",
       " 'finally',\n",
       " 'for',\n",
       " 'from',\n",
       " 'global',\n",
       " 'if',\n",
       " 'import',\n",
       " 'in',\n",
       " 'is',\n",
       " 'lambda',\n",
       " 'nonlocal',\n",
       " 'not',\n",
       " 'or',\n",
       " 'pass',\n",
       " 'raise',\n",
       " 'return',\n",
       " 'try',\n",
       " 'while',\n",
       " 'with',\n",
       " 'yield']"
      ]
     },
     "execution_count": 8,
     "metadata": {},
     "output_type": "execute_result"
    }
   ],
   "source": [
    "# Cek daftar keyword\n",
    "import keyword\n",
    "keyword.kwlist"
   ]
  },
  {
   "cell_type": "code",
   "execution_count": 9,
   "metadata": {},
   "outputs": [],
   "source": [
    "panjang = 10"
   ]
  },
  {
   "cell_type": "code",
   "execution_count": 10,
   "metadata": {},
   "outputs": [],
   "source": [
    "tempat = 'Algoritma'"
   ]
  },
  {
   "cell_type": "markdown",
   "metadata": {},
   "source": [
    "## Python Object and Data Structures\n",
    "\n",
    "### String\n",
    "\n",
    "Python mewakili string apa pun sebagai objek `str`. Ada beberapa cara untuk membuat nilai string:\n",
    "\n",
    "- menggunakan `''` (yaitu: `'cyber punk 2077'`)\n",
    "- menggunakan `\"\"` (yaitu : `\"Hari Jum'at\"`)\n",
    "- menggunakan `'''` atau `\"\"\"` (yaitu: `'''Andi berkata \"Jum'at Bersih\"'''`)\n"
   ]
  },
  {
   "cell_type": "markdown",
   "metadata": {},
   "source": [
    "### Number\n",
    "\n",
    "Untuk menyimpan number, python memiliki dua tipe data asli yang disebut `int` dan `float`.\n",
    "- `int` digunakan untuk menyimpan bilangan bulat (yaitu: 1,2,-3)\n",
    "- `float` digunakan untuk menyimpan bilangan real (yaitu: 0.7, -1.8, -1000.0)."
   ]
  },
  {
   "cell_type": "markdown",
   "metadata": {},
   "source": [
    "**Operasi Angka** \\\n",
    "Operator Aritmatika:\n",
    "- `+` - Penambahan\n",
    "- `-` - Pengurangan\n",
    "- `*` - Perkalian\n",
    "- `/` - Divisi\n",
    "- `//` - Pembagian Putaran\n",
    "- `%` - Modul\n",
    "- `**` - Eksponen\n",
    "\n",
    "Operator Perbandingan:\n",
    "- `<` - Lebih kecil dari (yaitu : a < b)\n",
    "- `<=` - Lebih kecil atau sama dengan (yaitu : a <= b)\n",
    "- `>` - Lebih besar dari (yaitu: a > b)\n",
    "- `>=` - Lebih besar atau sama dengan (yaitu: a >= b)\n",
    "- `==` - Sama dengan (yaitu: a == b)\n",
    "- `!=` - Tidak Sama dengan (yaitu: a != b)"
   ]
  },
  {
   "cell_type": "markdown",
   "metadata": {},
   "source": [
    "### Boolean\n",
    "\n",
    "Boolean menyimpan nilai yang sangat sederhana dalam komputer dan pemrograman, `True` atau `False`.\n",
    "\n",
    "**Operasi Boolean** \\\n",
    "Python menyediakan operator logika seperti:\n",
    "- and (yaitu: a and b)\n",
    "- or (yaitu: a or c)\n",
    "- not (yaitu: not a)"
   ]
  },
  {
   "cell_type": "markdown",
   "metadata": {},
   "source": [
    "### List\n",
    "\n",
    "`list` digunakan untuk menyimpan beberapa nilai dalam python. Untuk membuatnya, cukup letakkan nilai di dalam tanda kurung (yaitu: `x = [1,2,3]` )"
   ]
  },
  {
   "cell_type": "code",
   "execution_count": 11,
   "metadata": {},
   "outputs": [
    {
     "data": {
      "text/plain": [
       "[1, 2, 3]"
      ]
     },
     "execution_count": 11,
     "metadata": {},
     "output_type": "execute_result"
    }
   ],
   "source": [
    "[1,2,3]"
   ]
  },
  {
   "cell_type": "code",
   "execution_count": 12,
   "metadata": {},
   "outputs": [],
   "source": [
    "my_list = [1,2,3]"
   ]
  },
  {
   "cell_type": "code",
   "execution_count": 13,
   "metadata": {},
   "outputs": [],
   "source": [
    "my_list = ['A string',23,100.232,'o']"
   ]
  },
  {
   "cell_type": "markdown",
   "metadata": {},
   "source": [
    "**Operasi List**\n",
    "- `x.append(a)` : tambahkan a ke x\n",
    "- `x.remove(a)` : hapus a dari x\n",
    "\n",
    "Selain operator yang dikenal sebelumnya, salah satu list yang paling berguna adalah dengan menerapkan fungsi agregasi seperti:\n",
    "- `len(x)` : ekstrak panjang daftar\n",
    "- `a in b` : memeriksa apakah nilai `a` ada di objek daftar `b`\n",
    "- `max(x)` : mendapatkan nilai tertinggi dalam x\n",
    "- `sum(x)` : mendapatkan jumlah nilai dalam x\n",
    "\n",
    "Operasi lain yang harus diketahui dalam daftar adalah pengindeksan:\n",
    "- `x[i]` : mengakses elemen ke-i dari x"
   ]
  },
  {
   "cell_type": "markdown",
   "metadata": {},
   "source": [
    "### Dictionaries\n",
    "\n",
    "Kami telah belajar tentang urutan dalam Python, tetapi sekarang kami akan mengganti persneling dan belajar tentang pemetaan dengan Python. Jika Anda terbiasa dengan bahasa lain, Anda dapat menganggap Kamus ini sebagai tabel hash.\n",
    "\n",
    "Dictionary Python terdiri dari **key** dan kemudian **value** terkait. Nilai itu bisa berupa hampir semua objek Python.\n",
    "\n",
    "**Membuat Dictionary**\n",
    "\n",
    "Mari kita lihat bagaimana kita dapat membuat dictionary untuk mendapatkan pemahaman yang lebih baik tentang cara kerjanya!"
   ]
  },
  {
   "cell_type": "code",
   "execution_count": 14,
   "metadata": {},
   "outputs": [],
   "source": [
    "# Make a dictionary with {} and : to signify a key and a value\n",
    "my_dict = {'key1':'value1',\n",
    "           'key2':'value2'}"
   ]
  },
  {
   "cell_type": "code",
   "execution_count": 15,
   "metadata": {},
   "outputs": [
    {
     "data": {
      "text/plain": [
       "'value2'"
      ]
     },
     "execution_count": 15,
     "metadata": {},
     "output_type": "execute_result"
    }
   ],
   "source": [
    "# Call values by their key\n",
    "my_dict['key2']"
   ]
  },
  {
   "cell_type": "markdown",
   "metadata": {},
   "source": [
    "Its important to note that dictionaries are very flexible in the data types they can hold. For example:"
   ]
  },
  {
   "cell_type": "code",
   "execution_count": 16,
   "metadata": {},
   "outputs": [],
   "source": [
    "my_dict = {'key1':345,'key2':[34,45,56],'key3':['item3','item4','item5']}"
   ]
  },
  {
   "cell_type": "code",
   "execution_count": 17,
   "metadata": {},
   "outputs": [
    {
     "data": {
      "text/plain": [
       "['item3', 'item4', 'item5']"
      ]
     },
     "execution_count": 17,
     "metadata": {},
     "output_type": "execute_result"
    }
   ],
   "source": [
    "# Let's call items from the dictionary\n",
    "my_dict['key3']"
   ]
  },
  {
   "cell_type": "markdown",
   "metadata": {},
   "source": [
    "### Functions\n",
    "\n",
    "Fungsi adalah perangkat berguna yang mengelompokkan sekumpulan pernyataan sehingga dapat dijalankan lebih dari satu kali. Mereka juga dapat membiarkan kami menentukan parameter yang dapat berfungsi sebagai input ke fungsi.\n",
    "\n",
    "Pada tingkat yang lebih mendasar, fungsi memungkinkan kita untuk tidak perlu berulang kali menulis kode yang sama. Jika Anda mengingat kembali pelajaran tentang string dan daftar, ingatlah bahwa kita menggunakan fungsi len() untuk mendapatkan panjang string. Karena memeriksa panjang urutan adalah tugas umum, Anda ingin menulis fungsi yang dapat melakukan ini berulang kali sesuai perintah.\n",
    "\n",
    "**Kenapa malah menggunakan fungsi?**\n",
    "\n",
    "Sederhananya, Anda harus menggunakan fungsi saat berencana menggunakan blok kode berkali-kali. Fungsi ini memungkinkan Anda untuk memanggil blok kode yang sama tanpa harus menulisnya berkali-kali. Ini pada gilirannya akan memungkinkan Anda untuk membuat skrip Python yang lebih kompleks. Untuk benar-benar memahami ini, kita harus benar-benar menulis fungsi kita sendiri!"
   ]
  },
  {
   "cell_type": "markdown",
   "metadata": {},
   "source": [
    " **Creating a function**\n",
    "\n",
    "\n",
    "Dalam Python, sebuah fungsi didefinisikan menggunakan keyword `def`, dan diikuti dengan nama fungsi."
   ]
  },
  {
   "cell_type": "code",
   "execution_count": 18,
   "metadata": {},
   "outputs": [],
   "source": [
    "def my_function():\n",
    "  print(\"Hello from a function\")"
   ]
  },
  {
   "cell_type": "markdown",
   "metadata": {},
   "source": [
    "**Calling a function**\n",
    "\n",
    "Untuk memanggil fungsi, gunakan nama fungsi diikuti dengan tanda kurung:"
   ]
  },
  {
   "cell_type": "code",
   "execution_count": 19,
   "metadata": {},
   "outputs": [
    {
     "name": "stdout",
     "output_type": "stream",
     "text": [
      "Hello from a function\n"
     ]
    }
   ],
   "source": [
    "my_function()"
   ]
  },
  {
   "cell_type": "markdown",
   "metadata": {},
   "source": [
    "**Arguments**\n",
    "\n",
    "\n",
    "Informasi dapat diteruskan ke fungsi sebagai argumen.\n",
    "\n",
    "Argumen ditentukan setelah nama fungsi, di dalam tanda kurung. Anda dapat menambahkan argumen sebanyak yang Anda inginkan, cukup pisahkan dengan koma.\n",
    "\n",
    "Contoh berikut memiliki fungsi dengan satu argumen (`nama`). Saat fungsi dipanggil, kami memberikan nama depan, yang digunakan di dalam fungsi untuk mencetak nama lengkap:\n"
   ]
  },
  {
   "cell_type": "code",
   "execution_count": 20,
   "metadata": {},
   "outputs": [
    {
     "name": "stdout",
     "output_type": "stream",
     "text": [
      "Dwi from Algoritma\n",
      "Kevin from Algoritma\n",
      "Jafar from Algoritma\n"
     ]
    }
   ],
   "source": [
    "def my_function(name):\n",
    "  print(name + \" from Algoritma\")\n",
    "\n",
    "my_function('Dwi')\n",
    "my_function('Kevin')\n",
    "my_function('Jafar')"
   ]
  },
  {
   "cell_type": "markdown",
   "metadata": {},
   "source": [
    "**Menggunakan return**\n",
    "\n",
    "Sejauh ini kita hanya melihat `print()` digunakan, tetapi jika kita benar-benar ingin menyimpan variabel yang dihasilkan, kita perlu menggunakan kata kunci **return**.\n",
    "\n",
    "Mari kita lihat beberapa contoh yang menggunakan pernyataan `return`. `return` memungkinkan fungsi untuk *mengembalikan* hasil yang kemudian dapat disimpan sebagai variabel, atau digunakan dengan cara apa pun yang diinginkan pengguna."
   ]
  },
  {
   "cell_type": "code",
   "execution_count": 21,
   "metadata": {},
   "outputs": [],
   "source": [
    "def area(width, length):\n",
    "    print(width*length)"
   ]
  },
  {
   "cell_type": "code",
   "execution_count": 22,
   "metadata": {},
   "outputs": [
    {
     "name": "stdout",
     "output_type": "stream",
     "text": [
      "3000\n"
     ]
    }
   ],
   "source": [
    "area(100, 30)"
   ]
  },
  {
   "cell_type": "code",
   "execution_count": 23,
   "metadata": {},
   "outputs": [],
   "source": [
    "def area(width,length):\n",
    "    return width*length"
   ]
  },
  {
   "cell_type": "code",
   "execution_count": 24,
   "metadata": {},
   "outputs": [
    {
     "data": {
      "text/plain": [
       "20"
      ]
     },
     "execution_count": 24,
     "metadata": {},
     "output_type": "execute_result"
    }
   ],
   "source": [
    "area(4,5)"
   ]
  },
  {
   "cell_type": "markdown",
   "metadata": {},
   "source": [
    "**A Very Common Question: \"What is the difference between `return` and `print`?\"**\n",
    "\n",
    "> The `return` keyword allows you to actually save the result of the output of a function as a variable. The `print()` function simply displays the output to you, but doesn't save it for future use. Let's explore this in more detail"
   ]
  },
  {
   "cell_type": "code",
   "execution_count": 25,
   "metadata": {},
   "outputs": [],
   "source": [
    "def print_result(a,b):\n",
    "    print(a+b)"
   ]
  },
  {
   "cell_type": "code",
   "execution_count": 26,
   "metadata": {},
   "outputs": [],
   "source": [
    "def return_result(a,b):\n",
    "    return a+b"
   ]
  },
  {
   "cell_type": "code",
   "execution_count": 27,
   "metadata": {},
   "outputs": [
    {
     "name": "stdout",
     "output_type": "stream",
     "text": [
      "15\n"
     ]
    }
   ],
   "source": [
    "print_result(10,5)"
   ]
  },
  {
   "cell_type": "code",
   "execution_count": 28,
   "metadata": {},
   "outputs": [
    {
     "data": {
      "text/plain": [
       "15"
      ]
     },
     "execution_count": 28,
     "metadata": {},
     "output_type": "execute_result"
    }
   ],
   "source": [
    "# You won't see any output if you run this in a .py script\n",
    "return_result(10,5)"
   ]
  },
  {
   "cell_type": "markdown",
   "metadata": {},
   "source": [
    "But what happens if we actually want to save this result for later use?"
   ]
  },
  {
   "cell_type": "code",
   "execution_count": 29,
   "metadata": {},
   "outputs": [
    {
     "name": "stdout",
     "output_type": "stream",
     "text": [
      "40\n"
     ]
    }
   ],
   "source": [
    "my_result = print_result(20,20)"
   ]
  },
  {
   "cell_type": "code",
   "execution_count": 30,
   "metadata": {},
   "outputs": [],
   "source": [
    "my_result"
   ]
  },
  {
   "cell_type": "code",
   "execution_count": 31,
   "metadata": {},
   "outputs": [
    {
     "data": {
      "text/plain": [
       "NoneType"
      ]
     },
     "execution_count": 31,
     "metadata": {},
     "output_type": "execute_result"
    }
   ],
   "source": [
    "type(my_result)"
   ]
  },
  {
   "cell_type": "markdown",
   "metadata": {},
   "source": [
    "> Be careful! Notice how `print_result()` doesn't let you actually save the result to a variable! It only prints it out, with `print()` returning `None` for the assignment!"
   ]
  },
  {
   "cell_type": "markdown",
   "metadata": {},
   "source": [
    "# Introduction to pandas Library\n",
    "\n",
    "## Working with DataFrame"
   ]
  },
  {
   "cell_type": "markdown",
   "metadata": {},
   "source": [
    "`pandas` adalah library yang powerful sebagai tools analisis data dan struktur pada Python. Dengan `pandas`, mengolah data menjadi mudah karena disediakan salah satu objek bernama **DataFrame**. Dengan dataframe kita dapat membaca sebuah file, mengolah suatu data dengan menggunakan operasi seperti join, distinct, group by, agregasi, dan teknik lainnya.\n",
    "\n",
    "> Lebih lengkapnya silahkan kunjungi [official documentation](https://pandas.pydata.org/)\n",
    "\n",
    "Untuk menggunakan `pandas`, kita perlu import terlebih dahulu library dengan cara berikut ini:"
   ]
  },
  {
   "cell_type": "markdown",
   "metadata": {},
   "source": [
    "Semua method pada `pandas` dapat dipanggil dengan syntax seperti: `pandas.function_name()`. Langkah pertama yang akan kita lakukan adalah membaca data. Kita dapat menggunakan method `.read_csv()` untuk membaca sebuah file dengan format `.csv`."
   ]
  },
  {
   "cell_type": "code",
   "execution_count": 32,
   "metadata": {
    "scrolled": true
   },
   "outputs": [
    {
     "name": "stdout",
     "output_type": "stream",
     "text": [
      "1.5.1\n"
     ]
    }
   ],
   "source": [
    "import pandas as pd\n",
    "print(pd.__version__)"
   ]
  },
  {
   "cell_type": "code",
   "execution_count": 33,
   "metadata": {},
   "outputs": [],
   "source": [
    "# read data\n",
    "promotion = pd.read_csv('data_input/promotion_clean.csv')"
   ]
  },
  {
   "cell_type": "code",
   "execution_count": 34,
   "metadata": {},
   "outputs": [
    {
     "data": {
      "text/html": [
       "<div>\n",
       "<style scoped>\n",
       "    .dataframe tbody tr th:only-of-type {\n",
       "        vertical-align: middle;\n",
       "    }\n",
       "\n",
       "    .dataframe tbody tr th {\n",
       "        vertical-align: top;\n",
       "    }\n",
       "\n",
       "    .dataframe thead th {\n",
       "        text-align: right;\n",
       "    }\n",
       "</style>\n",
       "<table border=\"1\" class=\"dataframe\">\n",
       "  <thead>\n",
       "    <tr style=\"text-align: right;\">\n",
       "      <th></th>\n",
       "      <th>employee_id</th>\n",
       "      <th>department</th>\n",
       "      <th>region</th>\n",
       "      <th>education</th>\n",
       "      <th>gender</th>\n",
       "      <th>recruitment_channel</th>\n",
       "      <th>no_of_trainings</th>\n",
       "      <th>date_of_birth</th>\n",
       "      <th>age</th>\n",
       "      <th>previous_year_rating</th>\n",
       "      <th>join_date</th>\n",
       "      <th>length_of_service</th>\n",
       "      <th>KPIs_met &gt;80%</th>\n",
       "      <th>awards_won?</th>\n",
       "      <th>avg_training_score</th>\n",
       "      <th>is_promoted</th>\n",
       "    </tr>\n",
       "  </thead>\n",
       "  <tbody>\n",
       "    <tr>\n",
       "      <th>0</th>\n",
       "      <td>65438</td>\n",
       "      <td>Sales &amp; Marketing</td>\n",
       "      <td>region_7</td>\n",
       "      <td>Master's &amp; above</td>\n",
       "      <td>Female</td>\n",
       "      <td>sourcing</td>\n",
       "      <td>1</td>\n",
       "      <td>1986-10-21</td>\n",
       "      <td>35</td>\n",
       "      <td>5.0</td>\n",
       "      <td>2013-10-11</td>\n",
       "      <td>8</td>\n",
       "      <td>Yes</td>\n",
       "      <td>No</td>\n",
       "      <td>49</td>\n",
       "      <td>No</td>\n",
       "    </tr>\n",
       "    <tr>\n",
       "      <th>1</th>\n",
       "      <td>65141</td>\n",
       "      <td>Operations</td>\n",
       "      <td>region_22</td>\n",
       "      <td>Bachelor's</td>\n",
       "      <td>Male</td>\n",
       "      <td>other</td>\n",
       "      <td>1</td>\n",
       "      <td>1991-11-21</td>\n",
       "      <td>30</td>\n",
       "      <td>5.0</td>\n",
       "      <td>2017-09-19</td>\n",
       "      <td>4</td>\n",
       "      <td>No</td>\n",
       "      <td>No</td>\n",
       "      <td>60</td>\n",
       "      <td>No</td>\n",
       "    </tr>\n",
       "    <tr>\n",
       "      <th>2</th>\n",
       "      <td>7513</td>\n",
       "      <td>Sales &amp; Marketing</td>\n",
       "      <td>region_19</td>\n",
       "      <td>Bachelor's</td>\n",
       "      <td>Male</td>\n",
       "      <td>sourcing</td>\n",
       "      <td>1</td>\n",
       "      <td>1987-09-14</td>\n",
       "      <td>34</td>\n",
       "      <td>3.0</td>\n",
       "      <td>2014-05-29</td>\n",
       "      <td>7</td>\n",
       "      <td>No</td>\n",
       "      <td>No</td>\n",
       "      <td>50</td>\n",
       "      <td>No</td>\n",
       "    </tr>\n",
       "    <tr>\n",
       "      <th>3</th>\n",
       "      <td>2542</td>\n",
       "      <td>Sales &amp; Marketing</td>\n",
       "      <td>region_23</td>\n",
       "      <td>Bachelor's</td>\n",
       "      <td>Male</td>\n",
       "      <td>other</td>\n",
       "      <td>2</td>\n",
       "      <td>1982-02-17</td>\n",
       "      <td>39</td>\n",
       "      <td>1.0</td>\n",
       "      <td>2011-06-29</td>\n",
       "      <td>10</td>\n",
       "      <td>No</td>\n",
       "      <td>No</td>\n",
       "      <td>50</td>\n",
       "      <td>No</td>\n",
       "    </tr>\n",
       "    <tr>\n",
       "      <th>4</th>\n",
       "      <td>48945</td>\n",
       "      <td>Technology</td>\n",
       "      <td>region_26</td>\n",
       "      <td>Bachelor's</td>\n",
       "      <td>Male</td>\n",
       "      <td>other</td>\n",
       "      <td>1</td>\n",
       "      <td>1976-02-22</td>\n",
       "      <td>45</td>\n",
       "      <td>3.0</td>\n",
       "      <td>2019-07-30</td>\n",
       "      <td>2</td>\n",
       "      <td>No</td>\n",
       "      <td>No</td>\n",
       "      <td>73</td>\n",
       "      <td>No</td>\n",
       "    </tr>\n",
       "  </tbody>\n",
       "</table>\n",
       "</div>"
      ],
      "text/plain": [
       "   employee_id         department     region         education  gender  \\\n",
       "0        65438  Sales & Marketing   region_7  Master's & above  Female   \n",
       "1        65141         Operations  region_22        Bachelor's    Male   \n",
       "2         7513  Sales & Marketing  region_19        Bachelor's    Male   \n",
       "3         2542  Sales & Marketing  region_23        Bachelor's    Male   \n",
       "4        48945         Technology  region_26        Bachelor's    Male   \n",
       "\n",
       "  recruitment_channel  no_of_trainings date_of_birth  age  \\\n",
       "0            sourcing                1    1986-10-21   35   \n",
       "1               other                1    1991-11-21   30   \n",
       "2            sourcing                1    1987-09-14   34   \n",
       "3               other                2    1982-02-17   39   \n",
       "4               other                1    1976-02-22   45   \n",
       "\n",
       "   previous_year_rating   join_date  length_of_service KPIs_met >80%  \\\n",
       "0                   5.0  2013-10-11                  8           Yes   \n",
       "1                   5.0  2017-09-19                  4            No   \n",
       "2                   3.0  2014-05-29                  7            No   \n",
       "3                   1.0  2011-06-29                 10            No   \n",
       "4                   3.0  2019-07-30                  2            No   \n",
       "\n",
       "  awards_won?  avg_training_score is_promoted  \n",
       "0          No                  49          No  \n",
       "1          No                  60          No  \n",
       "2          No                  50          No  \n",
       "3          No                  50          No  \n",
       "4          No                  73          No  "
      ]
     },
     "execution_count": 34,
     "metadata": {},
     "output_type": "execute_result"
    }
   ],
   "source": [
    "promotion.head()"
   ]
  },
  {
   "cell_type": "code",
   "execution_count": 35,
   "metadata": {},
   "outputs": [
    {
     "data": {
      "text/plain": [
       "int"
      ]
     },
     "execution_count": 35,
     "metadata": {},
     "output_type": "execute_result"
    }
   ],
   "source": [
    "type(panjang)"
   ]
  },
  {
   "cell_type": "code",
   "execution_count": 36,
   "metadata": {},
   "outputs": [
    {
     "data": {
      "text/plain": [
       "pandas.core.frame.DataFrame"
      ]
     },
     "execution_count": 36,
     "metadata": {},
     "output_type": "execute_result"
    }
   ],
   "source": [
    "type(promotion)"
   ]
  },
  {
   "cell_type": "markdown",
   "metadata": {},
   "source": [
    "# Tipe Data\n",
    "\n",
    "Dataframe terdiri dari beberapa **Series** (mengacu pada satu kolom). Dalam satu series harus memiliki satu tipe data yang sama. `pandas`akan mencoba untuk infer tipe data dari masing-masing Series, tapi tidak selalu benar.\n",
    "\n",
    "## Check Tipe Data\n",
    "\n",
    "Cara cek tipe data: `dtypes` atau `.info()` untuk lebih lengkapnya"
   ]
  },
  {
   "cell_type": "code",
   "execution_count": 37,
   "metadata": {
    "scrolled": true
   },
   "outputs": [
    {
     "data": {
      "text/plain": [
       "employee_id               int64\n",
       "department               object\n",
       "region                   object\n",
       "education                object\n",
       "gender                   object\n",
       "recruitment_channel      object\n",
       "no_of_trainings           int64\n",
       "date_of_birth            object\n",
       "age                       int64\n",
       "previous_year_rating    float64\n",
       "join_date                object\n",
       "length_of_service         int64\n",
       "KPIs_met >80%            object\n",
       "awards_won?              object\n",
       "avg_training_score        int64\n",
       "is_promoted              object\n",
       "dtype: object"
      ]
     },
     "execution_count": 37,
     "metadata": {},
     "output_type": "execute_result"
    }
   ],
   "source": [
    "promotion.dtypes"
   ]
  },
  {
   "cell_type": "markdown",
   "metadata": {},
   "source": [
    "🔎 **Method vs. Atribut**\n",
    "\n",
    "- Secara fisik/terlihat mata, method selalu diikuti dengan tanda kurung ()\n",
    "Contoh : head(). tail(), read_csv()\n",
    "- Secara fisik/terlihat mata, atribut tidak diikuti oleh tanda kurung\n",
    "Contoh : dtypes\n",
    "- Didalam sebuah method, nilai parameter itu bisa diganti-ganti\n",
    "Contoh : head(n=) -> parameter n bisa diganti/disesuaikan dengan jumalh baris yang mau ditampilkan\n",
    "- Pada sebuah atribut, penggunaaan apa adanya/tidak ada nilai yang bisa diganti ganti \n",
    "\n",
    "----"
   ]
  },
  {
   "cell_type": "markdown",
   "metadata": {},
   "source": [
    "## Categorical and Numerical Variables\n",
    "\n",
    "Tipe data categorical adalah tipe data yang memiliki karakteristik dimana nilainya dapat berulang pada sebuah Series di dataframe. \n",
    "\n",
    "Dua alasan mengapa kita perlu menggunakan tipe data categorical:\n",
    "\n",
    "1. Dari sisi \"business perspective\", hal ini dapat menginformasikan dan memandu seorang Analyst pada pertanyaan seperti metode statistik atau tipe plot mana yang digunakan untuk mengolah data.\n",
    "\n",
    "2. Dari sisi teknikal, ketika kita bekerja dengan tipe data categorical pada pandas, hal ini akan jauh menghemat memori dan menambah kecepatan komputasional.\n",
    "\n",
    "Dikutip dari official documentation:\n",
    "\n",
    "> Categoricals are a pandas data type corresponding to categorical variables in statistics. A categorical variable takes on a limited, and usually fixed, number of possible values (categories; levels in R). Examples are gender, social class, blood type, country affiliation or rating via Likert scales.\n",
    "\n",
    "Untuk mengubah tipe data ke categorical pada pandas, Anda dapat melakukannya dengan method `astype()` berikut:\n",
    "\n",
    "**Formula** \n",
    "```\n",
    "df['column_name'] = df['column_name'].astype('new_data_types')\n",
    "```\n",
    "\n",
    "**Contoh**\n",
    "```\n",
    "employees['marital_status'] = employees['marital_status'].astype('category')\n",
    "```"
   ]
  },
  {
   "cell_type": "markdown",
   "metadata": {},
   "source": [
    "Perhatikan dataframe baru di bawah ini untuk contoh lain dari tipe data pada `pandas`!"
   ]
  },
  {
   "cell_type": "code",
   "execution_count": 38,
   "metadata": {},
   "outputs": [
    {
     "data": {
      "text/plain": [
       "name                  object\n",
       "age                    int64\n",
       "joined        datetime64[ns]\n",
       "degree                  bool\n",
       "hourlyrate           float64\n",
       "division              object\n",
       "dtype: object"
      ]
     },
     "execution_count": 38,
     "metadata": {},
     "output_type": "execute_result"
    }
   ],
   "source": [
    "employees = pd.DataFrame({\n",
    "    'name': ['Anita', 'Brian'],\n",
    "    'age': [34, 29],\n",
    "    'joined': [pd.Timestamp('20190410'), pd.Timestamp('20171128')],\n",
    "    'degree': [True, False],\n",
    "    'hourlyrate': [35.5, 29],\n",
    "    'division': ['HR', 'Product']\n",
    "})\n",
    "employees.dtypes"
   ]
  },
  {
   "cell_type": "code",
   "execution_count": 39,
   "metadata": {
    "scrolled": true
   },
   "outputs": [
    {
     "data": {
      "text/html": [
       "<div>\n",
       "<style scoped>\n",
       "    .dataframe tbody tr th:only-of-type {\n",
       "        vertical-align: middle;\n",
       "    }\n",
       "\n",
       "    .dataframe tbody tr th {\n",
       "        vertical-align: top;\n",
       "    }\n",
       "\n",
       "    .dataframe thead th {\n",
       "        text-align: right;\n",
       "    }\n",
       "</style>\n",
       "<table border=\"1\" class=\"dataframe\">\n",
       "  <thead>\n",
       "    <tr style=\"text-align: right;\">\n",
       "      <th></th>\n",
       "      <th>name</th>\n",
       "      <th>age</th>\n",
       "      <th>joined</th>\n",
       "      <th>degree</th>\n",
       "      <th>hourlyrate</th>\n",
       "      <th>division</th>\n",
       "    </tr>\n",
       "  </thead>\n",
       "  <tbody>\n",
       "    <tr>\n",
       "      <th>0</th>\n",
       "      <td>Anita</td>\n",
       "      <td>34</td>\n",
       "      <td>2019-04-10</td>\n",
       "      <td>True</td>\n",
       "      <td>35.5</td>\n",
       "      <td>HR</td>\n",
       "    </tr>\n",
       "    <tr>\n",
       "      <th>1</th>\n",
       "      <td>Brian</td>\n",
       "      <td>29</td>\n",
       "      <td>2017-11-28</td>\n",
       "      <td>False</td>\n",
       "      <td>29.0</td>\n",
       "      <td>Product</td>\n",
       "    </tr>\n",
       "  </tbody>\n",
       "</table>\n",
       "</div>"
      ],
      "text/plain": [
       "    name  age     joined  degree  hourlyrate division\n",
       "0  Anita   34 2019-04-10    True        35.5       HR\n",
       "1  Brian   29 2017-11-28   False        29.0  Product"
      ]
     },
     "execution_count": 39,
     "metadata": {},
     "output_type": "execute_result"
    }
   ],
   "source": [
    "employees"
   ]
  },
  {
   "cell_type": "markdown",
   "metadata": {},
   "source": [
    "Let's go through the columns and their data types from the above `DataFrame`:\n",
    "\n",
    "- `name` [`object`]: store text values\n",
    "- `age` [`int`]: integer values\n",
    "- `joined` [`datetime`]: date and time values\n",
    "- `degree` [`bool`]: True/False values\n",
    "- `hourlyrate` [`float`]: floating point values\n",
    "- `division` [`object`]: store text values\n",
    "\n",
    "❓Perhatikan dataframe `employees`. Adakah kolom yang tipe datanya belum tersimpan dengan benar? Ubahlah ke tipe data yang tepat dengan menggunakan method `astype()`!"
   ]
  },
  {
   "cell_type": "code",
   "execution_count": 40,
   "metadata": {},
   "outputs": [
    {
     "data": {
      "text/plain": [
       "name                  object\n",
       "age                    int64\n",
       "joined        datetime64[ns]\n",
       "degree                  bool\n",
       "hourlyrate           float64\n",
       "division            category\n",
       "dtype: object"
      ]
     },
     "execution_count": 40,
     "metadata": {},
     "output_type": "execute_result"
    }
   ],
   "source": [
    "# code here\n",
    "employees['division'] = employees['division'].astype('category')\n",
    "employees.dtypes"
   ]
  },
  {
   "cell_type": "markdown",
   "metadata": {},
   "source": [
    "### Rangkuman Data Types\n",
    "\n",
    "Fokus pada kolom Pandas dtype dan usage-nya:\n",
    "\n",
    "| Pandas dtype  | Python type  | NumPy type                                                     | Usage                                        |\n",
    "|---------------|--------------|----------------------------------------------------------------|----------------------------------------------|\n",
    "| object        | str or mixed | string_, unicode_, mixed types                                 | Text or mixed numeric and non-numeric values |\n",
    "| int64         | int          | int_, int8, int16, int32, int64, uint8, uint16, uint32, uint64 | Integer numbers                              |\n",
    "| float64       | float        | float_, float16, float32, float64                              | Floating point numbers                       |\n",
    "| bool          | bool         | bool_                                                          | True/False values                            |\n",
    "| datetime64    | NA           | datetime64[ns]                                                 | Date and time values                         |\n",
    "| timedelta[ns] | NA           | NA                                                             | Differences between two datetimes            |\n",
    "| category      | NA           | NA                                                             | Finite list of text values                   |\n",
    "\n",
    "Referensi: [Overview of Pandas Data Types](https://pbpython.com/pandas_dtypes.html)"
   ]
  },
  {
   "cell_type": "markdown",
   "metadata": {},
   "source": [
    "## Exploratory Data Analysis Tools\n",
    "\n",
    "Exploratory Data Analysis (**EDA**) mengacu pada proses melakukan investigasi awal pada data, seringkali dengan tujuan untuk lebih mengenal dengan karakteristik data tertentu. EDA dilakukan dengan bantuan ringkasan statistik dan teknik grafis sederhana untuk melihat struktur data yang kita miliki.\n",
    "\n",
    "EDA:\n",
    "- Cek data dengan melihat struktur/bentuk data\n",
    "- Cek data dengan melihat statistika data\n",
    "- Cek data dengan memvisualisasikan data\n",
    "\n",
    "\n",
    "Beberapa tools sederhana pada `pandas` yang dapat digunakan untuk melakukan EDA adalah sebagai berikut:\n",
    "- `.head()` and `.tail()`\n",
    "- `.describe()`\n",
    "- `.shape` and `.size`\n",
    "- `.axes`\n",
    "- `.dtypes`"
   ]
  },
  {
   "cell_type": "markdown",
   "metadata": {},
   "source": [
    "## `.describe()`\n",
    "\n",
    "Method `describe()` menampilkan 8 ringkasan statistika deskriptif. Secara default menampilkan ringkasan untuk kolom numerik. \n",
    "\n",
    "Ringkasan statistika yang dimaksud adalah sebagai berikut:\n",
    "- Count: banyaknya baris pada dataframe\n",
    "- Mean: rata-rata nilai\n",
    "- Standard Deviation: jarak rata-rata antara data ke mean (titik pusat data)\n",
    "- Minimum Value: nilai terkecil dari keseluruhan data\n",
    "- 25th Percentile (Q1)\n",
    "- 50th Percentile (Q2/Median)\n",
    "- 75th Percentile (Q3)\n",
    "- Maximum Value: nilai terbesar dari keseluruhan data"
   ]
  },
  {
   "cell_type": "code",
   "execution_count": 41,
   "metadata": {},
   "outputs": [
    {
     "data": {
      "text/html": [
       "<div>\n",
       "<style scoped>\n",
       "    .dataframe tbody tr th:only-of-type {\n",
       "        vertical-align: middle;\n",
       "    }\n",
       "\n",
       "    .dataframe tbody tr th {\n",
       "        vertical-align: top;\n",
       "    }\n",
       "\n",
       "    .dataframe thead th {\n",
       "        text-align: right;\n",
       "    }\n",
       "</style>\n",
       "<table border=\"1\" class=\"dataframe\">\n",
       "  <thead>\n",
       "    <tr style=\"text-align: right;\">\n",
       "      <th></th>\n",
       "      <th>employee_id</th>\n",
       "      <th>no_of_trainings</th>\n",
       "      <th>age</th>\n",
       "      <th>previous_year_rating</th>\n",
       "      <th>length_of_service</th>\n",
       "      <th>avg_training_score</th>\n",
       "    </tr>\n",
       "  </thead>\n",
       "  <tbody>\n",
       "    <tr>\n",
       "      <th>count</th>\n",
       "      <td>54808.000000</td>\n",
       "      <td>54808.000000</td>\n",
       "      <td>54808.000000</td>\n",
       "      <td>54808.000000</td>\n",
       "      <td>54808.000000</td>\n",
       "      <td>54808.000000</td>\n",
       "    </tr>\n",
       "    <tr>\n",
       "      <th>mean</th>\n",
       "      <td>39195.830627</td>\n",
       "      <td>1.253011</td>\n",
       "      <td>34.803915</td>\n",
       "      <td>3.304481</td>\n",
       "      <td>5.865512</td>\n",
       "      <td>63.386750</td>\n",
       "    </tr>\n",
       "    <tr>\n",
       "      <th>std</th>\n",
       "      <td>22586.581449</td>\n",
       "      <td>0.609264</td>\n",
       "      <td>7.660169</td>\n",
       "      <td>1.214770</td>\n",
       "      <td>4.265094</td>\n",
       "      <td>13.371559</td>\n",
       "    </tr>\n",
       "    <tr>\n",
       "      <th>min</th>\n",
       "      <td>1.000000</td>\n",
       "      <td>1.000000</td>\n",
       "      <td>20.000000</td>\n",
       "      <td>1.000000</td>\n",
       "      <td>1.000000</td>\n",
       "      <td>39.000000</td>\n",
       "    </tr>\n",
       "    <tr>\n",
       "      <th>25%</th>\n",
       "      <td>19669.750000</td>\n",
       "      <td>1.000000</td>\n",
       "      <td>29.000000</td>\n",
       "      <td>3.000000</td>\n",
       "      <td>3.000000</td>\n",
       "      <td>51.000000</td>\n",
       "    </tr>\n",
       "    <tr>\n",
       "      <th>50%</th>\n",
       "      <td>39225.500000</td>\n",
       "      <td>1.000000</td>\n",
       "      <td>33.000000</td>\n",
       "      <td>3.000000</td>\n",
       "      <td>5.000000</td>\n",
       "      <td>60.000000</td>\n",
       "    </tr>\n",
       "    <tr>\n",
       "      <th>75%</th>\n",
       "      <td>58730.500000</td>\n",
       "      <td>1.000000</td>\n",
       "      <td>39.000000</td>\n",
       "      <td>4.000000</td>\n",
       "      <td>7.000000</td>\n",
       "      <td>76.000000</td>\n",
       "    </tr>\n",
       "    <tr>\n",
       "      <th>max</th>\n",
       "      <td>78298.000000</td>\n",
       "      <td>10.000000</td>\n",
       "      <td>60.000000</td>\n",
       "      <td>5.000000</td>\n",
       "      <td>37.000000</td>\n",
       "      <td>99.000000</td>\n",
       "    </tr>\n",
       "  </tbody>\n",
       "</table>\n",
       "</div>"
      ],
      "text/plain": [
       "        employee_id  no_of_trainings           age  previous_year_rating  \\\n",
       "count  54808.000000     54808.000000  54808.000000          54808.000000   \n",
       "mean   39195.830627         1.253011     34.803915              3.304481   \n",
       "std    22586.581449         0.609264      7.660169              1.214770   \n",
       "min        1.000000         1.000000     20.000000              1.000000   \n",
       "25%    19669.750000         1.000000     29.000000              3.000000   \n",
       "50%    39225.500000         1.000000     33.000000              3.000000   \n",
       "75%    58730.500000         1.000000     39.000000              4.000000   \n",
       "max    78298.000000        10.000000     60.000000              5.000000   \n",
       "\n",
       "       length_of_service  avg_training_score  \n",
       "count       54808.000000        54808.000000  \n",
       "mean            5.865512           63.386750  \n",
       "std             4.265094           13.371559  \n",
       "min             1.000000           39.000000  \n",
       "25%             3.000000           51.000000  \n",
       "50%             5.000000           60.000000  \n",
       "75%             7.000000           76.000000  \n",
       "max            37.000000           99.000000  "
      ]
     },
     "execution_count": 41,
     "metadata": {},
     "output_type": "execute_result"
    }
   ],
   "source": [
    "# code here\n",
    "promotion.describe()"
   ]
  },
  {
   "cell_type": "markdown",
   "metadata": {},
   "source": [
    "Kita bisa menambahkan parameter `include` ataupun `exclude` pada `describe()` untuk melihat statistika deskriptif dari variable non-numeric:"
   ]
  },
  {
   "cell_type": "code",
   "execution_count": 42,
   "metadata": {},
   "outputs": [
    {
     "data": {
      "text/html": [
       "<div>\n",
       "<style scoped>\n",
       "    .dataframe tbody tr th:only-of-type {\n",
       "        vertical-align: middle;\n",
       "    }\n",
       "\n",
       "    .dataframe tbody tr th {\n",
       "        vertical-align: top;\n",
       "    }\n",
       "\n",
       "    .dataframe thead th {\n",
       "        text-align: right;\n",
       "    }\n",
       "</style>\n",
       "<table border=\"1\" class=\"dataframe\">\n",
       "  <thead>\n",
       "    <tr style=\"text-align: right;\">\n",
       "      <th></th>\n",
       "      <th>department</th>\n",
       "      <th>region</th>\n",
       "      <th>education</th>\n",
       "      <th>gender</th>\n",
       "      <th>recruitment_channel</th>\n",
       "      <th>date_of_birth</th>\n",
       "      <th>join_date</th>\n",
       "      <th>KPIs_met &gt;80%</th>\n",
       "      <th>awards_won?</th>\n",
       "      <th>is_promoted</th>\n",
       "    </tr>\n",
       "  </thead>\n",
       "  <tbody>\n",
       "    <tr>\n",
       "      <th>count</th>\n",
       "      <td>54808</td>\n",
       "      <td>54808</td>\n",
       "      <td>54808</td>\n",
       "      <td>54808</td>\n",
       "      <td>54808</td>\n",
       "      <td>54808</td>\n",
       "      <td>54808</td>\n",
       "      <td>54808</td>\n",
       "      <td>54808</td>\n",
       "      <td>54808</td>\n",
       "    </tr>\n",
       "    <tr>\n",
       "      <th>unique</th>\n",
       "      <td>9</td>\n",
       "      <td>34</td>\n",
       "      <td>3</td>\n",
       "      <td>2</td>\n",
       "      <td>3</td>\n",
       "      <td>9830</td>\n",
       "      <td>6778</td>\n",
       "      <td>2</td>\n",
       "      <td>2</td>\n",
       "      <td>2</td>\n",
       "    </tr>\n",
       "    <tr>\n",
       "      <th>top</th>\n",
       "      <td>Sales &amp; Marketing</td>\n",
       "      <td>region_2</td>\n",
       "      <td>Bachelor's</td>\n",
       "      <td>Male</td>\n",
       "      <td>other</td>\n",
       "      <td>1970-01-01</td>\n",
       "      <td>2018-11-18</td>\n",
       "      <td>No</td>\n",
       "      <td>No</td>\n",
       "      <td>No</td>\n",
       "    </tr>\n",
       "    <tr>\n",
       "      <th>freq</th>\n",
       "      <td>16840</td>\n",
       "      <td>12343</td>\n",
       "      <td>38316</td>\n",
       "      <td>38496</td>\n",
       "      <td>30446</td>\n",
       "      <td>389</td>\n",
       "      <td>37</td>\n",
       "      <td>35517</td>\n",
       "      <td>53538</td>\n",
       "      <td>50140</td>\n",
       "    </tr>\n",
       "  </tbody>\n",
       "</table>\n",
       "</div>"
      ],
      "text/plain": [
       "               department    region   education gender recruitment_channel  \\\n",
       "count               54808     54808       54808  54808               54808   \n",
       "unique                  9        34           3      2                   3   \n",
       "top     Sales & Marketing  region_2  Bachelor's   Male               other   \n",
       "freq                16840     12343       38316  38496               30446   \n",
       "\n",
       "       date_of_birth   join_date KPIs_met >80% awards_won? is_promoted  \n",
       "count          54808       54808         54808       54808       54808  \n",
       "unique          9830        6778             2           2           2  \n",
       "top       1970-01-01  2018-11-18            No          No          No  \n",
       "freq             389          37         35517       53538       50140  "
      ]
     },
     "execution_count": 42,
     "metadata": {},
     "output_type": "execute_result"
    }
   ],
   "source": [
    "promotion.describe(exclude='number')"
   ]
  },
  {
   "cell_type": "markdown",
   "metadata": {},
   "source": [
    "## `shape` dan `size`\n",
    "\n",
    "`shape` dan `size` adalah atribut dari sebuah dataframe yang memberikan informasi terkait dimensi data dan ukuran data"
   ]
  },
  {
   "cell_type": "code",
   "execution_count": 43,
   "metadata": {},
   "outputs": [
    {
     "data": {
      "text/plain": [
       "(54808, 16)"
      ]
     },
     "execution_count": 43,
     "metadata": {},
     "output_type": "execute_result"
    }
   ],
   "source": [
    "promotion.shape"
   ]
  },
  {
   "cell_type": "code",
   "execution_count": 44,
   "metadata": {},
   "outputs": [
    {
     "data": {
      "text/plain": [
       "54808"
      ]
     },
     "execution_count": 44,
     "metadata": {},
     "output_type": "execute_result"
    }
   ],
   "source": [
    "# ada berapa jumlah karyawan?\n",
    "promotion.shape[0]"
   ]
  },
  {
   "cell_type": "markdown",
   "metadata": {},
   "source": [
    "## `axes`\n",
    "\n",
    "`axes` adalah atribut dataframe yang memberikan informasi terkait index dataframe (baik index kolom maupun index baris)"
   ]
  },
  {
   "cell_type": "code",
   "execution_count": 45,
   "metadata": {},
   "outputs": [
    {
     "data": {
      "text/plain": [
       "Index(['employee_id', 'department', 'region', 'education', 'gender',\n",
       "       'recruitment_channel', 'no_of_trainings', 'date_of_birth', 'age',\n",
       "       'previous_year_rating', 'join_date', 'length_of_service',\n",
       "       'KPIs_met >80%', 'awards_won?', 'avg_training_score', 'is_promoted'],\n",
       "      dtype='object')"
      ]
     },
     "execution_count": 45,
     "metadata": {},
     "output_type": "execute_result"
    }
   ],
   "source": [
    "# Kolom pada data kita ada apa saja?\n",
    "promotion.axes[1]"
   ]
  },
  {
   "cell_type": "markdown",
   "metadata": {},
   "source": [
    "## `dtypes`\n",
    "\n",
    "Atribut `dtypes` digunakan untuk melakukan inspeksi tipe data.\n"
   ]
  },
  {
   "cell_type": "code",
   "execution_count": 46,
   "metadata": {},
   "outputs": [
    {
     "data": {
      "text/plain": [
       "employee_id               int64\n",
       "department               object\n",
       "region                   object\n",
       "education                object\n",
       "gender                   object\n",
       "recruitment_channel      object\n",
       "no_of_trainings           int64\n",
       "date_of_birth            object\n",
       "age                       int64\n",
       "previous_year_rating    float64\n",
       "join_date                object\n",
       "length_of_service         int64\n",
       "KPIs_met >80%            object\n",
       "awards_won?              object\n",
       "avg_training_score        int64\n",
       "is_promoted              object\n",
       "dtype: object"
      ]
     },
     "execution_count": 46,
     "metadata": {},
     "output_type": "execute_result"
    }
   ],
   "source": [
    "promotion.dtypes"
   ]
  },
  {
   "cell_type": "markdown",
   "metadata": {},
   "source": [
    "> Kolom datetime: join_date, date_of_birth"
   ]
  },
  {
   "cell_type": "code",
   "execution_count": 47,
   "metadata": {},
   "outputs": [],
   "source": [
    "# code here\n",
    "promotion[['join_date', 'date_of_birth']] = promotion[['join_date', 'date_of_birth']].astype('datetime64')"
   ]
  },
  {
   "cell_type": "code",
   "execution_count": 48,
   "metadata": {},
   "outputs": [
    {
     "data": {
      "text/plain": [
       "employee_id                      int64\n",
       "department                      object\n",
       "region                          object\n",
       "education                       object\n",
       "gender                          object\n",
       "recruitment_channel             object\n",
       "no_of_trainings                  int64\n",
       "date_of_birth           datetime64[ns]\n",
       "age                              int64\n",
       "previous_year_rating           float64\n",
       "join_date               datetime64[ns]\n",
       "length_of_service                int64\n",
       "KPIs_met >80%                   object\n",
       "awards_won?                     object\n",
       "avg_training_score               int64\n",
       "is_promoted                     object\n",
       "dtype: object"
      ]
     },
     "execution_count": 48,
     "metadata": {},
     "output_type": "execute_result"
    }
   ],
   "source": [
    "promotion.dtypes"
   ]
  },
  {
   "cell_type": "markdown",
   "metadata": {},
   "source": [
    "## Indexing and Subsetting with Pandas"
   ]
  },
  {
   "cell_type": "markdown",
   "metadata": {},
   "source": [
    "# Indexing and Subsetting with Pandas\n",
    "\n",
    "Indexing digunakan untuk memilih dan mengambil sebagian data yang hanya diperlukan dalam proses analisa data yang sedang dikerjakan. Contohnya:\n",
    "- Compare sales pada tahun 2018 vs 2019\n",
    "- Identifikasi peluang penjualan pada segment pasar (ex : Wholesale vs Retail)\n",
    "- Melihat quarter terbaik untuk setiap tahun yang dapat digunakan untuk tujuan promosi\n",
    "- dan sebagainya\n",
    "\n",
    "Untuk melakukan indexing dan subsetting (slicing data) pada `pandas`, kita dapat menggunakan cara sebagai berikut:\n",
    "- `head()` and `tail()`  \n",
    "- `select_dtypes()`  \n",
    "- Using `.drop()` \n",
    "- The `[]` operator\n",
    "- `.loc`  \n",
    "- `.iloc`\n",
    "- Conditional subsetting\n",
    "\n",
    "## `select_dtypes()`\n",
    "\n",
    "Method `select_dtypes()` digunakan untuk memilih **kolom** sesuai dengan tipe datanya. Ada 2 parameter yang dapat digunakan di dalam method `select_dtypes()` yaitu parameter `include` dan `exclude` (seperti pada `describe()`.\n",
    "\n",
    "Misal:\n",
    "- parameter `include = 'category'` artinya kita memilih semua kolom dengan tipe data 'category'\n",
    "- sebaliknya, ketika menggunakan parameter `exclude = 'category'` maka kolom-kolom dengan tipe data selain 'category' akan ditampilkan."
   ]
  },
  {
   "cell_type": "code",
   "execution_count": 49,
   "metadata": {},
   "outputs": [
    {
     "data": {
      "text/html": [
       "<div>\n",
       "<style scoped>\n",
       "    .dataframe tbody tr th:only-of-type {\n",
       "        vertical-align: middle;\n",
       "    }\n",
       "\n",
       "    .dataframe tbody tr th {\n",
       "        vertical-align: top;\n",
       "    }\n",
       "\n",
       "    .dataframe thead th {\n",
       "        text-align: right;\n",
       "    }\n",
       "</style>\n",
       "<table border=\"1\" class=\"dataframe\">\n",
       "  <thead>\n",
       "    <tr style=\"text-align: right;\">\n",
       "      <th></th>\n",
       "      <th>date_of_birth</th>\n",
       "      <th>join_date</th>\n",
       "    </tr>\n",
       "  </thead>\n",
       "  <tbody>\n",
       "    <tr>\n",
       "      <th>0</th>\n",
       "      <td>1986-10-21</td>\n",
       "      <td>2013-10-11</td>\n",
       "    </tr>\n",
       "    <tr>\n",
       "      <th>1</th>\n",
       "      <td>1991-11-21</td>\n",
       "      <td>2017-09-19</td>\n",
       "    </tr>\n",
       "    <tr>\n",
       "      <th>2</th>\n",
       "      <td>1987-09-14</td>\n",
       "      <td>2014-05-29</td>\n",
       "    </tr>\n",
       "    <tr>\n",
       "      <th>3</th>\n",
       "      <td>1982-02-17</td>\n",
       "      <td>2011-06-29</td>\n",
       "    </tr>\n",
       "    <tr>\n",
       "      <th>4</th>\n",
       "      <td>1976-02-22</td>\n",
       "      <td>2019-07-30</td>\n",
       "    </tr>\n",
       "    <tr>\n",
       "      <th>...</th>\n",
       "      <td>...</td>\n",
       "      <td>...</td>\n",
       "    </tr>\n",
       "    <tr>\n",
       "      <th>54803</th>\n",
       "      <td>1973-11-17</td>\n",
       "      <td>2004-12-27</td>\n",
       "    </tr>\n",
       "    <tr>\n",
       "      <th>54804</th>\n",
       "      <td>1984-02-15</td>\n",
       "      <td>2015-04-28</td>\n",
       "    </tr>\n",
       "    <tr>\n",
       "      <th>54805</th>\n",
       "      <td>1994-03-12</td>\n",
       "      <td>2018-03-17</td>\n",
       "    </tr>\n",
       "    <tr>\n",
       "      <th>54806</th>\n",
       "      <td>1992-12-28</td>\n",
       "      <td>2019-11-16</td>\n",
       "    </tr>\n",
       "    <tr>\n",
       "      <th>54807</th>\n",
       "      <td>1994-01-01</td>\n",
       "      <td>2016-01-01</td>\n",
       "    </tr>\n",
       "  </tbody>\n",
       "</table>\n",
       "<p>54808 rows × 2 columns</p>\n",
       "</div>"
      ],
      "text/plain": [
       "      date_of_birth  join_date\n",
       "0        1986-10-21 2013-10-11\n",
       "1        1991-11-21 2017-09-19\n",
       "2        1987-09-14 2014-05-29\n",
       "3        1982-02-17 2011-06-29\n",
       "4        1976-02-22 2019-07-30\n",
       "...             ...        ...\n",
       "54803    1973-11-17 2004-12-27\n",
       "54804    1984-02-15 2015-04-28\n",
       "54805    1994-03-12 2018-03-17\n",
       "54806    1992-12-28 2019-11-16\n",
       "54807    1994-01-01 2016-01-01\n",
       "\n",
       "[54808 rows x 2 columns]"
      ]
     },
     "execution_count": 49,
     "metadata": {},
     "output_type": "execute_result"
    }
   ],
   "source": [
    "# select datetime64 only\n",
    "promotion.select_dtypes(include='datetime64')"
   ]
  },
  {
   "cell_type": "markdown",
   "metadata": {},
   "source": [
    "Ubah kode berikut dari `include` menjadi `exclude` dan amati perbedaan output menggunakan `.describe()`:"
   ]
  },
  {
   "cell_type": "code",
   "execution_count": 50,
   "metadata": {},
   "outputs": [
    {
     "data": {
      "text/html": [
       "<div>\n",
       "<style scoped>\n",
       "    .dataframe tbody tr th:only-of-type {\n",
       "        vertical-align: middle;\n",
       "    }\n",
       "\n",
       "    .dataframe tbody tr th {\n",
       "        vertical-align: top;\n",
       "    }\n",
       "\n",
       "    .dataframe thead th {\n",
       "        text-align: right;\n",
       "    }\n",
       "</style>\n",
       "<table border=\"1\" class=\"dataframe\">\n",
       "  <thead>\n",
       "    <tr style=\"text-align: right;\">\n",
       "      <th></th>\n",
       "      <th>department</th>\n",
       "      <th>region</th>\n",
       "      <th>education</th>\n",
       "      <th>gender</th>\n",
       "      <th>recruitment_channel</th>\n",
       "      <th>KPIs_met &gt;80%</th>\n",
       "      <th>awards_won?</th>\n",
       "      <th>is_promoted</th>\n",
       "    </tr>\n",
       "  </thead>\n",
       "  <tbody>\n",
       "    <tr>\n",
       "      <th>count</th>\n",
       "      <td>54808</td>\n",
       "      <td>54808</td>\n",
       "      <td>54808</td>\n",
       "      <td>54808</td>\n",
       "      <td>54808</td>\n",
       "      <td>54808</td>\n",
       "      <td>54808</td>\n",
       "      <td>54808</td>\n",
       "    </tr>\n",
       "    <tr>\n",
       "      <th>unique</th>\n",
       "      <td>9</td>\n",
       "      <td>34</td>\n",
       "      <td>3</td>\n",
       "      <td>2</td>\n",
       "      <td>3</td>\n",
       "      <td>2</td>\n",
       "      <td>2</td>\n",
       "      <td>2</td>\n",
       "    </tr>\n",
       "    <tr>\n",
       "      <th>top</th>\n",
       "      <td>Sales &amp; Marketing</td>\n",
       "      <td>region_2</td>\n",
       "      <td>Bachelor's</td>\n",
       "      <td>Male</td>\n",
       "      <td>other</td>\n",
       "      <td>No</td>\n",
       "      <td>No</td>\n",
       "      <td>No</td>\n",
       "    </tr>\n",
       "    <tr>\n",
       "      <th>freq</th>\n",
       "      <td>16840</td>\n",
       "      <td>12343</td>\n",
       "      <td>38316</td>\n",
       "      <td>38496</td>\n",
       "      <td>30446</td>\n",
       "      <td>35517</td>\n",
       "      <td>53538</td>\n",
       "      <td>50140</td>\n",
       "    </tr>\n",
       "  </tbody>\n",
       "</table>\n",
       "</div>"
      ],
      "text/plain": [
       "               department    region   education gender recruitment_channel  \\\n",
       "count               54808     54808       54808  54808               54808   \n",
       "unique                  9        34           3      2                   3   \n",
       "top     Sales & Marketing  region_2  Bachelor's   Male               other   \n",
       "freq                16840     12343       38316  38496               30446   \n",
       "\n",
       "       KPIs_met >80% awards_won? is_promoted  \n",
       "count          54808       54808       54808  \n",
       "unique             2           2           2  \n",
       "top               No          No          No  \n",
       "freq           35517       53538       50140  "
      ]
     },
     "execution_count": 50,
     "metadata": {},
     "output_type": "execute_result"
    }
   ],
   "source": [
    "# describe\n",
    "promotion.select_dtypes(include = 'object').describe()"
   ]
  },
  {
   "cell_type": "markdown",
   "metadata": {},
   "source": [
    "Anda juga dapat menggunakan `include` atau `exclude` dengan daftar tipe data, bukan nilai tunggal. Untuk menyertakan semua kolom tipe data integer dan float, kita dapat melakukan salah satu dari ini:\n",
    "- `include='number'`  \n",
    "- `include=['int', 'float']`"
   ]
  },
  {
   "cell_type": "markdown",
   "metadata": {},
   "source": [
    "## `drop()`\n",
    "\n",
    "Method `drop()` digunakan untuk membuang baris atau kolom yang tidak ingin digunakan untuk tujuan analisis. Secara default method ini akan menghapus baris.\n",
    "\n",
    "Hapus 3 bari pertama"
   ]
  },
  {
   "cell_type": "code",
   "execution_count": 51,
   "metadata": {},
   "outputs": [
    {
     "data": {
      "text/html": [
       "<div>\n",
       "<style scoped>\n",
       "    .dataframe tbody tr th:only-of-type {\n",
       "        vertical-align: middle;\n",
       "    }\n",
       "\n",
       "    .dataframe tbody tr th {\n",
       "        vertical-align: top;\n",
       "    }\n",
       "\n",
       "    .dataframe thead th {\n",
       "        text-align: right;\n",
       "    }\n",
       "</style>\n",
       "<table border=\"1\" class=\"dataframe\">\n",
       "  <thead>\n",
       "    <tr style=\"text-align: right;\">\n",
       "      <th></th>\n",
       "      <th>employee_id</th>\n",
       "      <th>department</th>\n",
       "      <th>region</th>\n",
       "      <th>education</th>\n",
       "      <th>gender</th>\n",
       "      <th>recruitment_channel</th>\n",
       "      <th>no_of_trainings</th>\n",
       "      <th>date_of_birth</th>\n",
       "      <th>age</th>\n",
       "      <th>previous_year_rating</th>\n",
       "      <th>join_date</th>\n",
       "      <th>length_of_service</th>\n",
       "      <th>KPIs_met &gt;80%</th>\n",
       "      <th>awards_won?</th>\n",
       "      <th>avg_training_score</th>\n",
       "      <th>is_promoted</th>\n",
       "    </tr>\n",
       "  </thead>\n",
       "  <tbody>\n",
       "    <tr>\n",
       "      <th>3</th>\n",
       "      <td>2542</td>\n",
       "      <td>Sales &amp; Marketing</td>\n",
       "      <td>region_23</td>\n",
       "      <td>Bachelor's</td>\n",
       "      <td>Male</td>\n",
       "      <td>other</td>\n",
       "      <td>2</td>\n",
       "      <td>1982-02-17</td>\n",
       "      <td>39</td>\n",
       "      <td>1.0</td>\n",
       "      <td>2011-06-29</td>\n",
       "      <td>10</td>\n",
       "      <td>No</td>\n",
       "      <td>No</td>\n",
       "      <td>50</td>\n",
       "      <td>No</td>\n",
       "    </tr>\n",
       "    <tr>\n",
       "      <th>4</th>\n",
       "      <td>48945</td>\n",
       "      <td>Technology</td>\n",
       "      <td>region_26</td>\n",
       "      <td>Bachelor's</td>\n",
       "      <td>Male</td>\n",
       "      <td>other</td>\n",
       "      <td>1</td>\n",
       "      <td>1976-02-22</td>\n",
       "      <td>45</td>\n",
       "      <td>3.0</td>\n",
       "      <td>2019-07-30</td>\n",
       "      <td>2</td>\n",
       "      <td>No</td>\n",
       "      <td>No</td>\n",
       "      <td>73</td>\n",
       "      <td>No</td>\n",
       "    </tr>\n",
       "    <tr>\n",
       "      <th>5</th>\n",
       "      <td>58896</td>\n",
       "      <td>Analytics</td>\n",
       "      <td>region_2</td>\n",
       "      <td>Bachelor's</td>\n",
       "      <td>Male</td>\n",
       "      <td>sourcing</td>\n",
       "      <td>2</td>\n",
       "      <td>1990-09-02</td>\n",
       "      <td>31</td>\n",
       "      <td>3.0</td>\n",
       "      <td>2014-07-21</td>\n",
       "      <td>7</td>\n",
       "      <td>No</td>\n",
       "      <td>No</td>\n",
       "      <td>85</td>\n",
       "      <td>No</td>\n",
       "    </tr>\n",
       "    <tr>\n",
       "      <th>6</th>\n",
       "      <td>20379</td>\n",
       "      <td>Operations</td>\n",
       "      <td>region_20</td>\n",
       "      <td>Bachelor's</td>\n",
       "      <td>Female</td>\n",
       "      <td>other</td>\n",
       "      <td>1</td>\n",
       "      <td>1990-10-31</td>\n",
       "      <td>31</td>\n",
       "      <td>3.0</td>\n",
       "      <td>2016-04-13</td>\n",
       "      <td>5</td>\n",
       "      <td>No</td>\n",
       "      <td>No</td>\n",
       "      <td>59</td>\n",
       "      <td>No</td>\n",
       "    </tr>\n",
       "    <tr>\n",
       "      <th>7</th>\n",
       "      <td>16290</td>\n",
       "      <td>Operations</td>\n",
       "      <td>region_34</td>\n",
       "      <td>Master's &amp; above</td>\n",
       "      <td>Male</td>\n",
       "      <td>sourcing</td>\n",
       "      <td>1</td>\n",
       "      <td>1988-12-29</td>\n",
       "      <td>33</td>\n",
       "      <td>3.0</td>\n",
       "      <td>2015-11-20</td>\n",
       "      <td>6</td>\n",
       "      <td>No</td>\n",
       "      <td>No</td>\n",
       "      <td>63</td>\n",
       "      <td>No</td>\n",
       "    </tr>\n",
       "    <tr>\n",
       "      <th>...</th>\n",
       "      <td>...</td>\n",
       "      <td>...</td>\n",
       "      <td>...</td>\n",
       "      <td>...</td>\n",
       "      <td>...</td>\n",
       "      <td>...</td>\n",
       "      <td>...</td>\n",
       "      <td>...</td>\n",
       "      <td>...</td>\n",
       "      <td>...</td>\n",
       "      <td>...</td>\n",
       "      <td>...</td>\n",
       "      <td>...</td>\n",
       "      <td>...</td>\n",
       "      <td>...</td>\n",
       "      <td>...</td>\n",
       "    </tr>\n",
       "    <tr>\n",
       "      <th>54803</th>\n",
       "      <td>3030</td>\n",
       "      <td>Technology</td>\n",
       "      <td>region_14</td>\n",
       "      <td>Bachelor's</td>\n",
       "      <td>Male</td>\n",
       "      <td>sourcing</td>\n",
       "      <td>1</td>\n",
       "      <td>1973-11-17</td>\n",
       "      <td>48</td>\n",
       "      <td>3.0</td>\n",
       "      <td>2004-12-27</td>\n",
       "      <td>17</td>\n",
       "      <td>No</td>\n",
       "      <td>No</td>\n",
       "      <td>78</td>\n",
       "      <td>No</td>\n",
       "    </tr>\n",
       "    <tr>\n",
       "      <th>54804</th>\n",
       "      <td>74592</td>\n",
       "      <td>Operations</td>\n",
       "      <td>region_27</td>\n",
       "      <td>Master's &amp; above</td>\n",
       "      <td>Female</td>\n",
       "      <td>other</td>\n",
       "      <td>1</td>\n",
       "      <td>1984-02-15</td>\n",
       "      <td>37</td>\n",
       "      <td>2.0</td>\n",
       "      <td>2015-04-28</td>\n",
       "      <td>6</td>\n",
       "      <td>No</td>\n",
       "      <td>No</td>\n",
       "      <td>56</td>\n",
       "      <td>No</td>\n",
       "    </tr>\n",
       "    <tr>\n",
       "      <th>54805</th>\n",
       "      <td>13918</td>\n",
       "      <td>Analytics</td>\n",
       "      <td>region_1</td>\n",
       "      <td>Bachelor's</td>\n",
       "      <td>Male</td>\n",
       "      <td>other</td>\n",
       "      <td>1</td>\n",
       "      <td>1994-03-12</td>\n",
       "      <td>27</td>\n",
       "      <td>5.0</td>\n",
       "      <td>2018-03-17</td>\n",
       "      <td>3</td>\n",
       "      <td>Yes</td>\n",
       "      <td>No</td>\n",
       "      <td>79</td>\n",
       "      <td>No</td>\n",
       "    </tr>\n",
       "    <tr>\n",
       "      <th>54806</th>\n",
       "      <td>13614</td>\n",
       "      <td>Sales &amp; Marketing</td>\n",
       "      <td>region_9</td>\n",
       "      <td>Bachelor's</td>\n",
       "      <td>Male</td>\n",
       "      <td>sourcing</td>\n",
       "      <td>1</td>\n",
       "      <td>1992-12-28</td>\n",
       "      <td>29</td>\n",
       "      <td>1.0</td>\n",
       "      <td>2019-11-16</td>\n",
       "      <td>2</td>\n",
       "      <td>No</td>\n",
       "      <td>No</td>\n",
       "      <td>45</td>\n",
       "      <td>No</td>\n",
       "    </tr>\n",
       "    <tr>\n",
       "      <th>54807</th>\n",
       "      <td>51526</td>\n",
       "      <td>HR</td>\n",
       "      <td>region_22</td>\n",
       "      <td>Bachelor's</td>\n",
       "      <td>Male</td>\n",
       "      <td>other</td>\n",
       "      <td>1</td>\n",
       "      <td>1994-01-01</td>\n",
       "      <td>27</td>\n",
       "      <td>1.0</td>\n",
       "      <td>2016-01-01</td>\n",
       "      <td>5</td>\n",
       "      <td>No</td>\n",
       "      <td>No</td>\n",
       "      <td>49</td>\n",
       "      <td>No</td>\n",
       "    </tr>\n",
       "  </tbody>\n",
       "</table>\n",
       "<p>54805 rows × 16 columns</p>\n",
       "</div>"
      ],
      "text/plain": [
       "       employee_id         department     region         education  gender  \\\n",
       "3             2542  Sales & Marketing  region_23        Bachelor's    Male   \n",
       "4            48945         Technology  region_26        Bachelor's    Male   \n",
       "5            58896          Analytics   region_2        Bachelor's    Male   \n",
       "6            20379         Operations  region_20        Bachelor's  Female   \n",
       "7            16290         Operations  region_34  Master's & above    Male   \n",
       "...            ...                ...        ...               ...     ...   \n",
       "54803         3030         Technology  region_14        Bachelor's    Male   \n",
       "54804        74592         Operations  region_27  Master's & above  Female   \n",
       "54805        13918          Analytics   region_1        Bachelor's    Male   \n",
       "54806        13614  Sales & Marketing   region_9        Bachelor's    Male   \n",
       "54807        51526                 HR  region_22        Bachelor's    Male   \n",
       "\n",
       "      recruitment_channel  no_of_trainings date_of_birth  age  \\\n",
       "3                   other                2    1982-02-17   39   \n",
       "4                   other                1    1976-02-22   45   \n",
       "5                sourcing                2    1990-09-02   31   \n",
       "6                   other                1    1990-10-31   31   \n",
       "7                sourcing                1    1988-12-29   33   \n",
       "...                   ...              ...           ...  ...   \n",
       "54803            sourcing                1    1973-11-17   48   \n",
       "54804               other                1    1984-02-15   37   \n",
       "54805               other                1    1994-03-12   27   \n",
       "54806            sourcing                1    1992-12-28   29   \n",
       "54807               other                1    1994-01-01   27   \n",
       "\n",
       "       previous_year_rating  join_date  length_of_service KPIs_met >80%  \\\n",
       "3                       1.0 2011-06-29                 10            No   \n",
       "4                       3.0 2019-07-30                  2            No   \n",
       "5                       3.0 2014-07-21                  7            No   \n",
       "6                       3.0 2016-04-13                  5            No   \n",
       "7                       3.0 2015-11-20                  6            No   \n",
       "...                     ...        ...                ...           ...   \n",
       "54803                   3.0 2004-12-27                 17            No   \n",
       "54804                   2.0 2015-04-28                  6            No   \n",
       "54805                   5.0 2018-03-17                  3           Yes   \n",
       "54806                   1.0 2019-11-16                  2            No   \n",
       "54807                   1.0 2016-01-01                  5            No   \n",
       "\n",
       "      awards_won?  avg_training_score is_promoted  \n",
       "3              No                  50          No  \n",
       "4              No                  73          No  \n",
       "5              No                  85          No  \n",
       "6              No                  59          No  \n",
       "7              No                  63          No  \n",
       "...           ...                 ...         ...  \n",
       "54803          No                  78          No  \n",
       "54804          No                  56          No  \n",
       "54805          No                  79          No  \n",
       "54806          No                  45          No  \n",
       "54807          No                  49          No  \n",
       "\n",
       "[54805 rows x 16 columns]"
      ]
     },
     "execution_count": 51,
     "metadata": {},
     "output_type": "execute_result"
    }
   ],
   "source": [
    "promotion.drop(index=[0,1,2])"
   ]
  },
  {
   "cell_type": "markdown",
   "metadata": {},
   "source": [
    "Kita dapat menghapus banyak baris atau kolom dengan mengirimkan daftar. Dalam kode berikut, kita mengganti nilai default `axis` dengan meneruskan `axis=1`; Akibatnya `pandas` akan menjatuhkan kolom yang ditentukan, sambil mempertahankan semua baris:"
   ]
  },
  {
   "cell_type": "code",
   "execution_count": 52,
   "metadata": {},
   "outputs": [
    {
     "data": {
      "text/html": [
       "<div>\n",
       "<style scoped>\n",
       "    .dataframe tbody tr th:only-of-type {\n",
       "        vertical-align: middle;\n",
       "    }\n",
       "\n",
       "    .dataframe tbody tr th {\n",
       "        vertical-align: top;\n",
       "    }\n",
       "\n",
       "    .dataframe thead th {\n",
       "        text-align: right;\n",
       "    }\n",
       "</style>\n",
       "<table border=\"1\" class=\"dataframe\">\n",
       "  <thead>\n",
       "    <tr style=\"text-align: right;\">\n",
       "      <th></th>\n",
       "      <th>department</th>\n",
       "      <th>education</th>\n",
       "      <th>gender</th>\n",
       "      <th>recruitment_channel</th>\n",
       "      <th>no_of_trainings</th>\n",
       "      <th>date_of_birth</th>\n",
       "      <th>age</th>\n",
       "      <th>previous_year_rating</th>\n",
       "      <th>join_date</th>\n",
       "      <th>length_of_service</th>\n",
       "      <th>KPIs_met &gt;80%</th>\n",
       "      <th>awards_won?</th>\n",
       "      <th>avg_training_score</th>\n",
       "      <th>is_promoted</th>\n",
       "    </tr>\n",
       "  </thead>\n",
       "  <tbody>\n",
       "    <tr>\n",
       "      <th>0</th>\n",
       "      <td>Sales &amp; Marketing</td>\n",
       "      <td>Master's &amp; above</td>\n",
       "      <td>Female</td>\n",
       "      <td>sourcing</td>\n",
       "      <td>1</td>\n",
       "      <td>1986-10-21</td>\n",
       "      <td>35</td>\n",
       "      <td>5.0</td>\n",
       "      <td>2013-10-11</td>\n",
       "      <td>8</td>\n",
       "      <td>Yes</td>\n",
       "      <td>No</td>\n",
       "      <td>49</td>\n",
       "      <td>No</td>\n",
       "    </tr>\n",
       "    <tr>\n",
       "      <th>1</th>\n",
       "      <td>Operations</td>\n",
       "      <td>Bachelor's</td>\n",
       "      <td>Male</td>\n",
       "      <td>other</td>\n",
       "      <td>1</td>\n",
       "      <td>1991-11-21</td>\n",
       "      <td>30</td>\n",
       "      <td>5.0</td>\n",
       "      <td>2017-09-19</td>\n",
       "      <td>4</td>\n",
       "      <td>No</td>\n",
       "      <td>No</td>\n",
       "      <td>60</td>\n",
       "      <td>No</td>\n",
       "    </tr>\n",
       "    <tr>\n",
       "      <th>2</th>\n",
       "      <td>Sales &amp; Marketing</td>\n",
       "      <td>Bachelor's</td>\n",
       "      <td>Male</td>\n",
       "      <td>sourcing</td>\n",
       "      <td>1</td>\n",
       "      <td>1987-09-14</td>\n",
       "      <td>34</td>\n",
       "      <td>3.0</td>\n",
       "      <td>2014-05-29</td>\n",
       "      <td>7</td>\n",
       "      <td>No</td>\n",
       "      <td>No</td>\n",
       "      <td>50</td>\n",
       "      <td>No</td>\n",
       "    </tr>\n",
       "    <tr>\n",
       "      <th>3</th>\n",
       "      <td>Sales &amp; Marketing</td>\n",
       "      <td>Bachelor's</td>\n",
       "      <td>Male</td>\n",
       "      <td>other</td>\n",
       "      <td>2</td>\n",
       "      <td>1982-02-17</td>\n",
       "      <td>39</td>\n",
       "      <td>1.0</td>\n",
       "      <td>2011-06-29</td>\n",
       "      <td>10</td>\n",
       "      <td>No</td>\n",
       "      <td>No</td>\n",
       "      <td>50</td>\n",
       "      <td>No</td>\n",
       "    </tr>\n",
       "    <tr>\n",
       "      <th>4</th>\n",
       "      <td>Technology</td>\n",
       "      <td>Bachelor's</td>\n",
       "      <td>Male</td>\n",
       "      <td>other</td>\n",
       "      <td>1</td>\n",
       "      <td>1976-02-22</td>\n",
       "      <td>45</td>\n",
       "      <td>3.0</td>\n",
       "      <td>2019-07-30</td>\n",
       "      <td>2</td>\n",
       "      <td>No</td>\n",
       "      <td>No</td>\n",
       "      <td>73</td>\n",
       "      <td>No</td>\n",
       "    </tr>\n",
       "    <tr>\n",
       "      <th>...</th>\n",
       "      <td>...</td>\n",
       "      <td>...</td>\n",
       "      <td>...</td>\n",
       "      <td>...</td>\n",
       "      <td>...</td>\n",
       "      <td>...</td>\n",
       "      <td>...</td>\n",
       "      <td>...</td>\n",
       "      <td>...</td>\n",
       "      <td>...</td>\n",
       "      <td>...</td>\n",
       "      <td>...</td>\n",
       "      <td>...</td>\n",
       "      <td>...</td>\n",
       "    </tr>\n",
       "    <tr>\n",
       "      <th>54803</th>\n",
       "      <td>Technology</td>\n",
       "      <td>Bachelor's</td>\n",
       "      <td>Male</td>\n",
       "      <td>sourcing</td>\n",
       "      <td>1</td>\n",
       "      <td>1973-11-17</td>\n",
       "      <td>48</td>\n",
       "      <td>3.0</td>\n",
       "      <td>2004-12-27</td>\n",
       "      <td>17</td>\n",
       "      <td>No</td>\n",
       "      <td>No</td>\n",
       "      <td>78</td>\n",
       "      <td>No</td>\n",
       "    </tr>\n",
       "    <tr>\n",
       "      <th>54804</th>\n",
       "      <td>Operations</td>\n",
       "      <td>Master's &amp; above</td>\n",
       "      <td>Female</td>\n",
       "      <td>other</td>\n",
       "      <td>1</td>\n",
       "      <td>1984-02-15</td>\n",
       "      <td>37</td>\n",
       "      <td>2.0</td>\n",
       "      <td>2015-04-28</td>\n",
       "      <td>6</td>\n",
       "      <td>No</td>\n",
       "      <td>No</td>\n",
       "      <td>56</td>\n",
       "      <td>No</td>\n",
       "    </tr>\n",
       "    <tr>\n",
       "      <th>54805</th>\n",
       "      <td>Analytics</td>\n",
       "      <td>Bachelor's</td>\n",
       "      <td>Male</td>\n",
       "      <td>other</td>\n",
       "      <td>1</td>\n",
       "      <td>1994-03-12</td>\n",
       "      <td>27</td>\n",
       "      <td>5.0</td>\n",
       "      <td>2018-03-17</td>\n",
       "      <td>3</td>\n",
       "      <td>Yes</td>\n",
       "      <td>No</td>\n",
       "      <td>79</td>\n",
       "      <td>No</td>\n",
       "    </tr>\n",
       "    <tr>\n",
       "      <th>54806</th>\n",
       "      <td>Sales &amp; Marketing</td>\n",
       "      <td>Bachelor's</td>\n",
       "      <td>Male</td>\n",
       "      <td>sourcing</td>\n",
       "      <td>1</td>\n",
       "      <td>1992-12-28</td>\n",
       "      <td>29</td>\n",
       "      <td>1.0</td>\n",
       "      <td>2019-11-16</td>\n",
       "      <td>2</td>\n",
       "      <td>No</td>\n",
       "      <td>No</td>\n",
       "      <td>45</td>\n",
       "      <td>No</td>\n",
       "    </tr>\n",
       "    <tr>\n",
       "      <th>54807</th>\n",
       "      <td>HR</td>\n",
       "      <td>Bachelor's</td>\n",
       "      <td>Male</td>\n",
       "      <td>other</td>\n",
       "      <td>1</td>\n",
       "      <td>1994-01-01</td>\n",
       "      <td>27</td>\n",
       "      <td>1.0</td>\n",
       "      <td>2016-01-01</td>\n",
       "      <td>5</td>\n",
       "      <td>No</td>\n",
       "      <td>No</td>\n",
       "      <td>49</td>\n",
       "      <td>No</td>\n",
       "    </tr>\n",
       "  </tbody>\n",
       "</table>\n",
       "<p>54808 rows × 14 columns</p>\n",
       "</div>"
      ],
      "text/plain": [
       "              department         education  gender recruitment_channel  \\\n",
       "0      Sales & Marketing  Master's & above  Female            sourcing   \n",
       "1             Operations        Bachelor's    Male               other   \n",
       "2      Sales & Marketing        Bachelor's    Male            sourcing   \n",
       "3      Sales & Marketing        Bachelor's    Male               other   \n",
       "4             Technology        Bachelor's    Male               other   \n",
       "...                  ...               ...     ...                 ...   \n",
       "54803         Technology        Bachelor's    Male            sourcing   \n",
       "54804         Operations  Master's & above  Female               other   \n",
       "54805          Analytics        Bachelor's    Male               other   \n",
       "54806  Sales & Marketing        Bachelor's    Male            sourcing   \n",
       "54807                 HR        Bachelor's    Male               other   \n",
       "\n",
       "       no_of_trainings date_of_birth  age  previous_year_rating  join_date  \\\n",
       "0                    1    1986-10-21   35                   5.0 2013-10-11   \n",
       "1                    1    1991-11-21   30                   5.0 2017-09-19   \n",
       "2                    1    1987-09-14   34                   3.0 2014-05-29   \n",
       "3                    2    1982-02-17   39                   1.0 2011-06-29   \n",
       "4                    1    1976-02-22   45                   3.0 2019-07-30   \n",
       "...                ...           ...  ...                   ...        ...   \n",
       "54803                1    1973-11-17   48                   3.0 2004-12-27   \n",
       "54804                1    1984-02-15   37                   2.0 2015-04-28   \n",
       "54805                1    1994-03-12   27                   5.0 2018-03-17   \n",
       "54806                1    1992-12-28   29                   1.0 2019-11-16   \n",
       "54807                1    1994-01-01   27                   1.0 2016-01-01   \n",
       "\n",
       "       length_of_service KPIs_met >80% awards_won?  avg_training_score  \\\n",
       "0                      8           Yes          No                  49   \n",
       "1                      4            No          No                  60   \n",
       "2                      7            No          No                  50   \n",
       "3                     10            No          No                  50   \n",
       "4                      2            No          No                  73   \n",
       "...                  ...           ...         ...                 ...   \n",
       "54803                 17            No          No                  78   \n",
       "54804                  6            No          No                  56   \n",
       "54805                  3           Yes          No                  79   \n",
       "54806                  2            No          No                  45   \n",
       "54807                  5            No          No                  49   \n",
       "\n",
       "      is_promoted  \n",
       "0              No  \n",
       "1              No  \n",
       "2              No  \n",
       "3              No  \n",
       "4              No  \n",
       "...           ...  \n",
       "54803          No  \n",
       "54804          No  \n",
       "54805          No  \n",
       "54806          No  \n",
       "54807          No  \n",
       "\n",
       "[54808 rows x 14 columns]"
      ]
     },
     "execution_count": 52,
     "metadata": {},
     "output_type": "execute_result"
    }
   ],
   "source": [
    "# drop region and employee_id\n",
    "promotion.drop(columns=['region', 'employee_id'])"
   ]
  },
  {
   "cell_type": "markdown",
   "metadata": {},
   "source": [
    "## Slicing: **`[]` operator**\n",
    "\n",
    "Digunakan untuk melakukan subsetting dengan cara mengiris (slicing) index pada dataframe. Formula penulisannya adalah `[start:end]` dengan mengikuti aturan indexing pada python (dimulai dari 0) dimana `start` inclusive dan `end` exclusive."
   ]
  },
  {
   "cell_type": "markdown",
   "metadata": {},
   "source": [
    "Agak umum, Anda mungkin ingin melakukan subset dengan memotong satu set baris. Ini dapat dilakukan dengan menggunakan sintaks `promotion[start:end]`, di mana `start` bersifat inklusif.\n",
    "\n",
    "Kode berikut mengiris baris pertama hingga keempat, atau setara, baris dengan indeks 0, 1, 2, dan 3."
   ]
  },
  {
   "cell_type": "code",
   "execution_count": 53,
   "metadata": {},
   "outputs": [
    {
     "data": {
      "text/plain": [
       "0        No\n",
       "1        No\n",
       "2        No\n",
       "3        No\n",
       "4        No\n",
       "         ..\n",
       "54803    No\n",
       "54804    No\n",
       "54805    No\n",
       "54806    No\n",
       "54807    No\n",
       "Name: is_promoted, Length: 54808, dtype: object"
      ]
     },
     "execution_count": 53,
     "metadata": {},
     "output_type": "execute_result"
    }
   ],
   "source": [
    "# slicing kolom\n",
    "promotion['is_promoted']"
   ]
  },
  {
   "cell_type": "code",
   "execution_count": 54,
   "metadata": {},
   "outputs": [
    {
     "data": {
      "text/html": [
       "<div>\n",
       "<style scoped>\n",
       "    .dataframe tbody tr th:only-of-type {\n",
       "        vertical-align: middle;\n",
       "    }\n",
       "\n",
       "    .dataframe tbody tr th {\n",
       "        vertical-align: top;\n",
       "    }\n",
       "\n",
       "    .dataframe thead th {\n",
       "        text-align: right;\n",
       "    }\n",
       "</style>\n",
       "<table border=\"1\" class=\"dataframe\">\n",
       "  <thead>\n",
       "    <tr style=\"text-align: right;\">\n",
       "      <th></th>\n",
       "      <th>employee_id</th>\n",
       "      <th>department</th>\n",
       "      <th>region</th>\n",
       "      <th>education</th>\n",
       "      <th>gender</th>\n",
       "      <th>recruitment_channel</th>\n",
       "      <th>no_of_trainings</th>\n",
       "      <th>date_of_birth</th>\n",
       "      <th>age</th>\n",
       "      <th>previous_year_rating</th>\n",
       "      <th>join_date</th>\n",
       "      <th>length_of_service</th>\n",
       "      <th>KPIs_met &gt;80%</th>\n",
       "      <th>awards_won?</th>\n",
       "      <th>avg_training_score</th>\n",
       "      <th>is_promoted</th>\n",
       "    </tr>\n",
       "  </thead>\n",
       "  <tbody>\n",
       "    <tr>\n",
       "      <th>0</th>\n",
       "      <td>65438</td>\n",
       "      <td>Sales &amp; Marketing</td>\n",
       "      <td>region_7</td>\n",
       "      <td>Master's &amp; above</td>\n",
       "      <td>Female</td>\n",
       "      <td>sourcing</td>\n",
       "      <td>1</td>\n",
       "      <td>1986-10-21</td>\n",
       "      <td>35</td>\n",
       "      <td>5.0</td>\n",
       "      <td>2013-10-11</td>\n",
       "      <td>8</td>\n",
       "      <td>Yes</td>\n",
       "      <td>No</td>\n",
       "      <td>49</td>\n",
       "      <td>No</td>\n",
       "    </tr>\n",
       "    <tr>\n",
       "      <th>1</th>\n",
       "      <td>65141</td>\n",
       "      <td>Operations</td>\n",
       "      <td>region_22</td>\n",
       "      <td>Bachelor's</td>\n",
       "      <td>Male</td>\n",
       "      <td>other</td>\n",
       "      <td>1</td>\n",
       "      <td>1991-11-21</td>\n",
       "      <td>30</td>\n",
       "      <td>5.0</td>\n",
       "      <td>2017-09-19</td>\n",
       "      <td>4</td>\n",
       "      <td>No</td>\n",
       "      <td>No</td>\n",
       "      <td>60</td>\n",
       "      <td>No</td>\n",
       "    </tr>\n",
       "    <tr>\n",
       "      <th>2</th>\n",
       "      <td>7513</td>\n",
       "      <td>Sales &amp; Marketing</td>\n",
       "      <td>region_19</td>\n",
       "      <td>Bachelor's</td>\n",
       "      <td>Male</td>\n",
       "      <td>sourcing</td>\n",
       "      <td>1</td>\n",
       "      <td>1987-09-14</td>\n",
       "      <td>34</td>\n",
       "      <td>3.0</td>\n",
       "      <td>2014-05-29</td>\n",
       "      <td>7</td>\n",
       "      <td>No</td>\n",
       "      <td>No</td>\n",
       "      <td>50</td>\n",
       "      <td>No</td>\n",
       "    </tr>\n",
       "  </tbody>\n",
       "</table>\n",
       "</div>"
      ],
      "text/plain": [
       "   employee_id         department     region         education  gender  \\\n",
       "0        65438  Sales & Marketing   region_7  Master's & above  Female   \n",
       "1        65141         Operations  region_22        Bachelor's    Male   \n",
       "2         7513  Sales & Marketing  region_19        Bachelor's    Male   \n",
       "\n",
       "  recruitment_channel  no_of_trainings date_of_birth  age  \\\n",
       "0            sourcing                1    1986-10-21   35   \n",
       "1               other                1    1991-11-21   30   \n",
       "2            sourcing                1    1987-09-14   34   \n",
       "\n",
       "   previous_year_rating  join_date  length_of_service KPIs_met >80%  \\\n",
       "0                   5.0 2013-10-11                  8           Yes   \n",
       "1                   5.0 2017-09-19                  4            No   \n",
       "2                   3.0 2014-05-29                  7            No   \n",
       "\n",
       "  awards_won?  avg_training_score is_promoted  \n",
       "0          No                  49          No  \n",
       "1          No                  60          No  \n",
       "2          No                  50          No  "
      ]
     },
     "execution_count": 54,
     "metadata": {},
     "output_type": "execute_result"
    }
   ],
   "source": [
    "# slicing baris\n",
    "promotion[0:3]"
   ]
  },
  {
   "cell_type": "markdown",
   "metadata": {},
   "source": [
    "## `.iloc` dan `.loc`\n",
    "\n",
    "Dengan menggunakan `.iloc` dan `loc` kita dapat melakukan pengirisan pada index **baris dan kolom**. \n",
    "\n",
    "Perbedaan yang mendasar dari kedua operator ini adalah:\n",
    "- `.iloc` merujuk pada lokasi **index** baris atau kolomnya sehingga harus **integer**, sedangkan\n",
    "- `.loc` merujuk pada lokasi **nama** baris atau kolomnya"
   ]
  },
  {
   "cell_type": "markdown",
   "metadata": {},
   "source": [
    "**Mari berfokus pada .iloc terlebih dahulu**\n",
    "\n",
    "> Syntax: `df.iloc[baris, kolom]` "
   ]
  },
  {
   "cell_type": "code",
   "execution_count": 55,
   "metadata": {
    "scrolled": true
   },
   "outputs": [
    {
     "data": {
      "text/html": [
       "<div>\n",
       "<style scoped>\n",
       "    .dataframe tbody tr th:only-of-type {\n",
       "        vertical-align: middle;\n",
       "    }\n",
       "\n",
       "    .dataframe tbody tr th {\n",
       "        vertical-align: top;\n",
       "    }\n",
       "\n",
       "    .dataframe thead th {\n",
       "        text-align: right;\n",
       "    }\n",
       "</style>\n",
       "<table border=\"1\" class=\"dataframe\">\n",
       "  <thead>\n",
       "    <tr style=\"text-align: right;\">\n",
       "      <th></th>\n",
       "      <th>employee_id</th>\n",
       "      <th>department</th>\n",
       "      <th>region</th>\n",
       "      <th>education</th>\n",
       "      <th>gender</th>\n",
       "      <th>recruitment_channel</th>\n",
       "      <th>no_of_trainings</th>\n",
       "      <th>date_of_birth</th>\n",
       "      <th>age</th>\n",
       "      <th>previous_year_rating</th>\n",
       "      <th>join_date</th>\n",
       "      <th>length_of_service</th>\n",
       "      <th>KPIs_met &gt;80%</th>\n",
       "      <th>awards_won?</th>\n",
       "      <th>avg_training_score</th>\n",
       "      <th>is_promoted</th>\n",
       "    </tr>\n",
       "  </thead>\n",
       "  <tbody>\n",
       "    <tr>\n",
       "      <th>0</th>\n",
       "      <td>65438</td>\n",
       "      <td>Sales &amp; Marketing</td>\n",
       "      <td>region_7</td>\n",
       "      <td>Master's &amp; above</td>\n",
       "      <td>Female</td>\n",
       "      <td>sourcing</td>\n",
       "      <td>1</td>\n",
       "      <td>1986-10-21</td>\n",
       "      <td>35</td>\n",
       "      <td>5.0</td>\n",
       "      <td>2013-10-11</td>\n",
       "      <td>8</td>\n",
       "      <td>Yes</td>\n",
       "      <td>No</td>\n",
       "      <td>49</td>\n",
       "      <td>No</td>\n",
       "    </tr>\n",
       "    <tr>\n",
       "      <th>1</th>\n",
       "      <td>65141</td>\n",
       "      <td>Operations</td>\n",
       "      <td>region_22</td>\n",
       "      <td>Bachelor's</td>\n",
       "      <td>Male</td>\n",
       "      <td>other</td>\n",
       "      <td>1</td>\n",
       "      <td>1991-11-21</td>\n",
       "      <td>30</td>\n",
       "      <td>5.0</td>\n",
       "      <td>2017-09-19</td>\n",
       "      <td>4</td>\n",
       "      <td>No</td>\n",
       "      <td>No</td>\n",
       "      <td>60</td>\n",
       "      <td>No</td>\n",
       "    </tr>\n",
       "    <tr>\n",
       "      <th>2</th>\n",
       "      <td>7513</td>\n",
       "      <td>Sales &amp; Marketing</td>\n",
       "      <td>region_19</td>\n",
       "      <td>Bachelor's</td>\n",
       "      <td>Male</td>\n",
       "      <td>sourcing</td>\n",
       "      <td>1</td>\n",
       "      <td>1987-09-14</td>\n",
       "      <td>34</td>\n",
       "      <td>3.0</td>\n",
       "      <td>2014-05-29</td>\n",
       "      <td>7</td>\n",
       "      <td>No</td>\n",
       "      <td>No</td>\n",
       "      <td>50</td>\n",
       "      <td>No</td>\n",
       "    </tr>\n",
       "    <tr>\n",
       "      <th>3</th>\n",
       "      <td>2542</td>\n",
       "      <td>Sales &amp; Marketing</td>\n",
       "      <td>region_23</td>\n",
       "      <td>Bachelor's</td>\n",
       "      <td>Male</td>\n",
       "      <td>other</td>\n",
       "      <td>2</td>\n",
       "      <td>1982-02-17</td>\n",
       "      <td>39</td>\n",
       "      <td>1.0</td>\n",
       "      <td>2011-06-29</td>\n",
       "      <td>10</td>\n",
       "      <td>No</td>\n",
       "      <td>No</td>\n",
       "      <td>50</td>\n",
       "      <td>No</td>\n",
       "    </tr>\n",
       "    <tr>\n",
       "      <th>4</th>\n",
       "      <td>48945</td>\n",
       "      <td>Technology</td>\n",
       "      <td>region_26</td>\n",
       "      <td>Bachelor's</td>\n",
       "      <td>Male</td>\n",
       "      <td>other</td>\n",
       "      <td>1</td>\n",
       "      <td>1976-02-22</td>\n",
       "      <td>45</td>\n",
       "      <td>3.0</td>\n",
       "      <td>2019-07-30</td>\n",
       "      <td>2</td>\n",
       "      <td>No</td>\n",
       "      <td>No</td>\n",
       "      <td>73</td>\n",
       "      <td>No</td>\n",
       "    </tr>\n",
       "  </tbody>\n",
       "</table>\n",
       "</div>"
      ],
      "text/plain": [
       "   employee_id         department     region         education  gender  \\\n",
       "0        65438  Sales & Marketing   region_7  Master's & above  Female   \n",
       "1        65141         Operations  region_22        Bachelor's    Male   \n",
       "2         7513  Sales & Marketing  region_19        Bachelor's    Male   \n",
       "3         2542  Sales & Marketing  region_23        Bachelor's    Male   \n",
       "4        48945         Technology  region_26        Bachelor's    Male   \n",
       "\n",
       "  recruitment_channel  no_of_trainings date_of_birth  age  \\\n",
       "0            sourcing                1    1986-10-21   35   \n",
       "1               other                1    1991-11-21   30   \n",
       "2            sourcing                1    1987-09-14   34   \n",
       "3               other                2    1982-02-17   39   \n",
       "4               other                1    1976-02-22   45   \n",
       "\n",
       "   previous_year_rating  join_date  length_of_service KPIs_met >80%  \\\n",
       "0                   5.0 2013-10-11                  8           Yes   \n",
       "1                   5.0 2017-09-19                  4            No   \n",
       "2                   3.0 2014-05-29                  7            No   \n",
       "3                   1.0 2011-06-29                 10            No   \n",
       "4                   3.0 2019-07-30                  2            No   \n",
       "\n",
       "  awards_won?  avg_training_score is_promoted  \n",
       "0          No                  49          No  \n",
       "1          No                  60          No  \n",
       "2          No                  50          No  \n",
       "3          No                  50          No  \n",
       "4          No                  73          No  "
      ]
     },
     "execution_count": 55,
     "metadata": {},
     "output_type": "execute_result"
    }
   ],
   "source": [
    "# indeks 0 - 5 dan semua kolom\n",
    "promotion.iloc[0:5,:]"
   ]
  },
  {
   "cell_type": "code",
   "execution_count": 56,
   "metadata": {},
   "outputs": [
    {
     "data": {
      "text/html": [
       "<div>\n",
       "<style scoped>\n",
       "    .dataframe tbody tr th:only-of-type {\n",
       "        vertical-align: middle;\n",
       "    }\n",
       "\n",
       "    .dataframe tbody tr th {\n",
       "        vertical-align: top;\n",
       "    }\n",
       "\n",
       "    .dataframe thead th {\n",
       "        text-align: right;\n",
       "    }\n",
       "</style>\n",
       "<table border=\"1\" class=\"dataframe\">\n",
       "  <thead>\n",
       "    <tr style=\"text-align: right;\">\n",
       "      <th></th>\n",
       "      <th>department</th>\n",
       "      <th>region</th>\n",
       "    </tr>\n",
       "  </thead>\n",
       "  <tbody>\n",
       "    <tr>\n",
       "      <th>0</th>\n",
       "      <td>Sales &amp; Marketing</td>\n",
       "      <td>region_7</td>\n",
       "    </tr>\n",
       "    <tr>\n",
       "      <th>1</th>\n",
       "      <td>Operations</td>\n",
       "      <td>region_22</td>\n",
       "    </tr>\n",
       "    <tr>\n",
       "      <th>2</th>\n",
       "      <td>Sales &amp; Marketing</td>\n",
       "      <td>region_19</td>\n",
       "    </tr>\n",
       "    <tr>\n",
       "      <th>3</th>\n",
       "      <td>Sales &amp; Marketing</td>\n",
       "      <td>region_23</td>\n",
       "    </tr>\n",
       "    <tr>\n",
       "      <th>4</th>\n",
       "      <td>Technology</td>\n",
       "      <td>region_26</td>\n",
       "    </tr>\n",
       "  </tbody>\n",
       "</table>\n",
       "</div>"
      ],
      "text/plain": [
       "          department     region\n",
       "0  Sales & Marketing   region_7\n",
       "1         Operations  region_22\n",
       "2  Sales & Marketing  region_19\n",
       "3  Sales & Marketing  region_23\n",
       "4         Technology  region_26"
      ]
     },
     "execution_count": 56,
     "metadata": {},
     "output_type": "execute_result"
    }
   ],
   "source": [
    "# indeks 0 - 5 untuk kolom departmend dan region\n",
    "promotion.iloc[0:5,1:3]"
   ]
  },
  {
   "cell_type": "markdown",
   "metadata": {},
   "source": [
    "✏️ **Note :** parameter colon (:) digunakan untuk menampilkan semua data baik pada baris ataupun kolom"
   ]
  },
  {
   "cell_type": "markdown",
   "metadata": {},
   "source": [
    "*Mari kita pergi ke .loc**\n",
    "\n",
    "> Syntax: `df.loc[baris, kolom]` \n",
    "\n",
    "Let's read in the same `csv`, except this time we will set `receipt_id` as the row labels:"
   ]
  },
  {
   "cell_type": "code",
   "execution_count": 57,
   "metadata": {},
   "outputs": [
    {
     "data": {
      "text/html": [
       "<div>\n",
       "<style scoped>\n",
       "    .dataframe tbody tr th:only-of-type {\n",
       "        vertical-align: middle;\n",
       "    }\n",
       "\n",
       "    .dataframe tbody tr th {\n",
       "        vertical-align: top;\n",
       "    }\n",
       "\n",
       "    .dataframe thead th {\n",
       "        text-align: right;\n",
       "    }\n",
       "</style>\n",
       "<table border=\"1\" class=\"dataframe\">\n",
       "  <thead>\n",
       "    <tr style=\"text-align: right;\">\n",
       "      <th></th>\n",
       "      <th>department</th>\n",
       "      <th>region</th>\n",
       "      <th>education</th>\n",
       "      <th>gender</th>\n",
       "      <th>recruitment_channel</th>\n",
       "      <th>no_of_trainings</th>\n",
       "      <th>date_of_birth</th>\n",
       "      <th>age</th>\n",
       "      <th>previous_year_rating</th>\n",
       "      <th>join_date</th>\n",
       "      <th>length_of_service</th>\n",
       "      <th>KPIs_met &gt;80%</th>\n",
       "      <th>awards_won?</th>\n",
       "      <th>avg_training_score</th>\n",
       "      <th>is_promoted</th>\n",
       "    </tr>\n",
       "    <tr>\n",
       "      <th>employee_id</th>\n",
       "      <th></th>\n",
       "      <th></th>\n",
       "      <th></th>\n",
       "      <th></th>\n",
       "      <th></th>\n",
       "      <th></th>\n",
       "      <th></th>\n",
       "      <th></th>\n",
       "      <th></th>\n",
       "      <th></th>\n",
       "      <th></th>\n",
       "      <th></th>\n",
       "      <th></th>\n",
       "      <th></th>\n",
       "      <th></th>\n",
       "    </tr>\n",
       "  </thead>\n",
       "  <tbody>\n",
       "    <tr>\n",
       "      <th>65438</th>\n",
       "      <td>Sales &amp; Marketing</td>\n",
       "      <td>region_7</td>\n",
       "      <td>Master's &amp; above</td>\n",
       "      <td>Female</td>\n",
       "      <td>sourcing</td>\n",
       "      <td>1</td>\n",
       "      <td>1986-10-21</td>\n",
       "      <td>35</td>\n",
       "      <td>5.0</td>\n",
       "      <td>2013-10-11</td>\n",
       "      <td>8</td>\n",
       "      <td>Yes</td>\n",
       "      <td>No</td>\n",
       "      <td>49</td>\n",
       "      <td>No</td>\n",
       "    </tr>\n",
       "    <tr>\n",
       "      <th>65141</th>\n",
       "      <td>Operations</td>\n",
       "      <td>region_22</td>\n",
       "      <td>Bachelor's</td>\n",
       "      <td>Male</td>\n",
       "      <td>other</td>\n",
       "      <td>1</td>\n",
       "      <td>1991-11-21</td>\n",
       "      <td>30</td>\n",
       "      <td>5.0</td>\n",
       "      <td>2017-09-19</td>\n",
       "      <td>4</td>\n",
       "      <td>No</td>\n",
       "      <td>No</td>\n",
       "      <td>60</td>\n",
       "      <td>No</td>\n",
       "    </tr>\n",
       "    <tr>\n",
       "      <th>7513</th>\n",
       "      <td>Sales &amp; Marketing</td>\n",
       "      <td>region_19</td>\n",
       "      <td>Bachelor's</td>\n",
       "      <td>Male</td>\n",
       "      <td>sourcing</td>\n",
       "      <td>1</td>\n",
       "      <td>1987-09-14</td>\n",
       "      <td>34</td>\n",
       "      <td>3.0</td>\n",
       "      <td>2014-05-29</td>\n",
       "      <td>7</td>\n",
       "      <td>No</td>\n",
       "      <td>No</td>\n",
       "      <td>50</td>\n",
       "      <td>No</td>\n",
       "    </tr>\n",
       "    <tr>\n",
       "      <th>2542</th>\n",
       "      <td>Sales &amp; Marketing</td>\n",
       "      <td>region_23</td>\n",
       "      <td>Bachelor's</td>\n",
       "      <td>Male</td>\n",
       "      <td>other</td>\n",
       "      <td>2</td>\n",
       "      <td>1982-02-17</td>\n",
       "      <td>39</td>\n",
       "      <td>1.0</td>\n",
       "      <td>2011-06-29</td>\n",
       "      <td>10</td>\n",
       "      <td>No</td>\n",
       "      <td>No</td>\n",
       "      <td>50</td>\n",
       "      <td>No</td>\n",
       "    </tr>\n",
       "    <tr>\n",
       "      <th>48945</th>\n",
       "      <td>Technology</td>\n",
       "      <td>region_26</td>\n",
       "      <td>Bachelor's</td>\n",
       "      <td>Male</td>\n",
       "      <td>other</td>\n",
       "      <td>1</td>\n",
       "      <td>1976-02-22</td>\n",
       "      <td>45</td>\n",
       "      <td>3.0</td>\n",
       "      <td>2019-07-30</td>\n",
       "      <td>2</td>\n",
       "      <td>No</td>\n",
       "      <td>No</td>\n",
       "      <td>73</td>\n",
       "      <td>No</td>\n",
       "    </tr>\n",
       "  </tbody>\n",
       "</table>\n",
       "</div>"
      ],
      "text/plain": [
       "                    department     region         education  gender  \\\n",
       "employee_id                                                           \n",
       "65438        Sales & Marketing   region_7  Master's & above  Female   \n",
       "65141               Operations  region_22        Bachelor's    Male   \n",
       "7513         Sales & Marketing  region_19        Bachelor's    Male   \n",
       "2542         Sales & Marketing  region_23        Bachelor's    Male   \n",
       "48945               Technology  region_26        Bachelor's    Male   \n",
       "\n",
       "            recruitment_channel  no_of_trainings date_of_birth  age  \\\n",
       "employee_id                                                           \n",
       "65438                  sourcing                1    1986-10-21   35   \n",
       "65141                     other                1    1991-11-21   30   \n",
       "7513                   sourcing                1    1987-09-14   34   \n",
       "2542                      other                2    1982-02-17   39   \n",
       "48945                     other                1    1976-02-22   45   \n",
       "\n",
       "             previous_year_rating   join_date  length_of_service  \\\n",
       "employee_id                                                        \n",
       "65438                         5.0  2013-10-11                  8   \n",
       "65141                         5.0  2017-09-19                  4   \n",
       "7513                          3.0  2014-05-29                  7   \n",
       "2542                          1.0  2011-06-29                 10   \n",
       "48945                         3.0  2019-07-30                  2   \n",
       "\n",
       "            KPIs_met >80% awards_won?  avg_training_score is_promoted  \n",
       "employee_id                                                            \n",
       "65438                 Yes          No                  49          No  \n",
       "65141                  No          No                  60          No  \n",
       "7513                   No          No                  50          No  \n",
       "2542                   No          No                  50          No  \n",
       "48945                  No          No                  73          No  "
      ]
     },
     "execution_count": 57,
     "metadata": {},
     "output_type": "execute_result"
    }
   ],
   "source": [
    "promotion_new = pd.read_csv(\"data_input/promotion_clean.csv\", index_col=0)\n",
    "promotion_new.head()"
   ]
  },
  {
   "cell_type": "markdown",
   "metadata": {},
   "source": [
    "Untuk mensubset baris id ke id tanda terima 65438 dan 7513, kita dapat menggunakan pengindeksan berbasis label (`.loc`) seperti:"
   ]
  },
  {
   "cell_type": "code",
   "execution_count": 58,
   "metadata": {},
   "outputs": [
    {
     "data": {
      "text/html": [
       "<div>\n",
       "<style scoped>\n",
       "    .dataframe tbody tr th:only-of-type {\n",
       "        vertical-align: middle;\n",
       "    }\n",
       "\n",
       "    .dataframe tbody tr th {\n",
       "        vertical-align: top;\n",
       "    }\n",
       "\n",
       "    .dataframe thead th {\n",
       "        text-align: right;\n",
       "    }\n",
       "</style>\n",
       "<table border=\"1\" class=\"dataframe\">\n",
       "  <thead>\n",
       "    <tr style=\"text-align: right;\">\n",
       "      <th></th>\n",
       "      <th>department</th>\n",
       "      <th>region</th>\n",
       "      <th>education</th>\n",
       "      <th>gender</th>\n",
       "      <th>recruitment_channel</th>\n",
       "      <th>no_of_trainings</th>\n",
       "      <th>date_of_birth</th>\n",
       "      <th>age</th>\n",
       "      <th>previous_year_rating</th>\n",
       "      <th>join_date</th>\n",
       "      <th>length_of_service</th>\n",
       "      <th>KPIs_met &gt;80%</th>\n",
       "      <th>awards_won?</th>\n",
       "      <th>avg_training_score</th>\n",
       "      <th>is_promoted</th>\n",
       "    </tr>\n",
       "    <tr>\n",
       "      <th>employee_id</th>\n",
       "      <th></th>\n",
       "      <th></th>\n",
       "      <th></th>\n",
       "      <th></th>\n",
       "      <th></th>\n",
       "      <th></th>\n",
       "      <th></th>\n",
       "      <th></th>\n",
       "      <th></th>\n",
       "      <th></th>\n",
       "      <th></th>\n",
       "      <th></th>\n",
       "      <th></th>\n",
       "      <th></th>\n",
       "      <th></th>\n",
       "    </tr>\n",
       "  </thead>\n",
       "  <tbody>\n",
       "    <tr>\n",
       "      <th>65438</th>\n",
       "      <td>Sales &amp; Marketing</td>\n",
       "      <td>region_7</td>\n",
       "      <td>Master's &amp; above</td>\n",
       "      <td>Female</td>\n",
       "      <td>sourcing</td>\n",
       "      <td>1</td>\n",
       "      <td>1986-10-21</td>\n",
       "      <td>35</td>\n",
       "      <td>5.0</td>\n",
       "      <td>2013-10-11</td>\n",
       "      <td>8</td>\n",
       "      <td>Yes</td>\n",
       "      <td>No</td>\n",
       "      <td>49</td>\n",
       "      <td>No</td>\n",
       "    </tr>\n",
       "    <tr>\n",
       "      <th>7513</th>\n",
       "      <td>Sales &amp; Marketing</td>\n",
       "      <td>region_19</td>\n",
       "      <td>Bachelor's</td>\n",
       "      <td>Male</td>\n",
       "      <td>sourcing</td>\n",
       "      <td>1</td>\n",
       "      <td>1987-09-14</td>\n",
       "      <td>34</td>\n",
       "      <td>3.0</td>\n",
       "      <td>2014-05-29</td>\n",
       "      <td>7</td>\n",
       "      <td>No</td>\n",
       "      <td>No</td>\n",
       "      <td>50</td>\n",
       "      <td>No</td>\n",
       "    </tr>\n",
       "  </tbody>\n",
       "</table>\n",
       "</div>"
      ],
      "text/plain": [
       "                    department     region         education  gender  \\\n",
       "employee_id                                                           \n",
       "65438        Sales & Marketing   region_7  Master's & above  Female   \n",
       "7513         Sales & Marketing  region_19        Bachelor's    Male   \n",
       "\n",
       "            recruitment_channel  no_of_trainings date_of_birth  age  \\\n",
       "employee_id                                                           \n",
       "65438                  sourcing                1    1986-10-21   35   \n",
       "7513                   sourcing                1    1987-09-14   34   \n",
       "\n",
       "             previous_year_rating   join_date  length_of_service  \\\n",
       "employee_id                                                        \n",
       "65438                         5.0  2013-10-11                  8   \n",
       "7513                          3.0  2014-05-29                  7   \n",
       "\n",
       "            KPIs_met >80% awards_won?  avg_training_score is_promoted  \n",
       "employee_id                                                            \n",
       "65438                 Yes          No                  49          No  \n",
       "7513                   No          No                  50          No  "
      ]
     },
     "execution_count": 58,
     "metadata": {},
     "output_type": "execute_result"
    }
   ],
   "source": [
    "promotion_new.loc[[65438,7513], :]"
   ]
  },
  {
   "cell_type": "markdown",
   "metadata": {},
   "source": [
    "## Conditional Subsetting\n",
    "\n",
    "Selain menggunakan `.loc` dan `.iloc`, kita dapat melakukan subsetting berdasarkan kondisi tertentu. Misal pada dataframe `rice`, kita ingin mengambil beberapa data dengan kondisi sebagai berikut:\n",
    "\n",
    "- Transaksi yang terjadi di supermarket: `.format == 'supermarket'`\n",
    "- Transaksi dengan produk yang harganya lebih dari sama dengan 200000: `.unit_price >= 200000`\n",
    "- Transaksi dimana kuantitas tidak sama dengan 0: `.quantity != 0`\n",
    "\n",
    "Syntax penulisan untuk conditional subsetting adalah:\n",
    "\n",
    "**`df[df['column_name'] <comparison_operator> <value>]`**\n",
    "\n",
    "atau\n",
    "\n",
    "**`df[df.column_name <comparison_operator> <value>]`**\n",
    "\n",
    "Contoh comparison_operator adalah seperti `==`, `!=`, `>`, `>=`, `<`, `<=`."
   ]
  },
  {
   "cell_type": "code",
   "execution_count": 59,
   "metadata": {},
   "outputs": [
    {
     "data": {
      "text/plain": [
       "0        False\n",
       "1        False\n",
       "2        False\n",
       "3        False\n",
       "4        False\n",
       "         ...  \n",
       "54803    False\n",
       "54804    False\n",
       "54805    False\n",
       "54806    False\n",
       "54807    False\n",
       "Name: is_promoted, Length: 54808, dtype: bool"
      ]
     },
     "execution_count": 59,
     "metadata": {},
     "output_type": "execute_result"
    }
   ],
   "source": [
    "# subset pegawai yang mendapatkan promosi\n",
    "promotion['is_promoted'] == 'Yes'"
   ]
  },
  {
   "cell_type": "code",
   "execution_count": 60,
   "metadata": {},
   "outputs": [
    {
     "data": {
      "text/html": [
       "<div>\n",
       "<style scoped>\n",
       "    .dataframe tbody tr th:only-of-type {\n",
       "        vertical-align: middle;\n",
       "    }\n",
       "\n",
       "    .dataframe tbody tr th {\n",
       "        vertical-align: top;\n",
       "    }\n",
       "\n",
       "    .dataframe thead th {\n",
       "        text-align: right;\n",
       "    }\n",
       "</style>\n",
       "<table border=\"1\" class=\"dataframe\">\n",
       "  <thead>\n",
       "    <tr style=\"text-align: right;\">\n",
       "      <th></th>\n",
       "      <th>employee_id</th>\n",
       "      <th>department</th>\n",
       "      <th>region</th>\n",
       "      <th>education</th>\n",
       "      <th>gender</th>\n",
       "      <th>recruitment_channel</th>\n",
       "      <th>no_of_trainings</th>\n",
       "      <th>date_of_birth</th>\n",
       "      <th>age</th>\n",
       "      <th>previous_year_rating</th>\n",
       "      <th>join_date</th>\n",
       "      <th>length_of_service</th>\n",
       "      <th>KPIs_met &gt;80%</th>\n",
       "      <th>awards_won?</th>\n",
       "      <th>avg_training_score</th>\n",
       "      <th>is_promoted</th>\n",
       "    </tr>\n",
       "  </thead>\n",
       "  <tbody>\n",
       "    <tr>\n",
       "      <th>11</th>\n",
       "      <td>49017</td>\n",
       "      <td>Sales &amp; Marketing</td>\n",
       "      <td>region_7</td>\n",
       "      <td>Bachelor's</td>\n",
       "      <td>Female</td>\n",
       "      <td>sourcing</td>\n",
       "      <td>1</td>\n",
       "      <td>1986-06-20</td>\n",
       "      <td>35</td>\n",
       "      <td>5.0</td>\n",
       "      <td>2018-09-04</td>\n",
       "      <td>3</td>\n",
       "      <td>Yes</td>\n",
       "      <td>No</td>\n",
       "      <td>50</td>\n",
       "      <td>Yes</td>\n",
       "    </tr>\n",
       "    <tr>\n",
       "      <th>39</th>\n",
       "      <td>58304</td>\n",
       "      <td>Sales &amp; Marketing</td>\n",
       "      <td>region_28</td>\n",
       "      <td>Bachelor's</td>\n",
       "      <td>Male</td>\n",
       "      <td>sourcing</td>\n",
       "      <td>1</td>\n",
       "      <td>1988-03-26</td>\n",
       "      <td>33</td>\n",
       "      <td>5.0</td>\n",
       "      <td>2015-05-13</td>\n",
       "      <td>6</td>\n",
       "      <td>Yes</td>\n",
       "      <td>No</td>\n",
       "      <td>51</td>\n",
       "      <td>Yes</td>\n",
       "    </tr>\n",
       "    <tr>\n",
       "      <th>60</th>\n",
       "      <td>17673</td>\n",
       "      <td>Sales &amp; Marketing</td>\n",
       "      <td>region_4</td>\n",
       "      <td>Master's &amp; above</td>\n",
       "      <td>Male</td>\n",
       "      <td>other</td>\n",
       "      <td>1</td>\n",
       "      <td>1971-01-23</td>\n",
       "      <td>50</td>\n",
       "      <td>4.0</td>\n",
       "      <td>2004-10-28</td>\n",
       "      <td>17</td>\n",
       "      <td>Yes</td>\n",
       "      <td>No</td>\n",
       "      <td>47</td>\n",
       "      <td>Yes</td>\n",
       "    </tr>\n",
       "    <tr>\n",
       "      <th>66</th>\n",
       "      <td>77981</td>\n",
       "      <td>Finance</td>\n",
       "      <td>region_22</td>\n",
       "      <td>Bachelor's</td>\n",
       "      <td>Male</td>\n",
       "      <td>other</td>\n",
       "      <td>1</td>\n",
       "      <td>1994-12-13</td>\n",
       "      <td>27</td>\n",
       "      <td>3.0</td>\n",
       "      <td>2020-03-26</td>\n",
       "      <td>1</td>\n",
       "      <td>Yes</td>\n",
       "      <td>Yes</td>\n",
       "      <td>58</td>\n",
       "      <td>Yes</td>\n",
       "    </tr>\n",
       "    <tr>\n",
       "      <th>67</th>\n",
       "      <td>16502</td>\n",
       "      <td>Sales &amp; Marketing</td>\n",
       "      <td>region_22</td>\n",
       "      <td>Bachelor's</td>\n",
       "      <td>Male</td>\n",
       "      <td>sourcing</td>\n",
       "      <td>1</td>\n",
       "      <td>1994-04-12</td>\n",
       "      <td>27</td>\n",
       "      <td>3.0</td>\n",
       "      <td>2020-04-05</td>\n",
       "      <td>1</td>\n",
       "      <td>No</td>\n",
       "      <td>No</td>\n",
       "      <td>61</td>\n",
       "      <td>Yes</td>\n",
       "    </tr>\n",
       "    <tr>\n",
       "      <th>...</th>\n",
       "      <td>...</td>\n",
       "      <td>...</td>\n",
       "      <td>...</td>\n",
       "      <td>...</td>\n",
       "      <td>...</td>\n",
       "      <td>...</td>\n",
       "      <td>...</td>\n",
       "      <td>...</td>\n",
       "      <td>...</td>\n",
       "      <td>...</td>\n",
       "      <td>...</td>\n",
       "      <td>...</td>\n",
       "      <td>...</td>\n",
       "      <td>...</td>\n",
       "      <td>...</td>\n",
       "      <td>...</td>\n",
       "    </tr>\n",
       "    <tr>\n",
       "      <th>54734</th>\n",
       "      <td>11685</td>\n",
       "      <td>Operations</td>\n",
       "      <td>region_15</td>\n",
       "      <td>Bachelor's</td>\n",
       "      <td>Male</td>\n",
       "      <td>sourcing</td>\n",
       "      <td>1</td>\n",
       "      <td>1990-11-09</td>\n",
       "      <td>31</td>\n",
       "      <td>3.0</td>\n",
       "      <td>2020-10-18</td>\n",
       "      <td>1</td>\n",
       "      <td>Yes</td>\n",
       "      <td>No</td>\n",
       "      <td>56</td>\n",
       "      <td>Yes</td>\n",
       "    </tr>\n",
       "    <tr>\n",
       "      <th>54757</th>\n",
       "      <td>14502</td>\n",
       "      <td>Technology</td>\n",
       "      <td>region_7</td>\n",
       "      <td>Master's &amp; above</td>\n",
       "      <td>Male</td>\n",
       "      <td>other</td>\n",
       "      <td>1</td>\n",
       "      <td>1967-01-01</td>\n",
       "      <td>54</td>\n",
       "      <td>4.0</td>\n",
       "      <td>2014-03-13</td>\n",
       "      <td>7</td>\n",
       "      <td>No</td>\n",
       "      <td>No</td>\n",
       "      <td>81</td>\n",
       "      <td>Yes</td>\n",
       "    </tr>\n",
       "    <tr>\n",
       "      <th>54761</th>\n",
       "      <td>8278</td>\n",
       "      <td>Procurement</td>\n",
       "      <td>region_13</td>\n",
       "      <td>Bachelor's</td>\n",
       "      <td>Female</td>\n",
       "      <td>sourcing</td>\n",
       "      <td>1</td>\n",
       "      <td>1991-07-11</td>\n",
       "      <td>30</td>\n",
       "      <td>4.0</td>\n",
       "      <td>2019-11-30</td>\n",
       "      <td>2</td>\n",
       "      <td>Yes</td>\n",
       "      <td>No</td>\n",
       "      <td>86</td>\n",
       "      <td>Yes</td>\n",
       "    </tr>\n",
       "    <tr>\n",
       "      <th>54792</th>\n",
       "      <td>994</td>\n",
       "      <td>Sales &amp; Marketing</td>\n",
       "      <td>region_14</td>\n",
       "      <td>Bachelor's</td>\n",
       "      <td>Male</td>\n",
       "      <td>other</td>\n",
       "      <td>1</td>\n",
       "      <td>1962-01-01</td>\n",
       "      <td>59</td>\n",
       "      <td>3.0</td>\n",
       "      <td>2010-11-12</td>\n",
       "      <td>11</td>\n",
       "      <td>No</td>\n",
       "      <td>No</td>\n",
       "      <td>65</td>\n",
       "      <td>Yes</td>\n",
       "    </tr>\n",
       "    <tr>\n",
       "      <th>54796</th>\n",
       "      <td>12592</td>\n",
       "      <td>Sales &amp; Marketing</td>\n",
       "      <td>region_25</td>\n",
       "      <td>Master's &amp; above</td>\n",
       "      <td>Male</td>\n",
       "      <td>other</td>\n",
       "      <td>1</td>\n",
       "      <td>1987-04-14</td>\n",
       "      <td>34</td>\n",
       "      <td>3.0</td>\n",
       "      <td>2014-05-18</td>\n",
       "      <td>7</td>\n",
       "      <td>No</td>\n",
       "      <td>No</td>\n",
       "      <td>60</td>\n",
       "      <td>Yes</td>\n",
       "    </tr>\n",
       "  </tbody>\n",
       "</table>\n",
       "<p>4668 rows × 16 columns</p>\n",
       "</div>"
      ],
      "text/plain": [
       "       employee_id         department     region         education  gender  \\\n",
       "11           49017  Sales & Marketing   region_7        Bachelor's  Female   \n",
       "39           58304  Sales & Marketing  region_28        Bachelor's    Male   \n",
       "60           17673  Sales & Marketing   region_4  Master's & above    Male   \n",
       "66           77981            Finance  region_22        Bachelor's    Male   \n",
       "67           16502  Sales & Marketing  region_22        Bachelor's    Male   \n",
       "...            ...                ...        ...               ...     ...   \n",
       "54734        11685         Operations  region_15        Bachelor's    Male   \n",
       "54757        14502         Technology   region_7  Master's & above    Male   \n",
       "54761         8278        Procurement  region_13        Bachelor's  Female   \n",
       "54792          994  Sales & Marketing  region_14        Bachelor's    Male   \n",
       "54796        12592  Sales & Marketing  region_25  Master's & above    Male   \n",
       "\n",
       "      recruitment_channel  no_of_trainings date_of_birth  age  \\\n",
       "11               sourcing                1    1986-06-20   35   \n",
       "39               sourcing                1    1988-03-26   33   \n",
       "60                  other                1    1971-01-23   50   \n",
       "66                  other                1    1994-12-13   27   \n",
       "67               sourcing                1    1994-04-12   27   \n",
       "...                   ...              ...           ...  ...   \n",
       "54734            sourcing                1    1990-11-09   31   \n",
       "54757               other                1    1967-01-01   54   \n",
       "54761            sourcing                1    1991-07-11   30   \n",
       "54792               other                1    1962-01-01   59   \n",
       "54796               other                1    1987-04-14   34   \n",
       "\n",
       "       previous_year_rating  join_date  length_of_service KPIs_met >80%  \\\n",
       "11                      5.0 2018-09-04                  3           Yes   \n",
       "39                      5.0 2015-05-13                  6           Yes   \n",
       "60                      4.0 2004-10-28                 17           Yes   \n",
       "66                      3.0 2020-03-26                  1           Yes   \n",
       "67                      3.0 2020-04-05                  1            No   \n",
       "...                     ...        ...                ...           ...   \n",
       "54734                   3.0 2020-10-18                  1           Yes   \n",
       "54757                   4.0 2014-03-13                  7            No   \n",
       "54761                   4.0 2019-11-30                  2           Yes   \n",
       "54792                   3.0 2010-11-12                 11            No   \n",
       "54796                   3.0 2014-05-18                  7            No   \n",
       "\n",
       "      awards_won?  avg_training_score is_promoted  \n",
       "11             No                  50         Yes  \n",
       "39             No                  51         Yes  \n",
       "60             No                  47         Yes  \n",
       "66            Yes                  58         Yes  \n",
       "67             No                  61         Yes  \n",
       "...           ...                 ...         ...  \n",
       "54734          No                  56         Yes  \n",
       "54757          No                  81         Yes  \n",
       "54761          No                  86         Yes  \n",
       "54792          No                  65         Yes  \n",
       "54796          No                  60         Yes  \n",
       "\n",
       "[4668 rows x 16 columns]"
      ]
     },
     "execution_count": 60,
     "metadata": {},
     "output_type": "execute_result"
    }
   ],
   "source": [
    "promotion[promotion['is_promoted'] == 'Yes']"
   ]
  }
 ],
 "metadata": {
  "kernelspec": {
   "display_name": "dss_dash",
   "language": "python",
   "name": "dss_dash"
  },
  "language_info": {
   "codemirror_mode": {
    "name": "ipython",
    "version": 3
   },
   "file_extension": ".py",
   "mimetype": "text/x-python",
   "name": "python",
   "nbconvert_exporter": "python",
   "pygments_lexer": "ipython3",
   "version": "3.9.15"
  },
  "latex_envs": {
   "LaTeX_envs_menu_present": true,
   "autoclose": false,
   "autocomplete": true,
   "bibliofile": "biblio.bib",
   "cite_by": "apalike",
   "current_citInitial": 1,
   "eqLabelWithNumbers": true,
   "eqNumInitial": 1,
   "hotkeys": {
    "equation": "Ctrl-E",
    "itemize": "Ctrl-I"
   },
   "labels_anchors": false,
   "latex_user_defs": false,
   "report_style_numbering": false,
   "user_envs_cfg": false
  },
  "toc": {
   "base_numbering": 1,
   "nav_menu": {
    "height": "141px",
    "width": "160px"
   },
   "number_sections": true,
   "sideBar": true,
   "skip_h1_title": false,
   "title_cell": "Table of Contents",
   "title_sidebar": "Contents",
   "toc_cell": false,
   "toc_position": {
    "height": "calc(100% - 180px)",
    "left": "10px",
    "top": "150px",
    "width": "278px"
   },
   "toc_section_display": true,
   "toc_window_display": false
  }
 },
 "nbformat": 4,
 "nbformat_minor": 4
}
