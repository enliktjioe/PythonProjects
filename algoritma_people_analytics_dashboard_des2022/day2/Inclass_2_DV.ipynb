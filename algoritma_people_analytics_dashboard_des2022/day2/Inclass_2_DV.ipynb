{
 "cells": [
  {
   "cell_type": "markdown",
   "metadata": {},
   "source": [
    "**Coursebook: Data Wrangling and Visualization**\n",
    "\n",
    "- Part 2 of Data Science Series\n",
    "- Course Length: 3 hours\n",
    "- Last Updated: December 2022\n",
    "\n",
    "___\n",
    "\n",
    "- Developed by: [Dwi Gustin Nurdialit](https://github.com/dwiknrd)"
   ]
  },
  {
   "cell_type": "markdown",
   "metadata": {},
   "source": [
    "\n",
    "## Training Objectives\n",
    "\n",
    "This coursebook is intended for participants who have completed the preceding courses offered in the **Data Science in Python Specialization**. This is the third course, **Data Wrangling and Visualization** \n",
    "\n",
    "The coursebook focuses on:\n",
    "\n",
    "- Visual Data Exploratory\n",
    "    + Using `plotly`\n",
    "    + Plotting using `pandas` object\n",
    "- Many ways to visualize a context:\n",
    "    + Categorical ranking\n",
    "    + Data distribution\n",
    "    + Correlation between data\n",
    "    + Time-based evolution\n",
    "\n",
    "The final part of this course is a Graded Asssignment, where you are expected to apply all that you've learned on a new dataset, and attempt the given questions."
   ]
  },
  {
   "cell_type": "markdown",
   "metadata": {},
   "source": [
    "# Data Visualization\n",
    "\n",
    "Tujuan Visualisasi:\n",
    "\n",
    "- Exploratory: proses untuk memfamiliarkan diri (berkenalan) dengan data melalui visualisasi, sehingga mendapatkan sebuah insight. Visualisasi yang ditampilkan biasanya sederhana. Analogi: mencari dan mendapatkan batu permata di antara ratusan batu biasa.\n",
    "- Explanatory: proses untuk menjelaskan atau menyajikan insight yang didapat dari hasil exploratory kepada user/audience. Visualisasi yang ditampilkan biasanya lebih menarik dan meng-highlight insight secara spesifik. Analogi: mempoles batu permata tersebut dan menawarkannya kepada pembeli.\n",
    "\n",
    "Pada course ini, dititikberatkan pada bagaimana cara kita menampilkan visualisasi data yang **informatif dan tepat**. Untuk memperindah tampilan visualisasi dapat di-eksplorasi secara mandiri melalui dokumentasi yang tersedia."
   ]
  },
  {
   "cell_type": "markdown",
   "metadata": {},
   "source": [
    "## 🛠 Libraries\n",
    "\n",
    "Anda perlu menggunakan `pip install <library_name>` untuk menginstal semua pustaka yang tercantum di bawah ini yang belum diunduh ke mesin Anda. Anda kemudian memuat perpustakaan ke ruang kerja Anda menggunakan `import`:"
   ]
  },
  {
   "cell_type": "code",
   "execution_count": null,
   "metadata": {},
   "outputs": [],
   "source": [
    "import pandas as pd\n",
    "import plotly as pl\n",
    "import plotly.express as px"
   ]
  },
  {
   "cell_type": "markdown",
   "metadata": {},
   "source": [
    "## Datasets\n",
    "\n",
    "Employee promotion dataset publised by [Kaggle](https://www.kaggle.com/c/scitech-epoch-1/data)"
   ]
  },
  {
   "cell_type": "code",
   "execution_count": null,
   "metadata": {},
   "outputs": [],
   "source": [
    "promotion = pd.read_csv('data_input/promotion_clean.csv')\n",
    "promotion.head()"
   ]
  },
  {
   "cell_type": "markdown",
   "metadata": {},
   "source": [
    "The information of the dataset:\n",
    "\n",
    "- `employee_id` : Unique ID for employee.\n",
    "- `department` : Department of employee\n",
    "- `region` : Region of employment (unordered)\n",
    "- `education` : Education Level.\n",
    "- `gender` : Gender of Employee.\n",
    "- `recruitment_channel` : Channel of recruitment for employees.\n",
    "- `no_of_trainings` : no. of other training completed in previous year on soft skills, technical skills etc.\n",
    "- `date_of_birth`: employee date of birth\n",
    "- `age` : Age of Employee.\n",
    "- `join_date`: Employee join date\n",
    "- `previous_year_rating` : Employee Rating for the previous year.\n",
    "- `length_of_service` : Length of service in years.\n",
    "- `KPIs_met >80%` : If Percent of KPIs(Key performance Indicators) >80% then 1 else 0.\n",
    "- `awards_won?` : If awards won during the previous year then 1 else 0.\n",
    "- `avg_training_score` : Average score in current training evaluations.\n",
    "- `is_promoted` : Recommended for promotion."
   ]
  },
  {
   "cell_type": "markdown",
   "metadata": {},
   "source": [
    "### Data Preprocessing"
   ]
  },
  {
   "cell_type": "code",
   "execution_count": null,
   "metadata": {},
   "outputs": [],
   "source": [
    "promotion.info()"
   ]
  },
  {
   "cell_type": "markdown",
   "metadata": {},
   "source": [
    "Ubah tipe data yang belum sesuai"
   ]
  },
  {
   "cell_type": "code",
   "execution_count": null,
   "metadata": {},
   "outputs": [],
   "source": [
    "# Cleansing data\n",
    "promotion[['department','region','education',\n",
    "           'gender','recruitment_channel',\n",
    "           'KPIs_met >80%','awards_won?',\n",
    "           'is_promoted']] = promotion[['department','region',\n",
    "                                        'education','gender',\n",
    "                                        'recruitment_channel',\n",
    "                                        'KPIs_met >80%','awards_won?',\n",
    "                                        'is_promoted']].astype('category')\n",
    "\n",
    "promotion[['date_of_birth','join_date']] = promotion[['date_of_birth','join_date']].astype('datetime64')"
   ]
  },
  {
   "cell_type": "markdown",
   "metadata": {},
   "source": [
    "## Plotly Python Graphing Library\n",
    "\n",
    "Library grafik Python [Plotly](https://plotly.com/python/) membuat grafik interaktif berkualitas publikasi. Contoh cara membuat line plot, scatter plot, area chart, bar chart, error bar, box plot, histogram, heatmap, subplot, multiple-axes, polar chart, dan bubble chart.\n",
    "\n",
    "Modul [`plotly.express`](https://plotly.com/python/plotly-express/) (biasanya diimpor sebagai px) berisi fungsi yang dapat membuat seluruh gambar sekaligus, dan disebut sebagai Plotly Express atau PX. Plotly Express adalah bagian bawaan dari pustaka plotly, dan merupakan titik awal yang disarankan untuk membuat gambar paling umum. Setiap fungsi Plotly Express menggunakan objek grafik secara internal dan mengembalikan object `plotly.graph_objects.Figure`\n"
   ]
  },
  {
   "cell_type": "markdown",
   "metadata": {},
   "source": [
    "### Introduction to `plotly.express`\n",
    "\n",
    "### Your first Visualization\n",
    "\n",
    "🔻 Pada data kita ingin melihat jumlah pegawai yang mendapatkan promosi disetiap departemen"
   ]
  },
  {
   "cell_type": "markdown",
   "metadata": {},
   "source": [
    "Kita akan melakukan subset untuk status promosi = `'Yes'`"
   ]
  },
  {
   "cell_type": "code",
   "execution_count": null,
   "metadata": {},
   "outputs": [],
   "source": [
    "promoted = promotion[promotion['is_promoted']=='Yes']"
   ]
  },
  {
   "cell_type": "markdown",
   "metadata": {},
   "source": [
    "Kemudian kita dapat memproses lebih lanjut data kita menjadi format yang lebih sesuai untuk visualisasi kita:"
   ]
  },
  {
   "cell_type": "code",
   "execution_count": null,
   "metadata": {},
   "outputs": [],
   "source": [
    "promot_gender ="
   ]
  },
  {
   "cell_type": "markdown",
   "metadata": {},
   "source": [
    "Visualisasikan:"
   ]
  },
  {
   "cell_type": "code",
   "execution_count": null,
   "metadata": {},
   "outputs": [],
   "source": []
  },
  {
   "cell_type": "markdown",
   "metadata": {},
   "source": [
    "📝 Plot yang dihasilkan diatas menggunakan fungsi `px.bar()` dan data dimasukkan pada fungsi tersebut. Secara otomatis akan menampilkan visualisasi barplot dengan indeks sebagai sumbu x dan value sebagai sumbu y"
   ]
  },
  {
   "cell_type": "markdown",
   "metadata": {},
   "source": [
    "🔻 Kita dapat melakukan ini secara iteratif sampai kita memiliki visualisasi yang sesuai dengan tujuan kita. Misalnya kita ingin mengganti nama teks x dan y. Kita dapat menambahkan parameter `labels`"
   ]
  },
  {
   "cell_type": "code",
   "execution_count": null,
   "metadata": {},
   "outputs": [],
   "source": []
  },
  {
   "cell_type": "markdown",
   "metadata": {},
   "source": [
    "### Basic Visual Enchancement\n",
    "\n",
    "Seperti yang kami tunjukkan sebelumnya, kami sudah tahu bahwa parameter `plotly.express` sangat dapat dikustomisasi, tetapi itu juga peringatannya: terkadang jumlah opsi sangat berlebihan! Jadi, di bagian ini, kami akan menampilkan beberapa bagian dasar `plotly.express` untuk ditambahkan atau diedit.\n",
    "\n",
    "Mari kita mulai dengan menambahkan beberapa parameter dan label untuk membuat visualisasi lebih jelas:"
   ]
  },
  {
   "cell_type": "code",
   "execution_count": null,
   "metadata": {},
   "outputs": [],
   "source": []
  },
  {
   "cell_type": "markdown",
   "metadata": {},
   "source": [
    "## Many Ways to Visualize a Context\n",
    "\n",
    "Visualisasi adalah cara yang ampuh untuk menyampaikan konteks dari data kami. Jika kita bisa memilih cara yang baik untuk mengkomunikasikan konteks kita, audiens kita akan mendapatkan wawasan yang ingin kita sampaikan.\n",
    "\n",
    "Pada bagian ini, kita akan membahas beberapa konteks visualisasi dasar:\n",
    "\n",
    "- Peringkat kategoris\n",
    "- Distribusi Data\n",
    "- Korelasi antar data\n"
   ]
  },
  {
   "cell_type": "markdown",
   "metadata": {},
   "source": [
    "### Categorical Ranking\n",
    "\n",
    "Peringkat kategoris adalah salah satu cara paling dasar untuk mengomunikasikan bagaimana variabel kategoris kami dapat menunjukkan perilaku yang berbeda antara levelnya dalam hal output numerik.\n",
    "\n",
    "Kami akan membahas cara dasar untuk melakukan peringkat kategoris dan cara menguraikan wawasan lebih lanjut menggunakan kumpulan data promosi.\n",
    "\n",
    "**General Ranking**\n",
    "\n",
    "Dalam memvisualisasikan peringkat kategoris, kita dapat menggunakan plot **bar** untuk menunjukkan perbedaan besarnya setiap level dalam variabel kategoris kita.\n",
    "\n",
    "🔻 Untuk memulai, mari kita coba lihat peringkat `departemen` dari segi jumlah pegawai.\n",
    "\n",
    "Kita akan mulai dengan membuat agregasi data menggunakan `groupby`:\n",
    "\n",
    "Syntax:\n",
    "\n",
    "```\n",
    "df.groupby([COLUMNS_TO_GROUP]).AGGFUNC()[[VALUES]]\n",
    "df.groupby([COLUMNS_TO_GROUP]).AGGFUNC()[[VALUES]]\n",
    "```\n",
    "\n",
    "- `COLUMNS_TO_GROUP` mengacu pada kolom yang ingin dikelompokkan\n",
    "- `VALUES` mengacu pada kolom yang ingin di-agregasi\n",
    "- `AGGFUNC` mengacu pada fungsi agregat yang ingin diterapkan pada `VALUES`. Dapat berupa method `.agg()` untuk menspesifikan fungsi agregat untuk masing-masing kolom.\n",
    "\n",
    "**Istilah group by merupakan gabungan dari proses:**\n",
    "\n",
    "1. Split: mengelompokkan baris\n",
    "2. Apply: menerapkan fungsi untuk masing-masing kelompok\n",
    "3. Combine: mengembalikan hasil dalam bentuk 1 tabel"
   ]
  },
  {
   "cell_type": "code",
   "execution_count": null,
   "metadata": {},
   "outputs": [],
   "source": [
    "# aggregation\n",
    "\n",
    "\n",
    "# using reset_index \n",
    "\n"
   ]
  },
  {
   "cell_type": "markdown",
   "metadata": {},
   "source": [
    "Visualisasi:"
   ]
  },
  {
   "cell_type": "code",
   "execution_count": null,
   "metadata": {},
   "outputs": [],
   "source": [
    "# visualization\n"
   ]
  },
  {
   "cell_type": "markdown",
   "metadata": {},
   "source": [
    "- documentation about bar chart [here](https://plotly.com/python/bar-charts/)\n",
    "\n",
    "A simple bar plot, if visualized properly, is really powerful for categorical ranking. Our plot is a very prominent example for that: we could already see which `department` is the highest or the lowest, and we could also see the big picture regarding the ranking in terms of number of employee.\n"
   ]
  },
  {
   "cell_type": "markdown",
   "metadata": {},
   "source": [
    "**Breaking Down a Ranking**\n",
    "\n",
    "Seperti pada contoh sebelumnya, memvisualisasikan peringkat kategoris dapat membantu kita memperoleh beberapa wawasan. Tapi, seringkali, kita perlu membuat beberapa perincian ke peringkat untuk mendapatkan lebih banyak wawasan.\n",
    "\n",
    "🔻 Mari kita coba, misalnya, memvisualisasikan ulang peringkat tetapi dengan membaginya menjadi status `promotion`:"
   ]
  },
  {
   "cell_type": "code",
   "execution_count": null,
   "metadata": {},
   "outputs": [],
   "source": [
    "# code here\n"
   ]
  },
  {
   "cell_type": "markdown",
   "metadata": {},
   "source": [
    "Let's take a look into the visualization below:\n",
    "\n",
    "🎨 You can check the color palette availables through this documentation [here](https://plotly.com/python/builtin-colorscales/) and [here](https://www.w3schools.com/colors/colors_names.asp)."
   ]
  },
  {
   "cell_type": "code",
   "execution_count": null,
   "metadata": {},
   "outputs": [],
   "source": [
    "# code here\n"
   ]
  },
  {
   "cell_type": "markdown",
   "metadata": {},
   "source": [
    "📝 Barplot diatas dinamakan **stacked bar plot**. \n",
    "\n",
    "🔻 Terkadang, kita juga perlu melihat perbedaan yang tepat mengenai breakdown. Untuk tujuan ini, kita dapat menggunakan `barmode='group'` untuk menunjukkan ketinggian relatif dalam perincian:"
   ]
  },
  {
   "cell_type": "code",
   "execution_count": null,
   "metadata": {},
   "outputs": [],
   "source": [
    "# visualization\n"
   ]
  },
  {
   "cell_type": "markdown",
   "metadata": {},
   "source": [
    "### Data Distribution\n",
    "\n",
    "Distribusi data, sedikit statistik, cara untuk melihat bagaimana data numerik kami didistribusikan di dalam kumpulan data sampel kami. Satu hal yang harus diperhatikan untuk visualisasi ini: ini hanya berfungsi untuk **variabel numerik kontinu**.\n",
    "\n",
    "Pada bagian ini, kita akan membahas bagaimana memvisualisasikan dan menginterpretasikan visualisasi distribusi dengan benar menggunakan dataset promosi."
   ]
  },
  {
   "cell_type": "markdown",
   "metadata": {},
   "source": [
    "**Simple Numerical Distribution**\n",
    "\n",
    "Cara paling mudah untuk memvisualisasikan distribusi data adalah menggunakan plot histogram. Plot histogram dapat dibuat dengan menggabungkan variabel numerik kami ke dalam beberapa bin, yang masing-masing memiliki ambang uniknya sendiri.\n",
    "\n",
    "🔻 Contoh, kita ingin melihat bagaimana `length_of_service` terdistribusi"
   ]
  },
  {
   "cell_type": "code",
   "execution_count": null,
   "metadata": {},
   "outputs": [],
   "source": [
    "# visualize\n"
   ]
  },
  {
   "cell_type": "markdown",
   "metadata": {},
   "source": [
    "> 📊 documentation about histogram chart [here](https://plotly.com/python/histograms/)"
   ]
  },
  {
   "cell_type": "markdown",
   "metadata": {},
   "source": [
    "**Breaking Down Numerical Distribution**\n",
    "\n",
    "Merinci distribusi numerik juga dapat memberi kita lebih banyak wawasan tentang data kita; sangat berguna untuk membandingkan bagaimana distribusi data berbeda antara tingkat kategoris.\n",
    "\n",
    "Ada beberapa cara untuk memecah distribusi data, dan ini terkait dengan berapa banyak level dalam variabel kategori kami."
   ]
  },
  {
   "cell_type": "code",
   "execution_count": null,
   "metadata": {},
   "outputs": [],
   "source": [
    "# Visualize\n"
   ]
  },
  {
   "cell_type": "markdown",
   "metadata": {},
   "source": [
    "### ❓✅ Knowledge Check: Bar plot vs Histogram\n",
    "\n",
    "Setelah membuat dua plot di atas, apa perbedaan antara plot batang dan histogram?\n",
    "\n",
    "- Barplot\n",
    "    + Fungsi : \n",
    "    + Data   : \n",
    "    + Visual :  \n",
    "- Histogram \n",
    "    + Fungsi : \n",
    "    + Data   : \n",
    "    + Visual : "
   ]
  },
  {
   "cell_type": "markdown",
   "metadata": {},
   "source": [
    "Seperti yang dapat kita lihat dari visualisasi sebelumnya, perincian yang benar dapat menjelaskan lebih lanjut tentang distribusi data numerik.\n",
    "\n",
    "Tetapi jika kita memiliki lebih dari dua kategori, akan sangat berantakan jika kita masih menggunakan plot histogram. Jadi daripada menggunakan histogram plot, kita bisa menggunakan boxplot untuk menunjukkan distribusi data dan perinciannya.\n",
    "\n",
    "🔻 Mari kita coba contoh dengan memisahkan distribusi usia berdasarkan departemen dan status promosi:"
   ]
  },
  {
   "cell_type": "code",
   "execution_count": null,
   "metadata": {},
   "outputs": [],
   "source": [
    "# visualize\n"
   ]
  },
  {
   "cell_type": "markdown",
   "metadata": {},
   "source": [
    "> 📊 documentation about boxplot [here](https://plotly.com/python/box-plots/)"
   ]
  },
  {
   "cell_type": "markdown",
   "metadata": {},
   "source": [
    "### Correlation Between Data\n",
    "\n",
    "Korelasi juga merupakan salah satu konteks populer yang bisa kita telusuri. Ini bisa membantu kita mengeksplorasi hubungan apa pun antara variasi dua nilai.\n",
    "\n",
    "**Between Continous Variables**\n",
    "\n",
    "Bentuk korelasi yang paling umum adalah antara variabel numerik kontinu. Itu bisa menunjukkan kepada kita jika kedua variabel berbagi pola variasi, yang seringkali, sangat berwawasan untuk menjelaskan kumpulan data kita.\n",
    "\n",
    "🔻 Sebagai contoh:  For example, mari kita coba memvisualisasikan berapa lama layanan terkait dengan usia untuk sampel Teknologi."
   ]
  },
  {
   "cell_type": "code",
   "execution_count": null,
   "metadata": {},
   "outputs": [],
   "source": [
    "# subset the data only technology\n"
   ]
  },
  {
   "cell_type": "markdown",
   "metadata": {},
   "source": [
    "Juga umum untuk memecah informasi di plot pencar kami. Tapi ini relatif sulit dicapai, karena scatter plot sangat mudah berantakan. Jadi cara yang paling mudah adalah dengan membuat plot antar kategori; di plotly.express, kita dapat mencapainya menggunakan parameter `facet`.\n",
    "\n",
    "Mari kita coba uraikan plot pencar kita berdasarkan status promosi."
   ]
  },
  {
   "cell_type": "code",
   "execution_count": null,
   "metadata": {},
   "outputs": [],
   "source": []
  },
  {
   "cell_type": "markdown",
   "metadata": {},
   "source": [
    "> 📊 documentation about scatter plot [here](https://plotly.com/python/line-and-scatter/)"
   ]
  },
  {
   "cell_type": "markdown",
   "metadata": {},
   "source": [
    "### Time-based Evolution\n",
    "\n",
    "Evolusi berbasis waktu, atau data time series, adalah analisis sering digunakan dalam setiap aspek bisnis atau domain teknis lainnya. Visualisasi ini bisa membantu untuk melihat dinamika nilai numerik yang lebih jelas dalam hal dimensi waktu."
   ]
  },
  {
   "cell_type": "code",
   "execution_count": null,
   "metadata": {},
   "outputs": [],
   "source": [
    "# Data wrangling\n",
    "data_2020 = promotion[promotion['join_date'] >= '2020-01-01']\n",
    "\n",
    "\n",
    "# Visualize\n"
   ]
  },
  {
   "cell_type": "markdown",
   "metadata": {},
   "source": [
    "# Additional"
   ]
  },
  {
   "cell_type": "markdown",
   "metadata": {},
   "source": [
    "## Choropleth Maps\n",
    "\n",
    "> 📊 Documentation [here](https://plotly.com/python/choropleth-maps/)"
   ]
  },
  {
   "cell_type": "code",
   "execution_count": null,
   "metadata": {},
   "outputs": [],
   "source": [
    "gapminder = px.data.gapminder()\n",
    "gapminder.head()"
   ]
  },
  {
   "cell_type": "code",
   "execution_count": null,
   "metadata": {},
   "outputs": [],
   "source": [
    "# Data Preparation\n",
    "gapminder = px.data.gapminder()\n",
    "\n",
    "avg_lifeExp = (gapminder['lifeExp']*gapminder['pop']).sum()/gapminder['pop'].sum()\n",
    "\n",
    "# Visualize\n",
    "px.choropleth(gapminder, locations=\"iso_alpha\", color=\"lifeExp\",\n",
    "                    color_continuous_scale='Picnic',\n",
    "                    color_continuous_midpoint=avg_lifeExp,\n",
    "                    title=\"World Average Life Expectancy in 2007 in years was %.1f\" % avg_lifeExp)"
   ]
  },
  {
   "cell_type": "markdown",
   "metadata": {},
   "source": [
    "##  Animations Plotly"
   ]
  },
  {
   "cell_type": "markdown",
   "metadata": {},
   "source": [
    "### Choroplet"
   ]
  },
  {
   "cell_type": "code",
   "execution_count": null,
   "metadata": {},
   "outputs": [],
   "source": [
    "# Visualize\n",
    "px.choropleth(\n",
    "    gapminder,\n",
    "    locations=\"iso_alpha\",\n",
    "    color=\"lifeExp\",\n",
    "    animation_frame=\"year\", # parameter untuk menambah fitur animasi\n",
    "    color_continuous_scale='Picnic',\n",
    "    color_continuous_midpoint=avg_lifeExp,\n",
    "    title=\"World Average Life Expectancy in 2007 in years was %.1f\" % avg_lifeExp\n",
    ")\n"
   ]
  },
  {
   "cell_type": "markdown",
   "metadata": {},
   "source": [
    "## Scatter"
   ]
  },
  {
   "cell_type": "code",
   "execution_count": null,
   "metadata": {},
   "outputs": [],
   "source": [
    "px.scatter(\n",
    "    gapminder,\n",
    "    x=\"gdpPercap\",\n",
    "    y=\"lifeExp\",\n",
    "    animation_frame=\"year\", \n",
    "    animation_group=\"country\",\n",
    "    size=\"pop\", \n",
    "    color=\"continent\", \n",
    "    hover_name=\"country\",\n",
    "    size_max=55,\n",
    "    range_x=[100,100000],\n",
    "    range_y=[25,90],\n",
    "    log_x=True,\n",
    "    color_discrete_sequence = ['pink','grey','lightblue','salmon','lightgreen']\n",
    ")"
   ]
  },
  {
   "cell_type": "markdown",
   "metadata": {},
   "source": [
    "## Barplot"
   ]
  },
  {
   "cell_type": "code",
   "execution_count": null,
   "metadata": {},
   "outputs": [],
   "source": [
    "px.bar(\n",
    "    gapminder,\n",
    "    x=\"continent\",\n",
    "    y=\"pop\",\n",
    "    color=\"continent\",\n",
    "    animation_frame=\"year\",\n",
    "    color_discrete_sequence = px.colors.qualitative.G10\n",
    ")"
   ]
  },
  {
   "cell_type": "markdown",
   "metadata": {},
   "source": [
    "# Summary\n",
    "\n",
    "The coursebook covers many aspects of plotting, including using visualization libraries such as `plotly.express` and other supporting libraries. I hope you've managed to get a good grasp of the plotting philosophy behind `plotly.express`, and have built a few visualizations with it yourself!\n",
    "\n",
    "Happy coding!"
   ]
  },
  {
   "cell_type": "markdown",
   "metadata": {},
   "source": [
    "# 📚 References\n",
    "\n",
    "- 📊 [Data to Viz](https://www.data-to-viz.com/)\n",
    "- 🛠 [Plotly Express](https://plotly.com/python/plotly-express/)\n",
    "- 📈 Basic Plot\n",
    "    + [Bar](https://plotly.com/python/bar-charts/)\n",
    "    + [Histogram](https://plotly.com/python/histograms/)\n",
    "    + [Box](https://plotly.com/python/box-plots/)\n",
    "    + [Line](https://plotly.com/python/line-charts/)\n",
    "    + [Scatter](https://plotly.com/python/line-and-scatter/)\n",
    "    + [Heatmap](https://plotly.com/python/2D-Histogram/)\n",
    "    + [Choropleth](https://plotly.com/python/choropleth-maps/)\n",
    "- 🎨 Color\n",
    "    + [Continuous color](https://plotly.com/python/builtin-colorscales/)\n",
    "    + [Discrete color](https://plotly.com/python/discrete-color/)\n",
    "    + [Color name](https://www.w3schools.com/colors/colors_names.asp)\n",
    "- 🔎 Advance Plot\n",
    "    + [Layouting](https://plotly.com/python/reference/layout/)\n",
    "        + [Example](https://plotly.com/python/styling-plotly-express/#styling-figures-made-with-plotly-express)\n",
    "        + Documentation:\n",
    "            + [update_layout](https://plotly.com/python/reference/layout/)\n",
    "            + [axes and subplots](https://plotly.com/python/reference/layout/xaxis/)\n",
    "    + [Animation](https://plotly.com/python/animations/)\n",
    "    + [Adding traces](https://plotly.com/python/creating-and-updating-figures/#adding-traces)"
   ]
  }
 ],
 "metadata": {
  "kernelspec": {
   "display_name": "Python 3 (ipykernel)",
   "language": "python",
   "name": "python3"
  },
  "language_info": {
   "codemirror_mode": {
    "name": "ipython",
    "version": 3
   },
   "file_extension": ".py",
   "mimetype": "text/x-python",
   "name": "python",
   "nbconvert_exporter": "python",
   "pygments_lexer": "ipython3",
   "version": "3.8.5"
  },
  "latex_envs": {
   "LaTeX_envs_menu_present": true,
   "autoclose": false,
   "autocomplete": true,
   "bibliofile": "biblio.bib",
   "cite_by": "apalike",
   "current_citInitial": 1,
   "eqLabelWithNumbers": true,
   "eqNumInitial": 1,
   "hotkeys": {
    "equation": "Ctrl-E",
    "itemize": "Ctrl-I"
   },
   "labels_anchors": false,
   "latex_user_defs": false,
   "report_style_numbering": false,
   "user_envs_cfg": false
  },
  "toc": {
   "base_numbering": 1,
   "nav_menu": {},
   "number_sections": false,
   "sideBar": true,
   "skip_h1_title": false,
   "title_cell": "Table of Contents",
   "title_sidebar": "Contents",
   "toc_cell": false,
   "toc_position": {
    "height": "calc(100% - 180px)",
    "left": "10px",
    "top": "150px",
    "width": "242.792px"
   },
   "toc_section_display": true,
   "toc_window_display": false
  },
  "varInspector": {
   "cols": {
    "lenName": 16,
    "lenType": 16,
    "lenVar": 40
   },
   "kernels_config": {
    "python": {
     "delete_cmd_postfix": "",
     "delete_cmd_prefix": "del ",
     "library": "var_list.py",
     "varRefreshCmd": "print(var_dic_list())"
    },
    "r": {
     "delete_cmd_postfix": ") ",
     "delete_cmd_prefix": "rm(",
     "library": "var_list.r",
     "varRefreshCmd": "cat(var_dic_list()) "
    }
   },
   "types_to_exclude": [
    "module",
    "function",
    "builtin_function_or_method",
    "instance",
    "_Feature"
   ],
   "window_display": false
  }
 },
 "nbformat": 4,
 "nbformat_minor": 4
}
