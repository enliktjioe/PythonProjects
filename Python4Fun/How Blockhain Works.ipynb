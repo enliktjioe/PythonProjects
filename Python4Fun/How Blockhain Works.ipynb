{
 "cells": [
  {
   "cell_type": "markdown",
   "id": "coordinate-sapphire",
   "metadata": {},
   "source": [
    "## References\n",
    "\n",
    "- https://asthasr.github.io/posts/how-blockchains-work/?utm_source=tldrnewsletter"
   ]
  },
  {
   "cell_type": "markdown",
   "id": "printable-tobacco",
   "metadata": {},
   "source": [
    "## Get Started"
   ]
  },
  {
   "cell_type": "code",
   "execution_count": 1,
   "id": "compliant-channels",
   "metadata": {},
   "outputs": [],
   "source": [
    "# !/usr/bin/env python3\n",
    "from argparse import ArgumentParser\n",
    "from hashlib import md5\n",
    "\n",
    "\n",
    "def hash_string(string):\n",
    "    hash = md5()\n",
    "    hash.update(string.encode(\"utf-8\"))\n",
    "    return hash.hexdigest()\n",
    "\n",
    "\n",
    "# if __name__ == \"__main__\":\n",
    "#     parser = ArgumentParser()\n",
    "#     parser.add_argument(\"STRING\", help=\"The string to be hashed\")\n",
    "#     args = parser.parse_args()\n",
    "#     print(hash_string(args.STRING))"
   ]
  },
  {
   "cell_type": "code",
   "execution_count": 2,
   "id": "preceding-conversation",
   "metadata": {},
   "outputs": [
    {
     "data": {
      "text/plain": [
       "'3899dcbab79f92af727c2190bbd8abc5'"
      ]
     },
     "execution_count": 2,
     "metadata": {},
     "output_type": "execute_result"
    }
   ],
   "source": [
    "hash_string(\"ninja\")"
   ]
  },
  {
   "cell_type": "code",
   "execution_count": 3,
   "id": "duplicate-appeal",
   "metadata": {},
   "outputs": [
    {
     "data": {
      "text/plain": [
       "'99b1983cf3ee09bbaf6f43ac7b4c8748'"
      ]
     },
     "execution_count": 3,
     "metadata": {},
     "output_type": "execute_result"
    }
   ],
   "source": [
    "hash_string(\"samurai\")"
   ]
  },
  {
   "cell_type": "code",
   "execution_count": 5,
   "id": "changed-ticket",
   "metadata": {},
   "outputs": [],
   "source": [
    "def hash_ledger_entry(string, previous_digest=None):\n",
    "    \"\"\"Hashes a string with the hash of previous entries in the ledger, if any.\"\"\"\n",
    "    hash = md5(string.encode(\"utf-8\"))\n",
    "\n",
    "    if previous_digest:\n",
    "        hash.update(previous_digest.encode(\"utf-8\"))\n",
    "\n",
    "    return hash.hexdigest()\n",
    "\n",
    "\n",
    "def generate_ledger(*strings):\n",
    "    \"\"\"Generates the entries in a ledger consisting of a set of strings.\"\"\"\n",
    "    digest = None\n",
    "\n",
    "    for string in strings:\n",
    "        digest = hash_ledger_entry(string, digest)\n",
    "        yield digest, string\n",
    "\n",
    "\n",
    "# if __name__ == \"__main__\":\n",
    "#     parser = ArgumentParser()\n",
    "#     parser.add_argument(\"STRINGS\", help=\"The ledger entries\", nargs=\"+\")\n",
    "#     args = parser.parse_args()\n",
    "\n",
    "#     for digest, string in generate_ledger(*args.STRINGS):\n",
    "#         print(f\"{digest}\\t{string}\")"
   ]
  },
  {
   "cell_type": "code",
   "execution_count": 18,
   "id": "intimate-outdoors",
   "metadata": {},
   "outputs": [
    {
     "name": "stdout",
     "output_type": "stream",
     "text": [
      "3899dcbab79f92af727c2190bbd8abc5\tninja\n",
      "7ec21dcf528e12036b04774754ecc4e0\tpirate\n",
      "636730d86709d03fed9ba64f84fc9be6\tsamurai\n"
     ]
    }
   ],
   "source": [
    "for digest, string in generate_ledger('ninja','pirate','samurai'):\n",
    "    print(f\"{digest}\\t{string}\")"
   ]
  },
  {
   "cell_type": "markdown",
   "id": "proved-calendar",
   "metadata": {},
   "source": [
    "## Validation"
   ]
  },
  {
   "cell_type": "code",
   "execution_count": 19,
   "id": "peripheral-liberty",
   "metadata": {},
   "outputs": [],
   "source": [
    "# our_digest = None\n",
    "\n",
    "# for line in fileinput.input():\n",
    "#     file_digest, word = line.strip().split(\"\\t\")\n",
    "#     our_digest = hash_ledger_entry(word, our_digest)\n",
    "\n",
    "#     if our_digest != file_digest:\n",
    "#         sys.exit(f\"The digest for {word} does not match.\")\n",
    "\n",
    "# print(\"All entries match.\")"
   ]
  },
  {
   "cell_type": "markdown",
   "id": "mathematical-pregnancy",
   "metadata": {},
   "source": [
    "## Proofs without Authority\n"
   ]
  },
  {
   "cell_type": "code",
   "execution_count": 22,
   "id": "continental-strength",
   "metadata": {},
   "outputs": [],
   "source": [
    "# Add this to your imports.\n",
    "from secrets import token_bytes\n",
    "\n",
    "\n",
    "def hash_ledger_entry_with_salt(salt, string, previous_digest=None):\n",
    "    \"\"\"Hashes a string with the hash of previous entries in the ledger, if any.\"\"\"\n",
    "    hash = md5(string.encode(\"utf-8\"))\n",
    "    hash.update(salt)\n",
    "\n",
    "    if previous_digest:\n",
    "        hash.update(previous_digest.encode(\"utf-8\"))\n",
    "\n",
    "    return hash.hexdigest()\n",
    "\n",
    "\n",
    "def generate_ledger(difficulty, *strings):\n",
    "    # Difficulty determines how many zeroes we require at the beginning of a digest.\n",
    "    prefix = \"0\" * difficulty\n",
    "\n",
    "    digest = None\n",
    "    previous_digest = None\n",
    "\n",
    "    for string in strings:\n",
    "        # We re-hash a string over and over, with random salts, until it matches the\n",
    "        # prefix determined by our difficulty.\n",
    "        while digest is None or not digest.startswith(prefix):\n",
    "            salt = token_bytes(16)\n",
    "            digest = hash_ledger_entry_with_salt(salt, string, previous_digest)\n",
    "\n",
    "        # We yield back the digest and entry, as before, but we need the salt, too.\n",
    "        # Without that, we can't replay the entries and verify them.\n",
    "        yield digest, salt.hex(), string\n",
    "        previous_digest = digest\n",
    "        digest = None\n",
    "\n",
    "    yield hash_ledger_entry_with_salt(salt, \"END\", previous_digest), salt, \"END\"\n",
    "\n",
    "\n",
    "# if __name__ == \"__main__\":\n",
    "#     parser = ArgumentParser()\n",
    "#     parser.add_argument(\n",
    "#         \"DIFFICULTY\", help=\"The difficulty of confirming a ledger entry.\", type=int\n",
    "#     )\n",
    "#     parser.add_argument(\"STRINGS\", help=\"The ledger entries\", nargs=\"+\")\n",
    "#     args = parser.parse_args()\n",
    "\n",
    "#     for digest, salt, string in generate_ledger(args.DIFFICULTY, *args.STRINGS):\n",
    "#         print(f\"{digest}\\t{salt}\\t{string}\")"
   ]
  },
  {
   "cell_type": "code",
   "execution_count": 27,
   "id": "awful-party",
   "metadata": {},
   "outputs": [
    {
     "name": "stdout",
     "output_type": "stream",
     "text": [
      "00000814d6a2709e1b7866d62508b8ce\tc045825a82536279cfa35e2ddcae1460\tninja\n",
      "000007c8b60a88d3efad6d9032b9e506\t76a7c4f3c3693092f2390ae62b5add84\tpirate\n",
      "00000672eb4785fc6219672dad254711\t73336fd6777129841cd042c458426d63\tsamurai\n",
      "8a55ee00350d7fa511cf3e13b1c2f34c\tb's3o\\xd6wq)\\x84\\x1c\\xd0B\\xc4XBmc'\tEND\n"
     ]
    }
   ],
   "source": [
    "    for digest, salt, string in generate_ledger(5, 'ninja','pirate','samurai'):\n",
    "        print(f\"{digest}\\t{salt}\\t{string}\")"
   ]
  },
  {
   "cell_type": "code",
   "execution_count": null,
   "id": "direct-silver",
   "metadata": {},
   "outputs": [],
   "source": []
  }
 ],
 "metadata": {
  "kernelspec": {
   "display_name": "Python 3",
   "language": "python",
   "name": "python3"
  },
  "language_info": {
   "codemirror_mode": {
    "name": "ipython",
    "version": 3
   },
   "file_extension": ".py",
   "mimetype": "text/x-python",
   "name": "python",
   "nbconvert_exporter": "python",
   "pygments_lexer": "ipython3",
   "version": "3.8.5"
  },
  "toc": {
   "base_numbering": 1,
   "nav_menu": {},
   "number_sections": true,
   "sideBar": true,
   "skip_h1_title": false,
   "title_cell": "Table of Contents",
   "title_sidebar": "Contents",
   "toc_cell": false,
   "toc_position": {},
   "toc_section_display": true,
   "toc_window_display": false
  }
 },
 "nbformat": 4,
 "nbformat_minor": 5
}
