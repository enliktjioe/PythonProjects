{
 "cells": [
  {
   "cell_type": "markdown",
   "id": "casual-infection",
   "metadata": {},
   "source": [
    "# References\n",
    "\n",
    "- https://github.com/sharmasourab93/JustPython/blob/6ad0b834d76048f05068d066a73b9aab69207482/Challenges/python_generator_problem.py"
   ]
  },
  {
   "cell_type": "markdown",
   "id": "institutional-teach",
   "metadata": {},
   "source": [
    "In this problem, we implement an improvement over python map generator.\n",
    "The map generator takes the input of a function(f) an iterable(input)\n",
    "where output is f(input).\n",
    "In this problem, instead of one function, you need to map a series of\n",
    "functions over an input. So, to the custom map generator, the inputs\n",
    "will be a list of functions and the list of integers over which all\n",
    "the functions are to be mapped one by one.\n",
    "Take for example, we have functions given as\n",
    "\n",
    "`\n",
    "funcs=[lambdax: x*x, lambda x: x+x], size n = 2.\n",
    "`\n",
    "\n",
    "The first function is the \"square\" function and second function is the\n",
    "\"double\" function.\n",
    "\n",
    "Let the given input be arr = [1, 2, 3, 4] size m = 4\n",
    "\n",
    "Ouput : `[2, 8, 18, 32]`\n",
    "\n",
    "calculated as y(i)+y(i) = arr(i) * arr(i).\n",
    "\n",
    "Function Description:\n",
    "Complete the function cmap below.\n",
    "The function must be a generator and should return an iterable.\n",
    "cmap has the following parameter(s):\n",
    "    \n",
    "    `funcs[funcs[0]...funcs[n-1]]: an array of functions`\n",
    "    \n",
    "    `arr[arr[0]....arr[m-1]]: an array of integers`\n",
    "    \n",
    "Constraints:\n",
    "- 1 <= n <= 10\n",
    "- 1 <= m <= 10^4\n",
    "- funcs, is a callable function (where 0 <= i < n)\n",
    "The first line contains an integer,\n",
    "    n, denoting the number of elements in funcs.\n",
    "Each line of the n subsequent lines (where 0<= i <= n) contains,\n",
    "a string describing funcs, which is a\n",
    "    lambda expression defining a function.\n",
    "The next line contains an integer,\n",
    "    m, denoting the number of elements in arr.\n",
    "Each line i of the n subsequent lines (where 0<=i<m)\n",
    "    contains an integer describing arr(i).\n",
    "   "
   ]
  },
  {
   "cell_type": "markdown",
   "id": "excessive-mentor",
   "metadata": {},
   "source": [
    "# Main cmap() function"
   ]
  },
  {
   "cell_type": "code",
   "execution_count": 26,
   "id": "unlike-romantic",
   "metadata": {},
   "outputs": [],
   "source": [
    "def cmap(functions, array):\n",
    "    \n",
    "    for iterate in array:\n",
    "        value = iterate\n",
    "#         print(value)\n",
    "        for func in functions:\n",
    "            value = func(value)\n",
    "#             print(value)\n",
    "        yield value\n",
    "#         print('\\n')"
   ]
  },
  {
   "cell_type": "markdown",
   "id": "acute-signature",
   "metadata": {},
   "source": [
    "# Main Call in Python"
   ]
  },
  {
   "cell_type": "code",
   "execution_count": 27,
   "id": "becoming-shoot",
   "metadata": {},
   "outputs": [
    {
     "name": "stdout",
     "output_type": "stream",
     "text": [
      "2\n",
      "lambda x:x*2\n",
      "lambda x:x*4\n",
      "2\n",
      "1\n",
      "5\n",
      "[<function <lambda> at 0x0000014D83B36EE0>, <function <lambda> at 0x0000014D83A5C940>]\n",
      "[1, 5]\n",
      "1\n",
      "2\n",
      "8\n",
      "8\n",
      "\n",
      "\n",
      "5\n",
      "10\n",
      "40\n",
      "40\n"
     ]
    }
   ],
   "source": [
    "if __name__ == '__main__':\n",
    "    # Example 1\n",
    "    \"\"\"\n",
    "    STDIN\n",
    "    2\n",
    "    lambda x: x * x\n",
    "    lambda x: x + x\n",
    "    4\n",
    "    1\n",
    "    2\n",
    "    3\n",
    "    4\n",
    "    \"\"\"\n",
    "    \"\"\"\n",
    "    STDOUT\n",
    "    2\n",
    "    8\n",
    "    18\n",
    "    32\n",
    "    \"\"\"\n",
    "    # Example 2\n",
    "    \"\"\"\n",
    "    STDIN\n",
    "    2\n",
    "    lambda x: int(x/x)\n",
    "    lambda x: x + x\n",
    "    5\n",
    "    5\n",
    "    4\n",
    "    3\n",
    "    2\n",
    "    1\n",
    "    \"\"\"\n",
    "    \"\"\"\n",
    "    STDOUT\n",
    "    2\n",
    "    2\n",
    "    2\n",
    "    2\n",
    "    2\n",
    "    \"\"\"\n",
    "    \n",
    "    # n = number of functions\n",
    "    n = int(input())\n",
    "    funcs = list()\n",
    "    \n",
    "    for i in range(n):\n",
    "        funcs.append(eval(input())) # python `eval()` https://www.programiz.com/python-programming/methods/built-in/eval\n",
    "        \n",
    "    # m = number of input value\n",
    "    m = int(input())\n",
    "    arr = list()\n",
    "    \n",
    "    for i in range(m):\n",
    "        arr.append(int(input()))\n",
    "    \n",
    "    result = cmap(funcs, arr)\n",
    "    \n",
    "    for j in range(len(arr)):\n",
    "        print(next(result)) # python `next()` iterator https://www.programiz.com/python-programming/methods/built-in/next"
   ]
  },
  {
   "cell_type": "code",
   "execution_count": 23,
   "id": "interstate-iraqi",
   "metadata": {},
   "outputs": [],
   "source": [
    "# lambda x:x*x\n",
    "# lambda x:x*2"
   ]
  },
  {
   "cell_type": "code",
   "execution_count": null,
   "id": "missing-garden",
   "metadata": {},
   "outputs": [],
   "source": []
  }
 ],
 "metadata": {
  "kernelspec": {
   "display_name": "Python 3 (ipykernel)",
   "language": "python",
   "name": "python3"
  },
  "language_info": {
   "codemirror_mode": {
    "name": "ipython",
    "version": 3
   },
   "file_extension": ".py",
   "mimetype": "text/x-python",
   "name": "python",
   "nbconvert_exporter": "python",
   "pygments_lexer": "ipython3",
   "version": "3.8.5"
  },
  "toc": {
   "base_numbering": 1,
   "nav_menu": {},
   "number_sections": true,
   "sideBar": true,
   "skip_h1_title": false,
   "title_cell": "Table of Contents",
   "title_sidebar": "Contents",
   "toc_cell": false,
   "toc_position": {},
   "toc_section_display": true,
   "toc_window_display": false
  }
 },
 "nbformat": 4,
 "nbformat_minor": 5
}
