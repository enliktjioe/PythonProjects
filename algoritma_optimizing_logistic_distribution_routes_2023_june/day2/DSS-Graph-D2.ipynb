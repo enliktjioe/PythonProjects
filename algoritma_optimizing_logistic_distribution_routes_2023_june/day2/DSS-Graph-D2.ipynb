{
 "cells": [
  {
   "cell_type": "markdown",
   "metadata": {},
   "source": [
    "# Optimizing Logistics Distribution Routes: A Graph Theory Approach"
   ]
  },
  {
   "cell_type": "markdown",
   "metadata": {},
   "source": [
    "## Background\n",
    "\n",
    "Saat ini jaringan distribusi produk menjadi cukup kompleks, dimana penentu kebijakan harus mempertimbangkan banyak parameter untuk menentukan kebijakan yang optimal. Pada kebanyakan kasus, parameter yang dijadikan pertimbangan dalam menentukan kebijakan adalah biaya distribusi, demi tercapainya sistem biaya yang efektif untuk distribusi barang atau produk ke pelanggan. Pemilihan rute jaringan distribusi juga sangat mempengeruhi biaya distribusi, sehingga salah satu cara untuk optimalisasi biaya distribusi dapat dicapai dengan optimalisasi rute distribusi.\n",
    "\n",
    "Teori Graf dapat merepresentasikan hubungan antar objek, termasuk merepresentasikan rute distribusi yang merepresentasikan hubungan antar lokasi, baik secara jarak, waktu ataupun total biaya pengiriman ke antar lokasinya. Dengan begitu, dapat dilihat kombinasi rute dari lokasi satu ke lokasi lainnya untuk menentukan rute dengan pengeluaran biaya paling sedikit (rute optimal).\n",
    "\n",
    "Materi ini bertujuan memberikan pemahaman kepada pembaca terkait penggunaan teori Graf dalam kasus jaringan distribusi untuk mendapatkan rute optimal. Adapun setelah mempelajari materi ini pembaca diharapkan dapat memahami kegunaan dan potensi pemanfaatan teori Graf sesuai dengan proses bisnis yang ada pada bidang industri masing-masing pembaca"
   ]
  },
  {
   "cell_type": "markdown",
   "metadata": {},
   "source": [
    "## Output\n",
    "\n",
    "Notebook ini mencoba untuk menjawab pertanyaan apakah terdapat rekomendasi rute optimal jika diberikan data history rute distribusi perusahaan produsen makanan dingin. Sehingga output dari notebook ini adalah rekomendasi rute-rute dengan biaya paling sedikit dibandingkan rute-rute lainnya menggunakan teori Graf.\n",
    "\n",
    "Untuk melihat apakah rekomendasi rute ini lebih optimal atau tidak, maka total biaya rute baru akan dibandingkan dengan total biaya rute-rute terdahulu dari data history perusahaan."
   ]
  },
  {
   "cell_type": "markdown",
   "metadata": {},
   "source": [
    "## Tujuan Pembelajaran\n",
    "\n",
    "- **Pemrograman Dasar Python**  \n",
    "  - Mempersiapkan Environment Anaconda\n",
    "  - Bekerja dengan Jupyter Notebook\n",
    "  - Tipe Data\n",
    "  - Fungsi\n",
    "  - Looping (perulangan)\n",
    "- **Pandas**\n",
    "  - Bekerja dengan Dataframe\n",
    "  - Tipe Data Pandas\n",
    "  - Datetime di pandas\n",
    "  - Conditional Subsetting\n",
    "- **Teori Graf**\n",
    "  - Nodes & Edges\n",
    "  - Graf Unweighted & Graf Weighted\n",
    "- **Implementasi Teori Graf di Python**\n",
    "  - Pre-processing\n",
    "  - Pembentukan Graf dan Visualisasi Graf\n",
    "  - Pencarian rute optimal berdasarkan total cost\n",
    "  - Pencarian rute optimal berdasarkan skala prioritas"
   ]
  },
  {
   "cell_type": "markdown",
   "metadata": {},
   "source": [
    "# Pemrograman Dasar Python"
   ]
  },
  {
   "cell_type": "markdown",
   "metadata": {},
   "source": [
    "## Mempersiapkan Environment Anaconda\n",
    "\n",
    "**Membuat virtual environment baru:**\n",
    "\n",
    "1. Buka Anaconda Prompt\n",
    "\n",
    "2. Buat virtual environment baru dengan:\n",
    "    ```\n",
    "    conda create -n <ENV_NAME> python=<PYTHON_VERSION>\n",
    "    ```\n",
    "    Contoh: `conda create -n dss_june python=3.10`\n",
    "\n",
    "3. Aktifkan virtual environment baru dengan:\n",
    "    ```\n",
    "    conda activate <ENV_NAME>\n",
    "    ```\n",
    "    For example: `conda activate dss_june`\n",
    "\n",
    "4. Ubah directory pada terminal ke lokasi direktori dimana requirement.txt disimpan. Contohnya jika file terdapat di dalam folder `Algoritma/Project` gunakan: `cd C:\\Algoritma\\Project`\n",
    "\n",
    "5. Untuk standarisasi librari, install `requirements.txt` yang dibagikan ke Anda.\n",
    "    ```\n",
    "    pip install -r requirements.txt\n",
    "    ```\n",
    "\n",
    "6. Install kernel untuk membuat koneksi antara virtual environment dengan Jupyter Notebook.\n",
    "    ```\n",
    "    pip install ipykernel\n",
    "    python -m ipykernel install --user --name=<ENV_NAME>\n",
    "    ```\n",
    "    Contoh: `python -m ipykernel install --user --name=dss_june`"
   ]
  },
  {
   "cell_type": "markdown",
   "metadata": {},
   "source": [
    "## Bekerja dengan Jupyter Notebook"
   ]
  },
  {
   "cell_type": "markdown",
   "metadata": {},
   "source": [
    "### Markdown Cell and Code Cell\n",
    "\n",
    "Tipe cell dalam notebook:\n",
    "1. Markdown \n",
    "2. Code\n",
    "\n",
    "**Contoh Markdown Cell**\n",
    "\n",
    "Ini adalah cell markdown. Kita bisa menulis teks **bold**, *italic*, bahkan formula matematis seperti:\n",
    "\n",
    "\\begin{equation}\n",
    "f(x) = \\frac{e^{-x}}{(1+e^{-x})}\n",
    "\\end{equation}"
   ]
  },
  {
   "cell_type": "markdown",
   "metadata": {},
   "source": [
    "**Contoh Code Cell**"
   ]
  },
  {
   "cell_type": "code",
   "execution_count": 1,
   "metadata": {},
   "outputs": [
    {
     "name": "stdout",
     "output_type": "stream",
     "text": [
      "Hello 2023!\n"
     ]
    }
   ],
   "source": [
    "# ini adalah cell code\n",
    "# Dapat dijalankan dengan ctrl + Enter\n",
    "print('Hello 2023!')"
   ]
  },
  {
   "cell_type": "code",
   "execution_count": null,
   "metadata": {},
   "outputs": [],
   "source": []
  },
  {
   "cell_type": "markdown",
   "metadata": {},
   "source": [
    "### Command Mode and Edit Mode\n",
    "\n",
    "Ada 2 mode cell dalam notebook:\n",
    "1. Command mode (cell berwarna BIRU)\n",
    "    - `a` : Menambah cell baru di atas\n",
    "    - `b` : Menambah cell baru di bawah\n",
    "    - `d` + `d` : Menghapus cell terpilih\n",
    "    - `x` : Cut cell terpilih\n",
    "    - `c` : Menyalin cell terpilih\n",
    "    - `v` : Paste cell terpilih\n",
    "    - `z` : undo \n",
    "    - `m` : Mengubah tipe cell ke markdown\n",
    "    - `y` : Mengubah tipe cell ke kode\n",
    "    - `enter` : enter Edit Mode\n",
    "    - `h` : Melihat shortcut\n",
    "\n",
    "\n",
    "2. Edit mode (cell berwarna HIJAU)\n",
    "    - `Ctrl + Enter`: eksekusi satu cell\n",
    "    - `Esc`: mengubah edit mode menjadi command mode\n",
    "    \n",
    "Kumpulan shortcut: **CTRL + SHIFT + P**"
   ]
  },
  {
   "cell_type": "markdown",
   "metadata": {},
   "source": [
    "## Variabel & *Keywords*\n",
    "\n",
    "Mari kita telaah konsep paling fundamental dalam bahasa pemrograman: variabel.\n",
    "\n",
    "Variabel adalah wadah untuk menyimpan sebuah nilai. Simpelnya, variabel adalah nama yang mengacu pada sebuah nilai. Dimana ketika nilai ini ingin kita gunakan, kita dapat memanggilnya dengan nama variabel yang telah kita buat."
   ]
  },
  {
   "cell_type": "code",
   "execution_count": 2,
   "metadata": {},
   "outputs": [
    {
     "name": "stdout",
     "output_type": "stream",
     "text": [
      "Data Science Series: Optimal Route with Graph Theory\n"
     ]
    }
   ],
   "source": [
    "dss_name = \"Data Science Series: Optimal Route with Graph Theory\"\n",
    "print(dss_name)"
   ]
  },
  {
   "cell_type": "code",
   "execution_count": 4,
   "metadata": {},
   "outputs": [
    {
     "data": {
      "text/plain": [
       "10"
      ]
     },
     "execution_count": 4,
     "metadata": {},
     "output_type": "execute_result"
    }
   ],
   "source": [
    "angka = 10\n",
    "\n",
    "angka"
   ]
  },
  {
   "cell_type": "markdown",
   "metadata": {},
   "source": [
    "Sebagai catatan, seperti bahasa pemrograman yang lainnya, Python bersifat **case-sensitive**, sehingga `dss_name` dan `DSS_Name` dimaknai berbeda sehingga akan dianggap variabel yang berbeda pula."
   ]
  },
  {
   "cell_type": "code",
   "execution_count": 5,
   "metadata": {},
   "outputs": [
    {
     "data": {
      "text/plain": [
       "True"
      ]
     },
     "execution_count": 5,
     "metadata": {},
     "output_type": "execute_result"
    }
   ],
   "source": [
    "## code here\n",
    "dss_name == dss_name"
   ]
  },
  {
   "cell_type": "code",
   "execution_count": 7,
   "metadata": {},
   "outputs": [],
   "source": [
    "nama_lain = 10"
   ]
  },
  {
   "cell_type": "markdown",
   "metadata": {},
   "source": [
    "Kode di atas mengembalikan `True` sebagai output. Cobalah untuk membuat variabel baru dan gunakan `True` sebagai namanya. kemudian lihat apa yang akan terjadi.\n",
    "\n",
    "> SyntaxError: can't assign to keyword"
   ]
  },
  {
   "cell_type": "markdown",
   "metadata": {},
   "source": [
    "Sebagai catatan, `True`, dan juga lawannya, False termasuk ke dalam daftar kata yang dinamakan **Python Keywords**. Kita tidak dapat menggunakan keyword sebagai nama variabel ataupun sebagai fungsi.\n",
    "\n",
    "Semua python keyword selain **True**, **False**, dan **None** adalah huruf kecil."
   ]
  },
  {
   "cell_type": "markdown",
   "metadata": {},
   "source": [
    "___\n",
    "\n",
    "**Keywords** adalah kata kunci yang sudah ditetapkan oleh Python sebagai nama yang tidak bisa dipakai baik untuk penamaan fungsi, variabel, dan lainnya. Keyword ditulis dalam lower-case (huruf kecil semua) kecuali keyword `True`, `False`, dan `None`. Sejauh ini (Python 3.10) keyword yang ada pada Python adalah sebagai berikut:"
   ]
  },
  {
   "cell_type": "code",
   "execution_count": 8,
   "metadata": {
    "collapsed": true
   },
   "outputs": [
    {
     "data": {
      "text/plain": [
       "['False',\n",
       " 'None',\n",
       " 'True',\n",
       " 'and',\n",
       " 'as',\n",
       " 'assert',\n",
       " 'async',\n",
       " 'await',\n",
       " 'break',\n",
       " 'class',\n",
       " 'continue',\n",
       " 'def',\n",
       " 'del',\n",
       " 'elif',\n",
       " 'else',\n",
       " 'except',\n",
       " 'finally',\n",
       " 'for',\n",
       " 'from',\n",
       " 'global',\n",
       " 'if',\n",
       " 'import',\n",
       " 'in',\n",
       " 'is',\n",
       " 'lambda',\n",
       " 'nonlocal',\n",
       " 'not',\n",
       " 'or',\n",
       " 'pass',\n",
       " 'raise',\n",
       " 'return',\n",
       " 'try',\n",
       " 'while',\n",
       " 'with',\n",
       " 'yield']"
      ]
     },
     "execution_count": 8,
     "metadata": {},
     "output_type": "execute_result"
    }
   ],
   "source": [
    "# Cek daftar keyword\n",
    "import keyword\n",
    "keyword.kwlist"
   ]
  },
  {
   "cell_type": "markdown",
   "metadata": {},
   "source": [
    "**💡 NOTES**\n",
    "\n",
    "Syarat dan ketentuan dalam memberikan nama variable pada Python:\n",
    "- Menggunakan kombinasi dari huruf kapital (A-Z), huruf nomina (a-z), angka (0-9).\n",
    "- Special character `!, $ , &, dll` tidak dapat digunakan dalam penamaan variabel.\n",
    "- **Tidak boleh** menggunakan angka di awal.\n",
    "- Bersifat **case-sensitive** sehingga penamaan variable `algoritma`, `ALGORITMA`, dan `Algoritma` adalah 3 variable yang berbeda\n",
    "- **Tidak boleh** menggunakan **keyword** pada Python"
   ]
  },
  {
   "cell_type": "markdown",
   "metadata": {},
   "source": [
    "## Tipe Data"
   ]
  },
  {
   "cell_type": "markdown",
   "metadata": {},
   "source": [
    "- Tipe data adalah pengelompokkan data berdasarkan jenis data. \n",
    "- Pengecekan tipe data bisa menggunakan fungsi `type()`\n",
    "\n",
    "Berikut beberapa jenis tipe data pada python:"
   ]
  },
  {
   "cell_type": "markdown",
   "metadata": {},
   "source": [
    "### 1. String\n",
    "\n",
    "Untuk menyimpan kumpulan karakter disebut tipe data `str`. \n",
    "\n",
    "Ada beberapa cara untuk membuat nilai string:\n",
    "- menggunakan `''` \n",
    "- menggunakan `\"\"` \n",
    "- menggunakan `'''` atau `\"\"\"` "
   ]
  },
  {
   "cell_type": "code",
   "execution_count": 9,
   "metadata": {},
   "outputs": [],
   "source": [
    "# contoh menggunakan petik 1\n",
    "kalimat1 = 'Hari ini kami belajar Python.'"
   ]
  },
  {
   "cell_type": "code",
   "execution_count": 10,
   "metadata": {},
   "outputs": [
    {
     "data": {
      "text/plain": [
       "str"
      ]
     },
     "execution_count": 10,
     "metadata": {},
     "output_type": "execute_result"
    }
   ],
   "source": [
    "## cek tipe data\n",
    "type(kalimat1)"
   ]
  },
  {
   "cell_type": "code",
   "execution_count": 11,
   "metadata": {},
   "outputs": [
    {
     "data": {
      "text/plain": [
       "str"
      ]
     },
     "execution_count": 11,
     "metadata": {},
     "output_type": "execute_result"
    }
   ],
   "source": [
    "kalimat2 = \"Ini adalah kalimat 2\"\n",
    "type(kalimat2)"
   ]
  },
  {
   "cell_type": "markdown",
   "metadata": {},
   "source": [
    "### 2. Number\n",
    "\n",
    "Untuk menyimpan number, python memiliki dua tipe data number yaitu `int` dan `float`.\n",
    "- `int` (integer) digunakan untuk menyimpan bilangan bulat (yaitu: 1,2,-3)\n",
    "- `float` digunakan untuk menyimpan bilangan real (yaitu: 0.7, -1.8, -1000.0)."
   ]
  },
  {
   "cell_type": "code",
   "execution_count": 13,
   "metadata": {},
   "outputs": [],
   "source": [
    "a = 1234\n",
    "b = 0.672"
   ]
  },
  {
   "cell_type": "code",
   "execution_count": 14,
   "metadata": {},
   "outputs": [
    {
     "data": {
      "text/plain": [
       "int"
      ]
     },
     "execution_count": 14,
     "metadata": {},
     "output_type": "execute_result"
    }
   ],
   "source": [
    "# Cek tipe data a\n",
    "type(a)"
   ]
  },
  {
   "cell_type": "code",
   "execution_count": 15,
   "metadata": {},
   "outputs": [
    {
     "data": {
      "text/plain": [
       "float"
      ]
     },
     "execution_count": 15,
     "metadata": {},
     "output_type": "execute_result"
    }
   ],
   "source": [
    "# Cek tipe data b\n",
    "type(b)"
   ]
  },
  {
   "cell_type": "markdown",
   "metadata": {},
   "source": [
    "**Operasi Angka** \\\n",
    "Operator Aritmatika:\n",
    "- `+` - Penambahan\n",
    "- `-` - Pengurangan\n",
    "- `*` - Perkalian\n",
    "- `/` - Pembagian\n",
    "- `//` - Floor Division (pembagian dengan pembulatan ke bawah) \n",
    "- `%` - Modulus (sisa bagi)\n",
    "- `**` - Eksponen (pangkat)\n",
    "\n",
    "Operator Perbandingan:\n",
    "- `<` - Lebih kecil dari (yaitu : a < b)\n",
    "- `<=` - Lebih kecil atau sama dengan (yaitu : a <= b)\n",
    "- `>` - Lebih besar dari (yaitu: a > b)\n",
    "- `>=` - Lebih besar atau sama dengan (yaitu: a >= b)\n",
    "- `==` - Sama dengan (yaitu: a == b)\n",
    "- `!=` - Tidak Sama dengan (yaitu: a != b)"
   ]
  },
  {
   "cell_type": "code",
   "execution_count": 16,
   "metadata": {},
   "outputs": [
    {
     "data": {
      "text/plain": [
       "1236"
      ]
     },
     "execution_count": 16,
     "metadata": {},
     "output_type": "execute_result"
    }
   ],
   "source": [
    "# Code here\n",
    "a + 2"
   ]
  },
  {
   "cell_type": "code",
   "execution_count": 17,
   "metadata": {},
   "outputs": [
    {
     "data": {
      "text/plain": [
       "False"
      ]
     },
     "execution_count": 17,
     "metadata": {},
     "output_type": "execute_result"
    }
   ],
   "source": [
    "a < b"
   ]
  },
  {
   "cell_type": "code",
   "execution_count": 19,
   "metadata": {},
   "outputs": [
    {
     "data": {
      "text/plain": [
       "str"
      ]
     },
     "execution_count": 19,
     "metadata": {},
     "output_type": "execute_result"
    }
   ],
   "source": [
    "# string\n",
    "c = \"4\"\n",
    "type(c)\n",
    "\n",
    "# operator matematika hanya untuk number (int, float)"
   ]
  },
  {
   "cell_type": "markdown",
   "metadata": {},
   "source": [
    "### 3. Boolean\n",
    "\n",
    "- Boolean menyimpan nilai yang hanya memuat 2 nilai yaitu `True` atau `False`\n",
    "- Boolean berguna ketika berkaitan dengan kondisi."
   ]
  },
  {
   "cell_type": "code",
   "execution_count": 21,
   "metadata": {},
   "outputs": [],
   "source": [
    "x = True \n",
    "y = False"
   ]
  },
  {
   "cell_type": "code",
   "execution_count": 22,
   "metadata": {},
   "outputs": [
    {
     "data": {
      "text/plain": [
       "bool"
      ]
     },
     "execution_count": 22,
     "metadata": {},
     "output_type": "execute_result"
    }
   ],
   "source": [
    "# cek tipe data  \n",
    "type(x)"
   ]
  },
  {
   "cell_type": "markdown",
   "metadata": {},
   "source": [
    "**Operasi Boolean** \\\n",
    "Operator logika:\n",
    "- `and` (contoh: `a and b` -> mengembalikan nilai `True` kalau nilai **a dan b** adalah True)\n",
    "- `or` (contoh: `a or b` -> mengembalikan nilai `True` kalau setidaknya **salah satu** nilai a dan b adalah True)\n",
    "- `not` (contoh: `not a` -> negasi dari a, jika `a = True`, maka `not a` adalah `False`) "
   ]
  },
  {
   "cell_type": "code",
   "execution_count": 23,
   "metadata": {},
   "outputs": [
    {
     "data": {
      "text/plain": [
       "False"
      ]
     },
     "execution_count": 23,
     "metadata": {},
     "output_type": "execute_result"
    }
   ],
   "source": [
    "2 < 0"
   ]
  },
  {
   "cell_type": "code",
   "execution_count": 24,
   "metadata": {},
   "outputs": [
    {
     "data": {
      "text/plain": [
       "True"
      ]
     },
     "execution_count": 24,
     "metadata": {},
     "output_type": "execute_result"
    }
   ],
   "source": [
    "9 < 10"
   ]
  },
  {
   "cell_type": "code",
   "execution_count": 25,
   "metadata": {},
   "outputs": [
    {
     "data": {
      "text/plain": [
       "True"
      ]
     },
     "execution_count": 25,
     "metadata": {},
     "output_type": "execute_result"
    }
   ],
   "source": [
    "# False or True\n",
    "(2 < 0) or (9 < 10)"
   ]
  },
  {
   "cell_type": "markdown",
   "metadata": {},
   "source": [
    "### 4. List\n",
    "\n",
    "`list` digunakan untuk menyimpan beberapa nilai dalam python.\\\n",
    "Cara deklarasi variabel `list`: `nama_variable = [nilai1, nilai2, nilai3]`\n",
    "\n",
    "list dapat menyimpan berbagai tipe data"
   ]
  },
  {
   "cell_type": "code",
   "execution_count": 26,
   "metadata": {},
   "outputs": [],
   "source": [
    "data = [1, 2, 3, 2, 4, \"lima\", False]"
   ]
  },
  {
   "cell_type": "code",
   "execution_count": 27,
   "metadata": {},
   "outputs": [
    {
     "data": {
      "text/plain": [
       "[1, 2, 3, 2, 4, 'lima', False]"
      ]
     },
     "execution_count": 27,
     "metadata": {},
     "output_type": "execute_result"
    }
   ],
   "source": [
    "data"
   ]
  },
  {
   "cell_type": "markdown",
   "metadata": {},
   "source": [
    "**Operasi List**\n",
    "- `x.append(a)` : tambahkan a ke list dengan nama variabel x\n",
    "- `x.remove(a)` : hapus a dari list dengan nama variabel x\n",
    "\n",
    "Operasi lain yang harus diketahui dalam daftar adalah pengindeksan:\n",
    "- `x[i]` : mengakses elemen ke-i dari x"
   ]
  },
  {
   "cell_type": "code",
   "execution_count": 28,
   "metadata": {},
   "outputs": [],
   "source": [
    "# menambah nilai dalam list\n",
    "data.append(\"nilai baru\")"
   ]
  },
  {
   "cell_type": "code",
   "execution_count": 29,
   "metadata": {},
   "outputs": [
    {
     "data": {
      "text/plain": [
       "[1, 2, 3, 2, 4, 'lima', False, 'nilai baru']"
      ]
     },
     "execution_count": 29,
     "metadata": {},
     "output_type": "execute_result"
    }
   ],
   "source": [
    "data"
   ]
  },
  {
   "cell_type": "code",
   "execution_count": 31,
   "metadata": {},
   "outputs": [
    {
     "data": {
      "text/plain": [
       "2"
      ]
     },
     "execution_count": 31,
     "metadata": {},
     "output_type": "execute_result"
    }
   ],
   "source": [
    "# code here\n",
    "data[1]"
   ]
  },
  {
   "cell_type": "code",
   "execution_count": 32,
   "metadata": {},
   "outputs": [
    {
     "data": {
      "text/plain": [
       "'lima'"
      ]
     },
     "execution_count": 32,
     "metadata": {},
     "output_type": "execute_result"
    }
   ],
   "source": [
    "data[5]"
   ]
  },
  {
   "cell_type": "markdown",
   "metadata": {},
   "source": [
    "> Note: zero based indexing -> perhitungan python dimulai dari 0"
   ]
  },
  {
   "cell_type": "markdown",
   "metadata": {},
   "source": [
    "## Fungsi"
   ]
  },
  {
   "cell_type": "markdown",
   "metadata": {},
   "source": [
    "Function merupakan sekelompok perintah yang digunakan untuk melakukan tugas tertentu. Ketika kita melakukan sesuatu yang berulang dan rumit, alangkah baiknya kita menggunakan fungsi agar tidak ada langkah yang berubah maupun penulisan kode yang salah. Penulisan umum sebuah fungsi yaitu:\n",
    "```python\n",
    "def nama_fungsi(parameter):\n",
    "    perintah\n",
    "```\n",
    "Pada syntax umum di atas, `def` merupakan inisiator untuk sebuah fungsi. Sementara hal-hal yang harus kita tentukan yaitu nama dari fungsi, parameter yang akan digunakan di dalamnya, serta perintah atau kode. \n",
    "\n",
    "Sebagai contoh, kita akan membuat sebuah fungsi luas segitiga:"
   ]
  },
  {
   "cell_type": "code",
   "execution_count": 33,
   "metadata": {},
   "outputs": [],
   "source": [
    "# fungsi luas_segitiga\n",
    "def luas_segitiga(alas, tinggi):\n",
    "    hasil = (alas * tinggi) / 2\n",
    "    return(hasil)"
   ]
  },
  {
   "cell_type": "code",
   "execution_count": 34,
   "metadata": {},
   "outputs": [
    {
     "data": {
      "text/plain": [
       "10.0"
      ]
     },
     "execution_count": 34,
     "metadata": {},
     "output_type": "execute_result"
    }
   ],
   "source": [
    "# memanggil fungsi\n",
    "luas_segitiga(alas = 4, tinggi = 5)"
   ]
  },
  {
   "cell_type": "code",
   "execution_count": 35,
   "metadata": {
    "scrolled": false
   },
   "outputs": [
    {
     "data": {
      "text/plain": [
       "20.0"
      ]
     },
     "execution_count": 35,
     "metadata": {},
     "output_type": "execute_result"
    }
   ],
   "source": [
    "luas_segitiga(5, 8)"
   ]
  },
  {
   "cell_type": "code",
   "execution_count": 36,
   "metadata": {},
   "outputs": [
    {
     "data": {
      "text/plain": [
       "1"
      ]
     },
     "execution_count": 36,
     "metadata": {},
     "output_type": "execute_result"
    }
   ],
   "source": [
    "data[0]"
   ]
  },
  {
   "cell_type": "code",
   "execution_count": 38,
   "metadata": {},
   "outputs": [
    {
     "data": {
      "text/plain": [
       "3"
      ]
     },
     "execution_count": 38,
     "metadata": {},
     "output_type": "execute_result"
    }
   ],
   "source": [
    "data[2]"
   ]
  },
  {
   "cell_type": "markdown",
   "metadata": {},
   "source": [
    "## Perulangan (Looping)"
   ]
  },
  {
   "cell_type": "markdown",
   "metadata": {},
   "source": [
    "`for loop` digunakan untuk mengulangi/mengiterasi suatu urutan (dapat berupa list atau string)."
   ]
  },
  {
   "cell_type": "markdown",
   "metadata": {},
   "source": [
    "Contoh `for loop` untuk mengiterasi elemen pada list:"
   ]
  },
  {
   "cell_type": "code",
   "execution_count": 39,
   "metadata": {},
   "outputs": [
    {
     "name": "stdout",
     "output_type": "stream",
     "text": [
      "kucing\n",
      "kelinci\n",
      "hamster\n"
     ]
    }
   ],
   "source": [
    "hewan = [\"kucing\", \"kelinci\", \"hamster\"]\n",
    "\n",
    "# for loop\n",
    "for x in hewan:\n",
    "  print(x)"
   ]
  },
  {
   "cell_type": "markdown",
   "metadata": {},
   "source": [
    "Untuk mengulang satu set kode beberapa kali, kita dapat menggunakan fungsi `range()`. Fungsi range() mengembalikan urutan angka, mulai dari 0 secara default dan berakhir pada angka yang ditentukan.\n",
    "\n",
    "parameter range:\n",
    "`range(start, end)`\n",
    "\n",
    "parameter range (additional):\n",
    "`range(start, end, step)`"
   ]
  },
  {
   "cell_type": "code",
   "execution_count": 46,
   "metadata": {},
   "outputs": [
    {
     "name": "stdout",
     "output_type": "stream",
     "text": [
      "1\n",
      "3\n",
      "5\n",
      "7\n",
      "9\n"
     ]
    }
   ],
   "source": [
    "for x in range(1, 11, 2):\n",
    "  print(x)"
   ]
  },
  {
   "cell_type": "markdown",
   "metadata": {},
   "source": [
    "# Pandas"
   ]
  },
  {
   "cell_type": "markdown",
   "metadata": {},
   "source": [
    "## Bekerja dengan Dataframe\n",
    "\n",
    "- `pandas` adalah library yang powerful sebagai tools analisis data dan struktur pada Python. \n",
    "\n",
    "- `pandas` mampu mengolah data menjadi mudah karena mempunyai objek bernama **DataFrame**. \n",
    "\n",
    "- `pandas` memiliki function yang mampu mengolah dataframe dengan menerapkan berbagai operasi dan teknik seperti join, agregasi, grouping, dan lain sebagainya\n",
    "\n",
    "> Lebih lengkapnya silahkan kunjungi [official documentation](https://pandas.pydata.org/)\n",
    "\n",
    "Untuk menggunakan `pandas`, kita perlu import terlebih dahulu library dengan cara berikut ini:"
   ]
  },
  {
   "cell_type": "code",
   "execution_count": 47,
   "metadata": {},
   "outputs": [
    {
     "name": "stdout",
     "output_type": "stream",
     "text": [
      "2.0.0\n"
     ]
    }
   ],
   "source": [
    "import pandas as pd\n",
    "print(pd.__version__)"
   ]
  },
  {
   "cell_type": "markdown",
   "metadata": {},
   "source": [
    "### Read Data\n",
    "\n",
    "Untuk membaca data atau file dengan format `.csv` dapat menggunakan method `.read_csv()`.\n",
    "Bacalah data `lokasi.csv` yang berada dalam folder `data`\n",
    "\n",
    "Sintaks:\n",
    "```python\n",
    "pandas.read_csv(\"path/data\")\n",
    "```"
   ]
  },
  {
   "cell_type": "code",
   "execution_count": 49,
   "metadata": {
    "collapsed": true
   },
   "outputs": [
    {
     "data": {
      "text/html": [
       "<div>\n",
       "<style scoped>\n",
       "    .dataframe tbody tr th:only-of-type {\n",
       "        vertical-align: middle;\n",
       "    }\n",
       "\n",
       "    .dataframe tbody tr th {\n",
       "        vertical-align: top;\n",
       "    }\n",
       "\n",
       "    .dataframe thead th {\n",
       "        text-align: right;\n",
       "    }\n",
       "</style>\n",
       "<table border=\"1\" class=\"dataframe\">\n",
       "  <thead>\n",
       "    <tr style=\"text-align: right;\">\n",
       "      <th></th>\n",
       "      <th>kode</th>\n",
       "      <th>lokasi</th>\n",
       "      <th>latitude</th>\n",
       "      <th>longitude</th>\n",
       "    </tr>\n",
       "  </thead>\n",
       "  <tbody>\n",
       "    <tr>\n",
       "      <th>0</th>\n",
       "      <td>A</td>\n",
       "      <td>Warehouse</td>\n",
       "      <td>-6.106552</td>\n",
       "      <td>106.907915</td>\n",
       "    </tr>\n",
       "    <tr>\n",
       "      <th>1</th>\n",
       "      <td>B</td>\n",
       "      <td>Thamrin City</td>\n",
       "      <td>-6.192764</td>\n",
       "      <td>106.815997</td>\n",
       "    </tr>\n",
       "    <tr>\n",
       "      <th>2</th>\n",
       "      <td>C</td>\n",
       "      <td>AEON TB</td>\n",
       "      <td>-6.294371</td>\n",
       "      <td>106.837711</td>\n",
       "    </tr>\n",
       "    <tr>\n",
       "      <th>3</th>\n",
       "      <td>D</td>\n",
       "      <td>Kota Kasablanka</td>\n",
       "      <td>-6.216613</td>\n",
       "      <td>106.843022</td>\n",
       "    </tr>\n",
       "    <tr>\n",
       "      <th>4</th>\n",
       "      <td>E</td>\n",
       "      <td>Cipinang Indah Mall</td>\n",
       "      <td>-6.231984</td>\n",
       "      <td>106.892953</td>\n",
       "    </tr>\n",
       "    <tr>\n",
       "      <th>5</th>\n",
       "      <td>F</td>\n",
       "      <td>Lippo Mall Puri</td>\n",
       "      <td>-6.181179</td>\n",
       "      <td>106.739570</td>\n",
       "    </tr>\n",
       "    <tr>\n",
       "      <th>6</th>\n",
       "      <td>G</td>\n",
       "      <td>Plaza Blok M</td>\n",
       "      <td>-6.238328</td>\n",
       "      <td>106.797455</td>\n",
       "    </tr>\n",
       "  </tbody>\n",
       "</table>\n",
       "</div>"
      ],
      "text/plain": [
       "  kode               lokasi  latitude   longitude\n",
       "0    A            Warehouse -6.106552  106.907915\n",
       "1    B         Thamrin City -6.192764  106.815997\n",
       "2    C              AEON TB -6.294371  106.837711\n",
       "3    D      Kota Kasablanka -6.216613  106.843022\n",
       "4    E  Cipinang Indah Mall -6.231984  106.892953\n",
       "5    F      Lippo Mall Puri -6.181179  106.739570\n",
       "6    G         Plaza Blok M -6.238328  106.797455"
      ]
     },
     "execution_count": 49,
     "metadata": {},
     "output_type": "execute_result"
    }
   ],
   "source": [
    "lokasi = pd.read_csv(\"data/lokasi.csv\")\n",
    "\n",
    "lokasi"
   ]
  },
  {
   "cell_type": "markdown",
   "metadata": {},
   "source": [
    "**Deskripsi Data:**\n",
    "\n",
    "Data `lokasi.csv` merupakan data informasi lokasi gudang dan client distribusi. Berikut informasi dari setiap kolom:\n",
    "\n",
    "- `kode`: Kode unik lokasi\n",
    "- `lokasi`: Nama lengkap lokasi\n",
    "- `latitude`: Titik latitude lokasi\n",
    "- `longitude`: Titik longitude lokasi"
   ]
  },
  {
   "cell_type": "markdown",
   "metadata": {},
   "source": [
    "> Dataframe : tabel yang terdiri dari kolom-kolom (series)"
   ]
  },
  {
   "cell_type": "markdown",
   "metadata": {},
   "source": [
    "❓ Mari kita coba untuk membaca `data/records.csv` ke dalam variabel records."
   ]
  },
  {
   "cell_type": "code",
   "execution_count": 51,
   "metadata": {},
   "outputs": [],
   "source": [
    "records = pd.read_csv(\"data/records.csv\")"
   ]
  },
  {
   "cell_type": "markdown",
   "metadata": {},
   "source": [
    "Lakukan pengamatan 5 data teratas dari `records` menggunakan `.head()`"
   ]
  },
  {
   "cell_type": "code",
   "execution_count": 55,
   "metadata": {},
   "outputs": [
    {
     "data": {
      "text/html": [
       "<div>\n",
       "<style scoped>\n",
       "    .dataframe tbody tr th:only-of-type {\n",
       "        vertical-align: middle;\n",
       "    }\n",
       "\n",
       "    .dataframe tbody tr th {\n",
       "        vertical-align: top;\n",
       "    }\n",
       "\n",
       "    .dataframe thead th {\n",
       "        text-align: right;\n",
       "    }\n",
       "</style>\n",
       "<table border=\"1\" class=\"dataframe\">\n",
       "  <thead>\n",
       "    <tr style=\"text-align: right;\">\n",
       "      <th></th>\n",
       "      <th>start</th>\n",
       "      <th>end</th>\n",
       "      <th>lokasi_start</th>\n",
       "      <th>latitude_start</th>\n",
       "      <th>longitude_start</th>\n",
       "      <th>lokasi_end</th>\n",
       "      <th>latitude_end</th>\n",
       "      <th>longitude_end</th>\n",
       "      <th>dist</th>\n",
       "      <th>lge/100km</th>\n",
       "      <th>add_cost</th>\n",
       "      <th>start_time</th>\n",
       "      <th>end_time</th>\n",
       "    </tr>\n",
       "  </thead>\n",
       "  <tbody>\n",
       "    <tr>\n",
       "      <th>0</th>\n",
       "      <td>E</td>\n",
       "      <td>C</td>\n",
       "      <td>Cipinang Indah Mall</td>\n",
       "      <td>-6.231984</td>\n",
       "      <td>106.892953</td>\n",
       "      <td>AEON TB</td>\n",
       "      <td>-6.294371</td>\n",
       "      <td>106.837711</td>\n",
       "      <td>20.0</td>\n",
       "      <td>10.2</td>\n",
       "      <td>0.0</td>\n",
       "      <td>2023-02-08 15:02:00</td>\n",
       "      <td>2023-02-08 15:33:00</td>\n",
       "    </tr>\n",
       "    <tr>\n",
       "      <th>1</th>\n",
       "      <td>A</td>\n",
       "      <td>E</td>\n",
       "      <td>Warehouse</td>\n",
       "      <td>-6.106552</td>\n",
       "      <td>106.907915</td>\n",
       "      <td>Cipinang Indah Mall</td>\n",
       "      <td>-6.231984</td>\n",
       "      <td>106.892953</td>\n",
       "      <td>21.0</td>\n",
       "      <td>9.6</td>\n",
       "      <td>37.0</td>\n",
       "      <td>2023-02-08 14:02:00</td>\n",
       "      <td>2023-02-08 14:32:00</td>\n",
       "    </tr>\n",
       "    <tr>\n",
       "      <th>2</th>\n",
       "      <td>F</td>\n",
       "      <td>G</td>\n",
       "      <td>Lippo Mall Puri</td>\n",
       "      <td>-6.181179</td>\n",
       "      <td>106.739570</td>\n",
       "      <td>Plaza Blok M</td>\n",
       "      <td>-6.238328</td>\n",
       "      <td>106.797455</td>\n",
       "      <td>12.0</td>\n",
       "      <td>11.8</td>\n",
       "      <td>8.0</td>\n",
       "      <td>2023-02-07 15:30:00</td>\n",
       "      <td>2023-02-07 15:54:00</td>\n",
       "    </tr>\n",
       "    <tr>\n",
       "      <th>3</th>\n",
       "      <td>A</td>\n",
       "      <td>F</td>\n",
       "      <td>Warehouse</td>\n",
       "      <td>-6.106552</td>\n",
       "      <td>106.907915</td>\n",
       "      <td>Lippo Mall Puri</td>\n",
       "      <td>-6.181179</td>\n",
       "      <td>106.739570</td>\n",
       "      <td>31.0</td>\n",
       "      <td>13.3</td>\n",
       "      <td>34.5</td>\n",
       "      <td>2023-02-07 14:13:00</td>\n",
       "      <td>2023-02-07 15:01:00</td>\n",
       "    </tr>\n",
       "    <tr>\n",
       "      <th>4</th>\n",
       "      <td>B</td>\n",
       "      <td>D</td>\n",
       "      <td>Thamrin City</td>\n",
       "      <td>-6.192764</td>\n",
       "      <td>106.815997</td>\n",
       "      <td>Kota Kasablanka</td>\n",
       "      <td>-6.216613</td>\n",
       "      <td>106.843022</td>\n",
       "      <td>6.0</td>\n",
       "      <td>14.5</td>\n",
       "      <td>0.0</td>\n",
       "      <td>2023-02-06 15:30:00</td>\n",
       "      <td>2023-02-06 15:43:00</td>\n",
       "    </tr>\n",
       "  </tbody>\n",
       "</table>\n",
       "</div>"
      ],
      "text/plain": [
       "  start end         lokasi_start  latitude_start  longitude_start   \n",
       "0     E   C  Cipinang Indah Mall       -6.231984       106.892953  \\\n",
       "1     A   E            Warehouse       -6.106552       106.907915   \n",
       "2     F   G      Lippo Mall Puri       -6.181179       106.739570   \n",
       "3     A   F            Warehouse       -6.106552       106.907915   \n",
       "4     B   D         Thamrin City       -6.192764       106.815997   \n",
       "\n",
       "            lokasi_end  latitude_end  longitude_end  dist  lge/100km   \n",
       "0              AEON TB     -6.294371     106.837711  20.0       10.2  \\\n",
       "1  Cipinang Indah Mall     -6.231984     106.892953  21.0        9.6   \n",
       "2         Plaza Blok M     -6.238328     106.797455  12.0       11.8   \n",
       "3      Lippo Mall Puri     -6.181179     106.739570  31.0       13.3   \n",
       "4      Kota Kasablanka     -6.216613     106.843022   6.0       14.5   \n",
       "\n",
       "   add_cost           start_time             end_time  \n",
       "0       0.0  2023-02-08 15:02:00  2023-02-08 15:33:00  \n",
       "1      37.0  2023-02-08 14:02:00  2023-02-08 14:32:00  \n",
       "2       8.0  2023-02-07 15:30:00  2023-02-07 15:54:00  \n",
       "3      34.5  2023-02-07 14:13:00  2023-02-07 15:01:00  \n",
       "4       0.0  2023-02-06 15:30:00  2023-02-06 15:43:00  "
      ]
     },
     "execution_count": 55,
     "metadata": {},
     "output_type": "execute_result"
    }
   ],
   "source": [
    "# code here\n",
    "records.head()"
   ]
  },
  {
   "cell_type": "markdown",
   "metadata": {},
   "source": [
    "**Deskripsi Data:**\n",
    "\n",
    "Data `records` merupakan kumpulan catatan pengiriman distribusi. Berikut informasi dari setiap kolom:\n",
    "\n",
    "- `start`: Lokasi berangkat\n",
    "- `end`: Lokasi tujuan\n",
    "- `lokasi_start`: Nama lokasi awal\n",
    "- `latitude_start`: Titik latitude lokasi awal\n",
    "- `longitude_start`: Titik longitude lokasi awal\n",
    "- `lokasi_end`: Nama lokasi tujuan\n",
    "- `latitude_end`: Titik latitude lokasi tujuan\n",
    "- `longitude_end`: Titik longitude lokasi tujuan\n",
    "- `dist`: Jarak tempuh (satuan km)\n",
    "- `lge/100km`: Penggunaan liter bensin / 100 km\n",
    "- `add_cost`: Tambahan biaya dalam satuan Ribu Rupiah (Biaya Tol)\n",
    "- `start_time`: Waktu berangkat\n",
    "- `end_time`: Waktu tiba"
   ]
  },
  {
   "cell_type": "markdown",
   "metadata": {},
   "source": [
    "## Tipe Data `pandas`\n",
    "\n",
    "- Dataframe merupakan tabel/data tabular dua dimensi yaitu baris dan kolom.\n",
    "- Dataframe terdiri dari beberapa **Series** (kolom).\n",
    "- Dalam satu series harus memiliki tipe data yang sama.\n",
    "- `pandas` akan menentukan tipe data dari masing-masing Series, tapi hasil dari pandas tidak selalu benar."
   ]
  },
  {
   "cell_type": "markdown",
   "metadata": {},
   "source": [
    "Berikut rangkuman tipe data `pandas`:\n",
    "\n",
    "**Note: Fokus pada kolom `Pandas dtype` dan `Usage`**\n",
    "\n",
    "| Pandas dtype  | Python type  | Usage                                        |\n",
    "|---------------|--------------|----------------------------------------------|\n",
    "| object        | str          | Text or mixed numeric and non-numeric values |\n",
    "| int64         | int          | Integer numbers                              |\n",
    "| float64       | float        | Floating point numbers                       |\n",
    "| bool          | bool         | True/False values                            |\n",
    "| datetime64[ns]| -            | Date and time values                         |\n",
    "| timedelta[ns] | -            |  Differences between two datetimes           |\n",
    "| category      | -            | Finite list of text values                   |\n",
    "\n",
    "Referensi: [Overview of Pandas Data Types](https://pbpython.com/pandas_dtypes.html)"
   ]
  },
  {
   "cell_type": "markdown",
   "metadata": {},
   "source": [
    "**Tipe data Pandas:**\n",
    "\n",
    "- `int64`: Integer (bilangan bulat, tanpa koma)\n",
    "- `float64`: Bilangan desimal (berkoma)\n",
    "- `object`: Text (string)\n",
    "- `category`: Kategorikal \n",
    "- `datetime64[ns]`: Data waktu\n",
    "\n",
    "Karakteristik tipe data `category` :\n",
    "- Dapat dikelompokkan menjadi beberapa kelompok (category)\n",
    "- Nilainya berulang"
   ]
  },
  {
   "cell_type": "markdown",
   "metadata": {},
   "source": [
    "----"
   ]
  },
  {
   "cell_type": "markdown",
   "metadata": {},
   "source": [
    "Saat kita membaca data dengan `pd.read_csv()`, `pandas` akan mencoba menentukan tipe data dari setiap kolom. Lakukan investigasi awal untuk melihat struktur data terhadap object DataFrame dengan menggunakan method `.info()`."
   ]
  },
  {
   "cell_type": "code",
   "execution_count": 56,
   "metadata": {},
   "outputs": [
    {
     "name": "stdout",
     "output_type": "stream",
     "text": [
      "<class 'pandas.core.frame.DataFrame'>\n",
      "Index: 22 entries, 0 to 21\n",
      "Data columns (total 13 columns):\n",
      " #   Column           Non-Null Count  Dtype  \n",
      "---  ------           --------------  -----  \n",
      " 0   start            22 non-null     object \n",
      " 1   end              22 non-null     object \n",
      " 2   lokasi_start     22 non-null     object \n",
      " 3   latitude_start   22 non-null     float64\n",
      " 4   longitude_start  22 non-null     float64\n",
      " 5   lokasi_end       22 non-null     object \n",
      " 6   latitude_end     22 non-null     float64\n",
      " 7   longitude_end    22 non-null     float64\n",
      " 8   dist             22 non-null     float64\n",
      " 9   lge/100km        22 non-null     float64\n",
      " 10  add_cost         22 non-null     float64\n",
      " 11  start_time       22 non-null     object \n",
      " 12  end_time         22 non-null     object \n",
      "dtypes: float64(7), object(6)\n",
      "memory usage: 2.4+ KB\n"
     ]
    }
   ],
   "source": [
    "# Cek tipe data\n",
    "records.info()"
   ]
  },
  {
   "cell_type": "markdown",
   "metadata": {},
   "source": [
    "**💡 NOTES**\n",
    "\n",
    "Dengan menggunakan method `.info()`, kita dapat memeriksa **informasi** lengkap dari DataFrame kita:\n",
    "\n",
    "- Dimensi data: jumlah baris dan kolom (`.shape`)\n",
    "- Nama kolom (`.columns`)\n",
    "- Tipe data setiap kolom (`.dtypes`)\n",
    "- Penggunaan memori"
   ]
  },
  {
   "cell_type": "markdown",
   "metadata": {},
   "source": [
    "*Kolom manakah yang memiliki format tipe data yang belum sesuai?*\n",
    "\n",
    "> Jawaban:"
   ]
  },
  {
   "cell_type": "markdown",
   "metadata": {},
   "source": [
    "Untuk mengubah tipe data pada `pandas`, dapat menggunakan method `astype()`.\n",
    "\n",
    "**Sintaks**\n",
    "```python\n",
    "df['column_name'] = df['column_name'].astype('new_data_types')\n",
    "```"
   ]
  },
  {
   "cell_type": "code",
   "execution_count": null,
   "metadata": {},
   "outputs": [],
   "source": [
    "# code here\n"
   ]
  },
  {
   "cell_type": "code",
   "execution_count": null,
   "metadata": {},
   "outputs": [],
   "source": [
    "# check data type\n"
   ]
  },
  {
   "cell_type": "markdown",
   "metadata": {},
   "source": [
    "## Summary Day 1\n",
    "\n",
    "### Graph\n",
    "\n",
    "Struktur data, yang memiliki nodes dan juga edges.\n",
    "- Nodes = objek\n",
    "- Edges = Hubungan antar nodes (objek)\n",
    "\n",
    "**Graph Theory** Ilmu yang mempelajari karakteristik dari Graf\n",
    "\n",
    "### Python\n",
    "\n",
    "- Python adalah bahasa pemrograman, untuk berkomunikasi dengan komputer.\n",
    "- Jupyter notebook adalah wadah untuk menuliskan kode python\n",
    "\n",
    "#### Data Type\n",
    "\n",
    "- String: Kumpulan karakter, harus selalu dibalut dengan petik '' atau \"\"\n",
    "- Number: Bilangan bulat (integer) dan juga bilangan desimal (float)\n",
    "- Boolean: Biner (True False)\n",
    "- List: Berisi kumpulan berbagai macam nilai, selalu dibalut dengan [] -> [nilai1, nilai2, nilai3]\n",
    "\n",
    "#### Function & Looping\n",
    "\n",
    "- Function: Sekumpulan perintah\n",
    "- Looping: Perulangan\n",
    "\n",
    "### Pandas\n",
    "\n",
    "Adalah library untuk manipulasi dataframe. Dapat membaca file csv dengan syntax `pd.read_csv(\"path\")`\n",
    "\n",
    "- Dataframe -> Tabel, memiliki baris dan juga kolom\n",
    "- Series -> Kolom, tipe data harus sama.\n",
    "- Untuk melakukan inspeksi tipe data dapat menggunakan `.info()`"
   ]
  },
  {
   "cell_type": "markdown",
   "metadata": {},
   "source": [
    "-- Start of Day 2 --"
   ]
  },
  {
   "cell_type": "markdown",
   "metadata": {},
   "source": [
    "## Datetime"
   ]
  },
  {
   "cell_type": "markdown",
   "metadata": {},
   "source": [
    "### Partisi Datetime\n",
    "\n",
    "Ketika sebuah kolom sudah menjadi `datetime64`, kita dapat melakukan partisi untuk menggali informasi yang lebih spesifik seperti tahun, bulan, hari, dan jam.\n",
    "\n",
    "**Date component (numeric)**\n",
    "- `.dt.year` -> partisi tahun\n",
    "- `.dt.month` -> partisi bulan (angka)\n",
    "- `.dt.isocalendar().week` -> partisi pekan (angka)\n",
    "- `.dt.day` -> partisi day/tanggal (dalam angka)\n",
    "- `.dt.dayofweek` -> partisi hari/minggu (dalam angka)\n",
    "\n",
    "**Date component (string)**\n",
    "- `.dt.month_name()`-> partisi bulan (nama)\n",
    "- `.dt.day_name()`-> partisi hari (nama)\n",
    "\n",
    "**Time component**\n",
    "- `.dt.hour` -> partisi jam\n",
    "- `.dt.minute` -> partisi menit\n",
    "- `.dt.second` -> partisi detik\n",
    "\n",
    "[Dokumentasi: datetime properties](https://pandas.pydata.org/pandas-docs/stable/reference/series.html#datetimelike-properties)"
   ]
  },
  {
   "cell_type": "code",
   "execution_count": null,
   "metadata": {},
   "outputs": [],
   "source": [
    "records['month'] = records['start_time'].dt.month_name()\n",
    "\n",
    "records.head()"
   ]
  },
  {
   "cell_type": "markdown",
   "metadata": {},
   "source": [
    "❓ Mari kita partisi nama hari"
   ]
  },
  {
   "cell_type": "code",
   "execution_count": null,
   "metadata": {},
   "outputs": [],
   "source": [
    "records['day'] = \n",
    "\n",
    "records.head()"
   ]
  },
  {
   "cell_type": "markdown",
   "metadata": {},
   "source": [
    "### Object Datetime Transformation\n",
    "\n",
    "Selain digunakan untuk melakukan partisi, kita juga dapat melakukan transformasi object `datetime64` ke dalam format periode menggunakan syntax `to_period()`.\n",
    "\n",
    "- `.dt.to_period('D')` -> mengubah ke format **D**aily (tanggal lengkap)\n",
    "- `.dt.to_period('W')` -> mengubah ke format **W**eekly (awal dan akhir minggu)\n",
    "- `.dt.to_period('M')` -> mengubah ke format **M**onthly (year-month)\n",
    "- `.dt.to_period('Q')` -> mengubah ke format **Q**uarterly (year-quarter)\n",
    "\n",
    "Reference: [Pandas anchoring suffix docs](https://pandas.pydata.org/pandas-docs/stable/user_guide/timeseries.html#anchored-offsets)"
   ]
  },
  {
   "cell_type": "code",
   "execution_count": null,
   "metadata": {},
   "outputs": [],
   "source": [
    "records['weekly'] = \n",
    "\n",
    "records.head()"
   ]
  },
  {
   "cell_type": "code",
   "execution_count": null,
   "metadata": {},
   "outputs": [],
   "source": [
    "# Week of year\n",
    "records['weekofyear'] = records['start_time'].dt.isocalendar().week\n",
    "\n",
    "records.head()"
   ]
  },
  {
   "cell_type": "markdown",
   "metadata": {},
   "source": [
    "## Contingency Tables / Frequency Tables\n",
    "\n",
    "Untuk menghitung contigency tables, kita dapat menggunakan method `.value_counts()`. \n",
    "**Kegunaan**: Menghitung banyak baris pada setiap category dalam 1 kolom, dan defaultnya diurutkan secara descending\n",
    "\n",
    "Parameter:\n",
    "\n",
    "- `sort=False`: mencegah nilai pengurutan apa pun, **urutkan berdasarkan indeks** sebagai gantinya\n",
    "- `ascending=True`: **urutkan nilai** dalam urutan menaik"
   ]
  },
  {
   "cell_type": "markdown",
   "metadata": {},
   "source": [
    "Mari kita melihat jumlah pengiriman setiap bulannya"
   ]
  },
  {
   "cell_type": "code",
   "execution_count": null,
   "metadata": {},
   "outputs": [],
   "source": [
    "records['month'].value_counts()"
   ]
  },
  {
   "cell_type": "markdown",
   "metadata": {},
   "source": [
    "❓ Mari kita lihat jumlah pengiriman di setiap harinya"
   ]
  },
  {
   "cell_type": "code",
   "execution_count": null,
   "metadata": {},
   "outputs": [],
   "source": [
    "# code here\n"
   ]
  },
  {
   "cell_type": "markdown",
   "metadata": {},
   "source": [
    "❓ Mari kita lihat jumlah pengiriman di setiap minggunya"
   ]
  },
  {
   "cell_type": "code",
   "execution_count": null,
   "metadata": {},
   "outputs": [],
   "source": [
    "# code here\n"
   ]
  },
  {
   "cell_type": "markdown",
   "metadata": {},
   "source": [
    "> Note: "
   ]
  },
  {
   "cell_type": "markdown",
   "metadata": {},
   "source": [
    "## [Optional] Pandas Visualization\n",
    "\n",
    "Secara default, `plot()` menampilkan visualisasi **line chart**. Ada beberapa tipe visualisasi lain yang dapat kita buat menggunakan `.plot()`:\n",
    "\n",
    "- Data kategorik:\n",
    "    - **`.plot(kind='bar')` untuk barplot (diagram batang)**\n",
    "    - **`.plot(kind='barh')` untuk horizontal barplot**\n",
    "\n",
    "**Silahkan mengacu referensi lengkapnya di [official documentation](https://pandas.pydata.org/pandas-docs/stable/reference/api/pandas.DataFrame.plot.html) untuk method `plot` apabila ingin eksplor visualisasi yang ada di luar lingkup course ini**"
   ]
  },
  {
   "cell_type": "markdown",
   "metadata": {},
   "source": [
    "Mari kita visualisasikan jumlah pengiriman di setiap bulannya."
   ]
  },
  {
   "cell_type": "code",
   "execution_count": null,
   "metadata": {},
   "outputs": [],
   "source": [
    "records['month'].value_counts().plot(kind = 'bar');"
   ]
  },
  {
   "cell_type": "code",
   "execution_count": null,
   "metadata": {},
   "outputs": [],
   "source": [
    "records['weekofyear'].value_counts().plot(kind = 'bar');"
   ]
  },
  {
   "cell_type": "markdown",
   "metadata": {},
   "source": [
    "> Note: "
   ]
  },
  {
   "cell_type": "markdown",
   "metadata": {},
   "source": [
    "## Conditional Subsetting\n",
    "\n",
    "Conditional subsetting bermaksud untuk mengambil sebagian data dari DataFrame berdasarkan suatu kondisi tertentu, seperti:\n",
    "- Pengiriman yang terjadi pada bulan Januari\n",
    "- Pengiriman dengan jarak lebih dari 10km\n",
    "- Pengiriman yang memiliki biaya `add_cost`, atau `add_cost != 0`\n",
    "\n",
    "Syntax penulisan untuk conditional subsetting adalah:\n",
    "\n",
    "**`df[df['column_name'] <comparison_operator> <value>]`**\n",
    "\n",
    "atau\n",
    "\n",
    "**`df[df.column_name <comparison_operator> <value>]`**\n",
    "\n",
    "Contoh comparison_operator adalah seperti `==`, `!=`, `>`, `>=`, `<`, `<=`."
   ]
  },
  {
   "cell_type": "markdown",
   "metadata": {},
   "source": [
    "Menampilkan data yang terjadi pada hari Senin\n",
    "\n",
    "`records[records['day'] == 'Monday']`\n",
    "\n",
    "kondisi -> `rice['day'] == 'Monday'`"
   ]
  },
  {
   "cell_type": "markdown",
   "metadata": {},
   "source": [
    "❓ Menampilkan data yang memiliki `dist` (jarak) di atas 15 km"
   ]
  },
  {
   "cell_type": "code",
   "execution_count": null,
   "metadata": {},
   "outputs": [],
   "source": [
    "# Code here\n",
    "records[records['dist'] > 20]"
   ]
  },
  {
   "cell_type": "markdown",
   "metadata": {},
   "source": [
    "> Note: "
   ]
  },
  {
   "cell_type": "markdown",
   "metadata": {},
   "source": [
    "❓ Menampilkan data pada week ke-6."
   ]
  },
  {
   "cell_type": "code",
   "execution_count": null,
   "metadata": {},
   "outputs": [],
   "source": [
    "# code here\n"
   ]
  },
  {
   "cell_type": "markdown",
   "metadata": {},
   "source": [
    "❓ Menampilkan data pada week ke-6 dan hari Senin"
   ]
  },
  {
   "cell_type": "code",
   "execution_count": null,
   "metadata": {},
   "outputs": [],
   "source": [
    "# code here\n"
   ]
  },
  {
   "cell_type": "markdown",
   "metadata": {},
   "source": [
    "> Notes: "
   ]
  },
  {
   "cell_type": "markdown",
   "metadata": {},
   "source": [
    "❓ Cobalah untuk mencari jenis rute yang lain"
   ]
  },
  {
   "cell_type": "code",
   "execution_count": null,
   "metadata": {},
   "outputs": [],
   "source": [
    "# Code here\n"
   ]
  },
  {
   "cell_type": "markdown",
   "metadata": {},
   "source": [
    "## [Optional] Visualisasi Rute"
   ]
  },
  {
   "cell_type": "markdown",
   "metadata": {},
   "source": [
    "Untuk mencari hubungan urutan jalur cukup sulit jika hanya melihat dari dalam bentuk `dataframe`. Berhubung dataframe `records` kita mempunyai koordinat titik awal dan titik akhir, maka dari itu mari kita melakukan visualisasi jalur distribusi ke dalam bentuk peta!"
   ]
  },
  {
   "cell_type": "markdown",
   "metadata": {},
   "source": [
    "Untuk melakukan visualisasi peta dan rute, dapat menggunakan library `OSMnx`. `OSMnx` adalah library yang memungkinkan untuk mengunduh data geospatial dari OpenStreetMap untuk dimodelkan, dianalisis dan divisualisasikan.\n",
    "\n",
    "Lebih lengkap mengenai `OSMnx` dapat mengacu pada link berikut:\n",
    "- [Contoh penggunaan `OSMnx`](https://geoffboeing.com/2016/11/osmnx-python-street-networks/)\n",
    "- [Dokumentasi resmi](https://osmnx.readthedocs.io/en/stable/osmnx.html)\n",
    "\n",
    "> Note: kode untuk melakukan visualisasi map/peta berada pada `helper/graph` yang telah disesuaikan dengan struktur dan konteks data yang digunakan. Jika Anda ingin mengetahui lebih lanjut detail/cara kerja kode, dapat mengacu ke file tersebut dan mengacu ke [dokumentasi resmi](https://osmnx.readthedocs.io/en/stable/osmnx.html) dari `OSMnx`.\n",
    "\n",
    "Maka dari itu, mari kita untuk mengimport fungsi-fungsi dari script `helper/graph`."
   ]
  },
  {
   "cell_type": "code",
   "execution_count": null,
   "metadata": {},
   "outputs": [],
   "source": [
    "from helper import graph"
   ]
  },
  {
   "cell_type": "markdown",
   "metadata": {},
   "source": [
    "Mari kita melihat urutan jalur distribusi untuk pekan ke-6. Untuk melakukan hal tersebut, mari kita mengambil data pengiriman untuk pekan ke-6 kemudian mengurutkannya berdasarkan data terlama dan menyimpannya ke dalam objek `week6`.\n",
    "\n",
    "> Kita memerlukan dataframe yang terurut dari waktu terlama hingga terbaru untuk melakukan visualisasi, untuk mengurutkan data, bisa menggunakan method `.sort.values(by = 'start_time')` "
   ]
  },
  {
   "cell_type": "code",
   "execution_count": null,
   "metadata": {},
   "outputs": [],
   "source": [
    "week6 = records[records['weekofyear'] == 6].sort_values(by = 'start_time')\n",
    "\n",
    "week6"
   ]
  },
  {
   "cell_type": "markdown",
   "metadata": {},
   "source": [
    "Untuk membuat visualisasi peta, terdapat 2 step yang harus dilakukan.\n",
    "1. Membuat objek peta dengan `graph.create_map_object()` yang disimpan ke dalam `map_object`. Inputan fungsi ini adalah string nama daerah koordinat yang ingin kita visualisasikan, dalam hal ini adalah `'Jakarta, Indonesia'`. \n",
    "2. Melakukan plotting koordinat dan jalur antar koordinat dengan `graph.visualize_route(map_object, dataframe)`. Dimana `map_object` adalah object dari step 1 dan `dataframe` adalah kumpulan data koordinat yang ingin kita visualisasikan, dalam hal ini adalah `week6`.\n",
    "**Kolom wajib** yang harus terdapat di dalam `dataframe`:\n",
    "    - `day`\n",
    "    - `lokasi_start`\n",
    "    - `longitude_start`\n",
    "    - `latitude_start`\n",
    "    - `lokasi_end`\n",
    "    - `longitude_end`\n",
    "    - `latitude_end`"
   ]
  },
  {
   "cell_type": "code",
   "execution_count": null,
   "metadata": {},
   "outputs": [],
   "source": [
    "# Membuat objek peta\n",
    "map_object = graph.create_map_object('Jakarta, Indonesia')"
   ]
  },
  {
   "cell_type": "code",
   "execution_count": null,
   "metadata": {},
   "outputs": [],
   "source": [
    "# Visualisasi koordinat utk week 6\n",
    "graph.visualize_route(map_object, week6)"
   ]
  },
  {
   "cell_type": "code",
   "execution_count": null,
   "metadata": {},
   "outputs": [],
   "source": [
    "# Visualisasi untuk week 4\n",
    "week4 = records[records['weekofyear'] == 4].sort_values(by = 'start_time')\n",
    "\n",
    "graph.visualize_route(map_object, week4)"
   ]
  },
  {
   "cell_type": "markdown",
   "metadata": {},
   "source": [
    "> Insight:"
   ]
  },
  {
   "cell_type": "markdown",
   "metadata": {},
   "source": [
    "Kita mempunyai data records distribusi kita. Apakah terdapat cara untuk menggambarkan hubungan antar lokasi?\n",
    "\n",
    "Data yang saling terkoneksi (seperti data distribusi kita) dapat dihubungkan ke dalam graf. Lalu apa itu graf?"
   ]
  },
  {
   "cell_type": "markdown",
   "metadata": {},
   "source": [
    "# Teori Graf"
   ]
  },
  {
   "cell_type": "markdown",
   "metadata": {},
   "source": [
    "Teori graf adalah sebuah konsep matematika di mana digunakan untuk memodelkan hubungan antar objek. Hubungan ini direpresentasikan ke dalam sebuah **graf**.\n",
    "\n",
    "Contoh implementasi teori graf yaitu:\n",
    "- Optimalisasi rute, seperti rute pengiriman (yang dibahas notebook ini)\n",
    "- Pemodelan jaringan yang kompleks, seperti jaringan sosial (*social networks*)\n",
    "- Pemodelan penyebaran penyakit menular, seperti Covid.\n",
    "\n",
    "Untuk memodelkan hubungan antar objek, Graf terdiri dari komponen **nodes** yang menyatakan objek dan **edges** yang menyatakan hubungan antar objek. Mari kita telaah lebih dalam mengenai **nodes** dan **edges**"
   ]
  },
  {
   "cell_type": "markdown",
   "metadata": {},
   "source": [
    "### Nodes & Edges\n",
    "\n",
    "Graf (graph) adalah kumpulan dari *nodes* (simpul/sudut) dan *edges* (sisi) yang menggambarkan hubungan:\n",
    "- *Nodes* adalah simpul/sudut yang merepresentasikan object.\n",
    "- *Edges* menggambarkan koneksi antar objek/*nodes*\n",
    "\n",
    "Sesuatu yang memiliki hubungan antar objek dapat direpresentasikan dengan graph, seperti jarak antar kota, jaringan telfon, hingga hubungan antar akun di sosial media.<sup>[[1](https://www.maths.ed.ac.uk/~v1ranick/papers/wilsongraph.pdf)]</sup>\n",
    "\n",
    "Contoh visualisasi graph seperti berikut\n",
    "\n",
    "![](assets/graph_1.png)"
   ]
  },
  {
   "cell_type": "markdown",
   "metadata": {},
   "source": [
    "**💡 NOTES**\n",
    "\n",
    "Informasi dari Graf di atas:\n",
    "\n",
    "- Nodes: [A, B, C, D, E]\n",
    "- Edges: [AC, AB, BD, BE, DE, EC]"
   ]
  },
  {
   "cell_type": "markdown",
   "metadata": {},
   "source": [
    "💬 **Diskusi**: Apakah terdapat hubungan antara nodes A dan nodes E? Jika Antar node menyatakan hubungan antar kota, bagaimana rute dari kota A ke kota E?"
   ]
  },
  {
   "cell_type": "markdown",
   "metadata": {},
   "source": [
    "> Jawaban:"
   ]
  },
  {
   "cell_type": "markdown",
   "metadata": {},
   "source": [
    "### Graf Unweighted & Graf Weighted"
   ]
  },
  {
   "cell_type": "markdown",
   "metadata": {},
   "source": [
    "Graf terbagi menjadi dua jenis, yaitu *unweighted graph* dan *weighted graph*:\n",
    "\n",
    "![](assets/graph_2.png)\n",
    "\n",
    "- *Unweighted Graph* \n",
    "\n",
    "*Unweighted Graph* adalah jenis graph yang merepresentasikan apakah antar *node* memiliki hubungan atau tidak.\n",
    "\n",
    "- *Weighted Graph* \n",
    "\n",
    "*Weighted Graph* adalah pengembangan dari *unweighted graph* dimana setiap *edges* memiliki *weight* (beban). *Weight* ini sangat berguna untuk merepresentasikan hubungan antar objek yang memiliki nilai numerik, seperti hubungan jarak antar kota, waktu tempuh, atau biaya antar objeknya."
   ]
  },
  {
   "cell_type": "markdown",
   "metadata": {},
   "source": [
    "💬 **Diskusi**: Pada weighted graph di atas, jika kita ingin berpergian dari kota A ke kota E dan weight menggambarkan waktu tempuh ke masing-masing kota. Maka rute apa memiliki waktu tempuh tercepat?"
   ]
  },
  {
   "cell_type": "markdown",
   "metadata": {},
   "source": [
    "> Jawaban:"
   ]
  },
  {
   "cell_type": "markdown",
   "metadata": {},
   "source": [
    "# Implementasi Teori Graf di Python"
   ]
  },
  {
   "cell_type": "markdown",
   "metadata": {},
   "source": [
    "## Networkx"
   ]
  },
  {
   "cell_type": "markdown",
   "metadata": {},
   "source": [
    "Setelah mengetahui intuisi dari teori graf, selanjutnya kita akan menerapkan teori graf di python menggunakan library `networkx`.\n",
    "\n",
    "`networkx` adalah salah satu *package*/*library* pada Python yang berfungsi untuk mengeksplorasi dan menganalisis graf dan algoritma graf. Networkx menyediakan berbagai jenis graf untuk menggambarkan jaringan termasuk *weighted* dan *unweighted graph*.\n",
    "\n",
    "> Lebih lengkapnya silahkan kunjungi [official documentation](https://networkx.org/documentation/latest/reference/index.html)\n",
    "\n",
    "Untuk menggunakan `networkx`, kita perlu import terlebih dahulu library dengan cara berikut ini:"
   ]
  },
  {
   "cell_type": "code",
   "execution_count": null,
   "metadata": {},
   "outputs": [],
   "source": [
    "import networkx as nx\n",
    "print(nx.__version__)"
   ]
  },
  {
   "cell_type": "markdown",
   "metadata": {},
   "source": [
    "Untuk membuat graf, kita dapat memanggil objek `Graph()`.\n",
    "\n",
    "Kemudian, untuk menambahkan nodes dan hubungan antar nodes, dapat menggunakan method `add_edges()`.\n",
    "\n",
    "**Sintaks**\n",
    "```python\n",
    "# Objek Graph\n",
    "G = nx.Graph()\n",
    "# tanpa weight\n",
    "G.add_edge(u_of_edge, v_of_edge)\n",
    "# dengan weight\n",
    "G.add_edge(u_of_edge, v_of_edge, weight = value)\n",
    "```\n",
    "\n",
    "Ket:\n",
    "- u_of_edge = node 1\n",
    "- v_of_edge = node 2\n",
    "- weight = diisi dengan nilai numerik, default `None`"
   ]
  },
  {
   "cell_type": "code",
   "execution_count": null,
   "metadata": {},
   "outputs": [],
   "source": [
    "# Objek graph\n",
    "G = nx.Graph()\n",
    "# Menambahkan hubungan node A dan node B\n",
    "G.add_edge('A', 'B')\n",
    "# A - C\n",
    "\n",
    "# B - D\n",
    "\n",
    "# B - E\n",
    "\n",
    "# C - E\n",
    "\n",
    "# D - E\n"
   ]
  },
  {
   "cell_type": "markdown",
   "metadata": {},
   "source": [
    "Untuk melakukan visualisasi, kita dapat menggunakan `visualize_graph(objek_graph)` dari folder `helper`.\n",
    "\n",
    "**Sintaks**\n",
    "```python\n",
    "graph.visualize_graph(G, position = 'shell')\n",
    "```\n",
    "keterangan:\n",
    "- G = Objek Graf\n",
    "- position = Default: \"shell\". Layout visualisasi dari graf ['shell', 'spring', 'circular', 'planar', 'spectral']\n",
    "\n",
    "Lebih lengkapnya dapat mengacu ke:\n",
    "- [Dokumentasi](https://networkx.org/documentation/stable/reference/drawing.html)\n",
    "- [Simple Example](https://www.geeksforgeeks.org/python-visualize-graphs-generated-in-networkx-using-matplotlib/)"
   ]
  },
  {
   "cell_type": "code",
   "execution_count": null,
   "metadata": {},
   "outputs": [],
   "source": [
    "# import\n",
    "from helper import graph\n",
    "# code here\n"
   ]
  },
  {
   "cell_type": "markdown",
   "metadata": {},
   "source": [
    "❓ Mari kita membuat graf pada objek `G_w` dengan weight"
   ]
  },
  {
   "cell_type": "code",
   "execution_count": null,
   "metadata": {},
   "outputs": [],
   "source": [
    "# Objek graph\n",
    "G_w = nx.Graph()\n",
    "# Menambahkan hubungan node A dan node B dengan weight = 1\n",
    "\n",
    "# A - C, weight = 1\n",
    "\n",
    "# B - D, weight = 1\n",
    "\n",
    "# B - E, weight = 2\n",
    "\n",
    "# C - E, weight = 3\n",
    "\n",
    "# D - E, weight = 3\n",
    "\n",
    "\n",
    "graph.visualize_graph(G_w, 'spectral')"
   ]
  },
  {
   "cell_type": "markdown",
   "metadata": {},
   "source": [
    "## Pencarian Rute Antar Nodes"
   ]
  },
  {
   "cell_type": "markdown",
   "metadata": {},
   "source": [
    "Kita bisa mendapatkan semua rute yang terhubung antar node dengan fungsi `nx.all_simple_paths()`\n",
    "\n",
    "**Sintaks**\n",
    "```python\n",
    "nx.all_simple_paths(G, source, target, cutoff)\n",
    "```\n",
    "ket:\n",
    "- G = Objek Graf\n",
    "- source = Node awal\n",
    "- target = Node tujuan\n",
    "- cutoff = Maksimal jumlah node yang dilewati untuk mencapai node target (tidak termasuk Node awal)"
   ]
  },
  {
   "cell_type": "code",
   "execution_count": null,
   "metadata": {},
   "outputs": [],
   "source": [
    "# Mendapatkan semua jalur yang terhubung\n",
    "all_path = "
   ]
  },
  {
   "cell_type": "markdown",
   "metadata": {},
   "source": [
    "Untuk mendapatkan weight total dari semua path, dapat menggunkaan fungsi `nx.path_weight()`\n",
    "\n",
    "**Syntaks**\n",
    "`nx.path_weight(G, path, weight)`\n",
    "\n",
    "ket:\n",
    "- G = Objek Graf\n",
    "- path = List nama nodes secara berurutan\n",
    "- weight = nama weight yang akan dihitung\n"
   ]
  },
  {
   "cell_type": "code",
   "execution_count": null,
   "metadata": {},
   "outputs": [],
   "source": [
    "# Mendapatkan weight\n",
    "pathAB = ['A', 'B']\n",
    "nx.path_weight(G_w, pathAB, weight=\"weight\")"
   ]
  },
  {
   "cell_type": "code",
   "execution_count": null,
   "metadata": {},
   "outputs": [],
   "source": [
    "# Weight total jalur A -> B -> E\n"
   ]
  },
  {
   "cell_type": "code",
   "execution_count": null,
   "metadata": {},
   "outputs": [],
   "source": [
    "# Mendapatkan semua jalur dan weight\n",
    "all_path = nx.all_simple_paths(G_w, source='A', target='E', cutoff=3)\n",
    "\n",
    "# Mendapatkan semua total \n",
    "for path in all_path:\n",
    "    # Hitung total weight untuk masing-masing path\n",
    "    weight = nx.path_weight(G_w, path, weight=\"weight\")\n",
    "    # Print \n",
    "    print(f\"Rute {path} memiliki Total Weight: {weight}\")"
   ]
  },
  {
   "cell_type": "markdown",
   "metadata": {},
   "source": [
    "Untuk lebih mudah, kita dapat menggunakan fungsi `graph.get_total()` dimana akan membuat dataframe dengan weight terurut dari masing-masing rute.\n",
    "\n",
    "**Sintaks**\n",
    "```python\n",
    "graph.get_total(G, source, target, cutoff)\n",
    "```\n",
    "keterangan:\n",
    "- G = Objek Graf\n",
    "- source = Node awal\n",
    "- target = Node tujuan\n",
    "- cutoff = Maksimal jumlah node yang dilewati untuk mencapai node target (tidak termasuk Node awal)"
   ]
  },
  {
   "cell_type": "code",
   "execution_count": null,
   "metadata": {},
   "outputs": [],
   "source": [
    "# Code here\n"
   ]
  },
  {
   "cell_type": "markdown",
   "metadata": {},
   "source": [
    "💬 **Diskusi**: Apakah node yang pendek pasti memiliki weight yang rendah?"
   ]
  },
  {
   "cell_type": "markdown",
   "metadata": {},
   "source": [
    "> Jawaban:"
   ]
  },
  {
   "cell_type": "markdown",
   "metadata": {},
   "source": [
    "## Studi Kasus\n",
    "\n",
    "Kita adalah seorang data saintis di sebuah perusahaan produsen makanan dingin. Kita diberikan data `records` yang berisi informasi pengiriman antar lokasinya.\n",
    "\n",
    "**Recall data records**"
   ]
  },
  {
   "cell_type": "code",
   "execution_count": null,
   "metadata": {},
   "outputs": [],
   "source": [
    "records.head()"
   ]
  },
  {
   "cell_type": "markdown",
   "metadata": {},
   "source": [
    "**Deskripsi Data:**\n",
    "\n",
    "Data `records` merupakan kumpulan catatan pengiriman distribusi. Berikut informasi dari setiap kolom:\n",
    "\n",
    "- `start`: Lokasi berangkat\n",
    "- `end`: Lokasi tujuan\n",
    "- `lokasi_start`: Nama lokasi awal\n",
    "- `latitude_start`: Titik latitude lokasi awal\n",
    "- `longitude_start`: Titik longitude lokasi awal\n",
    "- `lokasi_end`: Nama lokasi tujuan\n",
    "- `latitude_end`: Titik latitude lokasi tujuan\n",
    "- `longitude_end`: Titik longitude lokasi tujuan\n",
    "- `dist`: Jarak tempuh (satuan km)\n",
    "- `lge/100km`: Penggunaan liter bensin / 100 km\n",
    "- `add_cost`: Tambahan biaya dalam satuan Ribu Rupiah (Biaya Tol)\n",
    "- `start_time`: Waktu berangkat\n",
    "- `end_time`: Waktu tiba"
   ]
  },
  {
   "cell_type": "markdown",
   "metadata": {},
   "source": [
    "💬 **Diskusi**: Bagaimana cara membaca data pada baris pertama? Cerita apa yang bisa diambil?"
   ]
  },
  {
   "cell_type": "markdown",
   "metadata": {},
   "source": [
    "> Jawaban:"
   ]
  },
  {
   "cell_type": "markdown",
   "metadata": {},
   "source": [
    "### BATASAN MASALAH\n",
    "\n",
    "Selain informasi dari data ini, kita juga mengetahui beberapa informasi antara lain:\n",
    "\n",
    "**Aturan**\n",
    "\n",
    "- A (warehouse) adalah pusat penyimpanan. Setiap jalur distribusi berawal dari titik A\n",
    "\n",
    "- Kebutuhan produk perminggu setiap lokasi adalah 1 ton.\n",
    "\n",
    "- Truk dapat mengangkut produk dengan berat maksimal 2,2 ton.\n",
    "\n",
    "- Waktu drop di setiap lokasi adalah -+ 30 menit\n",
    "\n",
    "**Biaya:**\n",
    "\n",
    "- Bahan bakar yang digunakan truk adalah Dexlite (Rp14,950/liter)\n",
    "\n",
    "- Biaya pengeluaran mesin pendingin truk adalah Rp9,000/jam"
   ]
  },
  {
   "cell_type": "markdown",
   "metadata": {},
   "source": [
    "> ⚠ Disclaimer: Bisnis problem dan data bersifat *dummy* yang terinspirasi dari hasil penelitian Liang, Wu dan Sun <sup>[[2](https://doi.org/10.2991/asei-15.2015.145)]</sup> dimana mencari rute optimal pada kasus cold chain logistics menggunakan Particle Swarm Optimization (PSO). Inspirasi lain juga berasal dari artikel Samir Saci <sup>[[3](https://towardsdatascience.com/transportation-network-analysis-with-graph-theory-55eceb7e4de4)]</sup> yang melakukan analisis jaringan distribusi menggunakan Teori Graf."
   ]
  },
  {
   "cell_type": "markdown",
   "metadata": {},
   "source": [
    "### Business Question"
   ]
  },
  {
   "cell_type": "markdown",
   "metadata": {},
   "source": [
    "Dari ke-6 data teratas, rute-rute apa saja yang dapat dilihat?"
   ]
  },
  {
   "cell_type": "code",
   "execution_count": null,
   "metadata": {},
   "outputs": [],
   "source": [
    "records.head(6)"
   ]
  },
  {
   "cell_type": "markdown",
   "metadata": {},
   "source": [
    "> Jika diperhatikan, berikut adalah rute-rute yang terjadi:\n",
    "\n",
    "\n",
    "> Note: "
   ]
  },
  {
   "cell_type": "markdown",
   "metadata": {},
   "source": [
    "💬 **Bagaimana cara menentukan rute yang lebih optimal agar biaya distribusi dapat lebih ditekan?**"
   ]
  },
  {
   "cell_type": "markdown",
   "metadata": {},
   "source": [
    "### Tawaran Solusi"
   ]
  },
  {
   "cell_type": "markdown",
   "metadata": {},
   "source": [
    "💡 Merepresentasikan `records` ke dalam `Graf` kemudian mencari rute-rute dengan `weight` terendah.\n",
    "\n",
    "💡 `weight` bisa dalam bentuk total biaya (cost) yang dikeluarkan masing-masing rutenya.\n",
    "\n",
    "💡 Total cost dapat diektrak dari data `records` dengan informasi-informasi yang kita ketahui.\n",
    "\n",
    "💬 **Informasi apa saja yang dapat digunakan untuk mendapatkan biaya?**\n",
    "- 💡 `add_cost`\n",
    "- 💡 `dist` (jarak), `lge/100km` (bahan bakar), dan harga bensin dapat digunakan untuk mencari biaya bahan bakar\n",
    "- 💡 Informasi waktu dapat digunakan untuk mencari biaya pengeluaran pendingin truk.\n",
    "- 💡 Total biaya-biaya tersebut akan menjadi `weight` pada setiap `edges graf`"
   ]
  },
  {
   "cell_type": "markdown",
   "metadata": {},
   "source": [
    "Selanjutnya mari kita melakukan Pre-processing dan Feature Engineering untuk data kita"
   ]
  },
  {
   "cell_type": "markdown",
   "metadata": {},
   "source": [
    "## Pre-processing & Feature Engineering"
   ]
  },
  {
   "cell_type": "markdown",
   "metadata": {},
   "source": [
    "### Biaya Bensin\n",
    "\n",
    "Informasi yang dapat digunakan:\n",
    "- kolom `dist`, menyatakan jarak dalam satuan km.\n",
    "- kolom `lge/100km`, menyatakan penggunaan liter bensin / 100 km.\n",
    "- Truk di perusahaan kita menggunakan bensin Dexlite seharga Rp14,950/liter\n",
    "\n",
    "💡 Langkah:\n",
    "- Hitung penggunaan liter bahan bakar dengan formula:\n",
    "    \n",
    "    $ literneed =  lge/100km \\times \\frac{dist}{100}$\n",
    "    \n",
    "- Penggunaan liter akan dikalikan dengan biaya bensin/liter.\n",
    "\n",
    "    $ costfuel =  literneed \\times dexlitecost $\n",
    "\n",
    "> Additional Notes: Semakin besar nilai lge/100km maka semakin boros bensin untuk rute tersebut. Hal ini dapat dipengaruhi oleh tingkat kemacetan jalanan dimana penggunaan bahan bakar dapat meningkat 90-170% dari konsumsi normal bensin <sup>[[4](https://www.viamichelin.com/magazine/article/traffic-jams-our-tips-for-saving-fuel/#:~:text=An%20idling%20vehicle%20uses%20about,and%20175%25%20in%20urban%20areas)]</sup>."
   ]
  },
  {
   "cell_type": "code",
   "execution_count": null,
   "metadata": {},
   "outputs": [],
   "source": [
    "# Harga dexlite dalam satuan ribu\n",
    "fuel = 14.95\n",
    "# Mendapatkan total liter\n",
    "records['literneed'] = \n",
    "\n",
    "records.head()"
   ]
  },
  {
   "cell_type": "markdown",
   "metadata": {},
   "source": [
    "### Biaya Pendingin\n",
    "\n",
    "Informasi yang dapat digunakan:\n",
    "- Biaya maintain pendingin truk perjam (Rp9,000/jam)\n",
    "- `start_time` dan `end_time` untuk mendapatkan waktu menit perjalanan\n",
    "\n",
    "💡 Langkah:\n",
    "- Dapatkan menit perjalanan dengan `end_time` - `start_time`.\n",
    "- Kalikan total menit dengan biaya maintain pendingin.\n",
    "\n",
    "    $ costrefri =  totalminutes \\times \\frac{refrigeratorcost}{60} $\n",
    "\n",
    "Pada datetime dapat dilakukan subtraksi datetime seperti di bawah ini"
   ]
  },
  {
   "cell_type": "code",
   "execution_count": null,
   "metadata": {},
   "outputs": [],
   "source": [
    "# code here\n"
   ]
  },
  {
   "cell_type": "code",
   "execution_count": null,
   "metadata": {},
   "outputs": [],
   "source": [
    "# Masukkan total minutes ke dalam kolom time, total second / 60 untuk mendapatkan menit\n",
    "records['time'] = (records['end_time'] - records['start_time']).dt.total_seconds() / 60\n",
    "\n",
    "records.head(2)"
   ]
  },
  {
   "cell_type": "code",
   "execution_count": null,
   "metadata": {},
   "outputs": [],
   "source": [
    "# Biaya pendingin/jam dalam satuan ribu\n",
    "refrigerator = 9\n",
    "# total cost refri\n",
    "records['cost_refri'] = \n",
    "\n",
    "records.head(2)"
   ]
  },
  {
   "cell_type": "markdown",
   "metadata": {},
   "source": [
    "💬 **Apakah masih terdapat biaya belum dihitung?**"
   ]
  },
  {
   "cell_type": "markdown",
   "metadata": {},
   "source": [
    "> Jawaban:"
   ]
  },
  {
   "cell_type": "markdown",
   "metadata": {},
   "source": [
    "### Total Cost\n",
    "\n",
    "Total cost akan kita jadikan sebagai `weight` dalam Graf kita nantinya. Sehingga kita akan mendapatkan kombinasi masing-masing rute beserta total biayanya.\n",
    "\n",
    "Informasi yang digunakan:\n",
    "- `cost_fuel`: total biaya bahan bakar\n",
    "- `cost_refri`: total biaya maintain pendingin\n",
    "- `add_cost`: *additional_cost*, dalam hal ini adalah biaya tol\n",
    "\n",
    "💡 Langkah:\n",
    "\n",
    "Menjumlahkan masing-masing cost\n",
    "\n",
    "$ total = costfuel + costrefri + addcost $"
   ]
  },
  {
   "cell_type": "code",
   "execution_count": null,
   "metadata": {},
   "outputs": [],
   "source": [
    "records['total'] = \n",
    "\n",
    "records.head(2)"
   ]
  },
  {
   "cell_type": "markdown",
   "metadata": {},
   "source": [
    "Mari kita lihat 5 rute yang memiliki cost terbesar"
   ]
  },
  {
   "cell_type": "code",
   "execution_count": null,
   "metadata": {},
   "outputs": [],
   "source": [
    "# code here\n",
    "records.sort_values(by = 'total', ascending = False).head(5)"
   ]
  },
  {
   "cell_type": "markdown",
   "metadata": {},
   "source": [
    "### Duplikat\n",
    "\n",
    "Melihat apakah terdapat duplikat rute. Untuk melakukan pengecekan terhadap ada atau tidaknya data yang duplikat, kita dapat menggunakan method `duplicated()`.\n",
    "\n",
    "**Syntax:**\n",
    "```python\n",
    "records.duplicated(subset = [kolom], keep = 'first')\n",
    "```\n",
    "Ket:\n",
    "- subset = Kolom yang ingin dilihat duplikat, jika tidak diisi akan mempertimbangkan semua kolom.\n",
    "- `keep='first'`, melihat baris **pertama (teratas)** dari nilai yang duplicate.\n",
    "- `keep='last'`, melihat baris **terakhir (terbawah)** dari nilai yang duplicate.\n",
    "- `keep=False`, melihat semua baris yang dulicate."
   ]
  },
  {
   "cell_type": "code",
   "execution_count": null,
   "metadata": {},
   "outputs": [],
   "source": [
    "# Code here\n"
   ]
  },
  {
   "cell_type": "markdown",
   "metadata": {},
   "source": [
    "Kita hanya membutuhkan data yang paling update/terbaru, sehingga baris duplikat yang lama akan kita drop. Untuk menangani data yang duplicate, kita bisa menggunakan method `drop_duplicates()`.\n",
    "\n",
    "\n",
    "**Syntax:**\n",
    "```python\n",
    "records.drop_duplicates(subset = [kolom], keep = 'first')\n",
    "```\n",
    "Ket:\n",
    "- subset = Kolom yang ingin dipertimbangkan duplikat, jika tidak diisi akan mempertimbangkan semua kolom.\n",
    "- `keep='first'`, mempertahankan baris **pertama (teratas)** dari nilai yang duplicate.\n",
    "- `keep='last'`, mempertahankan baris **terakhir (terbawah)** dari nilai yang duplicate.\n",
    "- `keep=False`, tidak mempertahankan baris yang duplikat. Dengan kata lain, menghapus semua baris yang duplikat."
   ]
  },
  {
   "cell_type": "code",
   "execution_count": null,
   "metadata": {},
   "outputs": [],
   "source": [
    "# Drop duplikat untuk data lama (pertahankan data terbaru)\n",
    "records_new = records.drop_duplicates(subset = ['start', 'end'], keep = 'first')\n",
    "# cek duplikat\n",
    "records_new[records_new.duplicated(subset = ['start', 'end'], keep = False)]"
   ]
  },
  {
   "cell_type": "markdown",
   "metadata": {},
   "source": [
    "## Pembentukan dan Visualisasi Graf"
   ]
  },
  {
   "cell_type": "markdown",
   "metadata": {},
   "source": [
    "Selanjutnya mari kita melakukan pembentukan graf berdasarkan data kita. Sebelum itu mari kita mengambil kolom2 yang dibutuhkan untuk membuat graf"
   ]
  },
  {
   "cell_type": "code",
   "execution_count": null,
   "metadata": {
    "scrolled": false
   },
   "outputs": [],
   "source": [
    "data = records_new[['start', 'end', 'total']]\n",
    "\n",
    "data.head()"
   ]
  },
  {
   "cell_type": "code",
   "execution_count": null,
   "metadata": {},
   "outputs": [],
   "source": [
    "# Membuat objek graph\n",
    "Graf = nx.Graph()\n",
    "\n",
    "# Iterasi per baris dari dataframe\n",
    "for ind in range(len(data)):\n",
    "    # Mengakses nilai setiap baris menjadi list\n",
    "    row = data.iloc[ind].tolist()\n",
    "    # Memasukkan edges tiap node ke dalam graf\n",
    "    Graf.add_edge(row[0], row[1], weight = row[2])"
   ]
  },
  {
   "cell_type": "code",
   "execution_count": null,
   "metadata": {},
   "outputs": [],
   "source": [
    "# Visualisasi graf\n"
   ]
  },
  {
   "cell_type": "markdown",
   "metadata": {},
   "source": [
    "## Pencarian Rute Optimal (Total Cost)"
   ]
  },
  {
   "cell_type": "markdown",
   "metadata": {},
   "source": [
    "Kita bisa mendapatkan semua rute yang terhubung antar node dengan fungsi `nx.all_simple_paths()`\n",
    "\n",
    "**Sintaks**\n",
    "```python\n",
    "nx.all_simple_paths(G, source, target, cutoff)\n",
    "```\n",
    "ket:\n",
    "- G = Objek Graf\n",
    "- source = Node awal\n",
    "- target = Node tujuan\n",
    "- cutoff = Maksimal jumlah node yang dilewati untuk mencapai node target (tidak termasuk Node awal)"
   ]
  },
  {
   "cell_type": "code",
   "execution_count": null,
   "metadata": {},
   "outputs": [],
   "source": [
    "# Mendapatkan semua jalur yang terhubung\n",
    "all_path = nx.all_simple_paths(Graf, source='A', target='G', cutoff=2)\n",
    "\n",
    "for path in all_path:\n",
    "    print(path)"
   ]
  },
  {
   "cell_type": "markdown",
   "metadata": {},
   "source": [
    "💬 Diskusi: Pada pemahaman masalah, kebutuhan tiap lokasi adalah 1 ton, dan truk kita dapat mengangkut produk maksimal 2,2 ton.\n",
    "\n",
    "Maka berapa nilai cutoff yang kita inginkan?"
   ]
  },
  {
   "cell_type": "markdown",
   "metadata": {},
   "source": [
    "> Jawab:"
   ]
  },
  {
   "cell_type": "code",
   "execution_count": null,
   "metadata": {},
   "outputs": [],
   "source": [
    "# Mendapatkan weight\n"
   ]
  },
  {
   "cell_type": "code",
   "execution_count": null,
   "metadata": {},
   "outputs": [],
   "source": [
    "# Mendapatkan semua jalur dan weight\n",
    "all_path = nx.all_simple_paths(Graf, source='A', target='G', cutoff=2)\n",
    "\n",
    "for path in all_path:\n",
    "    weight = nx.path_weight(Graf, path, weight=\"weight\")\n",
    "    print(\"Rute %s memiliki Total Cost: %i\" % (path, weight))"
   ]
  },
  {
   "cell_type": "markdown",
   "metadata": {},
   "source": [
    "Untuk lebih mudah, kita dapat menggunakan fungsi `graph.get_total()` dimana akan membuat dataframe dengan weight terurut dari masing-masing rute.\n",
    "\n",
    "**Sintaks**\n",
    "```python\n",
    "graph.get_total(G, source, target, cutoff)\n",
    "```\n",
    "keterangan:\n",
    "- G = Objek Graf\n",
    "- source = Node awal\n",
    "- target = Node tujuan\n",
    "- cutoff = Maksimal jumlah node yang dilewati untuk mencapai node target (tidak termasuk Node awal)"
   ]
  },
  {
   "cell_type": "code",
   "execution_count": null,
   "metadata": {},
   "outputs": [],
   "source": [
    "graph.get_total(Graf, 'A', 'G')"
   ]
  },
  {
   "cell_type": "markdown",
   "metadata": {},
   "source": [
    "💬 Diskusi: \n",
    "- Rute apa yang paling optimal dari A ke G dan berapa total costnya?\n",
    "- Lokasi apa saja yang dilalui?\n",
    "- Jika kita memilih rute ini, maka lokasi apa saja yang belum kita temukan rute optimalnya?"
   ]
  },
  {
   "cell_type": "code",
   "execution_count": null,
   "metadata": {},
   "outputs": [],
   "source": [
    "# Code here\n"
   ]
  },
  {
   "cell_type": "markdown",
   "metadata": {},
   "source": [
    "💬 Diskusi: Rute Paling Optimal?"
   ]
  },
  {
   "cell_type": "markdown",
   "metadata": {},
   "source": [
    "> Jawaban:"
   ]
  },
  {
   "cell_type": "code",
   "execution_count": null,
   "metadata": {},
   "outputs": [],
   "source": [
    "# Code here\n"
   ]
  },
  {
   "cell_type": "markdown",
   "metadata": {},
   "source": [
    "💬 Diskusi: Rute Paling Optimal?"
   ]
  },
  {
   "cell_type": "markdown",
   "metadata": {},
   "source": [
    "> Jawaban:"
   ]
  },
  {
   "cell_type": "markdown",
   "metadata": {},
   "source": [
    "### Rekomendasi Rute Baru"
   ]
  },
  {
   "cell_type": "markdown",
   "metadata": {},
   "source": [
    "Dari hasil yang didapatkan, terdapat 3 rekomendasi rute optimal yang telah mencakup keseluruhan lokasi, antara lain:\n",
    "\n",
    "- [ ], Cost = \n",
    "- [ ], Cost = \n",
    "- [ ], Cost = "
   ]
  },
  {
   "cell_type": "code",
   "execution_count": null,
   "metadata": {},
   "outputs": [],
   "source": [
    "new_route = pd.DataFrame({'rute': [\"[ ]\", \"[ ]\", \"[ ]\"],\n",
    "                        'cost': [ ]})\n",
    "\n",
    "new_route"
   ]
  },
  {
   "cell_type": "markdown",
   "metadata": {},
   "source": [
    "### Perspektif Bisnis"
   ]
  },
  {
   "cell_type": "markdown",
   "metadata": {},
   "source": [
    "Selanjutnya mari kita bandingkan total biaya rekomendasi rute baru dengan rute-rute lama.\n",
    "\n",
    "Kita dapat melihat total biaya untuk setiap pekannya dengan melakukan agregasi tabel menggunakan `.pivot_tabel()`.\n",
    "\n",
    "**Syntax:**\n",
    "\n",
    "```{python}\n",
    "data.pivot_table(\n",
    "    index=...,\n",
    "    columns=...,\n",
    "    values=...,\n",
    "    aggfunc=...\n",
    ")\n",
    "```\n",
    "\n",
    "Kita dapat menggunakan `pivot_table` dengan beberapa parameter sebagai berikut.\n",
    "- `data`: dataframe yang kita gunakan\n",
    "- `index`: kolom yang akan menjadi index row\n",
    "- `columns`: kolom yang akan menjadi index kolom\n",
    "- `values`: nilai yang digunakan untuk mengisi tabel\n",
    "- `aggfunc`: fungsi agregasi"
   ]
  },
  {
   "cell_type": "code",
   "execution_count": null,
   "metadata": {},
   "outputs": [],
   "source": [
    "# Membandingkan harga\n",
    "aggcost = records.pivot_table(index = 'weekofyear',\n",
    "                    values = 'total',\n",
    "                    aggfunc= 'sum')\n",
    "\n",
    "aggcost"
   ]
  },
  {
   "cell_type": "code",
   "execution_count": null,
   "metadata": {},
   "outputs": [],
   "source": [
    "aggcost.plot(kind = 'bar');"
   ]
  },
  {
   "cell_type": "markdown",
   "metadata": {},
   "source": [
    "Berhubung rute yang lengkap hanyalah 3 pekan terakhir. Maka dari itu kita hanya membandingkan rute rekomendasi dengan rute 3 pekan terakhir.\n",
    "\n",
    "Biaya total untuk rute 3 pekan terakhir adalah Rp346.000, Rp401.000 dan Rp339.000 (Rata-rata Rp362,000). Mari kita bandingkan dengan total rute optimal yang kita dapatkan."
   ]
  },
  {
   "cell_type": "code",
   "execution_count": null,
   "metadata": {},
   "outputs": [],
   "source": [
    "new_cost = new_route['cost'].sum()\n",
    "\n",
    "print(f\"Total cost rute baru adalah Rp{new_cost},000\")"
   ]
  },
  {
   "cell_type": "markdown",
   "metadata": {},
   "source": [
    "> Biaya Rute Baru:"
   ]
  },
  {
   "cell_type": "markdown",
   "metadata": {},
   "source": [
    "## [Optional] Visualisasi Rute Baru"
   ]
  },
  {
   "cell_type": "markdown",
   "metadata": {},
   "source": [
    "Ingat kembali, untuk membuat visualisasi peta, terdapat 2 step yang harus dilakukan.\n",
    "\n",
    "1. Membuat objek peta dengan `graph.create_map_object()` yang disimpan ke dalam `map_object`. Inputan fungsi ini adalah string nama daerah koordinat yang ingin kita visualisasikan, dalam hal ini adalah `'Jakarta, Indonesia'`. \n",
    "2. Melakukan plotting koordinat dan jalur antar koordinat dengan `graph.visualize_route(map_object, dataframe)`. Dimana `map_object` adalah object dari step 1 dan `dataframe` adalah kumpulan data koordinat yang ingin kita visualisasikan, dalam hal ini adalah `week6`.\n",
    "**Kolom wajib** yang harus terdapat di dalam `dataframe`:\n",
    "    - `day`\n",
    "    - `lokasi_start`\n",
    "    - `longitude_start`\n",
    "    - `latitude_start`\n",
    "    - `lokasi_end`\n",
    "    - `longitude_end`\n",
    "    - `latitude_end`"
   ]
  },
  {
   "cell_type": "markdown",
   "metadata": {},
   "source": [
    "Mari kita membuat dataframe yang berisi rute baru dan memiliki kolom-kolom yang diperlakukan."
   ]
  },
  {
   "cell_type": "code",
   "execution_count": null,
   "metadata": {},
   "outputs": [],
   "source": [
    "data = []\n",
    "\n",
    "optimize = pd.DataFrame(data, columns = ['start', 'end', 'day'])\n",
    "\n",
    "optimize"
   ]
  },
  {
   "cell_type": "markdown",
   "metadata": {},
   "source": [
    "Dataframe `optimize` masih belum memiliki nama `lokasi_start`, `lokasi_end` serta koordinat titik start (`long_start`, `lat_start`) dan koordinat titik end (`long_end`, `lat_end`).\n",
    "\n",
    "Mari kita mengambil informasi nama lokasi dan koordinat lokasi dari dataframe `location` dengan melakukan `pd.merge()`.\n",
    "\n",
    "**Syntaks:**\n",
    "```python\n",
    "pd.merge(df_kiri, df_kanan, left_on='key', right_on='key', how='left|right|inner', suffixes=('_x', '_y'))\n",
    "```\n",
    "\n",
    "**Keterangan:**\n",
    "- `df_kiri` = dataframe yang ingin digabungkan\n",
    "- `df_kanan` = dataframe yang ingin digabungkan\n",
    "- `left_on` = Kolom sebagai `key` untuk digabungkan pada dataframe kiri.\n",
    "- `right_on` = Kolom sebagai `key` untuk digabungkan pada datagrame kanan.\n",
    "- `how` = Cara melakukan merger, `left|right|inner` sama seperti join pada SQL. Lebih lengkap mengenai [SQL Join](https://www.w3schools.com/sql/sql_join.asp)\n",
    "- `suffixes` = Penambahan nama kolom untuk nama kolom yang sama antara dataframe kiri dan kanan.\n",
    "\n"
   ]
  },
  {
   "cell_type": "code",
   "execution_count": null,
   "metadata": {},
   "outputs": [],
   "source": [
    "# Merge detail untuk start\n",
    "optimize_merge = pd.merge(optimize, location, left_on='start', right_on='kode', how='left')\n",
    "# Merge detail untuk end\n",
    "optimize_merge = pd.merge(optimize_merge, location, left_on='end', right_on='kode', how='left', suffixes=('_start', '_end'))\n",
    "\n",
    "optimize_merge"
   ]
  },
  {
   "cell_type": "code",
   "execution_count": null,
   "metadata": {},
   "outputs": [],
   "source": [
    "# Visualisasi\n",
    "graph.visualize_route(map_object, optimize_merge)"
   ]
  },
  {
   "cell_type": "markdown",
   "metadata": {},
   "source": [
    "Mari kita bandingkan dengan rute-rute pada week sebelumnya."
   ]
  },
  {
   "cell_type": "code",
   "execution_count": null,
   "metadata": {},
   "outputs": [],
   "source": [
    "graph.visualize_route(map_object, week6)"
   ]
  },
  {
   "cell_type": "markdown",
   "metadata": {},
   "source": [
    "## [Additional] Travelling Salesman Problem (TSP)"
   ]
  },
  {
   "cell_type": "markdown",
   "metadata": {},
   "source": [
    "Pada kasus sebelumnya, kita mencari rute optimal dengan maksimal mendatangi 2 lokasi dalam 1 perjalanan. Bagaimana jika kita ingin mendapatkan rute terbaik dengan mendatangi setiap lokasi dalam satu perjalanan? Urutan jalur manakah yang paling optimal? Dan bagaimana cara mencarinya?\n",
    "\n",
    "Permasalahan ini disebut sebagai *Travelling Salesman Problem (TSP)* dimana seorang salesman memiliki daftar kota yang harus dikunjungi untuk menjual produk, namun mencari cara paling efisien untuk mengunjungi setiap kota tepat sekali dan kemudian dapat kembali ke titik awal. Cara paling efisien dalam kasus kita tentu saja berarti total cost yang paling rendah untuk mendatangi seluruh lokasi dalam 1 kasus.\n",
    "\n",
    "![](assets/tsp.png)\n",
    "\n",
    "Networkx telah menyediakan method untuk menyelesaikan permasalahan TSP ini, yaitu menggunakan `nx.approximation.travelling_salesman_problem()`.\n",
    "\n",
    "**Syntax:**\n",
    "```python\n",
    "nx.approximation.travelling_salesman_problem(G, cycle = True, nodes = G.nodes)\n",
    "```\n",
    "\n",
    "Keterangan:\n",
    "- G = Objek Graf\n",
    "- cycle = Boolean, Apakah menampilkan `cycle` atau node start di akhir list. \n",
    "- nodes = List, list nodes yang ingin dikunjungi, default semua nodes pada Objek Graf\n",
    "\n",
    "Detail lebih lengkap dapat merujuk di [dokumentasi](https://networkx.org/documentation/stable/reference/algorithms/generated/networkx.algorithms.approximation.traveling_salesman.traveling_salesman_problem.html)"
   ]
  },
  {
   "cell_type": "code",
   "execution_count": null,
   "metadata": {},
   "outputs": [],
   "source": [
    "# Mendapatkan path optimal menggunakan tsp\n",
    "path_tsp = nx.approximation.traveling_salesman_problem(Graf, cycle = False)\n",
    "\n",
    "path_tsp"
   ]
  },
  {
   "cell_type": "markdown",
   "metadata": {},
   "source": [
    "Kita telah mendapatkan jalur optimal untuk mengunjungi setiap lokasi dalam 1 kali perjalanan. Jalur optimal ini dihitung berdasarkan `weight` pada kasus ini adalah `total_cost`. \n",
    "\n",
    "Selanjutnya mari kita melihat total weight jalur ini menggunakan `nx.path_weight()`."
   ]
  },
  {
   "cell_type": "code",
   "execution_count": null,
   "metadata": {},
   "outputs": [],
   "source": [
    "nx.path_weight(Graf, path_tsp, weight=\"weight\")"
   ]
  },
  {
   "cell_type": "markdown",
   "metadata": {},
   "source": [
    "Pada perhitungan ini, didapatkan bahwa jalur optimal untuk mengunjungi setiap kota dalam 1 kali perjalanan adalah 200rb rupiah. "
   ]
  },
  {
   "cell_type": "markdown",
   "metadata": {},
   "source": [
    "### Visualisasi\n",
    "\n",
    "Selanjutnya mari kita lakukan visualisasi rute hasil dari travelling salesman problem. Ingat kembali, untuk membuat visualisasi peta, terdapat 2 step yang harus dilakukan.\n",
    "\n",
    "1. Membuat objek peta dengan `graph.create_map_object()` yang disimpan ke dalam `map_object`. Inputan fungsi ini adalah string nama daerah koordinat yang ingin kita visualisasikan, dalam hal ini adalah `'Jakarta, Indonesia'`. \n",
    "2. Melakukan plotting koordinat dan jalur antar koordinat dengan `graph.visualize_route(map_object, dataframe)`. Dimana `map_object` adalah object dari step 1 dan `dataframe` adalah kumpulan data koordinat yang ingin kita visualisasikan, dalam hal ini adalah `week6`.\n",
    "**Kolom wajib** yang harus terdapat di dalam `dataframe`:\n",
    "    - `day`\n",
    "    - `lokasi_start`\n",
    "    - `longitude_start`\n",
    "    - `latitude_start`\n",
    "    - `lokasi_end`\n",
    "    - `longitude_end`\n",
    "    - `latitude_end`\n",
    "\n",
    "Maka dari itu mari kita membuat dataframe awal seperti pada \"Visualisasi Rute Baru\" dimana terdapat kolom `start`, `end`, dan `day`. Pada kasus ini karena kita mengunjungi seluruh lokasi dalam 1 kali perjalanan, maka semua kita samakan saja harinya menjadi `Monday`."
   ]
  },
  {
   "cell_type": "code",
   "execution_count": null,
   "metadata": {
    "scrolled": false
   },
   "outputs": [],
   "source": [
    "data = [['A', 'C', 'Monday'],\n",
    "        ['C', 'D', 'Monday'],\n",
    "        ['D', 'B', 'Monday'],\n",
    "        ['B', 'F', 'Monday'],\n",
    "        ['F', 'G', 'Monday'],\n",
    "        ['G', 'E', 'Monday']]\n",
    "\n",
    "optimize_tsp = pd.DataFrame(data, columns = ['start', 'end', 'day'])\n",
    "\n",
    "optimize_tsp"
   ]
  },
  {
   "cell_type": "markdown",
   "metadata": {},
   "source": [
    "Dataframe `optimize_tsp` masih belum memiliki nama `lokasi_start`, `lokasi_end` serta koordinat titik start (`long_start`, `lat_start`) dan koordinat titik end (`long_end`, `lat_end`).\n",
    "\n",
    "Mari kita mengambil informasi nama lokasi dan koordinat lokasi dari dataframe `location` dengan melakukan `pd.merge()`."
   ]
  },
  {
   "cell_type": "code",
   "execution_count": null,
   "metadata": {},
   "outputs": [],
   "source": [
    "tsp_merge = pd.merge(optimize_tsp, location, left_on='start', right_on='kode', how='left')\n",
    "\n",
    "tsp_merge = pd.merge(tsp_merge, location, left_on='end', right_on='kode', how='left', suffixes=('_start', '_end'))\n",
    "\n",
    "tsp_merge"
   ]
  },
  {
   "cell_type": "markdown",
   "metadata": {},
   "source": [
    "Dataframe `tsp_merge` telah siap untuk dilakukan visualisasi, langsung kita lakukan visualisasi menggunakan `graph.visualize_route()`."
   ]
  },
  {
   "cell_type": "code",
   "execution_count": null,
   "metadata": {
    "scrolled": true
   },
   "outputs": [],
   "source": [
    "graph.visualize_route(map_object, tsp_merge)"
   ]
  },
  {
   "cell_type": "markdown",
   "metadata": {},
   "source": [
    "## [Additional] Weighted-Sum Model Untuk Pencarian Rute Optimal"
   ]
  },
  {
   "cell_type": "markdown",
   "metadata": {},
   "source": [
    "Pada kasus sebelumnya, parameter untuk mendapatkan total biaya berasal dari biaya bahan bakar, biaya perawatan pendingin, dan biaya tambahan (biaya tol). Total biaya tersebut digunakan untuk mendapatkan rute dengan total biaya terendah (optimal). \n",
    "\n",
    "Namun, bagaimana jika terdapat parameter tambahan selain total cost, seperti parameter waktu tempuh juga menjadi concern untuk menentukan rute yang paling optimal? atau terdapat parameter tambahan lainnya selain dalam bentuk biaya?\n",
    "\n",
    "Dalam pengambilan keputusan yang menggunakan lebih dari satu kriteria biasanya digunakan proses MCDM (*Multiple-Criteria Decision Making*) dimana masing-masing kriteria diberikan bobot berdasarkan skala prioritasnya. Salah satu metode MCDM adalah *weighted-sum model*, yaitu memberikan bobot pada setiap kriteria dimana jumlah bobot harus sama dengan 1, setiap hasil perkalian antara bobot dan kriteria akan dijumlahkan untuk mendapatkan *total score*.\n",
    "\n",
    "Untuk menentukan `score` kita akan menerapkan *weight* pada masing-masing kriterianya. Semisal perusahaan kita lebih ingin menekan biaya pengeluaran untuk `add_cost` dibandingkan variabel lainnya. Maka dari itu `add_cost` akan diberikan beban yang lebih besar daripada kriteria lainnya.\n",
    "\n",
    "💡 Berikut tabel penerapan *weight* untuk masing-masing kriteria (*weight* ditentukan oleh user)\n",
    "\n",
    "| kriteria   | weight |\n",
    "|------------|--------|\n",
    "| add_cost   | 50%    |\n",
    "| cost_refri | 20%    |\n",
    "| cost_fuel  | 30%    |\n",
    "| **Total**  |**100%**|\n",
    "\n",
    "💡 Langkah:\n",
    "1. Melakukan perkalian masing-masing kriteria dengan *weight*-nya.\n",
    "2. Menjumlahkan hasil perkalian tersebut\n",
    "3. Menyimpan hasil perhitungan tersebut kedalam kolom baru (kolom `scoring`)"
   ]
  },
  {
   "cell_type": "code",
   "execution_count": null,
   "metadata": {},
   "outputs": [],
   "source": [
    "# Melakukan scoring berdasarkan weight\n",
    "records['score'] = \\\n",
    "    records['add_cost'] * 0.5 + \\\n",
    "    records['cost_refri'] * 0.2 + \\\n",
    "    records['cost_fuel'] * 0.3\n",
    "\n",
    "# Pembulatan hasil scoring\n",
    "records['score'] = records['score'].round(2)\n",
    "\n",
    "# Mengambil kolom yang dibutuhkan untuk membuat graf\n",
    "data_prio = records[['start', 'end', 'score']]\n",
    "\n",
    "data_prio.head()"
   ]
  },
  {
   "cell_type": "markdown",
   "metadata": {},
   "source": [
    "Setelah itu, mari kita melakukan pembuatan graf berdasarkan perhitungan `scoring`"
   ]
  },
  {
   "cell_type": "code",
   "execution_count": null,
   "metadata": {},
   "outputs": [],
   "source": [
    "# Graf\n",
    "Graf_prio = nx.Graph()\n",
    "\n",
    "for ind in range(len(data_prio)):\n",
    "    row = data_prio.iloc[ind].tolist()\n",
    "    Graf_prio.add_edge(row[0], row[1], weight = row[2])"
   ]
  },
  {
   "cell_type": "code",
   "execution_count": null,
   "metadata": {},
   "outputs": [],
   "source": [
    "graph.visualize_graph(Graf_prio)"
   ]
  },
  {
   "cell_type": "markdown",
   "metadata": {},
   "source": [
    "Pada `Graf` dengan weight total biaya, mari kita bandingkan rute optimal untuk A - D"
   ]
  },
  {
   "cell_type": "code",
   "execution_count": null,
   "metadata": {},
   "outputs": [],
   "source": [
    "graph.get_total(Graf, 'A', 'D')"
   ]
  },
  {
   "cell_type": "markdown",
   "metadata": {},
   "source": [
    "Sekarang, mari kita bandingkan rute optimal dari lokasi A ke D berdasarkan `score` yang menggunakan skala prioritas."
   ]
  },
  {
   "cell_type": "code",
   "execution_count": null,
   "metadata": {},
   "outputs": [],
   "source": [
    "graph.get_total(Graf_prio, 'A', 'D')"
   ]
  },
  {
   "cell_type": "markdown",
   "metadata": {},
   "source": [
    "Dari hasil di atas, rute optimal dari A ke D bukan lagi A B D, melainkan menjadi A C D. Ini disebabkan karena *weight* pada Graf dihitung secara berbeda yang awalnya `Graf` hanya menggunakan total biaya namun pada `Graf_prio` telah menggunakan skala prioritas. Sehingga, penentuan *weight* pada Graf sangat mempengaruhi hasil keputusan pemilihan rute."
   ]
  },
  {
   "cell_type": "markdown",
   "metadata": {},
   "source": [
    "### Catatan\n",
    "\n",
    "*Multi-Criteria Decision Making* tidak hanya dapat digunakan untuk kriteria yang bertipe numerik, namun dapat juga digunakan untuk kategori ordinal. Metode MCDM juga bukan hanya *Weighted-sum model* namun terdapat juga metode-metode lainnya dalam melakukan scoring menggunakan proses MCDM.<sup>[[5](https://doi.org/10.3390/encyclopedia3010006)]</sup>"
   ]
  },
  {
   "cell_type": "markdown",
   "metadata": {},
   "source": [
    "# References\n",
    "\n",
    "[[1]](https://www.maths.ed.ac.uk/~v1ranick/papers/wilsongraph.pdf) Wilson, R. J. (2010). Introduction to Graph Theory. New York: Prentice Hall/Pearson. ISBN: 027372889X 9780273728894\n",
    "\n",
    "[[2]](https://doi.org/10.2991/asei-15.2015.145) Liang, Di & Wu, Shuang & Sun, Guizhi. (2015). Study on Optimization of Cold Chain Logistics Distribution Based on Improved Particle Swarm Optimization Algorithm. 10.2991/asei-15.2015.145. \n",
    "\n",
    "[[3]](https://towardsdatascience.com/transportation-network-analysis-with-graph-theory-55eceb7e4de4) Saci, Samir. (2022). Transportation Network Analysis with Graph Theory. towardsdatascience.com\n",
    "\n",
    "[[4]](https://www.viamichelin.com/magazine/article/traffic-jams-our-tips-for-saving-fuel/#:~:text=An%20idling%20vehicle%20uses%20about,and%20175%25%20in%20urban%20areas) Michelin. (2022). Traffic jams: our tips for saving fuel. viamichelin.com\n",
    "\n",
    "[[5]](https://doi.org/10.3390/encyclopedia3010006) Taherdoost, Hamed, and Mitra Madanchian. 2023. \"Multi-Criteria Decision Making (MCDM) Methods and Concepts\" Encyclopedia 3, no. 1: 77-87. https://doi.org/10.3390/encyclopedia3010006"
   ]
  }
 ],
 "metadata": {
  "kernelspec": {
   "display_name": "dss_june",
   "language": "python",
   "name": "dss_june"
  },
  "language_info": {
   "codemirror_mode": {
    "name": "ipython",
    "version": 3
   },
   "file_extension": ".py",
   "mimetype": "text/x-python",
   "name": "python",
   "nbconvert_exporter": "python",
   "pygments_lexer": "ipython3",
   "version": "3.10.11"
  }
 },
 "nbformat": 4,
 "nbformat_minor": 2
}
