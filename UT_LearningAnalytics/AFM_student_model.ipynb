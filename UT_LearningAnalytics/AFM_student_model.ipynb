{
 "cells": [
  {
   "cell_type": "code",
   "execution_count": 5,
   "metadata": {},
   "outputs": [],
   "source": [
    "#example with Python\n",
    "#reading data from a file"
   ]
  },
  {
   "cell_type": "code",
   "execution_count": 6,
   "metadata": {},
   "outputs": [
    {
     "name": "stdout",
     "output_type": "stream",
     "text": [
      "Requirement already satisfied: pandas in /Users/enlik/anaconda3/lib/python3.7/site-packages (0.25.1)\n",
      "Requirement already satisfied: numpy>=1.13.3 in /Users/enlik/anaconda3/lib/python3.7/site-packages (from pandas) (1.17.2)\n",
      "Requirement already satisfied: pytz>=2017.2 in /Users/enlik/anaconda3/lib/python3.7/site-packages (from pandas) (2019.3)\n",
      "Requirement already satisfied: python-dateutil>=2.6.1 in /Users/enlik/anaconda3/lib/python3.7/site-packages (from pandas) (2.8.0)\n",
      "Requirement already satisfied: six>=1.5 in /Users/enlik/anaconda3/lib/python3.7/site-packages (from python-dateutil>=2.6.1->pandas) (1.12.0)\n",
      "Requirement already satisfied: sklearn in /Users/enlik/anaconda3/lib/python3.7/site-packages (0.0)\n",
      "Requirement already satisfied: scikit-learn in /Users/enlik/anaconda3/lib/python3.7/site-packages (from sklearn) (0.21.3)\n",
      "Requirement already satisfied: joblib>=0.11 in /Users/enlik/anaconda3/lib/python3.7/site-packages (from scikit-learn->sklearn) (0.13.2)\n",
      "Requirement already satisfied: numpy>=1.11.0 in /Users/enlik/anaconda3/lib/python3.7/site-packages (from scikit-learn->sklearn) (1.17.2)\n",
      "Requirement already satisfied: scipy>=0.17.0 in /Users/enlik/anaconda3/lib/python3.7/site-packages (from scikit-learn->sklearn) (1.3.1)\n",
      "Requirement already satisfied: statsmodels in /Users/enlik/anaconda3/lib/python3.7/site-packages (0.10.2)\n",
      "Requirement already satisfied: numpy>=1.11 in /Users/enlik/anaconda3/lib/python3.7/site-packages (from statsmodels) (1.17.2)\n",
      "Requirement already satisfied: pandas>=0.19 in /Users/enlik/anaconda3/lib/python3.7/site-packages (from statsmodels) (0.25.1)\n",
      "Requirement already satisfied: patsy>=0.4.0 in /Users/enlik/anaconda3/lib/python3.7/site-packages (from statsmodels) (0.5.1)\n",
      "Requirement already satisfied: scipy>=0.18 in /Users/enlik/anaconda3/lib/python3.7/site-packages (from statsmodels) (1.3.1)\n",
      "Requirement already satisfied: pytz>=2017.2 in /Users/enlik/anaconda3/lib/python3.7/site-packages (from pandas>=0.19->statsmodels) (2019.3)\n",
      "Requirement already satisfied: python-dateutil>=2.6.1 in /Users/enlik/anaconda3/lib/python3.7/site-packages (from pandas>=0.19->statsmodels) (2.8.0)\n",
      "Requirement already satisfied: six in /Users/enlik/anaconda3/lib/python3.7/site-packages (from patsy>=0.4.0->statsmodels) (1.12.0)\n"
     ]
    }
   ],
   "source": [
    "#this line is only necessary for Jupyter Binder\n",
    "#if you're trying this example on your local environment, you can skip this step!\n",
    "import sys\n",
    "!{sys.executable} -m pip install pandas\n",
    "!{sys.executable} -m pip install sklearn\n",
    "!{sys.executable} -m pip install statsmodels"
   ]
  },
  {
   "cell_type": "code",
   "execution_count": 7,
   "metadata": {},
   "outputs": [],
   "source": [
    "#import all the python libraries that we will need for our analysis\n",
    "\n",
    "\n",
    "import pandas as pd # data processing, CSV file I/O (e.g. pd.read_csv)\n",
    "from sklearn.linear_model import LogisticRegression\n",
    "from sklearn import metrics\n",
    "from sklearn.model_selection import train_test_split\n",
    "from sklearn.metrics import classification_report\n",
    "import statsmodels.api as sm\n"
   ]
  },
  {
   "cell_type": "code",
   "execution_count": 9,
   "metadata": {},
   "outputs": [
    {
     "data": {
      "text/html": [
       "<div>\n",
       "<style scoped>\n",
       "    .dataframe tbody tr th:only-of-type {\n",
       "        vertical-align: middle;\n",
       "    }\n",
       "\n",
       "    .dataframe tbody tr th {\n",
       "        vertical-align: top;\n",
       "    }\n",
       "\n",
       "    .dataframe thead th {\n",
       "        text-align: right;\n",
       "    }\n",
       "</style>\n",
       "<table border=\"1\" class=\"dataframe\">\n",
       "  <thead>\n",
       "    <tr style=\"text-align: right;\">\n",
       "      <th></th>\n",
       "      <th>Row</th>\n",
       "      <th>Sample</th>\n",
       "      <th>Anon Student Id</th>\n",
       "      <th>Problem Hierarchy</th>\n",
       "      <th>Problem Name</th>\n",
       "      <th>Problem View</th>\n",
       "      <th>Step Name</th>\n",
       "      <th>Step Start Time</th>\n",
       "      <th>First Transaction Time</th>\n",
       "      <th>Correct Transaction Time</th>\n",
       "      <th>...</th>\n",
       "      <th>Step Duration (sec)</th>\n",
       "      <th>Correct Step Duration (sec)</th>\n",
       "      <th>Error Step Duration (sec)</th>\n",
       "      <th>First Attempt</th>\n",
       "      <th>Incorrects</th>\n",
       "      <th>Hints</th>\n",
       "      <th>Corrects</th>\n",
       "      <th>Condition</th>\n",
       "      <th>KC</th>\n",
       "      <th>Opportunity</th>\n",
       "    </tr>\n",
       "  </thead>\n",
       "  <tbody>\n",
       "    <tr>\n",
       "      <td>0</td>\n",
       "      <td>1</td>\n",
       "      <td>All Data</td>\n",
       "      <td>Stu_02ee1b3f31a6f6a7f4b8012298b2395e</td>\n",
       "      <td>Unit Area</td>\n",
       "      <td>RECTANGLE_ABCD</td>\n",
       "      <td>1</td>\n",
       "      <td>(AREA QUESTION1)</td>\n",
       "      <td>02/01/1996 00:00</td>\n",
       "      <td>02/01/1996 00:00</td>\n",
       "      <td>02/01/1996 00:00</td>\n",
       "      <td>...</td>\n",
       "      <td>0</td>\n",
       "      <td>0</td>\n",
       "      <td>.</td>\n",
       "      <td>correct</td>\n",
       "      <td>0</td>\n",
       "      <td>0</td>\n",
       "      <td>1</td>\n",
       "      <td>.</td>\n",
       "      <td>Non-area formula</td>\n",
       "      <td>1</td>\n",
       "    </tr>\n",
       "    <tr>\n",
       "      <td>1</td>\n",
       "      <td>2</td>\n",
       "      <td>All Data</td>\n",
       "      <td>Stu_02ee1b3f31a6f6a7f4b8012298b2395e</td>\n",
       "      <td>Unit Area</td>\n",
       "      <td>RECTANGLE_ABCD</td>\n",
       "      <td>1</td>\n",
       "      <td>(HEIGHT QUESTION2)</td>\n",
       "      <td>02/01/1996 00:00</td>\n",
       "      <td>02/01/1996 00:02</td>\n",
       "      <td>02/01/1996 00:02</td>\n",
       "      <td>...</td>\n",
       "      <td>128</td>\n",
       "      <td>128</td>\n",
       "      <td>.</td>\n",
       "      <td>correct</td>\n",
       "      <td>0</td>\n",
       "      <td>0</td>\n",
       "      <td>1</td>\n",
       "      <td>.</td>\n",
       "      <td>Non-area formula</td>\n",
       "      <td>2</td>\n",
       "    </tr>\n",
       "    <tr>\n",
       "      <td>2</td>\n",
       "      <td>3</td>\n",
       "      <td>All Data</td>\n",
       "      <td>Stu_02ee1b3f31a6f6a7f4b8012298b2395e</td>\n",
       "      <td>Unit Area</td>\n",
       "      <td>RECTANGLE_ABCD</td>\n",
       "      <td>1</td>\n",
       "      <td>(BASE QUESTION3)</td>\n",
       "      <td>02/01/1996 00:02</td>\n",
       "      <td>02/01/1996 00:03</td>\n",
       "      <td>02/01/1996 00:03</td>\n",
       "      <td>...</td>\n",
       "      <td>29</td>\n",
       "      <td>29</td>\n",
       "      <td>.</td>\n",
       "      <td>correct</td>\n",
       "      <td>0</td>\n",
       "      <td>0</td>\n",
       "      <td>1</td>\n",
       "      <td>.</td>\n",
       "      <td>Non-area formula</td>\n",
       "      <td>3</td>\n",
       "    </tr>\n",
       "    <tr>\n",
       "      <td>3</td>\n",
       "      <td>4</td>\n",
       "      <td>All Data</td>\n",
       "      <td>Stu_02ee1b3f31a6f6a7f4b8012298b2395e</td>\n",
       "      <td>Unit Area</td>\n",
       "      <td>BUILDING_A_SIDEWALK</td>\n",
       "      <td>1</td>\n",
       "      <td>(POOL-AREA QUESTION1)</td>\n",
       "      <td>02/01/1996 00:04</td>\n",
       "      <td>02/01/1996 00:04</td>\n",
       "      <td>02/01/1996 00:04</td>\n",
       "      <td>...</td>\n",
       "      <td>0</td>\n",
       "      <td>0</td>\n",
       "      <td>.</td>\n",
       "      <td>correct</td>\n",
       "      <td>0</td>\n",
       "      <td>0</td>\n",
       "      <td>1</td>\n",
       "      <td>.</td>\n",
       "      <td>Non-area formula</td>\n",
       "      <td>4</td>\n",
       "    </tr>\n",
       "    <tr>\n",
       "      <td>4</td>\n",
       "      <td>5</td>\n",
       "      <td>All Data</td>\n",
       "      <td>Stu_02ee1b3f31a6f6a7f4b8012298b2395e</td>\n",
       "      <td>Unit Area</td>\n",
       "      <td>BUILDING_A_SIDEWALK</td>\n",
       "      <td>1</td>\n",
       "      <td>(LARGE-RECTANGLE-AREA QUESTION1)</td>\n",
       "      <td>02/01/1996 00:04</td>\n",
       "      <td>02/01/1996 00:04</td>\n",
       "      <td>02/01/1996 00:04</td>\n",
       "      <td>...</td>\n",
       "      <td>12</td>\n",
       "      <td>12</td>\n",
       "      <td>.</td>\n",
       "      <td>correct</td>\n",
       "      <td>0</td>\n",
       "      <td>0</td>\n",
       "      <td>1</td>\n",
       "      <td>.</td>\n",
       "      <td>Non-area formula</td>\n",
       "      <td>5</td>\n",
       "    </tr>\n",
       "  </tbody>\n",
       "</table>\n",
       "<p>5 rows × 21 columns</p>\n",
       "</div>"
      ],
      "text/plain": [
       "   Row    Sample                       Anon Student Id Problem Hierarchy  \\\n",
       "0    1  All Data  Stu_02ee1b3f31a6f6a7f4b8012298b2395e         Unit Area   \n",
       "1    2  All Data  Stu_02ee1b3f31a6f6a7f4b8012298b2395e         Unit Area   \n",
       "2    3  All Data  Stu_02ee1b3f31a6f6a7f4b8012298b2395e         Unit Area   \n",
       "3    4  All Data  Stu_02ee1b3f31a6f6a7f4b8012298b2395e         Unit Area   \n",
       "4    5  All Data  Stu_02ee1b3f31a6f6a7f4b8012298b2395e         Unit Area   \n",
       "\n",
       "          Problem Name  Problem View                         Step Name  \\\n",
       "0       RECTANGLE_ABCD             1                  (AREA QUESTION1)   \n",
       "1       RECTANGLE_ABCD             1                (HEIGHT QUESTION2)   \n",
       "2       RECTANGLE_ABCD             1                  (BASE QUESTION3)   \n",
       "3  BUILDING_A_SIDEWALK             1             (POOL-AREA QUESTION1)   \n",
       "4  BUILDING_A_SIDEWALK             1  (LARGE-RECTANGLE-AREA QUESTION1)   \n",
       "\n",
       "    Step Start Time First Transaction Time Correct Transaction Time  ...  \\\n",
       "0  02/01/1996 00:00       02/01/1996 00:00         02/01/1996 00:00  ...   \n",
       "1  02/01/1996 00:00       02/01/1996 00:02         02/01/1996 00:02  ...   \n",
       "2  02/01/1996 00:02       02/01/1996 00:03         02/01/1996 00:03  ...   \n",
       "3  02/01/1996 00:04       02/01/1996 00:04         02/01/1996 00:04  ...   \n",
       "4  02/01/1996 00:04       02/01/1996 00:04         02/01/1996 00:04  ...   \n",
       "\n",
       "  Step Duration (sec)  Correct Step Duration (sec) Error Step Duration (sec)  \\\n",
       "0                   0                            0                         .   \n",
       "1                 128                          128                         .   \n",
       "2                  29                           29                         .   \n",
       "3                   0                            0                         .   \n",
       "4                  12                           12                         .   \n",
       "\n",
       "  First Attempt Incorrects  Hints  Corrects  Condition                KC  \\\n",
       "0       correct          0      0         1          .  Non-area formula   \n",
       "1       correct          0      0         1          .  Non-area formula   \n",
       "2       correct          0      0         1          .  Non-area formula   \n",
       "3       correct          0      0         1          .  Non-area formula   \n",
       "4       correct          0      0         1          .  Non-area formula   \n",
       "\n",
       "  Opportunity  \n",
       "0           1  \n",
       "1           2  \n",
       "2           3  \n",
       "3           4  \n",
       "4           5  \n",
       "\n",
       "[5 rows x 21 columns]"
      ]
     },
     "execution_count": 9,
     "metadata": {},
     "output_type": "execute_result"
    }
   ],
   "source": [
    "# Read data from file 'geometryITS.csv' \n",
    "# (in the same directory that your python process is based)\n",
    " \n",
    "data = pd.read_csv(\"geometryITS.csv\") \n",
    "\n",
    "\n",
    "# Preview the first 5 lines of the loaded data \n",
    "data.head()"
   ]
  },
  {
   "cell_type": "code",
   "execution_count": 10,
   "metadata": {},
   "outputs": [
    {
     "data": {
      "text/plain": [
       "['Row',\n",
       " 'Sample',\n",
       " 'Anon Student Id',\n",
       " 'Problem Hierarchy',\n",
       " 'Problem Name',\n",
       " 'Problem View',\n",
       " 'Step Name',\n",
       " 'Step Start Time',\n",
       " 'First Transaction Time',\n",
       " 'Correct Transaction Time',\n",
       " 'Step End Time',\n",
       " 'Step Duration (sec)',\n",
       " 'Correct Step Duration (sec)',\n",
       " 'Error Step Duration (sec)',\n",
       " 'First Attempt',\n",
       " 'Incorrects',\n",
       " 'Hints',\n",
       " 'Corrects',\n",
       " 'Condition',\n",
       " 'KC',\n",
       " 'Opportunity']"
      ]
     },
     "execution_count": 10,
     "metadata": {},
     "output_type": "execute_result"
    }
   ],
   "source": [
    "#view all variables that are recorded in the dataset\n",
    "list(data)"
   ]
  },
  {
   "cell_type": "markdown",
   "metadata": {},
   "source": [
    "## What are we doing today?\n",
    "\n",
    "In this example, we will implement the Additive Factors Model (AFM) proposed by Cen, et. al.\n",
    "[Cen, H., Koedinger, K., & Junker, B. (2008, June). Comparing two IRT models for conjunctive skills. In International Conference on Intelligent Tutoring Systems (pp. 796-798). Springer, Berlin, Heidelberg.]\n",
    "\n",
    "The AFM student model predicts student performance on every step based on student's prior practice (number of practice opportunities) and other factors, such as step difficulty, student's proficiency, learning rate and so on. \n",
    "\n",
    "To implement the model, we will use logistic regression and we will train and test using the Geometry Tutor dataset."
   ]
  },
  {
   "cell_type": "markdown",
   "metadata": {},
   "source": [
    "## Student model \n",
    "The AFM equation (see Cen's paper) states that in order to predict student's performance we need to know as input the knowledge component (KC) that is involved in every step and the number of practice opportunities - that is, how many times the student has tried this step before. Also, since the model predicts individual learning, we have to take into account the student's ID.\n",
    "\n",
    "The result of the each student's attempt is depicted by the column \"first attempt\" (the name of the column is misleading, i know!). So we use this, to create the \"outcome\" variable, that is - the variable we want to predict. Here, 0 signifies an incorrect answer and 1 signified a correct asnwer.\n",
    "\n",
    "Simply put, the equation that we want to implement should look something like this:\n",
    "\n",
    "Outcome ~ Opportunity + KC + (1| Anon Student ID)   [equation (1)]\n",
    "\n",
    "which rougly translates to: the outcome is predicted based on the knowledge component (skill) that is tested and the number of prior opportunities a student had, taking into account the random effect that may come into place regarding student's individual characteristics.\n",
    "\n",
    "Now lets go and fit the model!"
   ]
  },
  {
   "cell_type": "code",
   "execution_count": 19,
   "metadata": {},
   "outputs": [],
   "source": [
    "#create a new column to classify final results. classify steps with a corrent answer as \"1\", the rest as \"0\"\n",
    "data[\"outcome\"] = 1\n",
    "\n",
    "#studentInfo[\"result.class\"] = studentInfo[\"final_result\"].apply(lambda x: 0 if (x == 'Fail') | x == \"Withdrawn\") else 1)\n",
    "data[\"outcome\"].loc[(data[\"First Attempt\"] == \"incorrect\")] = 0\n"
   ]
  },
  {
   "cell_type": "markdown",
   "metadata": {},
   "source": [
    "## Fitting the AFM model\n",
    "Now we will fit our model. We will use a part of the dataset to train the model (let's say 80% of the data) and we will also keep a part of the old data to test our model's performance (let's say the rest 20% of the data).\n",
    "\n",
    "The datasets used for training have the suffix \"_train\" while the datasets saved for testing have the suffix \"_test\". "
   ]
  },
  {
   "cell_type": "code",
   "execution_count": 20,
   "metadata": {},
   "outputs": [],
   "source": [
    "data_train, data_test = train_test_split(data, test_size=0.2, random_state=0)"
   ]
  },
  {
   "cell_type": "code",
   "execution_count": 21,
   "metadata": {},
   "outputs": [
    {
     "data": {
      "text/html": [
       "<table class=\"simpletable\">\n",
       "<tr>\n",
       "       <td>Model:</td>       <td>MixedLM</td> <td>Dependent Variable:</td>   <td>outcome</td> \n",
       "</tr>\n",
       "<tr>\n",
       "  <td>No. Observations:</td>  <td>4083</td>         <td>Method:</td>          <td>REML</td>   \n",
       "</tr>\n",
       "<tr>\n",
       "     <td>No. Groups:</td>      <td>59</td>          <td>Scale:</td>          <td>0.1788</td>  \n",
       "</tr>\n",
       "<tr>\n",
       "  <td>Min. group size:</td>     <td>2</td>        <td>Likelihood:</td>     <td>-2333.1763</td>\n",
       "</tr>\n",
       "<tr>\n",
       "  <td>Max. group size:</td>    <td>196</td>       <td>Converged:</td>          <td>Yes</td>   \n",
       "</tr>\n",
       "<tr>\n",
       "  <td>Mean group size:</td>   <td>69.2</td>            <td></td>                <td></td>     \n",
       "</tr>\n",
       "</table>\n",
       "<table class=\"simpletable\">\n",
       "<tr>\n",
       "             <td></td>            <th>Coef.</th> <th>Std.Err.</th>    <th>z</th>   <th>P>|z|</th> <th>[0.025</th> <th>0.975]</th>\n",
       "</tr>\n",
       "<tr>\n",
       "  <th>Intercept</th>              <td>0.720</td>   <td>0.021</td>  <td>33.593</td> <td>0.000</td>  <td>0.678</td>  <td>0.762</td>\n",
       "</tr>\n",
       "<tr>\n",
       "  <th>KC[T.Non-area formula]</th> <td>0.008</td>   <td>0.014</td>   <td>0.582</td> <td>0.561</td> <td>-0.020</td>  <td>0.037</td>\n",
       "</tr>\n",
       "<tr>\n",
       "  <th>Opportunity</th>            <td>0.000</td>   <td>0.000</td>   <td>0.292</td> <td>0.770</td> <td>-0.000</td>  <td>0.001</td>\n",
       "</tr>\n",
       "<tr>\n",
       "  <th>Group Var</th>              <td>0.012</td>   <td>0.011</td>     <td></td>      <td></td>       <td></td>       <td></td>   \n",
       "</tr>\n",
       "</table>"
      ],
      "text/plain": [
       "<class 'statsmodels.iolib.summary2.Summary'>\n",
       "\"\"\"\n",
       "             Mixed Linear Model Regression Results\n",
       "================================================================\n",
       "Model:                MixedLM   Dependent Variable:   outcome   \n",
       "No. Observations:     4083      Method:               REML      \n",
       "No. Groups:           59        Scale:                0.1788    \n",
       "Min. group size:      2         Likelihood:           -2333.1763\n",
       "Max. group size:      196       Converged:            Yes       \n",
       "Mean group size:      69.2                                      \n",
       "----------------------------------------------------------------\n",
       "                       Coef. Std.Err.   z    P>|z| [0.025 0.975]\n",
       "----------------------------------------------------------------\n",
       "Intercept              0.720    0.021 33.593 0.000  0.678  0.762\n",
       "KC[T.Non-area formula] 0.008    0.014  0.582 0.561 -0.020  0.037\n",
       "Opportunity            0.000    0.000  0.292 0.770 -0.000  0.001\n",
       "Group Var              0.012    0.011                           \n",
       "================================================================\n",
       "\n",
       "\"\"\""
      ]
     },
     "execution_count": 21,
     "metadata": {},
     "output_type": "execute_result"
    }
   ],
   "source": [
    "# data = pd.read_csv(\"dietox.csv\")\n",
    "model = sm.MixedLM.from_formula(\"outcome ~ Opportunity + KC\", data_train, groups=data_train[\"Anon Student Id\"])\n",
    "result = model.fit()\n",
    "result.summary()"
   ]
  },
  {
   "cell_type": "markdown",
   "metadata": {},
   "source": [
    "Now lets use the newly fitted model to predict the outcomes of the test set. To keep it simple, we're just calculating the Mean Absolute Error as a performance metric. Of course there are other, more sofisticated evaluation methods but these are beyond the scope of this course!"
   ]
  },
  {
   "cell_type": "code",
   "execution_count": 22,
   "metadata": {},
   "outputs": [
    {
     "name": "stderr",
     "output_type": "stream",
     "text": [
      "/Users/enlik/anaconda3/lib/python3.7/site-packages/ipykernel_launcher.py:3: SettingWithCopyWarning: \n",
      "A value is trying to be set on a copy of a slice from a DataFrame.\n",
      "Try using .loc[row_indexer,col_indexer] = value instead\n",
      "\n",
      "See the caveats in the documentation: http://pandas.pydata.org/pandas-docs/stable/user_guide/indexing.html#returning-a-view-versus-a-copy\n",
      "  This is separate from the ipykernel package so we can avoid doing imports until\n",
      "/Users/enlik/anaconda3/lib/python3.7/site-packages/ipykernel_launcher.py:4: SettingWithCopyWarning: \n",
      "A value is trying to be set on a copy of a slice from a DataFrame.\n",
      "Try using .loc[row_indexer,col_indexer] = value instead\n",
      "\n",
      "See the caveats in the documentation: http://pandas.pydata.org/pandas-docs/stable/user_guide/indexing.html#returning-a-view-versus-a-copy\n",
      "  after removing the cwd from sys.path.\n",
      "/Users/enlik/anaconda3/lib/python3.7/site-packages/ipykernel_launcher.py:6: SettingWithCopyWarning: \n",
      "A value is trying to be set on a copy of a slice from a DataFrame\n",
      "\n",
      "See the caveats in the documentation: http://pandas.pydata.org/pandas-docs/stable/user_guide/indexing.html#returning-a-view-versus-a-copy\n",
      "  \n"
     ]
    },
    {
     "data": {
      "text/plain": [
       "0.2595494613124388"
      ]
     },
     "execution_count": 22,
     "metadata": {},
     "output_type": "execute_result"
    }
   ],
   "source": [
    "#predict on a testset\n",
    "y_pred = result.predict(data_test)\n",
    "data_test[\"y_pred\"] = y_pred\n",
    "data_test[\"outcome_pred\"] = 1\n",
    "\n",
    "data_test[\"outcome_pred\"].loc[(data_test[\"y_pred\"] <0.5)] = 0\n",
    "error = abs(data_test[\"outcome_pred\"] - data_test[\"outcome\"])\n",
    "float(sum(error))/float(len(error))"
   ]
  },
  {
   "cell_type": "markdown",
   "metadata": {},
   "source": [
    "So, our model is able to predict student performance with a 26% error.\n",
    "Not bad for such a simple approach, right?"
   ]
  },
  {
   "cell_type": "markdown",
   "metadata": {},
   "source": [
    "## Assigment 3\n",
    "\n",
    "Pavlik et.al [Pavlik Jr, P. I., Cen, H., & Koedinger, K. R. (2009). Performance Factors Analysis--A New Alternative to Knowledge Tracing. Online Submission.] took the AFM model further by proposing to use - instead of prior opportunities - prior correct and prior incorrect answers for each step - they named this new model the Performance Factors Analysis Model (PFM). \n",
    "The simplified [equation (1)], for the PFM model can be written as:\n",
    "\n",
    "Outcome ~ Prior Correct + Prior Incorrect + KC + (1| Anon Student ID)   [equation (2)]\n",
    "\n",
    "For the third assignment, you have to do the following:\n",
    "1. Modify the AFM model provided in this example in order to implement the PFM model. You already have information about the correct and incorrect answers in the dataset. \n",
    "2. Use the PFM model to predict student performance and compare the results with the AFM model. Discuss your findings.\n",
    "3. Propose additional factors that you could take into account in order to improve the student model. You can be as creative as you like - as long as you're keeping your feet on earth. Think of improvement vs. feasibility.\n",
    "\n",
    "I'm looking forward to reading your ideas!\n",
    "\n"
   ]
  },
  {
   "cell_type": "markdown",
   "metadata": {},
   "source": [
    "## Looking For Data List Value"
   ]
  },
  {
   "cell_type": "markdown",
   "metadata": {},
   "source": [
    "Before I start modifying the previous AFM model, I need to check again what is data list value available."
   ]
  },
  {
   "cell_type": "code",
   "execution_count": 27,
   "metadata": {},
   "outputs": [
    {
     "data": {
      "text/plain": [
       "['Row',\n",
       " 'Sample',\n",
       " 'Anon Student Id',\n",
       " 'Problem Hierarchy',\n",
       " 'Problem Name',\n",
       " 'Problem View',\n",
       " 'Step Name',\n",
       " 'Step Start Time',\n",
       " 'First Transaction Time',\n",
       " 'Correct Transaction Time',\n",
       " 'Step End Time',\n",
       " 'Step Duration (sec)',\n",
       " 'Correct Step Duration (sec)',\n",
       " 'Error Step Duration (sec)',\n",
       " 'First Attempt',\n",
       " 'Incorrects',\n",
       " 'Hints',\n",
       " 'Corrects',\n",
       " 'Condition',\n",
       " 'KC',\n",
       " 'Opportunity',\n",
       " 'outcome']"
      ]
     },
     "execution_count": 27,
     "metadata": {},
     "output_type": "execute_result"
    }
   ],
   "source": [
    "list(data)\n",
    "# data.head()"
   ]
  },
  {
   "cell_type": "markdown",
   "metadata": {},
   "source": [
    "## Task 1. Using Prior Correct and Prior Incorrect as Our Predictor"
   ]
  },
  {
   "cell_type": "code",
   "execution_count": 68,
   "metadata": {},
   "outputs": [
    {
     "name": "stderr",
     "output_type": "stream",
     "text": [
      "/Users/enlik/anaconda3/lib/python3.7/site-packages/statsmodels/regression/mixed_linear_model.py:2094: ConvergenceWarning: The MLE may be on the boundary of the parameter space.\n",
      "  warnings.warn(msg, ConvergenceWarning)\n"
     ]
    },
    {
     "data": {
      "text/html": [
       "<table class=\"simpletable\">\n",
       "<tr>\n",
       "       <td>Model:</td>       <td>MixedLM</td> <td>Dependent Variable:</td>  <td>outcome</td> \n",
       "</tr>\n",
       "<tr>\n",
       "  <td>No. Observations:</td>  <td>4083</td>         <td>Method:</td>         <td>REML</td>   \n",
       "</tr>\n",
       "<tr>\n",
       "     <td>No. Groups:</td>      <td>59</td>          <td>Scale:</td>         <td>0.0104</td>  \n",
       "</tr>\n",
       "<tr>\n",
       "  <td>Min. group size:</td>     <td>2</td>        <td>Likelihood:</td>     <td>3508.8920</td>\n",
       "</tr>\n",
       "<tr>\n",
       "  <td>Max. group size:</td>    <td>196</td>       <td>Converged:</td>         <td>Yes</td>   \n",
       "</tr>\n",
       "<tr>\n",
       "  <td>Mean group size:</td>   <td>69.2</td>            <td></td>               <td></td>     \n",
       "</tr>\n",
       "</table>\n",
       "<table class=\"simpletable\">\n",
       "<tr>\n",
       "             <td></td>             <th>Coef.</th> <th>Std.Err.</th>     <th>z</th>    <th>P>|z|</th> <th>[0.025</th> <th>0.975]</th>\n",
       "</tr>\n",
       "<tr>\n",
       "  <th>Intercept</th>               <td>0.769</td>   <td>0.007</td>   <td>112.925</td> <td>0.000</td>  <td>0.756</td>  <td>0.782</td>\n",
       "</tr>\n",
       "<tr>\n",
       "  <th>KC[T.Non-area formula]</th>  <td>0.006</td>   <td>0.003</td>    <td>1.971</td>  <td>0.049</td>  <td>0.000</td>  <td>0.013</td>\n",
       "</tr>\n",
       "<tr>\n",
       "  <th>Corrects</th>                <td>0.209</td>   <td>0.006</td>   <td>35.063</td>  <td>0.000</td>  <td>0.198</td>  <td>0.221</td>\n",
       "</tr>\n",
       "<tr>\n",
       "  <th>Incorrects</th>             <td>-0.923</td>   <td>0.004</td>  <td>-260.320</td> <td>0.000</td> <td>-0.930</td> <td>-0.916</td>\n",
       "</tr>\n",
       "<tr>\n",
       "  <th>Group Var</th>               <td>0.000</td>   <td>0.000</td>      <td></td>       <td></td>       <td></td>       <td></td>   \n",
       "</tr>\n",
       "</table>"
      ],
      "text/plain": [
       "<class 'statsmodels.iolib.summary2.Summary'>\n",
       "\"\"\"\n",
       "               Mixed Linear Model Regression Results\n",
       "===================================================================\n",
       "Model:                MixedLM     Dependent Variable:     outcome  \n",
       "No. Observations:     4083        Method:                 REML     \n",
       "No. Groups:           59          Scale:                  0.0104   \n",
       "Min. group size:      2           Likelihood:             3508.8920\n",
       "Max. group size:      196         Converged:              Yes      \n",
       "Mean group size:      69.2                                         \n",
       "-------------------------------------------------------------------\n",
       "                       Coef.  Std.Err.    z     P>|z| [0.025 0.975]\n",
       "-------------------------------------------------------------------\n",
       "Intercept               0.769    0.007  112.925 0.000  0.756  0.782\n",
       "KC[T.Non-area formula]  0.006    0.003    1.971 0.049  0.000  0.013\n",
       "Corrects                0.209    0.006   35.063 0.000  0.198  0.221\n",
       "Incorrects             -0.923    0.004 -260.320 0.000 -0.930 -0.916\n",
       "Group Var               0.000    0.000                             \n",
       "===================================================================\n",
       "\n",
       "\"\"\""
      ]
     },
     "execution_count": 68,
     "metadata": {},
     "output_type": "execute_result"
    }
   ],
   "source": [
    "modelPFM = sm.MixedLM.from_formula(\"outcome ~ Corrects + Incorrects + KC\", data_train, groups=data_train[\"Anon Student Id\"])\n",
    "resultPFM = modelPFM.fit()\n",
    "resultPFM.summary()"
   ]
  },
  {
   "cell_type": "markdown",
   "metadata": {},
   "source": [
    "## Task 2. Use the PFM model to predict student performance and comparet the results with the AFM model"
   ]
  },
  {
   "cell_type": "code",
   "execution_count": 69,
   "metadata": {},
   "outputs": [
    {
     "name": "stderr",
     "output_type": "stream",
     "text": [
      "/Users/enlik/anaconda3/lib/python3.7/site-packages/ipykernel_launcher.py:3: SettingWithCopyWarning: \n",
      "A value is trying to be set on a copy of a slice from a DataFrame.\n",
      "Try using .loc[row_indexer,col_indexer] = value instead\n",
      "\n",
      "See the caveats in the documentation: http://pandas.pydata.org/pandas-docs/stable/user_guide/indexing.html#returning-a-view-versus-a-copy\n",
      "  This is separate from the ipykernel package so we can avoid doing imports until\n",
      "/Users/enlik/anaconda3/lib/python3.7/site-packages/ipykernel_launcher.py:4: SettingWithCopyWarning: \n",
      "A value is trying to be set on a copy of a slice from a DataFrame.\n",
      "Try using .loc[row_indexer,col_indexer] = value instead\n",
      "\n",
      "See the caveats in the documentation: http://pandas.pydata.org/pandas-docs/stable/user_guide/indexing.html#returning-a-view-versus-a-copy\n",
      "  after removing the cwd from sys.path.\n",
      "/Users/enlik/anaconda3/lib/python3.7/site-packages/ipykernel_launcher.py:6: SettingWithCopyWarning: \n",
      "A value is trying to be set on a copy of a slice from a DataFrame\n",
      "\n",
      "See the caveats in the documentation: http://pandas.pydata.org/pandas-docs/stable/user_guide/indexing.html#returning-a-view-versus-a-copy\n",
      "  \n"
     ]
    },
    {
     "data": {
      "text/plain": [
       "0.00881488736532811"
      ]
     },
     "execution_count": 69,
     "metadata": {},
     "output_type": "execute_result"
    }
   ],
   "source": [
    "#predict on a testset\n",
    "y_pred_pfm = resultPFM.predict(data_test)\n",
    "data_test[\"y_pred_pfm\"] = y_pred_pfm\n",
    "data_test[\"outcome_pred_pfm\"] = 1\n",
    "\n",
    "data_test[\"outcome_pred_pfm\"].loc[(data_test[\"y_pred_pfm\"] <0.5)] = 0\n",
    "error = abs(data_test[\"outcome_pred_pfm\"] - data_test[\"outcome\"])\n",
    "float(sum(error))/float(len(error))"
   ]
  },
  {
   "cell_type": "markdown",
   "metadata": {},
   "source": [
    "Our model gives a very low *0.88%* error rate to predict student performance. It's such a huge improvement!\n",
    "\n",
    "Comparing between AFM (Additional Factors Model) and new PFM (Performance Factors Model), here are some of my findings:\n",
    "- PFM is using student's performance as the main indication of student learning with its two variables, correct and incorrect responses.\n",
    "- PFM result can be converted to a prediction of performance latency or duration. Helped with this process, PFM can provide an estimate of the cost for every action and will be used to decide which one the optimal action to choose."
   ]
  },
  {
   "cell_type": "markdown",
   "metadata": {},
   "source": [
    "## Task 3. Additional Factors to Improve The Student Model"
   ]
  },
  {
   "cell_type": "markdown",
   "metadata": {},
   "source": [
    "Some additional factors that possibly will improve the model are:\n",
    "- 'Correct Step Duration (sec)'\n",
    "- 'Error Step Duration (sec)'\n",
    "\n",
    "Similar to \"Prior Corrects\" and \"Prior Incorrects\", these two factors will help to determine student performance, and can be used for decision making process to pick optimal action for the future."
   ]
  }
 ],
 "metadata": {
  "kernelspec": {
   "display_name": "Python 3",
   "language": "python",
   "name": "python3"
  },
  "language_info": {
   "codemirror_mode": {
    "name": "ipython",
    "version": 3
   },
   "file_extension": ".py",
   "mimetype": "text/x-python",
   "name": "python",
   "nbconvert_exporter": "python",
   "pygments_lexer": "ipython3",
   "version": "3.7.4"
  }
 },
 "nbformat": 4,
 "nbformat_minor": 2
}
